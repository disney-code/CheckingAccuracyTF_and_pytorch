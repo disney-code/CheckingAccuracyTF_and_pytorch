{
 "cells": [
  {
   "cell_type": "code",
   "execution_count": 14,
   "id": "d1d9a09c",
   "metadata": {},
   "outputs": [],
   "source": [
    "import tensorflow as tf\n",
    "import numpy as np\n",
    "import cv2\n",
    "import matplotlib.pyplot as plt\n",
    "from tensorflow.keras.preprocessing.image import ImageDataGenerator\n",
    "import matplotlib.pyplot as plt\n",
    "import os\n",
    "import tensorflow as tf\n",
    "import pandas as pd\n",
    "from tensorflow import keras\n",
    "from tensorflow.keras import layers\n",
    "from tqdm import tqdm"
   ]
  },
  {
   "cell_type": "code",
   "execution_count": 2,
   "id": "5ea92462",
   "metadata": {},
   "outputs": [
    {
     "data": {
      "text/plain": [
       "'2.4.1'"
      ]
     },
     "execution_count": 2,
     "metadata": {},
     "output_type": "execute_result"
    }
   ],
   "source": [
    "tf.version.VERSION"
   ]
  },
  {
   "cell_type": "code",
   "execution_count": 3,
   "id": "dc883bc3",
   "metadata": {},
   "outputs": [
    {
     "name": "stderr",
     "output_type": "stream",
     "text": [
      "2022-08-15 23:25:19.156248: I tensorflow/compiler/jit/xla_cpu_device.cc:41] Not creating XLA devices, tf_xla_enable_xla_devices not set\n",
      "2022-08-15 23:25:19.157508: I tensorflow/stream_executor/platform/default/dso_loader.cc:49] Successfully opened dynamic library libcuda.so.1\n",
      "2022-08-15 23:25:19.221507: I tensorflow/core/common_runtime/gpu/gpu_device.cc:1720] Found device 0 with properties: \n",
      "pciBusID: 0000:19:00.0 name: NVIDIA GeForce RTX 2070 SUPER computeCapability: 7.5\n",
      "coreClock: 1.77GHz coreCount: 40 deviceMemorySize: 7.79GiB deviceMemoryBandwidth: 417.29GiB/s\n",
      "2022-08-15 23:25:19.222025: I tensorflow/core/common_runtime/gpu/gpu_device.cc:1720] Found device 1 with properties: \n",
      "pciBusID: 0000:1a:00.0 name: NVIDIA GeForce RTX 2070 SUPER computeCapability: 7.5\n",
      "coreClock: 1.77GHz coreCount: 40 deviceMemorySize: 7.79GiB deviceMemoryBandwidth: 417.29GiB/s\n",
      "2022-08-15 23:25:19.222498: I tensorflow/core/common_runtime/gpu/gpu_device.cc:1720] Found device 2 with properties: \n",
      "pciBusID: 0000:67:00.0 name: NVIDIA GeForce RTX 2070 SUPER computeCapability: 7.5\n",
      "coreClock: 1.77GHz coreCount: 40 deviceMemorySize: 7.79GiB deviceMemory"
     ]
    },
    {
     "data": {
      "text/plain": [
       "[PhysicalDevice(name='/physical_device:GPU:0', device_type='GPU'),\n",
       " PhysicalDevice(name='/physical_device:GPU:1', device_type='GPU'),\n",
       " PhysicalDevice(name='/physical_device:GPU:2', device_type='GPU'),\n",
       " PhysicalDevice(name='/physical_device:GPU:3', device_type='GPU')]"
      ]
     },
     "execution_count": 3,
     "metadata": {},
     "output_type": "execute_result"
    },
    {
     "name": "stderr",
     "output_type": "stream",
     "text": [
      "Bandwidth: 417.29GiB/s\n",
      "2022-08-15 23:25:19.222960: I tensorflow/core/common_runtime/gpu/gpu_device.cc:1720] Found device 3 with properties: \n",
      "pciBusID: 0000:68:00.0 name: NVIDIA GeForce RTX 2070 SUPER computeCapability: 7.5\n",
      "coreClock: 1.77GHz coreCount: 40 deviceMemorySize: 7.79GiB deviceMemoryBandwidth: 417.29GiB/s\n",
      "2022-08-15 23:25:19.222992: I tensorflow/stream_executor/platform/default/dso_loader.cc:49] Successfully opened dynamic library libcudart.so.10.1\n",
      "2022-08-15 23:25:19.225719: I tensorflow/stream_executor/platform/default/dso_loader.cc:49] Successfully opened dynamic library libcublas.so.10\n",
      "2022-08-15 23:25:19.225810: I tensorflow/stream_executor/platform/default/dso_loader.cc:49] Successfully opened dynamic library libcublasLt.so.10\n",
      "2022-08-15 23:25:19.227649: I tensorflow/stream_executor/platform/default/dso_loader.cc:49] Successfully opened dynamic library libcufft.so.10\n",
      "2022-08-15 23:25:19.228029: I tensorflow/stream_executor/platform/default/dso_loader.cc:49] Successfully opened dynamic library libcurand.so.10\n",
      "2022-08-15 23:25:19.230132: I tensorflow/stream_executor/platform/default/dso_loader.cc:49] Successfully opened dynamic library libcusolver.so.10\n",
      "2022-08-15 23:25:19.231372: I tensorflow/stream_executor/platform/default/dso_loader.cc:49] Successfully opened dynamic library libcusparse.so.10\n",
      "2022-08-15 23:25:19.235967: I tensorflow/stream_executor/platform/default/dso_loader.cc:49] Successfully opened dynamic library libcudnn.so.7\n",
      "2022-08-15 23:25:19.238014: I tensorflow/core/common_runtime/gpu/gpu_device.cc:1862] Adding visible gpu devices: 0, 1, 2, 3\n"
     ]
    }
   ],
   "source": [
    "tf.config.list_physical_devices('GPU')"
   ]
  },
  {
   "cell_type": "code",
   "execution_count": 4,
   "id": "0da11e0e",
   "metadata": {},
   "outputs": [
    {
     "data": {
      "text/html": [
       "<div>\n",
       "<style scoped>\n",
       "    .dataframe tbody tr th:only-of-type {\n",
       "        vertical-align: middle;\n",
       "    }\n",
       "\n",
       "    .dataframe tbody tr th {\n",
       "        vertical-align: top;\n",
       "    }\n",
       "\n",
       "    .dataframe thead th {\n",
       "        text-align: right;\n",
       "    }\n",
       "</style>\n",
       "<table border=\"1\" class=\"dataframe\">\n",
       "  <thead>\n",
       "    <tr style=\"text-align: right;\">\n",
       "      <th></th>\n",
       "      <th>file_name</th>\n",
       "      <th>label</th>\n",
       "    </tr>\n",
       "  </thead>\n",
       "  <tbody>\n",
       "    <tr>\n",
       "      <th>0</th>\n",
       "      <td>ILSVRC2012_val_00000001.JPEG</td>\n",
       "      <td>65</td>\n",
       "    </tr>\n",
       "    <tr>\n",
       "      <th>1</th>\n",
       "      <td>ILSVRC2012_val_00000002.JPEG</td>\n",
       "      <td>970</td>\n",
       "    </tr>\n",
       "    <tr>\n",
       "      <th>2</th>\n",
       "      <td>ILSVRC2012_val_00000003.JPEG</td>\n",
       "      <td>230</td>\n",
       "    </tr>\n",
       "    <tr>\n",
       "      <th>3</th>\n",
       "      <td>ILSVRC2012_val_00000004.JPEG</td>\n",
       "      <td>809</td>\n",
       "    </tr>\n",
       "    <tr>\n",
       "      <th>4</th>\n",
       "      <td>ILSVRC2012_val_00000005.JPEG</td>\n",
       "      <td>516</td>\n",
       "    </tr>\n",
       "    <tr>\n",
       "      <th>...</th>\n",
       "      <td>...</td>\n",
       "      <td>...</td>\n",
       "    </tr>\n",
       "    <tr>\n",
       "      <th>49995</th>\n",
       "      <td>ILSVRC2012_val_00049996.JPEG</td>\n",
       "      <td>283</td>\n",
       "    </tr>\n",
       "    <tr>\n",
       "      <th>49996</th>\n",
       "      <td>ILSVRC2012_val_00049997.JPEG</td>\n",
       "      <td>26</td>\n",
       "    </tr>\n",
       "    <tr>\n",
       "      <th>49997</th>\n",
       "      <td>ILSVRC2012_val_00049998.JPEG</td>\n",
       "      <td>232</td>\n",
       "    </tr>\n",
       "    <tr>\n",
       "      <th>49998</th>\n",
       "      <td>ILSVRC2012_val_00049999.JPEG</td>\n",
       "      <td>982</td>\n",
       "    </tr>\n",
       "    <tr>\n",
       "      <th>49999</th>\n",
       "      <td>ILSVRC2012_val_00050000.JPEG</td>\n",
       "      <td>355</td>\n",
       "    </tr>\n",
       "  </tbody>\n",
       "</table>\n",
       "<p>50000 rows × 2 columns</p>\n",
       "</div>"
      ],
      "text/plain": [
       "                          file_name  label\n",
       "0      ILSVRC2012_val_00000001.JPEG     65\n",
       "1      ILSVRC2012_val_00000002.JPEG    970\n",
       "2      ILSVRC2012_val_00000003.JPEG    230\n",
       "3      ILSVRC2012_val_00000004.JPEG    809\n",
       "4      ILSVRC2012_val_00000005.JPEG    516\n",
       "...                             ...    ...\n",
       "49995  ILSVRC2012_val_00049996.JPEG    283\n",
       "49996  ILSVRC2012_val_00049997.JPEG     26\n",
       "49997  ILSVRC2012_val_00049998.JPEG    232\n",
       "49998  ILSVRC2012_val_00049999.JPEG    982\n",
       "49999  ILSVRC2012_val_00050000.JPEG    355\n",
       "\n",
       "[50000 rows x 2 columns]"
      ]
     },
     "execution_count": 4,
     "metadata": {},
     "output_type": "execute_result"
    }
   ],
   "source": [
    "directory = '/home/charlene/15aug_val_dataset/'\n",
    "df = pd.read_csv(directory+'val.csv',delimiter=' ')\n",
    "df"
   ]
  },
  {
   "cell_type": "code",
   "execution_count": 5,
   "id": "e7348de5",
   "metadata": {},
   "outputs": [
    {
     "data": {
      "text/plain": [
       "array(['ILSVRC2012_val_00000001.JPEG', 'ILSVRC2012_val_00000002.JPEG',\n",
       "       'ILSVRC2012_val_00000003.JPEG', ...,\n",
       "       'ILSVRC2012_val_00049998.JPEG', 'ILSVRC2012_val_00049999.JPEG',\n",
       "       'ILSVRC2012_val_00050000.JPEG'], dtype=object)"
      ]
     },
     "execution_count": 5,
     "metadata": {},
     "output_type": "execute_result"
    }
   ],
   "source": [
    "file_paths = df['file_name'].values  # 50000 files\n",
    "file_paths"
   ]
  },
  {
   "cell_type": "code",
   "execution_count": 6,
   "id": "73d05426",
   "metadata": {},
   "outputs": [
    {
     "data": {
      "text/plain": [
       "array([ 65, 970, 230, ..., 232, 982, 355])"
      ]
     },
     "execution_count": 6,
     "metadata": {},
     "output_type": "execute_result"
    }
   ],
   "source": [
    "labels= df['label'].values\n",
    "labels"
   ]
  },
  {
   "cell_type": "code",
   "execution_count": 7,
   "id": "6bde51ac",
   "metadata": {},
   "outputs": [
    {
     "name": "stderr",
     "output_type": "stream",
     "text": [
      "2022-08-15 23:25:24.029602: I tensorflow/core/platform/cpu_feature_guard.cc:142] This TensorFlow binary is optimized with oneAPI Deep Neural Network Library (oneDNN) to use the following CPU instructions in performance-critical operations:  SSE4.1 SSE4.2 AVX AVX2 AVX512F FMA\n",
      "To enable them in other operations, rebuild TensorFlow with the appropriate compiler flags.\n",
      "2022-08-15 23:25:24.030862: I tensorflow/compiler/jit/xla_gpu_device.cc:99] Not creating XLA devices, tf_xla_enable_xla_devices not set\n",
      "2022-08-15 23:25:24.434095: I tensorflow/core/common_runtime/gpu/gpu_device.cc:1720] Found device 0 with properties: \n",
      "pciBusID: 0000:19:00.0 name: NVIDIA GeForce RTX 2070 SUPER computeCapability: 7.5\n",
      "coreClock: 1.77GHz coreCount: 40 deviceMemorySize: 7.79GiB deviceMemoryBandwidth: 417.29GiB/s\n",
      "2022-08-15 23:25:24.434663: I tensorflow/core/common_runtime/gpu/gpu_device.cc:1720] Found device 1 with properties: \n",
      "pciBusID: 0000:1a:00.0 name: NVIDIA GeForce RTX 2070 SUPER computeCapability: 7.5\n",
      "coreClock: 1.77GHz coreCount: 40 deviceMemorySize: 7.79GiB deviceMemoryBandwidth: 417.29GiB/s\n",
      "2022-08-15 23:25:24.435311: I tensorflow/core/common_runtime/gpu/gpu_device.cc:1720] Found device 2 with properties: \n",
      "pciBusID: 0000:67:00.0 name: NVIDIA GeForce RTX 2070 SUPER computeCapability: 7.5\n",
      "coreClock: 1.77GHz coreCount: 40 deviceMemorySize: 7.79GiB deviceMemoryBandwidth: 417.29GiB/s\n",
      "2022-08-15 23:25:24.435775: I tensorflow/core/common_runtime/gpu/gpu_device.cc:1720] Found device 3 with properties: \n",
      "pciBusID: 0000:68:00.0 name: NVIDIA GeForce RTX 2070 SUPER computeCapability: 7.5\n",
      "coreClock: 1.77GHz coreCount: 40 deviceMemorySize: 7.79GiB deviceMemoryBandwidth: 417.29GiB/s\n",
      "2022-08-15 23:25:24.435812: I tensorflow/stream_executor/platform/default/dso_loader.cc:49] Successfully opened dynamic library libcudart.so.10.1\n",
      "2022-08-15 23:25:24.435858: I tensorflow/stream_executor/platform/default/dso_loader.cc:49] Successfully opened dynamic library libcublas.so.10\n",
      "2022-08-15 23:25:24.435881: I tensorflow/stream_executor/platform/default/dso_loader.cc:49] Successfully opened dynamic library libcublasLt.so.10\n",
      "2022-08-15 23:25:24.435903: I tensorflow/stream_executor/platform/default/dso_loader.cc:49] Successfully opened dynamic library libcufft.so.10\n",
      "2022-08-15 23:25:24.435924: I tensorflow/stream_executor/platform/default/dso_loader.cc:49] Successfully open"
     ]
    },
    {
     "data": {
      "text/plain": [
       "<tensorflow.python.eager.context._EagerDeviceContext at 0x7f7ed2eefcc0>"
      ]
     },
     "execution_count": 7,
     "metadata": {},
     "output_type": "execute_result"
    },
    {
     "name": "stderr",
     "output_type": "stream",
     "text": [
      "ed dynamic library libcurand.so.10\n",
      "2022-08-15 23:25:24.435946: I tensorflow/stream_executor/platform/default/dso_loader.cc:49] Successfully opened dynamic library libcusolver.so.10\n",
      "2022-08-15 23:25:24.435968: I tensorflow/stream_executor/platform/default/dso_loader.cc:49] Successfully opened dynamic library libcusparse.so.10\n",
      "2022-08-15 23:25:24.435990: I tensorflow/stream_executor/platform/default/dso_loader.cc:49] Successfully opened dynamic library libcudnn.so.7\n",
      "2022-08-15 23:25:24.439351: I tensorflow/core/common_runtime/gpu/gpu_device.cc:1862] Adding visible gpu devices: 0, 1, 2, 3\n",
      "2022-08-15 23:25:24.439419: I tensorflow/stream_executor/platform/default/dso_loader.cc:49] Successfully opened dynamic library libcudart.so.10.1\n",
      "2022-08-15 23:25:26.260381: I tensorflow/core/common_runtime/gpu/gpu_device.cc:1261] Device interconnect StreamExecutor with strength 1 edge matrix:\n",
      "2022-08-15 23:25:26.260407: I tensorflow/core/common_runtime/gpu/gpu_device.cc:1267]      0 1 2 3 \n",
      "2022-08-15 23:25:26.260412: I tensorflow/core/common_runtime/gpu/gpu_device.cc:1280] 0:   N N N N \n",
      "2022-08-15 23:25:26.260414: I tensorflow/core/common_runtime/gpu/gpu_device.cc:1280] 1:   N N N N \n",
      "2022-08-15 23:25:26.260417: I tensorflow/core/common_runtime/gpu/gpu_device.cc:1280] 2:   N N N N \n",
      "2022-08-15 23:25:26.260419: I tensorflow/core/common_runtime/gpu/gpu_device.cc:1280] 3:   N N N N \n",
      "2022-08-15 23:25:26.261857: I tensorflow/core/common_runtime/gpu/gpu_device.cc:1406] Created TensorFlow device (/job:localhost/replica:0/task:0/device:GPU:0 with 6248 MB memory) -> physical GPU (device: 0, name: NVIDIA GeForce RTX 2070 SUPER, pci bus id: 0000:19:00.0, compute capability: 7.5)\n",
      "2022-08-15 23:25:26.262616: I tensorflow/core/common_runtime/gpu/gpu_device.cc:1406] Created TensorFlow device (/job:localhost/replica:0/task:0/device:GPU:1 with 7266 MB memory) -> physical GPU (device: 1, name: NVIDIA GeForce RTX 2070 SUPER, pci bus id: 0000:1a:00.0, compute capability: 7.5)\n",
      "2022-08-15 23:25:26.263238: I tensorflow/core/common_runtime/gpu/gpu_device.cc:1406] Created TensorFlow device (/job:localhost/replica:0/task:0/device:GPU:2 with 480 MB memory) -> physical GPU (device: 2, name: NVIDIA GeForce RTX 2070 SUPER, pci bus id: 0000:67:00.0, compute capability: 7.5)\n",
      "2022-08-15 23:25:26.263871: I tensorflow/core/common_runtime/gpu/gpu_device.cc:1406] Created TensorFlow device (/job:localhost/replica:0/task:0/device:GPU:3 with 1952 MB memory) -> physical GPU (device: 3, name: NVIDIA GeForce RTX 2070 SUPER, pci bus id: 0000:68:00.0, compute capability: 7.5)\n"
     ]
    }
   ],
   "source": [
    "tf.device('/gpu:0')"
   ]
  },
  {
   "cell_type": "code",
   "execution_count": 8,
   "id": "68e6cae4",
   "metadata": {},
   "outputs": [],
   "source": [
    "ds_train=tf.data.Dataset.from_tensor_slices((file_paths,labels))"
   ]
  },
  {
   "cell_type": "code",
   "execution_count": 9,
   "id": "bd425b21",
   "metadata": {},
   "outputs": [],
   "source": [
    "def read_image(image_file, label):\n",
    "    image= tf.io.read_file(directory+image_file)\n",
    "    image=tf.image.decode_image(image, channels=3,dtype=tf.float32,expand_animations=False)\n",
    "#     print('Image type: ',type(image))\n",
    "#     print('Label type: ' , type(label))\n",
    "#     print('inside read_image func: ',image)\n",
    "    return image,label"
   ]
  },
  {
   "cell_type": "code",
   "execution_count": 10,
   "id": "216bc033",
   "metadata": {},
   "outputs": [],
   "source": [
    "def augment(image,label):\n",
    "    #print('augment func image type: ',type(image))\n",
    "#     print('augment func label type',type(label))\n",
    "#     print(type(image))\n",
    "#     print(image)\n",
    "#     print(label)\n",
    "    #plt.imshow(image)\n",
    "    image=tf.image.resize(\n",
    "    image,\n",
    "    (224,224),\n",
    "    preserve_aspect_ratio=False,\n",
    "    antialias=False,\n",
    "    name=None)\n",
    "    \n",
    "    return image,label\n"
   ]
  },
  {
   "cell_type": "code",
   "execution_count": 11,
   "id": "63447d8b",
   "metadata": {},
   "outputs": [],
   "source": [
    "# Do not delete\n",
    "val_data=ds_train.map(read_image).map(augment).batch(16)"
   ]
  },
  {
   "cell_type": "markdown",
   "id": "4cfb905d",
   "metadata": {},
   "source": [
    "# extracting accuracy of Validation dataset"
   ]
  },
  {
   "cell_type": "code",
   "execution_count": null,
   "id": "f96a99aa",
   "metadata": {},
   "outputs": [],
   "source": [
    "#11.42am start the line below"
   ]
  },
  {
   "cell_type": "code",
   "execution_count": 12,
   "id": "c280b6a6",
   "metadata": {},
   "outputs": [],
   "source": [
    "# import tensorflow as tf\n",
    "# tf.config.list_physical_devices('GPU')\n",
    "# print(\"Num GPUs Available: \", len(tf.config.list_physical_devices('GPU')))\n",
    "# #print(\"Num GPUs Available: \", len(tf.config.list_physical_devices('GPU')))"
   ]
  },
  {
   "cell_type": "code",
   "execution_count": 13,
   "id": "1698459f",
   "metadata": {},
   "outputs": [],
   "source": [
    "model=tf.keras.applications.vgg16.VGG16(\n",
    "    include_top=True,\n",
    "    weights='imagenet',\n",
    "    input_tensor=None,\n",
    "    input_shape=None,\n",
    "    pooling=None,\n",
    "    classes=1000,\n",
    "    classifier_activation='softmax'\n",
    ")\n"
   ]
  },
  {
   "cell_type": "code",
   "execution_count": 15,
   "id": "6414e08c",
   "metadata": {},
   "outputs": [
    {
     "name": "stderr",
     "output_type": "stream",
     "text": [
      "  0%|                                                                                          | 0/3125 [00:00<?, ?it/s]2022-08-15 23:26:36.477607: I tensorflow/compiler/mlir/mlir_graph_optimization_pass.cc:116] None of the MLIR optimization passes are enabled (registered 2)\n",
      "2022-08-15 23:26:36.497997: I tensorflow/core/platform/profile_utils/cpu_utils.cc:112] CPU Frequency: 3699850000 Hz\n",
      "2022-08-15 23:26:36.633144: I tensorflow/stream_executor/platform/default/dso_loader.cc:49] Successfully opened dynamic library libcudnn.so.7\n",
      "2022-08-15 23:26:37.409148: W tensorflow/stream_executor/gpu/asm_compiler.cc:63] Running ptxas --version returned 256\n",
      "2022-08-15 23:26:37.477216: W tensorflow/stream_executor/gpu/redzone_allocator.cc:314] Internal: ptxas exited with non-zero error code 256, output: \n",
      "Relying on driver to perform ptx compilation. \n",
      "Modify $PATH to customize ptxas location.\n",
      "This message will be only logged once.\n",
      "2022-08-15 23:26:38.258691: I tensorflow/stream_executor/platform/default/dso_loader.cc:49] Successfully opened dynamic library libcublas.so.10\n",
      "100%|███████████████████████████████████████████████████████████████████████████████| 3125/3125 [03:46<00:00, 13.82it/s]\n"
     ]
    }
   ],
   "source": [
    "\n",
    "count=0\n",
    "with tf.device('/gpu:0'):\n",
    "    for x_val,y_val in tqdm(val_data):\n",
    "        example_1_image=x_val\n",
    "        label_1_image=y_val\n",
    "        prediction_16_batch=model(example_1_image*255)\n",
    "        top_1_prediction=tf.math.argmax(prediction_16_batch,axis=1)\n",
    "        count+=(top_1_prediction==label_1_image).numpy().sum()\n"
   ]
  },
  {
   "cell_type": "code",
   "execution_count": 16,
   "id": "2bb1b424",
   "metadata": {},
   "outputs": [
    {
     "name": "stdout",
     "output_type": "stream",
     "text": [
      "Top 1 accuracy is: 42.931999999999995%\n"
     ]
    }
   ],
   "source": [
    "top_1_accuracy=(count/50000)*100\n",
    "print(f\"Top 1 accuracy is: {top_1_accuracy}%\")"
   ]
  },
  {
   "cell_type": "code",
   "execution_count": 39,
   "id": "3c7a9d8c",
   "metadata": {},
   "outputs": [
    {
     "data": {
      "text/plain": [
       "16000"
      ]
     },
     "execution_count": 39,
     "metadata": {},
     "output_type": "execute_result"
    }
   ],
   "source": [
    "(model.predict(example_1_image*255)==model(example_1_image*255)).numpy().sum()"
   ]
  },
  {
   "cell_type": "code",
   "execution_count": 60,
   "id": "03d29b0e",
   "metadata": {},
   "outputs": [
    {
     "name": "stderr",
     "output_type": "stream",
     "text": [
      "  0%|                                                                                  | 3/3125 [00:00<05:23,  9.66it/s]"
     ]
    },
    {
     "name": "stdout",
     "output_type": "stream",
     "text": [
      "tf.Tensor(14.0, shape=(), dtype=float32) 16\n",
      "current batch accuracy is: 87.5%\n",
      "tf.Tensor(13.0, shape=(), dtype=float32) 16\n",
      "current batch accuracy is: 81.25%\n",
      "tf.Tensor(10.0, shape=(), dtype=float32) 16\n",
      "current batch accuracy is: 62.5%\n"
     ]
    },
    {
     "name": "stderr",
     "output_type": "stream",
     "text": [
      "\r",
      "  0%|▏                                                                                 | 5/3125 [00:00<05:15,  9.89it/s]"
     ]
    },
    {
     "name": "stdout",
     "output_type": "stream",
     "text": [
      "tf.Tensor(10.0, shape=(), dtype=float32) 16\n",
      "current batch accuracy is: 62.5%\n",
      "tf.Tensor(9.0, shape=(), dtype=float32) 16\n",
      "current batch accuracy is: 56.25%\n",
      "tf.Tensor(11.0, shape=(), dtype=float32) 16\n",
      "current batch accuracy is: 68.75%\n"
     ]
    },
    {
     "name": "stderr",
     "output_type": "stream",
     "text": [
      "  0%|▏                                                                                 | 9/3125 [00:00<04:12, 12.33it/s]"
     ]
    },
    {
     "name": "stdout",
     "output_type": "stream",
     "text": [
      "tf.Tensor(11.0, shape=(), dtype=float32) 16\n",
      "current batch accuracy is: 68.75%\n",
      "tf.Tensor(10.0, shape=(), dtype=float32) 16\n",
      "current batch accuracy is: 62.5%\n",
      "tf.Tensor(11.0, shape=(), dtype=float32) 16\n",
      "current batch accuracy is: 68.75%\n"
     ]
    },
    {
     "name": "stderr",
     "output_type": "stream",
     "text": [
      "\r",
      "  0%|▎                                                                                | 11/3125 [00:00<04:03, 12.77it/s]"
     ]
    },
    {
     "name": "stdout",
     "output_type": "stream",
     "text": [
      "tf.Tensor(10.0, shape=(), dtype=float32) 16\n",
      "current batch accuracy is: 62.5%\n",
      "tf.Tensor(15.0, shape=(), dtype=float32) 16\n",
      "current batch accuracy is: 93.75%\n",
      "tf.Tensor(11.0, shape=(), dtype=float32) 16\n",
      "current batch accuracy is: 68.75%\n"
     ]
    },
    {
     "name": "stderr",
     "output_type": "stream",
     "text": [
      "  0%|▍                                                                                | 15/3125 [00:01<03:44, 13.83it/s]"
     ]
    },
    {
     "name": "stdout",
     "output_type": "stream",
     "text": [
      "tf.Tensor(8.0, shape=(), dtype=float32) 16\n",
      "current batch accuracy is: 50.0%\n",
      "tf.Tensor(13.0, shape=(), dtype=float32) 16\n",
      "current batch accuracy is: 81.25%\n",
      "tf.Tensor(8.0, shape=(), dtype=float32) 16\n",
      "current batch accuracy is: 50.0%\n",
      "tf.Tensor(11.0, shape=(), dtype=float32) 16\n",
      "current batch accuracy is: 68.75%\n"
     ]
    },
    {
     "name": "stderr",
     "output_type": "stream",
     "text": [
      "  1%|▍                                                                                | 19/3125 [00:01<03:28, 14.90it/s]"
     ]
    },
    {
     "name": "stdout",
     "output_type": "stream",
     "text": [
      "tf.Tensor(10.0, shape=(), dtype=float32) 16\n",
      "current batch accuracy is: 62.5%\n",
      "tf.Tensor(10.0, shape=(), dtype=float32) 16\n",
      "current batch accuracy is: 62.5%\n",
      "tf.Tensor(9.0, shape=(), dtype=float32) 16\n",
      "current batch accuracy is: 56.25%\n"
     ]
    },
    {
     "name": "stderr",
     "output_type": "stream",
     "text": [
      "  1%|▌                                                                                | 23/3125 [00:01<03:28, 14.87it/s]"
     ]
    },
    {
     "name": "stdout",
     "output_type": "stream",
     "text": [
      "tf.Tensor(8.0, shape=(), dtype=float32) 16\n",
      "current batch accuracy is: 50.0%\n",
      "tf.Tensor(13.0, shape=(), dtype=float32) 16\n",
      "current batch accuracy is: 81.25%\n",
      "tf.Tensor(11.0, shape=(), dtype=float32) 16\n",
      "current batch accuracy is: 68.75%\n",
      "tf.Tensor(13.0, shape=(), dtype=float32) 16\n",
      "current batch accuracy is: 81.25%\n"
     ]
    },
    {
     "name": "stderr",
     "output_type": "stream",
     "text": [
      "\r",
      "  1%|▋                                                                                | 25/3125 [00:01<03:25, 15.09it/s]"
     ]
    },
    {
     "name": "stdout",
     "output_type": "stream",
     "text": [
      "tf.Tensor(8.0, shape=(), dtype=float32) 16\n",
      "current batch accuracy is: 50.0%\n",
      "tf.Tensor(10.0, shape=(), dtype=float32) 16\n",
      "current batch accuracy is: 62.5%\n",
      "tf.Tensor(9.0, shape=(), dtype=float32) 16\n",
      "current batch accuracy is: 56.25%\n"
     ]
    },
    {
     "name": "stderr",
     "output_type": "stream",
     "text": [
      "  1%|▊                                                                                | 29/3125 [00:02<03:37, 14.25it/s]"
     ]
    },
    {
     "name": "stdout",
     "output_type": "stream",
     "text": [
      "tf.Tensor(13.0, shape=(), dtype=float32) 16\n",
      "current batch accuracy is: 81.25%\n",
      "tf.Tensor(10.0, shape=(), dtype=float32) 16\n",
      "current batch accuracy is: 62.5%\n",
      "tf.Tensor(15.0, shape=(), dtype=float32) 16\n",
      "current batch accuracy is: 93.75%\n"
     ]
    },
    {
     "name": "stderr",
     "output_type": "stream",
     "text": [
      "\r",
      "  1%|▊                                                                                | 31/3125 [00:02<03:28, 14.81it/s]"
     ]
    },
    {
     "name": "stdout",
     "output_type": "stream",
     "text": [
      "tf.Tensor(11.0, shape=(), dtype=float32) 16\n",
      "current batch accuracy is: 68.75%\n",
      "tf.Tensor(12.0, shape=(), dtype=float32) 16\n",
      "current batch accuracy is: 75.0%\n",
      "tf.Tensor(10.0, shape=(), dtype=float32) 16\n",
      "current batch accuracy is: 62.5%\n"
     ]
    },
    {
     "name": "stderr",
     "output_type": "stream",
     "text": [
      "  1%|▉                                                                                | 35/3125 [00:02<04:00, 12.85it/s]"
     ]
    },
    {
     "name": "stdout",
     "output_type": "stream",
     "text": [
      "tf.Tensor(8.0, shape=(), dtype=float32) 16\n",
      "current batch accuracy is: 50.0%\n",
      "tf.Tensor(10.0, shape=(), dtype=float32) 16\n",
      "current batch accuracy is: 62.5%\n",
      "tf.Tensor(8.0, shape=(), dtype=float32) 16\n",
      "current batch accuracy is: 50.0%\n"
     ]
    },
    {
     "name": "stderr",
     "output_type": "stream",
     "text": [
      "\r",
      "  1%|▉                                                                                | 37/3125 [00:02<03:59, 12.91it/s]"
     ]
    },
    {
     "name": "stdout",
     "output_type": "stream",
     "text": [
      "tf.Tensor(11.0, shape=(), dtype=float32) 16\n",
      "current batch accuracy is: 68.75%\n",
      "tf.Tensor(10.0, shape=(), dtype=float32) 16\n",
      "current batch accuracy is: 62.5%\n",
      "tf.Tensor(9.0, shape=(), dtype=float32) 16\n",
      "current batch accuracy is: 56.25%\n"
     ]
    },
    {
     "name": "stderr",
     "output_type": "stream",
     "text": [
      "  1%|█                                                                                | 41/3125 [00:03<03:48, 13.48it/s]"
     ]
    },
    {
     "name": "stdout",
     "output_type": "stream",
     "text": [
      "tf.Tensor(8.0, shape=(), dtype=float32) 16\n",
      "current batch accuracy is: 50.0%\n",
      "tf.Tensor(13.0, shape=(), dtype=float32) 16\n",
      "current batch accuracy is: 81.25%\n",
      "tf.Tensor(9.0, shape=(), dtype=float32) 16\n",
      "current batch accuracy is: 56.25%\n"
     ]
    },
    {
     "name": "stderr",
     "output_type": "stream",
     "text": [
      "\r",
      "  1%|█                                                                                | 43/3125 [00:03<03:52, 13.24it/s]"
     ]
    },
    {
     "name": "stdout",
     "output_type": "stream",
     "text": [
      "tf.Tensor(10.0, shape=(), dtype=float32) 16\n",
      "current batch accuracy is: 62.5%\n",
      "tf.Tensor(10.0, shape=(), dtype=float32) 16\n",
      "current batch accuracy is: 62.5%\n",
      "tf.Tensor(13.0, shape=(), dtype=float32) 16\n",
      "current batch accuracy is: 81.25%\n"
     ]
    },
    {
     "name": "stderr",
     "output_type": "stream",
     "text": [
      "  2%|█▏                                                                               | 47/3125 [00:03<03:50, 13.34it/s]"
     ]
    },
    {
     "name": "stdout",
     "output_type": "stream",
     "text": [
      "tf.Tensor(10.0, shape=(), dtype=float32) 16\n",
      "current batch accuracy is: 62.5%\n",
      "tf.Tensor(11.0, shape=(), dtype=float32) 16\n",
      "current batch accuracy is: 68.75%\n",
      "tf.Tensor(10.0, shape=(), dtype=float32) 16\n",
      "current batch accuracy is: 62.5%\n"
     ]
    },
    {
     "name": "stderr",
     "output_type": "stream",
     "text": [
      "\r",
      "  2%|█▎                                                                               | 49/3125 [00:03<03:53, 13.19it/s]"
     ]
    },
    {
     "name": "stdout",
     "output_type": "stream",
     "text": [
      "tf.Tensor(11.0, shape=(), dtype=float32) 16\n",
      "current batch accuracy is: 68.75%\n",
      "tf.Tensor(12.0, shape=(), dtype=float32) 16\n",
      "current batch accuracy is: 75.0%\n",
      "tf.Tensor(13.0, shape=(), dtype=float32) 16\n",
      "current batch accuracy is: 81.25%\n"
     ]
    },
    {
     "name": "stderr",
     "output_type": "stream",
     "text": [
      "  2%|█▎                                                                               | 53/3125 [00:03<03:44, 13.66it/s]"
     ]
    },
    {
     "name": "stdout",
     "output_type": "stream",
     "text": [
      "tf.Tensor(8.0, shape=(), dtype=float32) 16\n",
      "current batch accuracy is: 50.0%\n",
      "tf.Tensor(10.0, shape=(), dtype=float32) 16\n",
      "current batch accuracy is: 62.5%\n",
      "tf.Tensor(9.0, shape=(), dtype=float32) 16\n",
      "current batch accuracy is: 56.25%\n",
      "tf.Tensor(11.0, shape=(), dtype=float32) 16\n",
      "current batch accuracy is: 68.75%\n"
     ]
    },
    {
     "name": "stderr",
     "output_type": "stream",
     "text": [
      "  2%|█▍                                                                               | 57/3125 [00:04<03:42, 13.80it/s]"
     ]
    },
    {
     "name": "stdout",
     "output_type": "stream",
     "text": [
      "tf.Tensor(10.0, shape=(), dtype=float32) 16\n",
      "current batch accuracy is: 62.5%\n",
      "tf.Tensor(11.0, shape=(), dtype=float32) 16\n",
      "current batch accuracy is: 68.75%\n",
      "tf.Tensor(12.0, shape=(), dtype=float32) 16\n",
      "current batch accuracy is: 75.0%\n"
     ]
    },
    {
     "name": "stderr",
     "output_type": "stream",
     "text": [
      "\r",
      "  2%|█▌                                                                               | 59/3125 [00:04<03:32, 14.41it/s]"
     ]
    },
    {
     "name": "stdout",
     "output_type": "stream",
     "text": [
      "tf.Tensor(7.0, shape=(), dtype=float32) 16\n",
      "current batch accuracy is: 43.75%\n",
      "tf.Tensor(9.0, shape=(), dtype=float32) 16\n",
      "current batch accuracy is: 56.25%\n",
      "tf.Tensor(8.0, shape=(), dtype=float32) 16\n",
      "current batch accuracy is: 50.0%\n"
     ]
    },
    {
     "name": "stderr",
     "output_type": "stream",
     "text": [
      "  2%|█▋                                                                               | 63/3125 [00:04<03:39, 13.96it/s]"
     ]
    },
    {
     "name": "stdout",
     "output_type": "stream",
     "text": [
      "tf.Tensor(12.0, shape=(), dtype=float32) 16\n",
      "current batch accuracy is: 75.0%\n",
      "tf.Tensor(11.0, shape=(), dtype=float32) 16\n",
      "current batch accuracy is: 68.75%\n",
      "tf.Tensor(10.0, shape=(), dtype=float32) 16\n",
      "current batch accuracy is: 62.5%\n"
     ]
    },
    {
     "name": "stderr",
     "output_type": "stream",
     "text": [
      "\r",
      "  2%|█▋                                                                               | 65/3125 [00:04<03:41, 13.80it/s]"
     ]
    },
    {
     "name": "stdout",
     "output_type": "stream",
     "text": [
      "tf.Tensor(11.0, shape=(), dtype=float32) 16\n",
      "current batch accuracy is: 68.75%\n",
      "tf.Tensor(9.0, shape=(), dtype=float32) 16\n",
      "current batch accuracy is: 56.25%\n",
      "tf.Tensor(11.0, shape=(), dtype=float32) 16\n",
      "current batch accuracy is: 68.75%\n"
     ]
    },
    {
     "name": "stderr",
     "output_type": "stream",
     "text": [
      "  2%|█▊                                                                               | 69/3125 [00:05<03:40, 13.83it/s]"
     ]
    },
    {
     "name": "stdout",
     "output_type": "stream",
     "text": [
      "tf.Tensor(13.0, shape=(), dtype=float32) 16\n",
      "current batch accuracy is: 81.25%\n",
      "tf.Tensor(10.0, shape=(), dtype=float32) 16\n",
      "current batch accuracy is: 62.5%\n",
      "tf.Tensor(10.0, shape=(), dtype=float32) 16\n",
      "current batch accuracy is: 62.5%\n"
     ]
    },
    {
     "name": "stderr",
     "output_type": "stream",
     "text": [
      "  2%|█▉                                                                               | 73/3125 [00:05<03:36, 14.08it/s]"
     ]
    },
    {
     "name": "stdout",
     "output_type": "stream",
     "text": [
      "tf.Tensor(9.0, shape=(), dtype=float32) 16\n",
      "current batch accuracy is: 56.25%\n",
      "tf.Tensor(9.0, shape=(), dtype=float32) 16\n",
      "current batch accuracy is: 56.25%\n",
      "tf.Tensor(12.0, shape=(), dtype=float32) 16\n",
      "current batch accuracy is: 75.0%\n",
      "tf.Tensor(8.0, shape=(), dtype=float32) 16\n",
      "current batch accuracy is: 50.0%\n"
     ]
    },
    {
     "name": "stderr",
     "output_type": "stream",
     "text": [
      "  2%|█▉                                                                               | 77/3125 [00:05<03:26, 14.75it/s]"
     ]
    },
    {
     "name": "stdout",
     "output_type": "stream",
     "text": [
      "tf.Tensor(15.0, shape=(), dtype=float32) 16\n",
      "current batch accuracy is: 93.75%\n",
      "tf.Tensor(10.0, shape=(), dtype=float32) 16\n",
      "current batch accuracy is: 62.5%\n",
      "tf.Tensor(10.0, shape=(), dtype=float32) 16\n",
      "current batch accuracy is: 62.5%\n",
      "tf.Tensor(13.0, shape=(), dtype=float32) 16\n",
      "current batch accuracy is: 81.25%\n"
     ]
    },
    {
     "name": "stderr",
     "output_type": "stream",
     "text": [
      "  3%|██                                                                               | 81/3125 [00:05<03:28, 14.60it/s]"
     ]
    },
    {
     "name": "stdout",
     "output_type": "stream",
     "text": [
      "tf.Tensor(11.0, shape=(), dtype=float32) 16\n",
      "current batch accuracy is: 68.75%\n",
      "tf.Tensor(10.0, shape=(), dtype=float32) 16\n",
      "current batch accuracy is: 62.5%\n",
      "tf.Tensor(13.0, shape=(), dtype=float32) 16\n",
      "current batch accuracy is: 81.25%\n",
      "tf.Tensor(9.0, shape=(), dtype=float32) 16\n",
      "current batch accuracy is: 56.25%\n"
     ]
    },
    {
     "name": "stderr",
     "output_type": "stream",
     "text": [
      "  3%|██▏                                                                              | 85/3125 [00:06<03:19, 15.23it/s]"
     ]
    },
    {
     "name": "stdout",
     "output_type": "stream",
     "text": [
      "tf.Tensor(9.0, shape=(), dtype=float32) 16\n",
      "current batch accuracy is: 56.25%\n",
      "tf.Tensor(10.0, shape=(), dtype=float32) 16\n",
      "current batch accuracy is: 62.5%\n",
      "tf.Tensor(14.0, shape=(), dtype=float32) 16\n",
      "current batch accuracy is: 87.5%\n",
      "tf.Tensor(8.0, shape=(), dtype=float32) 16\n",
      "current batch accuracy is: 50.0%\n"
     ]
    },
    {
     "name": "stderr",
     "output_type": "stream",
     "text": [
      "\r",
      "  3%|██▎                                                                              | 87/3125 [00:06<03:22, 14.97it/s]"
     ]
    },
    {
     "name": "stdout",
     "output_type": "stream",
     "text": [
      "tf.Tensor(11.0, shape=(), dtype=float32) 16\n",
      "current batch accuracy is: 68.75%\n",
      "tf.Tensor(12.0, shape=(), dtype=float32) 16\n",
      "current batch accuracy is: 75.0%\n",
      "tf.Tensor(12.0, shape=(), dtype=float32) 16\n",
      "current batch accuracy is: 75.0%\n"
     ]
    },
    {
     "name": "stderr",
     "output_type": "stream",
     "text": [
      "  3%|██▎                                                                              | 91/3125 [00:06<03:22, 14.98it/s]"
     ]
    },
    {
     "name": "stdout",
     "output_type": "stream",
     "text": [
      "tf.Tensor(9.0, shape=(), dtype=float32) 16\n",
      "current batch accuracy is: 56.25%\n",
      "tf.Tensor(13.0, shape=(), dtype=float32) 16\n",
      "current batch accuracy is: 81.25%\n",
      "tf.Tensor(11.0, shape=(), dtype=float32) 16\n",
      "current batch accuracy is: 68.75%\n",
      "tf.Tensor(11.0, shape=(), dtype=float32) 16\n",
      "current batch accuracy is: 68.75%\n"
     ]
    },
    {
     "name": "stderr",
     "output_type": "stream",
     "text": [
      "  3%|██▍                                                                              | 95/3125 [00:06<03:20, 15.14it/s]"
     ]
    },
    {
     "name": "stdout",
     "output_type": "stream",
     "text": [
      "tf.Tensor(13.0, shape=(), dtype=float32) 16\n",
      "current batch accuracy is: 81.25%\n",
      "tf.Tensor(11.0, shape=(), dtype=float32) 16\n",
      "current batch accuracy is: 68.75%\n",
      "tf.Tensor(10.0, shape=(), dtype=float32) 16\n",
      "current batch accuracy is: 62.5%\n"
     ]
    },
    {
     "name": "stderr",
     "output_type": "stream",
     "text": [
      "  3%|██▌                                                                              | 99/3125 [00:07<03:23, 14.90it/s]"
     ]
    },
    {
     "name": "stdout",
     "output_type": "stream",
     "text": [
      "tf.Tensor(11.0, shape=(), dtype=float32) 16\n",
      "current batch accuracy is: 68.75%\n",
      "tf.Tensor(10.0, shape=(), dtype=float32) 16\n",
      "current batch accuracy is: 62.5%\n",
      "tf.Tensor(10.0, shape=(), dtype=float32) 16\n",
      "current batch accuracy is: 62.5%\n",
      "tf.Tensor(14.0, shape=(), dtype=float32) 16\n",
      "current batch accuracy is: 87.5%\n"
     ]
    },
    {
     "name": "stderr",
     "output_type": "stream",
     "text": [
      "\r",
      "  3%|██▌                                                                             | 101/3125 [00:07<03:46, 13.32it/s]"
     ]
    },
    {
     "name": "stdout",
     "output_type": "stream",
     "text": [
      "tf.Tensor(7.0, shape=(), dtype=float32) 16\n",
      "current batch accuracy is: 43.75%\n",
      "tf.Tensor(11.0, shape=(), dtype=float32) 16\n",
      "current batch accuracy is: 68.75%\n",
      "tf.Tensor(12.0, shape=(), dtype=float32) 16\n",
      "current batch accuracy is: 75.0%\n"
     ]
    },
    {
     "name": "stderr",
     "output_type": "stream",
     "text": [
      "  3%|██▋                                                                             | 105/3125 [00:07<03:33, 14.16it/s]"
     ]
    },
    {
     "name": "stdout",
     "output_type": "stream",
     "text": [
      "tf.Tensor(11.0, shape=(), dtype=float32) 16\n",
      "current batch accuracy is: 68.75%\n",
      "tf.Tensor(10.0, shape=(), dtype=float32) 16\n",
      "current batch accuracy is: 62.5%\n",
      "tf.Tensor(11.0, shape=(), dtype=float32) 16\n",
      "current batch accuracy is: 68.75%\n",
      "tf.Tensor(11.0, shape=(), dtype=float32) 16\n",
      "current batch accuracy is: 68.75%\n"
     ]
    },
    {
     "name": "stderr",
     "output_type": "stream",
     "text": [
      "  3%|██▊                                                                             | 109/3125 [00:07<03:26, 14.58it/s]"
     ]
    },
    {
     "name": "stdout",
     "output_type": "stream",
     "text": [
      "tf.Tensor(10.0, shape=(), dtype=float32) 16\n",
      "current batch accuracy is: 62.5%\n",
      "tf.Tensor(7.0, shape=(), dtype=float32) 16\n",
      "current batch accuracy is: 43.75%\n",
      "tf.Tensor(9.0, shape=(), dtype=float32) 16\n",
      "current batch accuracy is: 56.25%\n",
      "tf.Tensor(10.0, shape=(), dtype=float32) 16\n",
      "current batch accuracy is: 62.5%\n"
     ]
    },
    {
     "name": "stderr",
     "output_type": "stream",
     "text": [
      "  4%|██▉                                                                             | 113/3125 [00:08<03:21, 14.94it/s]"
     ]
    },
    {
     "name": "stdout",
     "output_type": "stream",
     "text": [
      "tf.Tensor(10.0, shape=(), dtype=float32) 16\n",
      "current batch accuracy is: 62.5%\n",
      "tf.Tensor(14.0, shape=(), dtype=float32) 16\n",
      "current batch accuracy is: 87.5%\n",
      "tf.Tensor(15.0, shape=(), dtype=float32) 16\n",
      "current batch accuracy is: 93.75%\n"
     ]
    },
    {
     "name": "stderr",
     "output_type": "stream",
     "text": [
      "  4%|██▉                                                                             | 117/3125 [00:08<03:20, 14.99it/s]"
     ]
    },
    {
     "name": "stdout",
     "output_type": "stream",
     "text": [
      "tf.Tensor(10.0, shape=(), dtype=float32) 16\n",
      "current batch accuracy is: 62.5%\n",
      "tf.Tensor(12.0, shape=(), dtype=float32) 16\n",
      "current batch accuracy is: 75.0%\n",
      "tf.Tensor(10.0, shape=(), dtype=float32) 16\n",
      "current batch accuracy is: 62.5%\n",
      "tf.Tensor(10.0, shape=(), dtype=float32) 16\n",
      "current batch accuracy is: 62.5%\n"
     ]
    },
    {
     "name": "stderr",
     "output_type": "stream",
     "text": [
      "\r",
      "  4%|███                                                                             | 119/3125 [00:08<03:23, 14.74it/s]"
     ]
    },
    {
     "name": "stdout",
     "output_type": "stream",
     "text": [
      "tf.Tensor(13.0, shape=(), dtype=float32) 16\n",
      "current batch accuracy is: 81.25%\n",
      "tf.Tensor(11.0, shape=(), dtype=float32) 16\n",
      "current batch accuracy is: 68.75%\n",
      "tf.Tensor(10.0, shape=(), dtype=float32) 16\n",
      "current batch accuracy is: 62.5%\n"
     ]
    },
    {
     "name": "stderr",
     "output_type": "stream",
     "text": [
      "  4%|███▏                                                                            | 123/3125 [00:08<03:26, 14.52it/s]"
     ]
    },
    {
     "name": "stdout",
     "output_type": "stream",
     "text": [
      "tf.Tensor(12.0, shape=(), dtype=float32) 16\n",
      "current batch accuracy is: 75.0%\n",
      "tf.Tensor(10.0, shape=(), dtype=float32) 16\n",
      "current batch accuracy is: 62.5%\n",
      "tf.Tensor(10.0, shape=(), dtype=float32) 16\n",
      "current batch accuracy is: 62.5%\n"
     ]
    },
    {
     "name": "stderr",
     "output_type": "stream",
     "text": [
      "  4%|███▎                                                                            | 127/3125 [00:09<03:19, 15.04it/s]"
     ]
    },
    {
     "name": "stdout",
     "output_type": "stream",
     "text": [
      "tf.Tensor(11.0, shape=(), dtype=float32) 16\n",
      "current batch accuracy is: 68.75%\n",
      "tf.Tensor(9.0, shape=(), dtype=float32) 16\n",
      "current batch accuracy is: 56.25%\n",
      "tf.Tensor(11.0, shape=(), dtype=float32) 16\n",
      "current batch accuracy is: 68.75%\n",
      "tf.Tensor(14.0, shape=(), dtype=float32) 16\n",
      "current batch accuracy is: 87.5%\n"
     ]
    },
    {
     "name": "stderr",
     "output_type": "stream",
     "text": [
      "\r",
      "  4%|███▎                                                                            | 129/3125 [00:09<03:16, 15.22it/s]"
     ]
    },
    {
     "name": "stdout",
     "output_type": "stream",
     "text": [
      "tf.Tensor(14.0, shape=(), dtype=float32) 16\n",
      "current batch accuracy is: 87.5%\n",
      "tf.Tensor(11.0, shape=(), dtype=float32) 16\n",
      "current batch accuracy is: 68.75%\n",
      "tf.Tensor(12.0, shape=(), dtype=float32) 16\n",
      "current batch accuracy is: 75.0%\n"
     ]
    },
    {
     "name": "stderr",
     "output_type": "stream",
     "text": [
      "  4%|███▍                                                                            | 133/3125 [00:09<03:16, 15.20it/s]"
     ]
    },
    {
     "name": "stdout",
     "output_type": "stream",
     "text": [
      "tf.Tensor(10.0, shape=(), dtype=float32) 16\n",
      "current batch accuracy is: 62.5%\n",
      "tf.Tensor(8.0, shape=(), dtype=float32) 16\n",
      "current batch accuracy is: 50.0%\n",
      "tf.Tensor(12.0, shape=(), dtype=float32) 16\n",
      "current batch accuracy is: 75.0%\n",
      "tf.Tensor(11.0, shape=(), dtype=float32) 16\n",
      "current batch accuracy is: 68.75%\n"
     ]
    },
    {
     "name": "stderr",
     "output_type": "stream",
     "text": [
      "  4%|███▌                                                                            | 137/3125 [00:09<03:18, 15.06it/s]"
     ]
    },
    {
     "name": "stdout",
     "output_type": "stream",
     "text": [
      "tf.Tensor(11.0, shape=(), dtype=float32) 16\n",
      "current batch accuracy is: 68.75%\n",
      "tf.Tensor(10.0, shape=(), dtype=float32) 16\n",
      "current batch accuracy is: 62.5%\n",
      "tf.Tensor(11.0, shape=(), dtype=float32) 16\n",
      "current batch accuracy is: 68.75%\n"
     ]
    },
    {
     "name": "stderr",
     "output_type": "stream",
     "text": [
      "\r",
      "  4%|███▌                                                                            | 139/3125 [00:09<03:50, 12.98it/s]"
     ]
    },
    {
     "name": "stdout",
     "output_type": "stream",
     "text": [
      "tf.Tensor(12.0, shape=(), dtype=float32) 16\n",
      "current batch accuracy is: 75.0%\n",
      "tf.Tensor(11.0, shape=(), dtype=float32) 16\n",
      "current batch accuracy is: 68.75%\n",
      "tf.Tensor(12.0, shape=(), dtype=float32) 16\n"
     ]
    },
    {
     "name": "stderr",
     "output_type": "stream",
     "text": [
      "  5%|███▋                                                                            | 143/3125 [00:10<03:28, 14.33it/s]"
     ]
    },
    {
     "name": "stdout",
     "output_type": "stream",
     "text": [
      "current batch accuracy is: 75.0%\n",
      "tf.Tensor(7.0, shape=(), dtype=float32) 16\n",
      "current batch accuracy is: 43.75%\n",
      "tf.Tensor(10.0, shape=(), dtype=float32) 16\n",
      "current batch accuracy is: 62.5%\n",
      "tf.Tensor(10.0, shape=(), dtype=float32) 16\n",
      "current batch accuracy is: 62.5%\n"
     ]
    },
    {
     "name": "stderr",
     "output_type": "stream",
     "text": [
      "\r",
      "  5%|███▋                                                                            | 145/3125 [00:10<03:34, 13.88it/s]"
     ]
    },
    {
     "name": "stdout",
     "output_type": "stream",
     "text": [
      "tf.Tensor(10.0, shape=(), dtype=float32) 16\n",
      "current batch accuracy is: 62.5%\n",
      "tf.Tensor(12.0, shape=(), dtype=float32) 16\n",
      "current batch accuracy is: 75.0%\n",
      "tf.Tensor(13.0, shape=(), dtype=float32) 16\n",
      "current batch accuracy is: 81.25%\n"
     ]
    },
    {
     "name": "stderr",
     "output_type": "stream",
     "text": [
      "  5%|███▊                                                                            | 149/3125 [00:10<03:22, 14.68it/s]"
     ]
    },
    {
     "name": "stdout",
     "output_type": "stream",
     "text": [
      "tf.Tensor(12.0, shape=(), dtype=float32) 16\n",
      "current batch accuracy is: 75.0%\n",
      "tf.Tensor(10.0, shape=(), dtype=float32) 16\n",
      "current batch accuracy is: 62.5%\n",
      "tf.Tensor(9.0, shape=(), dtype=float32) 16\n",
      "current batch accuracy is: 56.25%\n",
      "tf.Tensor(12.0, shape=(), dtype=float32) 16\n",
      "current batch accuracy is: 75.0%\n"
     ]
    },
    {
     "name": "stderr",
     "output_type": "stream",
     "text": [
      "  5%|███▉                                                                            | 153/3125 [00:10<03:31, 14.04it/s]"
     ]
    },
    {
     "name": "stdout",
     "output_type": "stream",
     "text": [
      "tf.Tensor(13.0, shape=(), dtype=float32) 16\n",
      "current batch accuracy is: 81.25%\n",
      "tf.Tensor(12.0, shape=(), dtype=float32) 16\n",
      "current batch accuracy is: 75.0%\n",
      "tf.Tensor(12.0, shape=(), dtype=float32) 16\n",
      "current batch accuracy is: 75.0%\n"
     ]
    },
    {
     "name": "stderr",
     "output_type": "stream",
     "text": [
      "\r",
      "  5%|███▉                                                                            | 155/3125 [00:11<03:32, 13.98it/s]"
     ]
    },
    {
     "name": "stdout",
     "output_type": "stream",
     "text": [
      "tf.Tensor(9.0, shape=(), dtype=float32) 16\n",
      "current batch accuracy is: 56.25%\n",
      "tf.Tensor(15.0, shape=(), dtype=float32) 16\n",
      "current batch accuracy is: 93.75%\n",
      "tf.Tensor(11.0, shape=(), dtype=float32) 16\n",
      "current batch accuracy is: 68.75%\n"
     ]
    },
    {
     "name": "stderr",
     "output_type": "stream",
     "text": [
      "  5%|████                                                                            | 159/3125 [00:11<03:22, 14.68it/s]"
     ]
    },
    {
     "name": "stdout",
     "output_type": "stream",
     "text": [
      "tf.Tensor(14.0, shape=(), dtype=float32) 16\n",
      "current batch accuracy is: 87.5%\n",
      "tf.Tensor(11.0, shape=(), dtype=float32) 16\n",
      "current batch accuracy is: 68.75%\n",
      "tf.Tensor(12.0, shape=(), dtype=float32) 16\n",
      "current batch accuracy is: 75.0%\n",
      "tf.Tensor(7.0, shape=(), dtype=float32) 16\n",
      "current batch accuracy is: 43.75%\n"
     ]
    },
    {
     "name": "stderr",
     "output_type": "stream",
     "text": [
      "  5%|████▏                                                                           | 163/3125 [00:11<03:21, 14.68it/s]"
     ]
    },
    {
     "name": "stdout",
     "output_type": "stream",
     "text": [
      "tf.Tensor(10.0, shape=(), dtype=float32) 16\n",
      "current batch accuracy is: 62.5%\n",
      "tf.Tensor(13.0, shape=(), dtype=float32) 16\n",
      "current batch accuracy is: 81.25%\n",
      "tf.Tensor(7.0, shape=(), dtype=float32) 16\n",
      "current batch accuracy is: 43.75%\n"
     ]
    },
    {
     "name": "stderr",
     "output_type": "stream",
     "text": [
      "  5%|████▎                                                                           | 167/3125 [00:11<03:20, 14.78it/s]"
     ]
    },
    {
     "name": "stdout",
     "output_type": "stream",
     "text": [
      "tf.Tensor(12.0, shape=(), dtype=float32) 16\n",
      "current batch accuracy is: 75.0%\n",
      "tf.Tensor(11.0, shape=(), dtype=float32) 16\n",
      "current batch accuracy is: 68.75%\n",
      "tf.Tensor(10.0, shape=(), dtype=float32) 16\n",
      "current batch accuracy is: 62.5%\n",
      "tf.Tensor(11.0, shape=(), dtype=float32) 16\n",
      "current batch accuracy is: 68.75%\n"
     ]
    },
    {
     "name": "stderr",
     "output_type": "stream",
     "text": [
      "\r",
      "  5%|████▎                                                                           | 169/3125 [00:12<03:22, 14.57it/s]"
     ]
    },
    {
     "name": "stdout",
     "output_type": "stream",
     "text": [
      "tf.Tensor(11.0, shape=(), dtype=float32) 16\n",
      "current batch accuracy is: 68.75%\n",
      "tf.Tensor(13.0, shape=(), dtype=float32) 16\n",
      "current batch accuracy is: 81.25%\n",
      "tf.Tensor(11.0, shape=(), dtype=float32) 16\n",
      "current batch accuracy is: 68.75%\n"
     ]
    },
    {
     "name": "stderr",
     "output_type": "stream",
     "text": [
      "  6%|████▍                                                                           | 173/3125 [00:12<03:36, 13.63it/s]"
     ]
    },
    {
     "name": "stdout",
     "output_type": "stream",
     "text": [
      "tf.Tensor(8.0, shape=(), dtype=float32) 16\n",
      "current batch accuracy is: 50.0%\n",
      "tf.Tensor(8.0, shape=(), dtype=float32) 16\n",
      "current batch accuracy is: 50.0%\n",
      "tf.Tensor(11.0, shape=(), dtype=float32) 16\n",
      "current batch accuracy is: 68.75%\n"
     ]
    },
    {
     "name": "stderr",
     "output_type": "stream",
     "text": [
      "  6%|████▌                                                                           | 177/3125 [00:12<03:22, 14.53it/s]"
     ]
    },
    {
     "name": "stdout",
     "output_type": "stream",
     "text": [
      "tf.Tensor(11.0, shape=(), dtype=float32) 16\n",
      "current batch accuracy is: 68.75%\n",
      "tf.Tensor(10.0, shape=(), dtype=float32) 16\n",
      "current batch accuracy is: 62.5%\n",
      "tf.Tensor(14.0, shape=(), dtype=float32) 16\n",
      "current batch accuracy is: 87.5%\n",
      "tf.Tensor(8.0, shape=(), dtype=float32) 16\n",
      "current batch accuracy is: 50.0%\n"
     ]
    },
    {
     "name": "stderr",
     "output_type": "stream",
     "text": [
      "\r",
      "  6%|████▌                                                                           | 179/3125 [00:12<03:50, 12.80it/s]"
     ]
    },
    {
     "name": "stdout",
     "output_type": "stream",
     "text": [
      "tf.Tensor(13.0, shape=(), dtype=float32) 16\n",
      "current batch accuracy is: 81.25%\n",
      "tf.Tensor(11.0, shape=(), dtype=float32) 16\n",
      "current batch accuracy is: 68.75%\n",
      "tf.Tensor(10.0, shape=(), dtype=float32) 16\n",
      "current batch accuracy is: 62.5%\n"
     ]
    },
    {
     "name": "stderr",
     "output_type": "stream",
     "text": [
      "  6%|████▋                                                                           | 183/3125 [00:13<03:39, 13.39it/s]"
     ]
    },
    {
     "name": "stdout",
     "output_type": "stream",
     "text": [
      "tf.Tensor(14.0, shape=(), dtype=float32) 16\n",
      "current batch accuracy is: 87.5%\n",
      "tf.Tensor(7.0, shape=(), dtype=float32) 16\n",
      "current batch accuracy is: 43.75%\n",
      "tf.Tensor(10.0, shape=(), dtype=float32) 16\n",
      "current batch accuracy is: 62.5%\n"
     ]
    },
    {
     "name": "stderr",
     "output_type": "stream",
     "text": [
      "\r",
      "  6%|████▋                                                                           | 185/3125 [00:13<03:39, 13.40it/s]"
     ]
    },
    {
     "name": "stdout",
     "output_type": "stream",
     "text": [
      "tf.Tensor(11.0, shape=(), dtype=float32) 16\n",
      "current batch accuracy is: 68.75%\n",
      "tf.Tensor(12.0, shape=(), dtype=float32) 16\n",
      "current batch accuracy is: 75.0%\n",
      "tf.Tensor(13.0, shape=(), dtype=float32) 16\n",
      "current batch accuracy is: 81.25%\n"
     ]
    },
    {
     "name": "stderr",
     "output_type": "stream",
     "text": [
      "  6%|████▊                                                                           | 189/3125 [00:13<03:28, 14.10it/s]"
     ]
    },
    {
     "name": "stdout",
     "output_type": "stream",
     "text": [
      "tf.Tensor(11.0, shape=(), dtype=float32) 16\n",
      "current batch accuracy is: 68.75%\n",
      "tf.Tensor(10.0, shape=(), dtype=float32) 16\n",
      "current batch accuracy is: 62.5%\n",
      "tf.Tensor(12.0, shape=(), dtype=float32) 16\n",
      "current batch accuracy is: 75.0%\n",
      "tf.Tensor(12.0, shape=(), dtype=float32) 16\n",
      "current batch accuracy is: 75.0%\n"
     ]
    },
    {
     "name": "stderr",
     "output_type": "stream",
     "text": [
      "  6%|████▉                                                                           | 193/3125 [00:13<03:32, 13.83it/s]"
     ]
    },
    {
     "name": "stdout",
     "output_type": "stream",
     "text": [
      "tf.Tensor(11.0, shape=(), dtype=float32) 16\n",
      "current batch accuracy is: 68.75%\n",
      "tf.Tensor(13.0, shape=(), dtype=float32) 16\n",
      "current batch accuracy is: 81.25%\n",
      "tf.Tensor(13.0, shape=(), dtype=float32) 16\n",
      "current batch accuracy is: 81.25%\n"
     ]
    },
    {
     "name": "stderr",
     "output_type": "stream",
     "text": [
      "\r",
      "  6%|████▉                                                                           | 195/3125 [00:13<03:30, 13.91it/s]"
     ]
    },
    {
     "name": "stdout",
     "output_type": "stream",
     "text": [
      "tf.Tensor(13.0, shape=(), dtype=float32) 16\n",
      "current batch accuracy is: 81.25%\n",
      "tf.Tensor(14.0, shape=(), dtype=float32) 16\n",
      "current batch accuracy is: 87.5%\n",
      "tf.Tensor(12.0, shape=(), dtype=float32) 16\n",
      "current batch accuracy is: 75.0%\n"
     ]
    },
    {
     "name": "stderr",
     "output_type": "stream",
     "text": [
      "  6%|█████                                                                           | 199/3125 [00:14<03:30, 13.89it/s]"
     ]
    },
    {
     "name": "stdout",
     "output_type": "stream",
     "text": [
      "tf.Tensor(11.0, shape=(), dtype=float32) 16\n",
      "current batch accuracy is: 68.75%\n",
      "tf.Tensor(10.0, shape=(), dtype=float32) 16\n",
      "current batch accuracy is: 62.5%\n",
      "tf.Tensor(11.0, shape=(), dtype=float32) 16\n",
      "current batch accuracy is: 68.75%\n"
     ]
    },
    {
     "name": "stderr",
     "output_type": "stream",
     "text": [
      "  6%|█████▏                                                                          | 203/3125 [00:14<03:20, 14.56it/s]"
     ]
    },
    {
     "name": "stdout",
     "output_type": "stream",
     "text": [
      "tf.Tensor(8.0, shape=(), dtype=float32) 16\n",
      "current batch accuracy is: 50.0%\n",
      "tf.Tensor(10.0, shape=(), dtype=float32) 16\n",
      "current batch accuracy is: 62.5%\n",
      "tf.Tensor(12.0, shape=(), dtype=float32) 16\n",
      "current batch accuracy is: 75.0%\n",
      "tf.Tensor(11.0, shape=(), dtype=float32) 16\n",
      "current batch accuracy is: 68.75%\n"
     ]
    },
    {
     "name": "stderr",
     "output_type": "stream",
     "text": [
      "  7%|█████▎                                                                          | 207/3125 [00:14<03:13, 15.05it/s]"
     ]
    },
    {
     "name": "stdout",
     "output_type": "stream",
     "text": [
      "tf.Tensor(12.0, shape=(), dtype=float32) 16\n",
      "current batch accuracy is: 75.0%\n",
      "tf.Tensor(12.0, shape=(), dtype=float32) 16\n",
      "current batch accuracy is: 75.0%\n",
      "tf.Tensor(10.0, shape=(), dtype=float32) 16\n",
      "current batch accuracy is: 62.5%\n",
      "tf.Tensor(13.0, shape=(), dtype=float32) 16\n",
      "current batch accuracy is: 81.25%\n"
     ]
    },
    {
     "name": "stderr",
     "output_type": "stream",
     "text": [
      "  7%|█████▍                                                                          | 211/3125 [00:15<03:21, 14.49it/s]"
     ]
    },
    {
     "name": "stdout",
     "output_type": "stream",
     "text": [
      "tf.Tensor(13.0, shape=(), dtype=float32) 16\n",
      "current batch accuracy is: 81.25%\n",
      "tf.Tensor(11.0, shape=(), dtype=float32) 16\n",
      "current batch accuracy is: 68.75%\n",
      "tf.Tensor(12.0, shape=(), dtype=float32) 16\n",
      "current batch accuracy is: 75.0%\n",
      "tf.Tensor(14.0, shape=(), dtype=float32) 16\n",
      "current batch accuracy is: 87.5%\n"
     ]
    },
    {
     "name": "stderr",
     "output_type": "stream",
     "text": [
      "  7%|█████▌                                                                          | 215/3125 [00:15<03:13, 15.07it/s]"
     ]
    },
    {
     "name": "stdout",
     "output_type": "stream",
     "text": [
      "tf.Tensor(9.0, shape=(), dtype=float32) 16\n",
      "current batch accuracy is: 56.25%\n",
      "tf.Tensor(12.0, shape=(), dtype=float32) 16\n",
      "current batch accuracy is: 75.0%\n",
      "tf.Tensor(12.0, shape=(), dtype=float32) 16\n",
      "current batch accuracy is: 75.0%\n",
      "tf.Tensor(9.0, shape=(), dtype=float32) 16\n",
      "current batch accuracy is: 56.25%\n"
     ]
    },
    {
     "name": "stderr",
     "output_type": "stream",
     "text": [
      "  7%|█████▌                                                                          | 219/3125 [00:15<03:12, 15.07it/s]"
     ]
    },
    {
     "name": "stdout",
     "output_type": "stream",
     "text": [
      "tf.Tensor(9.0, shape=(), dtype=float32) 16\n",
      "current batch accuracy is: 56.25%\n",
      "tf.Tensor(12.0, shape=(), dtype=float32) 16\n",
      "current batch accuracy is: 75.0%\n",
      "tf.Tensor(14.0, shape=(), dtype=float32) 16\n",
      "current batch accuracy is: 87.5%\n",
      "tf.Tensor(14.0, shape=(), dtype=float32) 16\n",
      "current batch accuracy is: 87.5%\n"
     ]
    },
    {
     "name": "stderr",
     "output_type": "stream",
     "text": [
      "  7%|█████▋                                                                          | 223/3125 [00:15<03:17, 14.70it/s]"
     ]
    },
    {
     "name": "stdout",
     "output_type": "stream",
     "text": [
      "tf.Tensor(9.0, shape=(), dtype=float32) 16\n",
      "current batch accuracy is: 56.25%\n",
      "tf.Tensor(12.0, shape=(), dtype=float32) 16\n",
      "current batch accuracy is: 75.0%\n",
      "tf.Tensor(10.0, shape=(), dtype=float32) 16\n",
      "current batch accuracy is: 62.5%\n",
      "tf.Tensor(11.0, shape=(), dtype=float32) 16\n",
      "current batch accuracy is: 68.75%\n"
     ]
    },
    {
     "name": "stderr",
     "output_type": "stream",
     "text": [
      "\r",
      "  7%|█████▊                                                                          | 225/3125 [00:15<03:13, 14.99it/s]"
     ]
    },
    {
     "name": "stdout",
     "output_type": "stream",
     "text": [
      "tf.Tensor(13.0, shape=(), dtype=float32) 16\n",
      "current batch accuracy is: 81.25%\n",
      "tf.Tensor(9.0, shape=(), dtype=float32) 16\n",
      "current batch accuracy is: 56.25%\n"
     ]
    },
    {
     "name": "stderr",
     "output_type": "stream",
     "text": [
      "  7%|█████▊                                                                          | 229/3125 [00:16<03:31, 13.71it/s]"
     ]
    },
    {
     "name": "stdout",
     "output_type": "stream",
     "text": [
      "tf.Tensor(10.0, shape=(), dtype=float32) 16\n",
      "current batch accuracy is: 62.5%\n",
      "tf.Tensor(11.0, shape=(), dtype=float32) 16\n",
      "current batch accuracy is: 68.75%\n",
      "tf.Tensor(13.0, shape=(), dtype=float32) 16\n",
      "current batch accuracy is: 81.25%\n",
      "tf.Tensor(12.0, shape=(), dtype=float32) 16\n",
      "current batch accuracy is: 75.0%\n"
     ]
    },
    {
     "name": "stderr",
     "output_type": "stream",
     "text": [
      "\r",
      "  7%|█████▉                                                                          | 231/3125 [00:16<03:26, 13.99it/s]"
     ]
    },
    {
     "name": "stdout",
     "output_type": "stream",
     "text": [
      "tf.Tensor(12.0, shape=(), dtype=float32) 16\n",
      "current batch accuracy is: 75.0%\n",
      "tf.Tensor(11.0, shape=(), dtype=float32) 16\n",
      "current batch accuracy is: 68.75%\n",
      "tf.Tensor(13.0, shape=(), dtype=float32) 16\n",
      "current batch accuracy is: 81.25%\n"
     ]
    },
    {
     "name": "stderr",
     "output_type": "stream",
     "text": [
      "\r",
      "  7%|█████▉                                                                          | 233/3125 [00:16<03:49, 12.62it/s]"
     ]
    },
    {
     "name": "stdout",
     "output_type": "stream",
     "text": [
      "tf.Tensor(8.0, shape=(), dtype=float32) 16\n",
      "current batch accuracy is: 50.0%\n",
      "tf.Tensor(11.0, shape=(), dtype=float32) 16\n",
      "current batch accuracy is: 68.75%\n"
     ]
    },
    {
     "name": "stderr",
     "output_type": "stream",
     "text": [
      "  8%|██████                                                                          | 237/3125 [00:16<04:06, 11.73it/s]"
     ]
    },
    {
     "name": "stdout",
     "output_type": "stream",
     "text": [
      "tf.Tensor(14.0, shape=(), dtype=float32) 16\n",
      "current batch accuracy is: 87.5%\n",
      "tf.Tensor(10.0, shape=(), dtype=float32) 16\n",
      "current batch accuracy is: 62.5%\n",
      "tf.Tensor(10.0, shape=(), dtype=float32) 16\n",
      "current batch accuracy is: 62.5%\n"
     ]
    },
    {
     "name": "stderr",
     "output_type": "stream",
     "text": [
      "\r",
      "  8%|██████                                                                          | 239/3125 [00:17<03:56, 12.20it/s]"
     ]
    },
    {
     "name": "stdout",
     "output_type": "stream",
     "text": [
      "tf.Tensor(9.0, shape=(), dtype=float32) 16\n",
      "current batch accuracy is: 56.25%\n",
      "tf.Tensor(9.0, shape=(), dtype=float32) 16\n",
      "current batch accuracy is: 56.25%\n",
      "tf.Tensor(10.0, shape=(), dtype=float32) 16\n",
      "current batch accuracy is: 62.5%\n"
     ]
    },
    {
     "name": "stderr",
     "output_type": "stream",
     "text": [
      "  8%|██████▏                                                                         | 243/3125 [00:17<03:39, 13.13it/s]"
     ]
    },
    {
     "name": "stdout",
     "output_type": "stream",
     "text": [
      "tf.Tensor(11.0, shape=(), dtype=float32) 16\n",
      "current batch accuracy is: 68.75%\n",
      "tf.Tensor(13.0, shape=(), dtype=float32) 16\n",
      "current batch accuracy is: 81.25%\n",
      "tf.Tensor(14.0, shape=(), dtype=float32) 16\n",
      "current batch accuracy is: 87.5%\n",
      "tf.Tensor(11.0, shape=(), dtype=float32) 16\n",
      "current batch accuracy is: 68.75%\n"
     ]
    },
    {
     "name": "stderr",
     "output_type": "stream",
     "text": [
      "  8%|██████▎                                                                         | 247/3125 [00:17<03:37, 13.26it/s]"
     ]
    },
    {
     "name": "stdout",
     "output_type": "stream",
     "text": [
      "tf.Tensor(11.0, shape=(), dtype=float32) 16\n",
      "current batch accuracy is: 68.75%\n",
      "tf.Tensor(8.0, shape=(), dtype=float32) 16\n",
      "current batch accuracy is: 50.0%\n",
      "tf.Tensor(16.0, shape=(), dtype=float32) 16\n",
      "current batch accuracy is: 100.0%\n"
     ]
    },
    {
     "name": "stderr",
     "output_type": "stream",
     "text": [
      "\r",
      "  8%|██████▎                                                                         | 249/3125 [00:17<03:33, 13.46it/s]"
     ]
    },
    {
     "name": "stdout",
     "output_type": "stream",
     "text": [
      "tf.Tensor(11.0, shape=(), dtype=float32) 16\n",
      "current batch accuracy is: 68.75%\n",
      "tf.Tensor(9.0, shape=(), dtype=float32) 16\n",
      "current batch accuracy is: 56.25%\n",
      "tf.Tensor(10.0, shape=(), dtype=float32) 16\n",
      "current batch accuracy is: 62.5%\n"
     ]
    },
    {
     "name": "stderr",
     "output_type": "stream",
     "text": [
      "  8%|██████▍                                                                         | 253/3125 [00:18<03:32, 13.52it/s]"
     ]
    },
    {
     "name": "stdout",
     "output_type": "stream",
     "text": [
      "tf.Tensor(14.0, shape=(), dtype=float32) 16\n",
      "current batch accuracy is: 87.5%\n",
      "tf.Tensor(13.0, shape=(), dtype=float32) 16\n",
      "current batch accuracy is: 81.25%\n",
      "tf.Tensor(7.0, shape=(), dtype=float32) 16\n",
      "current batch accuracy is: 43.75%\n"
     ]
    },
    {
     "name": "stderr",
     "output_type": "stream",
     "text": [
      "\r",
      "  8%|██████▌                                                                         | 255/3125 [00:18<03:36, 13.29it/s]"
     ]
    },
    {
     "name": "stdout",
     "output_type": "stream",
     "text": [
      "tf.Tensor(11.0, shape=(), dtype=float32) 16\n",
      "current batch accuracy is: 68.75%\n",
      "tf.Tensor(9.0, shape=(), dtype=float32) 16\n",
      "current batch accuracy is: 56.25%\n",
      "tf.Tensor(13.0, shape=(), dtype=float32) 16\n",
      "current batch accuracy is: 81.25%\n"
     ]
    },
    {
     "name": "stderr",
     "output_type": "stream",
     "text": [
      "  8%|██████▋                                                                         | 259/3125 [00:18<03:25, 13.94it/s]"
     ]
    },
    {
     "name": "stdout",
     "output_type": "stream",
     "text": [
      "tf.Tensor(13.0, shape=(), dtype=float32) 16\n",
      "current batch accuracy is: 81.25%\n",
      "tf.Tensor(14.0, shape=(), dtype=float32) 16\n",
      "current batch accuracy is: 87.5%\n",
      "tf.Tensor(10.0, shape=(), dtype=float32) 16\n",
      "current batch accuracy is: 62.5%\n"
     ]
    },
    {
     "name": "stderr",
     "output_type": "stream",
     "text": [
      "\r",
      "  8%|██████▋                                                                         | 261/3125 [00:18<03:24, 14.00it/s]"
     ]
    },
    {
     "name": "stdout",
     "output_type": "stream",
     "text": [
      "tf.Tensor(6.0, shape=(), dtype=float32) 16\n",
      "current batch accuracy is: 37.5%\n",
      "tf.Tensor(11.0, shape=(), dtype=float32) 16\n",
      "current batch accuracy is: 68.75%\n",
      "tf.Tensor(11.0, shape=(), dtype=float32) 16\n",
      "current batch accuracy is: 68.75%\n"
     ]
    },
    {
     "name": "stderr",
     "output_type": "stream",
     "text": [
      "  8%|██████▊                                                                         | 265/3125 [00:18<03:14, 14.69it/s]"
     ]
    },
    {
     "name": "stdout",
     "output_type": "stream",
     "text": [
      "tf.Tensor(11.0, shape=(), dtype=float32) 16\n",
      "current batch accuracy is: 68.75%\n",
      "tf.Tensor(13.0, shape=(), dtype=float32) 16\n",
      "current batch accuracy is: 81.25%\n",
      "tf.Tensor(10.0, shape=(), dtype=float32) 16\n",
      "current batch accuracy is: 62.5%\n",
      "tf.Tensor(9.0, shape=(), dtype=float32) 16\n",
      "current batch accuracy is: 56.25%\n"
     ]
    },
    {
     "name": "stderr",
     "output_type": "stream",
     "text": [
      "  9%|██████▉                                                                         | 269/3125 [00:19<03:21, 14.19it/s]"
     ]
    },
    {
     "name": "stdout",
     "output_type": "stream",
     "text": [
      "tf.Tensor(13.0, shape=(), dtype=float32) 16\n",
      "current batch accuracy is: 81.25%\n",
      "tf.Tensor(10.0, shape=(), dtype=float32) 16\n",
      "current batch accuracy is: 62.5%\n",
      "tf.Tensor(11.0, shape=(), dtype=float32) 16\n",
      "current batch accuracy is: 68.75%\n"
     ]
    },
    {
     "name": "stderr",
     "output_type": "stream",
     "text": [
      "\r",
      "  9%|██████▉                                                                         | 271/3125 [00:19<03:23, 14.06it/s]"
     ]
    },
    {
     "name": "stdout",
     "output_type": "stream",
     "text": [
      "tf.Tensor(12.0, shape=(), dtype=float32) 16\n",
      "current batch accuracy is: 75.0%\n",
      "tf.Tensor(12.0, shape=(), dtype=float32) 16\n",
      "current batch accuracy is: 75.0%\n",
      "tf.Tensor(8.0, shape=(), dtype=float32) 16\n",
      "current batch accuracy is: 50.0%\n"
     ]
    },
    {
     "name": "stderr",
     "output_type": "stream",
     "text": [
      "  9%|███████                                                                         | 275/3125 [00:19<03:20, 14.23it/s]"
     ]
    },
    {
     "name": "stdout",
     "output_type": "stream",
     "text": [
      "tf.Tensor(11.0, shape=(), dtype=float32) 16\n",
      "current batch accuracy is: 68.75%\n",
      "tf.Tensor(10.0, shape=(), dtype=float32) 16\n",
      "current batch accuracy is: 62.5%\n",
      "tf.Tensor(14.0, shape=(), dtype=float32) 16\n",
      "current batch accuracy is: 87.5%\n"
     ]
    },
    {
     "name": "stderr",
     "output_type": "stream",
     "text": [
      "\r",
      "  9%|███████                                                                         | 277/3125 [00:19<03:20, 14.23it/s]"
     ]
    },
    {
     "name": "stdout",
     "output_type": "stream",
     "text": [
      "tf.Tensor(11.0, shape=(), dtype=float32) 16\n",
      "current batch accuracy is: 68.75%\n",
      "tf.Tensor(12.0, shape=(), dtype=float32) 16\n",
      "current batch accuracy is: 75.0%\n",
      "tf.Tensor(12.0, shape=(), dtype=float32) 16\n",
      "current batch accuracy is: 75.0%\n"
     ]
    },
    {
     "name": "stderr",
     "output_type": "stream",
     "text": [
      "  9%|███████▏                                                                        | 281/3125 [00:20<03:29, 13.55it/s]"
     ]
    },
    {
     "name": "stdout",
     "output_type": "stream",
     "text": [
      "tf.Tensor(14.0, shape=(), dtype=float32) 16\n",
      "current batch accuracy is: 87.5%\n",
      "tf.Tensor(13.0, shape=(), dtype=float32) 16\n",
      "current batch accuracy is: 81.25%\n",
      "tf.Tensor(14.0, shape=(), dtype=float32) 16\n",
      "current batch accuracy is: 87.5%\n"
     ]
    },
    {
     "name": "stderr",
     "output_type": "stream",
     "text": [
      "\r",
      "  9%|███████▏                                                                        | 283/3125 [00:20<03:39, 12.98it/s]"
     ]
    },
    {
     "name": "stdout",
     "output_type": "stream",
     "text": [
      "tf.Tensor(8.0, shape=(), dtype=float32) 16\n",
      "current batch accuracy is: 50.0%\n",
      "tf.Tensor(10.0, shape=(), dtype=float32) 16\n",
      "current batch accuracy is: 62.5%\n",
      "tf.Tensor(6.0, shape=(), dtype=float32) 16\n",
      "current batch accuracy is: 37.5%\n"
     ]
    },
    {
     "name": "stderr",
     "output_type": "stream",
     "text": [
      "  9%|███████▎                                                                        | 287/3125 [00:20<03:22, 14.04it/s]"
     ]
    },
    {
     "name": "stdout",
     "output_type": "stream",
     "text": [
      "tf.Tensor(12.0, shape=(), dtype=float32) 16\n",
      "current batch accuracy is: 75.0%\n",
      "tf.Tensor(8.0, shape=(), dtype=float32) 16\n",
      "current batch accuracy is: 50.0%\n",
      "tf.Tensor(11.0, shape=(), dtype=float32) 16\n",
      "current batch accuracy is: 68.75%\n"
     ]
    },
    {
     "name": "stderr",
     "output_type": "stream",
     "text": [
      "\r",
      "  9%|███████▍                                                                        | 289/3125 [00:20<03:43, 12.67it/s]"
     ]
    },
    {
     "name": "stdout",
     "output_type": "stream",
     "text": [
      "tf.Tensor(14.0, shape=(), dtype=float32) 16\n",
      "current batch accuracy is: 87.5%\n",
      "tf.Tensor(12.0, shape=(), dtype=float32) 16\n",
      "current batch accuracy is: 75.0%\n",
      "tf.Tensor(8.0, shape=(), dtype=float32) 16\n",
      "current batch accuracy is: 50.0%\n"
     ]
    },
    {
     "name": "stderr",
     "output_type": "stream",
     "text": [
      "  9%|███████▌                                                                        | 293/3125 [00:21<03:24, 13.83it/s]"
     ]
    },
    {
     "name": "stdout",
     "output_type": "stream",
     "text": [
      "tf.Tensor(12.0, shape=(), dtype=float32) 16\n",
      "current batch accuracy is: 75.0%\n",
      "tf.Tensor(9.0, shape=(), dtype=float32) 16\n",
      "current batch accuracy is: 56.25%\n",
      "tf.Tensor(9.0, shape=(), dtype=float32) 16\n",
      "current batch accuracy is: 56.25%\n",
      "tf.Tensor(6.0, shape=(), dtype=float32) 16\n",
      "current batch accuracy is: 37.5%\n"
     ]
    },
    {
     "name": "stderr",
     "output_type": "stream",
     "text": [
      " 10%|███████▌                                                                        | 297/3125 [00:21<03:31, 13.34it/s]"
     ]
    },
    {
     "name": "stdout",
     "output_type": "stream",
     "text": [
      "tf.Tensor(14.0, shape=(), dtype=float32) 16\n",
      "current batch accuracy is: 87.5%\n",
      "tf.Tensor(9.0, shape=(), dtype=float32) 16\n",
      "current batch accuracy is: 56.25%\n",
      "tf.Tensor(9.0, shape=(), dtype=float32) 16\n",
      "current batch accuracy is: 56.25%\n"
     ]
    },
    {
     "name": "stderr",
     "output_type": "stream",
     "text": [
      " 10%|███████▋                                                                        | 301/3125 [00:21<03:19, 14.13it/s]"
     ]
    },
    {
     "name": "stdout",
     "output_type": "stream",
     "text": [
      "tf.Tensor(12.0, shape=(), dtype=float32) 16\n",
      "current batch accuracy is: 75.0%\n",
      "tf.Tensor(14.0, shape=(), dtype=float32) 16\n",
      "current batch accuracy is: 87.5%\n",
      "tf.Tensor(13.0, shape=(), dtype=float32) 16\n",
      "current batch accuracy is: 81.25%\n",
      "tf.Tensor(11.0, shape=(), dtype=float32) 16\n",
      "current batch accuracy is: 68.75%\n"
     ]
    },
    {
     "name": "stderr",
     "output_type": "stream",
     "text": [
      " 10%|███████▊                                                                        | 305/3125 [00:21<03:08, 14.96it/s]"
     ]
    },
    {
     "name": "stdout",
     "output_type": "stream",
     "text": [
      "tf.Tensor(11.0, shape=(), dtype=float32) 16\n",
      "current batch accuracy is: 68.75%\n",
      "tf.Tensor(11.0, shape=(), dtype=float32) 16\n",
      "current batch accuracy is: 68.75%\n",
      "tf.Tensor(14.0, shape=(), dtype=float32) 16\n",
      "current batch accuracy is: 87.5%\n",
      "tf.Tensor(9.0, shape=(), dtype=float32) 16\n",
      "current batch accuracy is: 56.25%\n"
     ]
    },
    {
     "name": "stderr",
     "output_type": "stream",
     "text": [
      "\r",
      " 10%|███████▊                                                                        | 307/3125 [00:21<03:06, 15.14it/s]"
     ]
    },
    {
     "name": "stdout",
     "output_type": "stream",
     "text": [
      "tf.Tensor(12.0, shape=(), dtype=float32) 16\n",
      "current batch accuracy is: 75.0%\n",
      "tf.Tensor(12.0, shape=(), dtype=float32) 16\n",
      "current batch accuracy is: 75.0%\n",
      "tf.Tensor(16.0, shape=(), dtype=float32) 16\n",
      "current batch accuracy is: 100.0%\n"
     ]
    },
    {
     "name": "stderr",
     "output_type": "stream",
     "text": [
      " 10%|███████▉                                                                        | 311/3125 [00:22<03:06, 15.05it/s]"
     ]
    },
    {
     "name": "stdout",
     "output_type": "stream",
     "text": [
      "tf.Tensor(11.0, shape=(), dtype=float32) 16\n",
      "current batch accuracy is: 68.75%\n",
      "tf.Tensor(11.0, shape=(), dtype=float32) 16\n",
      "current batch accuracy is: 68.75%\n",
      "tf.Tensor(12.0, shape=(), dtype=float32) 16\n",
      "current batch accuracy is: 75.0%\n",
      "tf.Tensor(10.0, shape=(), dtype=float32) 16\n",
      "current batch accuracy is: 62.5%\n"
     ]
    },
    {
     "name": "stderr",
     "output_type": "stream",
     "text": [
      " 10%|████████                                                                        | 315/3125 [00:22<03:08, 14.94it/s]"
     ]
    },
    {
     "name": "stdout",
     "output_type": "stream",
     "text": [
      "tf.Tensor(8.0, shape=(), dtype=float32) 16\n",
      "current batch accuracy is: 50.0%\n",
      "tf.Tensor(13.0, shape=(), dtype=float32) 16\n",
      "current batch accuracy is: 81.25%\n",
      "tf.Tensor(13.0, shape=(), dtype=float32) 16\n",
      "current batch accuracy is: 81.25%\n"
     ]
    },
    {
     "name": "stderr",
     "output_type": "stream",
     "text": [
      " 10%|████████▏                                                                       | 319/3125 [00:22<03:06, 15.05it/s]"
     ]
    },
    {
     "name": "stdout",
     "output_type": "stream",
     "text": [
      "tf.Tensor(12.0, shape=(), dtype=float32) 16\n",
      "current batch accuracy is: 75.0%\n",
      "tf.Tensor(10.0, shape=(), dtype=float32) 16\n",
      "current batch accuracy is: 62.5%\n",
      "tf.Tensor(11.0, shape=(), dtype=float32) 16\n",
      "current batch accuracy is: 68.75%\n",
      "tf.Tensor(11.0, shape=(), dtype=float32) 16\n",
      "current batch accuracy is: 68.75%\n"
     ]
    },
    {
     "name": "stderr",
     "output_type": "stream",
     "text": [
      "\r",
      " 10%|████████▏                                                                       | 321/3125 [00:22<03:05, 15.13it/s]"
     ]
    },
    {
     "name": "stdout",
     "output_type": "stream",
     "text": [
      "tf.Tensor(13.0, shape=(), dtype=float32) 16\n",
      "current batch accuracy is: 81.25%\n",
      "tf.Tensor(12.0, shape=(), dtype=float32) 16\n",
      "current batch accuracy is: 75.0%\n",
      "tf.Tensor(10.0, shape=(), dtype=float32) 16\n",
      "current batch accuracy is: 62.5%\n"
     ]
    },
    {
     "name": "stderr",
     "output_type": "stream",
     "text": [
      " 10%|████████▎                                                                       | 325/3125 [00:23<03:10, 14.73it/s]"
     ]
    },
    {
     "name": "stdout",
     "output_type": "stream",
     "text": [
      "tf.Tensor(10.0, shape=(), dtype=float32) 16\n",
      "current batch accuracy is: 62.5%\n",
      "tf.Tensor(12.0, shape=(), dtype=float32) 16\n",
      "current batch accuracy is: 75.0%\n",
      "tf.Tensor(11.0, shape=(), dtype=float32) 16\n",
      "current batch accuracy is: 68.75%\n"
     ]
    },
    {
     "name": "stderr",
     "output_type": "stream",
     "text": [
      " 11%|████████▍                                                                       | 329/3125 [00:23<03:01, 15.41it/s]"
     ]
    },
    {
     "name": "stdout",
     "output_type": "stream",
     "text": [
      "tf.Tensor(11.0, shape=(), dtype=float32) 16\n",
      "current batch accuracy is: 68.75%\n",
      "tf.Tensor(8.0, shape=(), dtype=float32) 16\n",
      "current batch accuracy is: 50.0%\n",
      "tf.Tensor(12.0, shape=(), dtype=float32) 16\n",
      "current batch accuracy is: 75.0%\n",
      "tf.Tensor(10.0, shape=(), dtype=float32) 16\n",
      "current batch accuracy is: 62.5%\n"
     ]
    },
    {
     "name": "stderr",
     "output_type": "stream",
     "text": [
      "\r",
      " 11%|████████▍                                                                       | 331/3125 [00:23<03:02, 15.35it/s]"
     ]
    },
    {
     "name": "stdout",
     "output_type": "stream",
     "text": [
      "tf.Tensor(11.0, shape=(), dtype=float32) 16\n",
      "current batch accuracy is: 68.75%\n",
      "tf.Tensor(11.0, shape=(), dtype=float32) 16\n",
      "current batch accuracy is: 68.75%\n",
      "tf.Tensor(8.0, shape=(), dtype=float32) 16\n",
      "current batch accuracy is: 50.0%\n"
     ]
    },
    {
     "name": "stderr",
     "output_type": "stream",
     "text": [
      " 11%|████████▌                                                                       | 335/3125 [00:23<03:15, 14.24it/s]"
     ]
    },
    {
     "name": "stdout",
     "output_type": "stream",
     "text": [
      "tf.Tensor(11.0, shape=(), dtype=float32) 16\n",
      "current batch accuracy is: 68.75%\n",
      "tf.Tensor(12.0, shape=(), dtype=float32) 16\n",
      "current batch accuracy is: 75.0%\n",
      "tf.Tensor(13.0, shape=(), dtype=float32) 16\n",
      "current batch accuracy is: 81.25%\n"
     ]
    },
    {
     "name": "stderr",
     "output_type": "stream",
     "text": [
      " 11%|████████▋                                                                       | 339/3125 [00:24<03:08, 14.75it/s]"
     ]
    },
    {
     "name": "stdout",
     "output_type": "stream",
     "text": [
      "tf.Tensor(9.0, shape=(), dtype=float32) 16\n",
      "current batch accuracy is: 56.25%\n",
      "tf.Tensor(12.0, shape=(), dtype=float32) 16\n",
      "current batch accuracy is: 75.0%\n",
      "tf.Tensor(9.0, shape=(), dtype=float32) 16\n",
      "current batch accuracy is: 56.25%\n",
      "tf.Tensor(11.0, shape=(), dtype=float32) 16\n",
      "current batch accuracy is: 68.75%\n"
     ]
    },
    {
     "name": "stderr",
     "output_type": "stream",
     "text": [
      " 11%|████████▊                                                                       | 343/3125 [00:24<03:02, 15.28it/s]"
     ]
    },
    {
     "name": "stdout",
     "output_type": "stream",
     "text": [
      "tf.Tensor(9.0, shape=(), dtype=float32) 16\n",
      "current batch accuracy is: 56.25%\n",
      "tf.Tensor(11.0, shape=(), dtype=float32) 16\n",
      "current batch accuracy is: 68.75%\n",
      "tf.Tensor(11.0, shape=(), dtype=float32) 16\n",
      "current batch accuracy is: 68.75%\n",
      "tf.Tensor(9.0, shape=(), dtype=float32) 16\n",
      "current batch accuracy is: 56.25%\n"
     ]
    },
    {
     "name": "stderr",
     "output_type": "stream",
     "text": [
      "\r",
      " 11%|████████▊                                                                       | 345/3125 [00:24<03:17, 14.09it/s]"
     ]
    },
    {
     "name": "stdout",
     "output_type": "stream",
     "text": [
      "tf.Tensor(11.0, shape=(), dtype=float32) 16\n",
      "current batch accuracy is: 68.75%\n",
      "tf.Tensor(11.0, shape=(), dtype=float32) 16\n",
      "current batch accuracy is: 68.75%\n",
      "tf.Tensor(11.0, shape=(), dtype=float32) 16\n",
      "current batch accuracy is: 68.75%\n"
     ]
    },
    {
     "name": "stderr",
     "output_type": "stream",
     "text": [
      " 11%|████████▉                                                                       | 349/3125 [00:24<03:31, 13.15it/s]"
     ]
    },
    {
     "name": "stdout",
     "output_type": "stream",
     "text": [
      "tf.Tensor(13.0, shape=(), dtype=float32) 16\n",
      "current batch accuracy is: 81.25%\n",
      "tf.Tensor(11.0, shape=(), dtype=float32) 16\n",
      "current batch accuracy is: 68.75%\n",
      "tf.Tensor(14.0, shape=(), dtype=float32) 16\n",
      "current batch accuracy is: 87.5%\n"
     ]
    },
    {
     "name": "stderr",
     "output_type": "stream",
     "text": [
      " 11%|█████████                                                                       | 353/3125 [00:25<03:13, 14.31it/s]"
     ]
    },
    {
     "name": "stdout",
     "output_type": "stream",
     "text": [
      "tf.Tensor(9.0, shape=(), dtype=float32) 16\n",
      "current batch accuracy is: 56.25%\n",
      "tf.Tensor(12.0, shape=(), dtype=float32) 16\n",
      "current batch accuracy is: 75.0%\n",
      "tf.Tensor(8.0, shape=(), dtype=float32) 16\n",
      "current batch accuracy is: 50.0%\n",
      "tf.Tensor(11.0, shape=(), dtype=float32) 16\n",
      "current batch accuracy is: 68.75%\n"
     ]
    },
    {
     "name": "stderr",
     "output_type": "stream",
     "text": [
      "\r",
      " 11%|█████████                                                                       | 355/3125 [00:25<03:19, 13.91it/s]"
     ]
    },
    {
     "name": "stdout",
     "output_type": "stream",
     "text": [
      "tf.Tensor(13.0, shape=(), dtype=float32) 16\n",
      "current batch accuracy is: 81.25%\n",
      "tf.Tensor(11.0, shape=(), dtype=float32) 16\n",
      "current batch accuracy is: 68.75%\n",
      "tf.Tensor(8.0, shape=(), dtype=float32) 16\n",
      "current batch accuracy is: 50.0%\n"
     ]
    },
    {
     "name": "stderr",
     "output_type": "stream",
     "text": [
      " 11%|█████████▏                                                                      | 359/3125 [00:25<03:09, 14.60it/s]"
     ]
    },
    {
     "name": "stdout",
     "output_type": "stream",
     "text": [
      "tf.Tensor(11.0, shape=(), dtype=float32) 16\n",
      "current batch accuracy is: 68.75%\n",
      "tf.Tensor(12.0, shape=(), dtype=float32) 16\n",
      "current batch accuracy is: 75.0%\n",
      "tf.Tensor(11.0, shape=(), dtype=float32) 16\n",
      "current batch accuracy is: 68.75%\n",
      "tf.Tensor(12.0, shape=(), dtype=float32) 16\n",
      "current batch accuracy is: 75.0%\n"
     ]
    },
    {
     "name": "stderr",
     "output_type": "stream",
     "text": [
      " 12%|█████████▎                                                                      | 363/3125 [00:25<03:13, 14.30it/s]"
     ]
    },
    {
     "name": "stdout",
     "output_type": "stream",
     "text": [
      "tf.Tensor(11.0, shape=(), dtype=float32) 16\n",
      "current batch accuracy is: 68.75%\n",
      "tf.Tensor(13.0, shape=(), dtype=float32) 16\n",
      "current batch accuracy is: 81.25%\n",
      "tf.Tensor(10.0, shape=(), dtype=float32) 16\n",
      "current batch accuracy is: 62.5%\n",
      "tf.Tensor(11.0, shape=(), dtype=float32) 16\n"
     ]
    },
    {
     "name": "stderr",
     "output_type": "stream",
     "text": [
      " 12%|█████████▍                                                                      | 367/3125 [00:26<03:01, 15.17it/s]"
     ]
    },
    {
     "name": "stdout",
     "output_type": "stream",
     "text": [
      "current batch accuracy is: 68.75%\n",
      "tf.Tensor(12.0, shape=(), dtype=float32) 16\n",
      "current batch accuracy is: 75.0%\n",
      "tf.Tensor(12.0, shape=(), dtype=float32) 16\n",
      "current batch accuracy is: 75.0%\n",
      "tf.Tensor(10.0, shape=(), dtype=float32) 16\n",
      "current batch accuracy is: 62.5%\n"
     ]
    },
    {
     "name": "stderr",
     "output_type": "stream",
     "text": [
      "\r",
      " 12%|█████████▍                                                                      | 369/3125 [00:26<03:03, 15.03it/s]"
     ]
    },
    {
     "name": "stdout",
     "output_type": "stream",
     "text": [
      "tf.Tensor(11.0, shape=(), dtype=float32) 16\n",
      "current batch accuracy is: 68.75%\n",
      "tf.Tensor(12.0, shape=(), dtype=float32) 16\n",
      "current batch accuracy is: 75.0%\n",
      "tf.Tensor(13.0, shape=(), dtype=float32) 16\n",
      "current batch accuracy is: 81.25%\n"
     ]
    },
    {
     "name": "stderr",
     "output_type": "stream",
     "text": [
      " 12%|█████████▌                                                                      | 373/3125 [00:26<03:07, 14.65it/s]"
     ]
    },
    {
     "name": "stdout",
     "output_type": "stream",
     "text": [
      "tf.Tensor(11.0, shape=(), dtype=float32) 16\n",
      "current batch accuracy is: 68.75%\n",
      "tf.Tensor(10.0, shape=(), dtype=float32) 16\n",
      "current batch accuracy is: 62.5%\n",
      "tf.Tensor(10.0, shape=(), dtype=float32) 16\n",
      "current batch accuracy is: 62.5%\n"
     ]
    },
    {
     "name": "stderr",
     "output_type": "stream",
     "text": [
      "\r",
      " 12%|█████████▌                                                                      | 375/3125 [00:26<03:13, 14.21it/s]"
     ]
    },
    {
     "name": "stdout",
     "output_type": "stream",
     "text": [
      "tf.Tensor(11.0, shape=(), dtype=float32) 16\n",
      "current batch accuracy is: 68.75%\n",
      "tf.Tensor(13.0, shape=(), dtype=float32) 16\n",
      "current batch accuracy is: 81.25%\n",
      "tf.Tensor(12.0, shape=(), dtype=float32) 16\n",
      "current batch accuracy is: 75.0%\n"
     ]
    },
    {
     "name": "stderr",
     "output_type": "stream",
     "text": [
      " 12%|█████████▋                                                                      | 379/3125 [00:26<03:11, 14.37it/s]"
     ]
    },
    {
     "name": "stdout",
     "output_type": "stream",
     "text": [
      "tf.Tensor(8.0, shape=(), dtype=float32) 16\n",
      "current batch accuracy is: 50.0%\n",
      "tf.Tensor(13.0, shape=(), dtype=float32) 16\n",
      "current batch accuracy is: 81.25%\n",
      "tf.Tensor(13.0, shape=(), dtype=float32) 16\n",
      "current batch accuracy is: 81.25%\n",
      "tf.Tensor(12.0, shape=(), dtype=float32) 16\n",
      "current batch accuracy is: 75.0%\n"
     ]
    },
    {
     "name": "stderr",
     "output_type": "stream",
     "text": [
      " 12%|█████████▊                                                                      | 383/3125 [00:27<03:09, 14.46it/s]"
     ]
    },
    {
     "name": "stdout",
     "output_type": "stream",
     "text": [
      "tf.Tensor(10.0, shape=(), dtype=float32) 16\n",
      "current batch accuracy is: 62.5%\n",
      "tf.Tensor(11.0, shape=(), dtype=float32) 16\n",
      "current batch accuracy is: 68.75%\n",
      "tf.Tensor(11.0, shape=(), dtype=float32) 16\n",
      "current batch accuracy is: 68.75%\n",
      "tf.Tensor(13.0, shape=(), dtype=float32) 16\n",
      "current batch accuracy is: 81.25%\n"
     ]
    },
    {
     "name": "stderr",
     "output_type": "stream",
     "text": [
      "\r",
      " 12%|█████████▊                                                                      | 385/3125 [00:27<03:04, 14.85it/s]"
     ]
    },
    {
     "name": "stdout",
     "output_type": "stream",
     "text": [
      "tf.Tensor(10.0, shape=(), dtype=float32) 16\n",
      "current batch accuracy is: 62.5%\n",
      "tf.Tensor(9.0, shape=(), dtype=float32) 16\n",
      "current batch accuracy is: 56.25%\n",
      "tf.Tensor(11.0, shape=(), dtype=float32) 16\n"
     ]
    },
    {
     "name": "stderr",
     "output_type": "stream",
     "text": [
      " 12%|█████████▉                                                                      | 389/3125 [00:27<03:22, 13.53it/s]"
     ]
    },
    {
     "name": "stdout",
     "output_type": "stream",
     "text": [
      "current batch accuracy is: 68.75%\n",
      "tf.Tensor(6.0, shape=(), dtype=float32) 16\n",
      "current batch accuracy is: 37.5%\n",
      "tf.Tensor(8.0, shape=(), dtype=float32) 16\n",
      "current batch accuracy is: 50.0%\n",
      "tf.Tensor(13.0, shape=(), dtype=float32) 16\n",
      "current batch accuracy is: 81.25%\n"
     ]
    },
    {
     "name": "stderr",
     "output_type": "stream",
     "text": [
      " 13%|██████████                                                                      | 393/3125 [00:27<03:20, 13.65it/s]"
     ]
    },
    {
     "name": "stdout",
     "output_type": "stream",
     "text": [
      "tf.Tensor(14.0, shape=(), dtype=float32) 16\n",
      "current batch accuracy is: 87.5%\n",
      "tf.Tensor(11.0, shape=(), dtype=float32) 16\n",
      "current batch accuracy is: 68.75%\n",
      "tf.Tensor(13.0, shape=(), dtype=float32) 16\n",
      "current batch accuracy is: 81.25%\n"
     ]
    },
    {
     "name": "stderr",
     "output_type": "stream",
     "text": [
      "\r",
      " 13%|██████████                                                                      | 395/3125 [00:28<03:15, 13.94it/s]"
     ]
    },
    {
     "name": "stdout",
     "output_type": "stream",
     "text": [
      "tf.Tensor(7.0, shape=(), dtype=float32) 16\n",
      "current batch accuracy is: 43.75%\n",
      "tf.Tensor(7.0, shape=(), dtype=float32) 16\n",
      "current batch accuracy is: 43.75%\n",
      "tf.Tensor(13.0, shape=(), dtype=float32) 16\n",
      "current batch accuracy is: 81.25%\n"
     ]
    },
    {
     "name": "stderr",
     "output_type": "stream",
     "text": [
      "\r",
      " 13%|██████████▏                                                                     | 397/3125 [00:28<03:20, 13.63it/s]"
     ]
    },
    {
     "name": "stdout",
     "output_type": "stream",
     "text": [
      "tf.Tensor(13.0, shape=(), dtype=float32) 16\n",
      "current batch accuracy is: 81.25%\n",
      "tf.Tensor(10.0, shape=(), dtype=float32) 16\n",
      "current batch accuracy is: 62.5%\n",
      "tf.Tensor(8.0, shape=(), dtype=float32) 16\n"
     ]
    },
    {
     "name": "stderr",
     "output_type": "stream",
     "text": [
      " 13%|██████████▎                                                                     | 401/3125 [00:28<03:47, 11.98it/s]"
     ]
    },
    {
     "name": "stdout",
     "output_type": "stream",
     "text": [
      "current batch accuracy is: 50.0%\n",
      "tf.Tensor(11.0, shape=(), dtype=float32) 16\n",
      "current batch accuracy is: 68.75%\n",
      "tf.Tensor(9.0, shape=(), dtype=float32) 16\n",
      "current batch accuracy is: 56.25%\n"
     ]
    },
    {
     "name": "stderr",
     "output_type": "stream",
     "text": [
      "\r",
      " 13%|██████████▎                                                                     | 403/3125 [00:28<03:46, 12.02it/s]"
     ]
    },
    {
     "name": "stdout",
     "output_type": "stream",
     "text": [
      "tf.Tensor(14.0, shape=(), dtype=float32) 16\n",
      "current batch accuracy is: 87.5%\n",
      "tf.Tensor(13.0, shape=(), dtype=float32) 16\n",
      "current batch accuracy is: 81.25%\n",
      "tf.Tensor(12.0, shape=(), dtype=float32) 16\n",
      "current batch accuracy is: 75.0%\n"
     ]
    },
    {
     "name": "stderr",
     "output_type": "stream",
     "text": [
      " 13%|██████████▍                                                                     | 407/3125 [00:29<03:24, 13.27it/s]"
     ]
    },
    {
     "name": "stdout",
     "output_type": "stream",
     "text": [
      "tf.Tensor(14.0, shape=(), dtype=float32) 16\n",
      "current batch accuracy is: 87.5%\n",
      "tf.Tensor(13.0, shape=(), dtype=float32) 16\n",
      "current batch accuracy is: 81.25%\n",
      "tf.Tensor(11.0, shape=(), dtype=float32) 16\n",
      "current batch accuracy is: 68.75%\n"
     ]
    },
    {
     "name": "stderr",
     "output_type": "stream",
     "text": [
      "\r",
      " 13%|██████████▍                                                                     | 409/3125 [00:29<03:26, 13.15it/s]"
     ]
    },
    {
     "name": "stdout",
     "output_type": "stream",
     "text": [
      "tf.Tensor(13.0, shape=(), dtype=float32) 16\n",
      "current batch accuracy is: 81.25%\n",
      "tf.Tensor(9.0, shape=(), dtype=float32) 16\n",
      "current batch accuracy is: 56.25%\n",
      "tf.Tensor(12.0, shape=(), dtype=float32) 16\n",
      "current batch accuracy is: 75.0%\n"
     ]
    },
    {
     "name": "stderr",
     "output_type": "stream",
     "text": [
      " 13%|██████████▌                                                                     | 413/3125 [00:29<03:08, 14.42it/s]"
     ]
    },
    {
     "name": "stdout",
     "output_type": "stream",
     "text": [
      "tf.Tensor(12.0, shape=(), dtype=float32) 16\n",
      "current batch accuracy is: 75.0%\n",
      "tf.Tensor(12.0, shape=(), dtype=float32) 16\n",
      "current batch accuracy is: 75.0%\n",
      "tf.Tensor(9.0, shape=(), dtype=float32) 16\n",
      "current batch accuracy is: 56.25%\n"
     ]
    },
    {
     "name": "stderr",
     "output_type": "stream",
     "text": [
      "\r",
      " 13%|██████████▌                                                                     | 415/3125 [00:29<03:12, 14.10it/s]"
     ]
    },
    {
     "name": "stdout",
     "output_type": "stream",
     "text": [
      "tf.Tensor(11.0, shape=(), dtype=float32) 16\n",
      "current batch accuracy is: 68.75%\n",
      "tf.Tensor(14.0, shape=(), dtype=float32) 16\n",
      "current batch accuracy is: 87.5%\n",
      "tf.Tensor(11.0, shape=(), dtype=float32) 16\n",
      "current batch accuracy is: 68.75%\n"
     ]
    },
    {
     "name": "stderr",
     "output_type": "stream",
     "text": [
      " 13%|██████████▋                                                                     | 419/3125 [00:29<03:26, 13.14it/s]"
     ]
    },
    {
     "name": "stdout",
     "output_type": "stream",
     "text": [
      "tf.Tensor(10.0, shape=(), dtype=float32) 16\n",
      "current batch accuracy is: 62.5%\n",
      "tf.Tensor(9.0, shape=(), dtype=float32) 16\n",
      "current batch accuracy is: 56.25%\n",
      "tf.Tensor(10.0, shape=(), dtype=float32) 16\n",
      "current batch accuracy is: 62.5%\n",
      "tf.Tensor(11.0, shape=(), dtype=float32) 16\n",
      "current batch accuracy is: 68.75%\n"
     ]
    },
    {
     "name": "stderr",
     "output_type": "stream",
     "text": [
      " 14%|██████████▊                                                                     | 423/3125 [00:30<03:05, 14.55it/s]"
     ]
    },
    {
     "name": "stdout",
     "output_type": "stream",
     "text": [
      "tf.Tensor(12.0, shape=(), dtype=float32) 16\n",
      "current batch accuracy is: 75.0%\n",
      "tf.Tensor(14.0, shape=(), dtype=float32) 16\n",
      "current batch accuracy is: 87.5%\n",
      "tf.Tensor(11.0, shape=(), dtype=float32) 16\n",
      "current batch accuracy is: 68.75%\n",
      "tf.Tensor(12.0, shape=(), dtype=float32) 16\n",
      "current batch accuracy is: 75.0%\n"
     ]
    },
    {
     "name": "stderr",
     "output_type": "stream",
     "text": [
      " 14%|██████████▉                                                                     | 427/3125 [00:30<03:03, 14.71it/s]"
     ]
    },
    {
     "name": "stdout",
     "output_type": "stream",
     "text": [
      "tf.Tensor(12.0, shape=(), dtype=float32) 16\n",
      "current batch accuracy is: 75.0%\n",
      "tf.Tensor(10.0, shape=(), dtype=float32) 16\n",
      "current batch accuracy is: 62.5%\n",
      "tf.Tensor(12.0, shape=(), dtype=float32) 16\n",
      "current batch accuracy is: 75.0%\n",
      "tf.Tensor(11.0, shape=(), dtype=float32) 16\n",
      "current batch accuracy is: 68.75%\n"
     ]
    },
    {
     "name": "stderr",
     "output_type": "stream",
     "text": [
      " 14%|███████████                                                                     | 431/3125 [00:30<03:12, 13.97it/s]"
     ]
    },
    {
     "name": "stdout",
     "output_type": "stream",
     "text": [
      "tf.Tensor(8.0, shape=(), dtype=float32) 16\n",
      "current batch accuracy is: 50.0%\n",
      "tf.Tensor(11.0, shape=(), dtype=float32) 16\n",
      "current batch accuracy is: 68.75%\n",
      "tf.Tensor(12.0, shape=(), dtype=float32) 16\n",
      "current batch accuracy is: 75.0%\n"
     ]
    },
    {
     "name": "stderr",
     "output_type": "stream",
     "text": [
      "\r",
      " 14%|███████████                                                                     | 433/3125 [00:30<03:22, 13.29it/s]"
     ]
    },
    {
     "name": "stdout",
     "output_type": "stream",
     "text": [
      "tf.Tensor(11.0, shape=(), dtype=float32) 16\n",
      "current batch accuracy is: 68.75%\n",
      "tf.Tensor(13.0, shape=(), dtype=float32) 16\n",
      "current batch accuracy is: 81.25%\n",
      "tf.Tensor(12.0, shape=(), dtype=float32) 16\n",
      "current batch accuracy is: 75.0%\n"
     ]
    },
    {
     "name": "stderr",
     "output_type": "stream",
     "text": [
      " 14%|███████████▏                                                                    | 437/3125 [00:31<03:04, 14.59it/s]"
     ]
    },
    {
     "name": "stdout",
     "output_type": "stream",
     "text": [
      "tf.Tensor(11.0, shape=(), dtype=float32) 16\n",
      "current batch accuracy is: 68.75%\n",
      "tf.Tensor(11.0, shape=(), dtype=float32) 16\n",
      "current batch accuracy is: 68.75%\n",
      "tf.Tensor(13.0, shape=(), dtype=float32) 16\n",
      "current batch accuracy is: 81.25%\n",
      "tf.Tensor(13.0, shape=(), dtype=float32) 16\n",
      "current batch accuracy is: 81.25%\n"
     ]
    },
    {
     "name": "stderr",
     "output_type": "stream",
     "text": [
      " 14%|███████████▎                                                                    | 441/3125 [00:31<03:05, 14.46it/s]"
     ]
    },
    {
     "name": "stdout",
     "output_type": "stream",
     "text": [
      "tf.Tensor(12.0, shape=(), dtype=float32) 16\n",
      "current batch accuracy is: 75.0%\n",
      "tf.Tensor(12.0, shape=(), dtype=float32) 16\n",
      "current batch accuracy is: 75.0%\n",
      "tf.Tensor(12.0, shape=(), dtype=float32) 16\n",
      "current batch accuracy is: 75.0%\n"
     ]
    },
    {
     "name": "stderr",
     "output_type": "stream",
     "text": [
      " 14%|███████████▍                                                                    | 445/3125 [00:31<02:56, 15.21it/s]"
     ]
    },
    {
     "name": "stdout",
     "output_type": "stream",
     "text": [
      "tf.Tensor(10.0, shape=(), dtype=float32) 16\n",
      "current batch accuracy is: 62.5%\n",
      "tf.Tensor(12.0, shape=(), dtype=float32) 16\n",
      "current batch accuracy is: 75.0%\n",
      "tf.Tensor(7.0, shape=(), dtype=float32) 16\n",
      "current batch accuracy is: 43.75%\n",
      "tf.Tensor(13.0, shape=(), dtype=float32) 16\n",
      "current batch accuracy is: 81.25%\n"
     ]
    },
    {
     "name": "stderr",
     "output_type": "stream",
     "text": [
      "\r",
      " 14%|███████████▍                                                                    | 447/3125 [00:31<03:02, 14.71it/s]"
     ]
    },
    {
     "name": "stdout",
     "output_type": "stream",
     "text": [
      "tf.Tensor(11.0, shape=(), dtype=float32) 16\n",
      "current batch accuracy is: 68.75%\n",
      "tf.Tensor(12.0, shape=(), dtype=float32) 16\n",
      "current batch accuracy is: 75.0%\n",
      "tf.Tensor(15.0, shape=(), dtype=float32) 16\n",
      "current batch accuracy is: 93.75%\n"
     ]
    },
    {
     "name": "stderr",
     "output_type": "stream",
     "text": [
      " 14%|███████████▌                                                                    | 451/3125 [00:32<03:09, 14.10it/s]"
     ]
    },
    {
     "name": "stdout",
     "output_type": "stream",
     "text": [
      "tf.Tensor(13.0, shape=(), dtype=float32) 16\n",
      "current batch accuracy is: 81.25%\n",
      "tf.Tensor(10.0, shape=(), dtype=float32) 16\n",
      "current batch accuracy is: 62.5%\n",
      "tf.Tensor(12.0, shape=(), dtype=float32) 16\n",
      "current batch accuracy is: 75.0%\n"
     ]
    },
    {
     "name": "stderr",
     "output_type": "stream",
     "text": [
      " 15%|███████████▋                                                                    | 455/3125 [00:32<03:02, 14.59it/s]"
     ]
    },
    {
     "name": "stdout",
     "output_type": "stream",
     "text": [
      "tf.Tensor(11.0, shape=(), dtype=float32) 16\n",
      "current batch accuracy is: 68.75%\n",
      "tf.Tensor(9.0, shape=(), dtype=float32) 16\n",
      "current batch accuracy is: 56.25%\n",
      "tf.Tensor(12.0, shape=(), dtype=float32) 16\n",
      "current batch accuracy is: 75.0%\n",
      "tf.Tensor(12.0, shape=(), dtype=float32) 16\n",
      "current batch accuracy is: 75.0%\n"
     ]
    },
    {
     "name": "stderr",
     "output_type": "stream",
     "text": [
      "\r",
      " 15%|███████████▋                                                                    | 457/3125 [00:32<03:09, 14.08it/s]"
     ]
    },
    {
     "name": "stdout",
     "output_type": "stream",
     "text": [
      "tf.Tensor(12.0, shape=(), dtype=float32) 16\n",
      "current batch accuracy is: 75.0%\n",
      "tf.Tensor(12.0, shape=(), dtype=float32) 16\n",
      "current batch accuracy is: 75.0%\n",
      "tf.Tensor(10.0, shape=(), dtype=float32) 16\n",
      "current batch accuracy is: 62.5%\n"
     ]
    },
    {
     "name": "stderr",
     "output_type": "stream",
     "text": [
      " 15%|███████████▊                                                                    | 461/3125 [00:32<03:08, 14.16it/s]"
     ]
    },
    {
     "name": "stdout",
     "output_type": "stream",
     "text": [
      "tf.Tensor(12.0, shape=(), dtype=float32) 16\n",
      "current batch accuracy is: 75.0%\n",
      "tf.Tensor(14.0, shape=(), dtype=float32) 16\n",
      "current batch accuracy is: 87.5%\n",
      "tf.Tensor(9.0, shape=(), dtype=float32) 16\n",
      "current batch accuracy is: 56.25%\n"
     ]
    },
    {
     "name": "stderr",
     "output_type": "stream",
     "text": [
      " 15%|███████████▉                                                                    | 465/3125 [00:33<03:00, 14.76it/s]"
     ]
    },
    {
     "name": "stdout",
     "output_type": "stream",
     "text": [
      "tf.Tensor(12.0, shape=(), dtype=float32) 16\n",
      "current batch accuracy is: 75.0%\n",
      "tf.Tensor(12.0, shape=(), dtype=float32) 16\n",
      "current batch accuracy is: 75.0%\n",
      "tf.Tensor(12.0, shape=(), dtype=float32) 16\n",
      "current batch accuracy is: 75.0%\n",
      "tf.Tensor(13.0, shape=(), dtype=float32) 16\n",
      "current batch accuracy is: 81.25%\n"
     ]
    },
    {
     "name": "stderr",
     "output_type": "stream",
     "text": [
      " 15%|████████████                                                                    | 469/3125 [00:33<02:55, 15.11it/s]"
     ]
    },
    {
     "name": "stdout",
     "output_type": "stream",
     "text": [
      "tf.Tensor(10.0, shape=(), dtype=float32) 16\n",
      "current batch accuracy is: 62.5%\n",
      "tf.Tensor(7.0, shape=(), dtype=float32) 16\n",
      "current batch accuracy is: 43.75%\n",
      "tf.Tensor(12.0, shape=(), dtype=float32) 16\n",
      "current batch accuracy is: 75.0%\n",
      "tf.Tensor(12.0, shape=(), dtype=float32) 16\n",
      "current batch accuracy is: 75.0%\n"
     ]
    },
    {
     "name": "stderr",
     "output_type": "stream",
     "text": [
      " 15%|████████████                                                                    | 473/3125 [00:33<02:50, 15.51it/s]"
     ]
    },
    {
     "name": "stdout",
     "output_type": "stream",
     "text": [
      "tf.Tensor(12.0, shape=(), dtype=float32) 16\n",
      "current batch accuracy is: 75.0%\n",
      "tf.Tensor(11.0, shape=(), dtype=float32) 16\n",
      "current batch accuracy is: 68.75%\n",
      "tf.Tensor(12.0, shape=(), dtype=float32) 16\n",
      "current batch accuracy is: 75.0%\n",
      "tf.Tensor(11.0, shape=(), dtype=float32) 16\n",
      "current batch accuracy is: 68.75%\n"
     ]
    },
    {
     "name": "stderr",
     "output_type": "stream",
     "text": [
      " 15%|████████████▏                                                                   | 477/3125 [00:33<02:50, 15.54it/s]"
     ]
    },
    {
     "name": "stdout",
     "output_type": "stream",
     "text": [
      "tf.Tensor(9.0, shape=(), dtype=float32) 16\n",
      "current batch accuracy is: 56.25%\n",
      "tf.Tensor(12.0, shape=(), dtype=float32) 16\n",
      "current batch accuracy is: 75.0%\n",
      "tf.Tensor(12.0, shape=(), dtype=float32) 16\n",
      "current batch accuracy is: 75.0%\n",
      "tf.Tensor(12.0, shape=(), dtype=float32) 16\n",
      "current batch accuracy is: 75.0%\n"
     ]
    },
    {
     "name": "stderr",
     "output_type": "stream",
     "text": [
      "\r",
      " 15%|████████████▎                                                                   | 479/3125 [00:34<02:49, 15.63it/s]"
     ]
    },
    {
     "name": "stdout",
     "output_type": "stream",
     "text": [
      "tf.Tensor(11.0, shape=(), dtype=float32) 16\n",
      "current batch accuracy is: 68.75%\n",
      "tf.Tensor(9.0, shape=(), dtype=float32) 16\n",
      "current batch accuracy is: 56.25%\n",
      "tf.Tensor(8.0, shape=(), dtype=float32) 16\n",
      "current batch accuracy is: 50.0%\n"
     ]
    },
    {
     "name": "stderr",
     "output_type": "stream",
     "text": [
      " 15%|████████████▎                                                                   | 483/3125 [00:34<03:04, 14.34it/s]"
     ]
    },
    {
     "name": "stdout",
     "output_type": "stream",
     "text": [
      "tf.Tensor(12.0, shape=(), dtype=float32) 16\n",
      "current batch accuracy is: 75.0%\n",
      "tf.Tensor(12.0, shape=(), dtype=float32) 16\n",
      "current batch accuracy is: 75.0%\n",
      "tf.Tensor(10.0, shape=(), dtype=float32) 16\n",
      "current batch accuracy is: 62.5%\n",
      "tf.Tensor(13.0, shape=(), dtype=float32) 16\n",
      "current batch accuracy is: 81.25%\n"
     ]
    },
    {
     "name": "stderr",
     "output_type": "stream",
     "text": [
      " 16%|████████████▍                                                                   | 487/3125 [00:34<02:59, 14.67it/s]"
     ]
    },
    {
     "name": "stdout",
     "output_type": "stream",
     "text": [
      "tf.Tensor(10.0, shape=(), dtype=float32) 16\n",
      "current batch accuracy is: 62.5%\n",
      "tf.Tensor(10.0, shape=(), dtype=float32) 16\n",
      "current batch accuracy is: 62.5%\n",
      "tf.Tensor(7.0, shape=(), dtype=float32) 16\n",
      "current batch accuracy is: 43.75%\n",
      "tf.Tensor(11.0, shape=(), dtype=float32) 16\n",
      "current batch accuracy is: 68.75%\n"
     ]
    },
    {
     "name": "stderr",
     "output_type": "stream",
     "text": [
      " 16%|████████████▌                                                                   | 491/3125 [00:34<02:58, 14.78it/s]"
     ]
    },
    {
     "name": "stdout",
     "output_type": "stream",
     "text": [
      "tf.Tensor(12.0, shape=(), dtype=float32) 16\n",
      "current batch accuracy is: 75.0%\n",
      "tf.Tensor(11.0, shape=(), dtype=float32) 16\n",
      "current batch accuracy is: 68.75%\n",
      "tf.Tensor(12.0, shape=(), dtype=float32) 16\n",
      "current batch accuracy is: 75.0%\n"
     ]
    },
    {
     "name": "stderr",
     "output_type": "stream",
     "text": [
      " 16%|████████████▋                                                                   | 495/3125 [00:35<02:53, 15.13it/s]"
     ]
    },
    {
     "name": "stdout",
     "output_type": "stream",
     "text": [
      "tf.Tensor(13.0, shape=(), dtype=float32) 16\n",
      "current batch accuracy is: 81.25%\n",
      "tf.Tensor(9.0, shape=(), dtype=float32) 16\n",
      "current batch accuracy is: 56.25%\n",
      "tf.Tensor(13.0, shape=(), dtype=float32) 16\n",
      "current batch accuracy is: 81.25%\n",
      "tf.Tensor(10.0, shape=(), dtype=float32) 16\n",
      "current batch accuracy is: 62.5%\n"
     ]
    },
    {
     "name": "stderr",
     "output_type": "stream",
     "text": [
      " 16%|████████████▊                                                                   | 499/3125 [00:35<02:46, 15.77it/s]"
     ]
    },
    {
     "name": "stdout",
     "output_type": "stream",
     "text": [
      "tf.Tensor(12.0, shape=(), dtype=float32) 16\n",
      "current batch accuracy is: 75.0%\n",
      "tf.Tensor(14.0, shape=(), dtype=float32) 16\n",
      "current batch accuracy is: 87.5%\n",
      "tf.Tensor(9.0, shape=(), dtype=float32) 16\n",
      "current batch accuracy is: 56.25%\n",
      "tf.Tensor(6.0, shape=(), dtype=float32) 16\n",
      "current batch accuracy is: 37.5%\n"
     ]
    },
    {
     "name": "stderr",
     "output_type": "stream",
     "text": [
      "\r",
      " 16%|████████████▊                                                                   | 501/3125 [00:35<02:48, 15.55it/s]"
     ]
    },
    {
     "name": "stdout",
     "output_type": "stream",
     "text": [
      "tf.Tensor(10.0, shape=(), dtype=float32) 16\n",
      "current batch accuracy is: 62.5%\n",
      "tf.Tensor(10.0, shape=(), dtype=float32) 16\n",
      "current batch accuracy is: 62.5%\n",
      "tf.Tensor(9.0, shape=(), dtype=float32) 16\n",
      "current batch accuracy is: 56.25%\n"
     ]
    },
    {
     "name": "stderr",
     "output_type": "stream",
     "text": [
      " 16%|████████████▉                                                                   | 505/3125 [00:35<02:56, 14.86it/s]"
     ]
    },
    {
     "name": "stdout",
     "output_type": "stream",
     "text": [
      "tf.Tensor(13.0, shape=(), dtype=float32) 16\n",
      "current batch accuracy is: 81.25%\n",
      "tf.Tensor(11.0, shape=(), dtype=float32) 16\n",
      "current batch accuracy is: 68.75%\n",
      "tf.Tensor(10.0, shape=(), dtype=float32) 16\n",
      "current batch accuracy is: 62.5%\n",
      "tf.Tensor(12.0, shape=(), dtype=float32) 16\n",
      "current batch accuracy is: 75.0%\n"
     ]
    },
    {
     "name": "stderr",
     "output_type": "stream",
     "text": [
      " 16%|█████████████                                                                   | 509/3125 [00:36<03:03, 14.26it/s]"
     ]
    },
    {
     "name": "stdout",
     "output_type": "stream",
     "text": [
      "tf.Tensor(11.0, shape=(), dtype=float32) 16\n",
      "current batch accuracy is: 68.75%\n",
      "tf.Tensor(8.0, shape=(), dtype=float32) 16\n",
      "current batch accuracy is: 50.0%\n",
      "tf.Tensor(12.0, shape=(), dtype=float32) 16\n",
      "current batch accuracy is: 75.0%\n"
     ]
    },
    {
     "name": "stderr",
     "output_type": "stream",
     "text": [
      "\r",
      " 16%|█████████████                                                                   | 511/3125 [00:36<02:57, 14.70it/s]"
     ]
    },
    {
     "name": "stdout",
     "output_type": "stream",
     "text": [
      "tf.Tensor(12.0, shape=(), dtype=float32) 16\n",
      "current batch accuracy is: 75.0%\n",
      "tf.Tensor(10.0, shape=(), dtype=float32) 16\n",
      "current batch accuracy is: 62.5%\n",
      "tf.Tensor(9.0, shape=(), dtype=float32) 16\n",
      "current batch accuracy is: 56.25%\n"
     ]
    },
    {
     "name": "stderr",
     "output_type": "stream",
     "text": [
      " 16%|█████████████▏                                                                  | 515/3125 [00:36<03:16, 13.25it/s]"
     ]
    },
    {
     "name": "stdout",
     "output_type": "stream",
     "text": [
      "tf.Tensor(11.0, shape=(), dtype=float32) 16\n",
      "current batch accuracy is: 68.75%\n",
      "tf.Tensor(12.0, shape=(), dtype=float32) 16\n",
      "current batch accuracy is: 75.0%\n",
      "tf.Tensor(12.0, shape=(), dtype=float32) 16\n",
      "current batch accuracy is: 75.0%\n"
     ]
    },
    {
     "name": "stderr",
     "output_type": "stream",
     "text": [
      "\r",
      " 17%|█████████████▏                                                                  | 517/3125 [00:36<03:51, 11.26it/s]"
     ]
    },
    {
     "name": "stdout",
     "output_type": "stream",
     "text": [
      "tf.Tensor(12.0, shape=(), dtype=float32) 16\n",
      "current batch accuracy is: 75.0%\n",
      "tf.Tensor(7.0, shape=(), dtype=float32) 16\n",
      "current batch accuracy is: 43.75%\n"
     ]
    },
    {
     "name": "stderr",
     "output_type": "stream",
     "text": [
      "\r",
      " 17%|█████████████▎                                                                  | 519/3125 [00:36<03:36, 12.02it/s]"
     ]
    },
    {
     "name": "stdout",
     "output_type": "stream",
     "text": [
      "tf.Tensor(11.0, shape=(), dtype=float32) 16\n",
      "current batch accuracy is: 68.75%\n",
      "tf.Tensor(12.0, shape=(), dtype=float32) 16\n",
      "current batch accuracy is: 75.0%\n",
      "tf.Tensor(13.0, shape=(), dtype=float32) 16\n",
      "current batch accuracy is: 81.25%\n"
     ]
    },
    {
     "name": "stderr",
     "output_type": "stream",
     "text": [
      " 17%|█████████████▍                                                                  | 523/3125 [00:37<03:19, 13.05it/s]"
     ]
    },
    {
     "name": "stdout",
     "output_type": "stream",
     "text": [
      "tf.Tensor(11.0, shape=(), dtype=float32) 16\n",
      "current batch accuracy is: 68.75%\n",
      "tf.Tensor(10.0, shape=(), dtype=float32) 16\n",
      "current batch accuracy is: 62.5%\n",
      "tf.Tensor(12.0, shape=(), dtype=float32) 16\n",
      "current batch accuracy is: 75.0%\n",
      "tf.Tensor(9.0, shape=(), dtype=float32) 16\n",
      "current batch accuracy is: 56.25%\n"
     ]
    },
    {
     "name": "stderr",
     "output_type": "stream",
     "text": [
      " 17%|█████████████▍                                                                  | 527/3125 [00:37<03:02, 14.20it/s]"
     ]
    },
    {
     "name": "stdout",
     "output_type": "stream",
     "text": [
      "tf.Tensor(11.0, shape=(), dtype=float32) 16\n",
      "current batch accuracy is: 68.75%\n",
      "tf.Tensor(14.0, shape=(), dtype=float32) 16\n",
      "current batch accuracy is: 87.5%\n",
      "tf.Tensor(13.0, shape=(), dtype=float32) 16\n",
      "current batch accuracy is: 81.25%\n",
      "tf.Tensor(10.0, shape=(), dtype=float32) 16\n",
      "current batch accuracy is: 62.5%\n"
     ]
    },
    {
     "name": "stderr",
     "output_type": "stream",
     "text": [
      " 17%|█████████████▌                                                                  | 531/3125 [00:37<02:57, 14.58it/s]"
     ]
    },
    {
     "name": "stdout",
     "output_type": "stream",
     "text": [
      "tf.Tensor(11.0, shape=(), dtype=float32) 16\n",
      "current batch accuracy is: 68.75%\n",
      "tf.Tensor(6.0, shape=(), dtype=float32) 16\n",
      "current batch accuracy is: 37.5%\n",
      "tf.Tensor(10.0, shape=(), dtype=float32) 16\n",
      "current batch accuracy is: 62.5%\n"
     ]
    },
    {
     "name": "stderr",
     "output_type": "stream",
     "text": [
      "\r",
      " 17%|█████████████▋                                                                  | 533/3125 [00:37<03:03, 14.10it/s]"
     ]
    },
    {
     "name": "stdout",
     "output_type": "stream",
     "text": [
      "tf.Tensor(12.0, shape=(), dtype=float32) 16\n",
      "current batch accuracy is: 75.0%\n",
      "tf.Tensor(11.0, shape=(), dtype=float32) 16\n",
      "current batch accuracy is: 68.75%\n",
      "tf.Tensor(10.0, shape=(), dtype=float32) 16\n",
      "current batch accuracy is: 62.5%\n"
     ]
    },
    {
     "name": "stderr",
     "output_type": "stream",
     "text": [
      " 17%|█████████████▋                                                                  | 537/3125 [00:38<03:10, 13.55it/s]"
     ]
    },
    {
     "name": "stdout",
     "output_type": "stream",
     "text": [
      "tf.Tensor(8.0, shape=(), dtype=float32) 16\n",
      "current batch accuracy is: 50.0%\n",
      "tf.Tensor(12.0, shape=(), dtype=float32) 16\n",
      "current batch accuracy is: 75.0%\n",
      "tf.Tensor(9.0, shape=(), dtype=float32) 16\n",
      "current batch accuracy is: 56.25%\n"
     ]
    },
    {
     "name": "stderr",
     "output_type": "stream",
     "text": [
      " 17%|█████████████▊                                                                  | 541/3125 [00:38<02:55, 14.72it/s]"
     ]
    },
    {
     "name": "stdout",
     "output_type": "stream",
     "text": [
      "tf.Tensor(8.0, shape=(), dtype=float32) 16\n",
      "current batch accuracy is: 50.0%\n",
      "tf.Tensor(12.0, shape=(), dtype=float32) 16\n",
      "current batch accuracy is: 75.0%\n",
      "tf.Tensor(13.0, shape=(), dtype=float32) 16\n",
      "current batch accuracy is: 81.25%\n",
      "tf.Tensor(12.0, shape=(), dtype=float32) 16\n",
      "current batch accuracy is: 75.0%\n"
     ]
    },
    {
     "name": "stderr",
     "output_type": "stream",
     "text": [
      "\r",
      " 17%|█████████████▉                                                                  | 543/3125 [00:38<03:01, 14.20it/s]"
     ]
    },
    {
     "name": "stdout",
     "output_type": "stream",
     "text": [
      "tf.Tensor(11.0, shape=(), dtype=float32) 16\n",
      "current batch accuracy is: 68.75%\n",
      "tf.Tensor(15.0, shape=(), dtype=float32) 16\n",
      "current batch accuracy is: 93.75%\n",
      "tf.Tensor(12.0, shape=(), dtype=float32) 16\n",
      "current batch accuracy is: 75.0%\n"
     ]
    },
    {
     "name": "stderr",
     "output_type": "stream",
     "text": [
      " 18%|██████████████                                                                  | 547/3125 [00:38<02:56, 14.62it/s]"
     ]
    },
    {
     "name": "stdout",
     "output_type": "stream",
     "text": [
      "tf.Tensor(13.0, shape=(), dtype=float32) 16\n",
      "current batch accuracy is: 81.25%\n",
      "tf.Tensor(10.0, shape=(), dtype=float32) 16\n",
      "current batch accuracy is: 62.5%\n",
      "tf.Tensor(10.0, shape=(), dtype=float32) 16\n",
      "current batch accuracy is: 62.5%\n",
      "tf.Tensor(12.0, shape=(), dtype=float32) 16\n",
      "current batch accuracy is: 75.0%\n"
     ]
    },
    {
     "name": "stderr",
     "output_type": "stream",
     "text": [
      " 18%|██████████████                                                                  | 551/3125 [00:39<02:53, 14.84it/s]"
     ]
    },
    {
     "name": "stdout",
     "output_type": "stream",
     "text": [
      "tf.Tensor(13.0, shape=(), dtype=float32) 16\n",
      "current batch accuracy is: 81.25%\n",
      "tf.Tensor(10.0, shape=(), dtype=float32) 16\n",
      "current batch accuracy is: 62.5%\n",
      "tf.Tensor(13.0, shape=(), dtype=float32) 16\n",
      "current batch accuracy is: 81.25%\n"
     ]
    },
    {
     "name": "stderr",
     "output_type": "stream",
     "text": [
      "\r",
      " 18%|██████████████▏                                                                 | 553/3125 [00:39<03:01, 14.20it/s]"
     ]
    },
    {
     "name": "stdout",
     "output_type": "stream",
     "text": [
      "tf.Tensor(12.0, shape=(), dtype=float32) 16\n",
      "current batch accuracy is: 75.0%\n",
      "tf.Tensor(12.0, shape=(), dtype=float32) 16\n",
      "current batch accuracy is: 75.0%\n",
      "tf.Tensor(11.0, shape=(), dtype=float32) 16\n",
      "current batch accuracy is: 68.75%\n"
     ]
    },
    {
     "name": "stderr",
     "output_type": "stream",
     "text": [
      " 18%|██████████████▎                                                                 | 557/3125 [00:39<02:53, 14.76it/s]"
     ]
    },
    {
     "name": "stdout",
     "output_type": "stream",
     "text": [
      "tf.Tensor(11.0, shape=(), dtype=float32) 16\n",
      "current batch accuracy is: 68.75%\n",
      "tf.Tensor(11.0, shape=(), dtype=float32) 16\n",
      "current batch accuracy is: 68.75%\n",
      "tf.Tensor(10.0, shape=(), dtype=float32) 16\n",
      "current batch accuracy is: 62.5%\n",
      "tf.Tensor(12.0, shape=(), dtype=float32) 16\n",
      "current batch accuracy is: 75.0%\n"
     ]
    },
    {
     "name": "stderr",
     "output_type": "stream",
     "text": [
      " 18%|██████████████▎                                                                 | 561/3125 [00:39<02:54, 14.73it/s]"
     ]
    },
    {
     "name": "stdout",
     "output_type": "stream",
     "text": [
      "tf.Tensor(14.0, shape=(), dtype=float32) 16\n",
      "current batch accuracy is: 87.5%\n",
      "tf.Tensor(12.0, shape=(), dtype=float32) 16\n",
      "current batch accuracy is: 75.0%\n",
      "tf.Tensor(15.0, shape=(), dtype=float32) 16\n",
      "current batch accuracy is: 93.75%\n",
      "tf.Tensor(10.0, shape=(), dtype=float32) 16\n",
      "current batch accuracy is: 62.5%\n"
     ]
    },
    {
     "name": "stderr",
     "output_type": "stream",
     "text": [
      " 18%|██████████████▍                                                                 | 565/3125 [00:40<02:46, 15.41it/s]"
     ]
    },
    {
     "name": "stdout",
     "output_type": "stream",
     "text": [
      "tf.Tensor(11.0, shape=(), dtype=float32) 16\n",
      "current batch accuracy is: 68.75%\n",
      "tf.Tensor(12.0, shape=(), dtype=float32) 16\n",
      "current batch accuracy is: 75.0%\n",
      "tf.Tensor(12.0, shape=(), dtype=float32) 16\n",
      "current batch accuracy is: 75.0%\n"
     ]
    },
    {
     "name": "stderr",
     "output_type": "stream",
     "text": [
      "\r",
      " 18%|██████████████▌                                                                 | 567/3125 [00:40<02:57, 14.45it/s]"
     ]
    },
    {
     "name": "stdout",
     "output_type": "stream",
     "text": [
      "tf.Tensor(10.0, shape=(), dtype=float32) 16\n",
      "current batch accuracy is: 62.5%\n",
      "tf.Tensor(11.0, shape=(), dtype=float32) 16\n",
      "current batch accuracy is: 68.75%\n",
      "tf.Tensor(10.0, shape=(), dtype=float32) 16\n",
      "current batch accuracy is: 62.5%\n"
     ]
    },
    {
     "name": "stderr",
     "output_type": "stream",
     "text": [
      " 18%|██████████████▌                                                                 | 571/3125 [00:40<02:47, 15.29it/s]"
     ]
    },
    {
     "name": "stdout",
     "output_type": "stream",
     "text": [
      "tf.Tensor(9.0, shape=(), dtype=float32) 16\n",
      "current batch accuracy is: 56.25%\n",
      "tf.Tensor(14.0, shape=(), dtype=float32) 16\n",
      "current batch accuracy is: 87.5%\n",
      "tf.Tensor(13.0, shape=(), dtype=float32) 16\n",
      "current batch accuracy is: 81.25%\n",
      "tf.Tensor(12.0, shape=(), dtype=float32) 16\n",
      "current batch accuracy is: 75.0%\n"
     ]
    },
    {
     "name": "stderr",
     "output_type": "stream",
     "text": [
      " 18%|██████████████▋                                                                 | 575/3125 [00:40<02:51, 14.84it/s]"
     ]
    },
    {
     "name": "stdout",
     "output_type": "stream",
     "text": [
      "tf.Tensor(12.0, shape=(), dtype=float32) 16\n",
      "current batch accuracy is: 75.0%\n",
      "tf.Tensor(13.0, shape=(), dtype=float32) 16\n",
      "current batch accuracy is: 81.25%\n",
      "tf.Tensor(12.0, shape=(), dtype=float32) 16\n",
      "current batch accuracy is: 75.0%\n"
     ]
    },
    {
     "name": "stderr",
     "output_type": "stream",
     "text": [
      " 19%|██████████████▊                                                                 | 579/3125 [00:40<02:47, 15.16it/s]"
     ]
    },
    {
     "name": "stdout",
     "output_type": "stream",
     "text": [
      "tf.Tensor(7.0, shape=(), dtype=float32) 16\n",
      "current batch accuracy is: 43.75%\n",
      "tf.Tensor(14.0, shape=(), dtype=float32) 16\n",
      "current batch accuracy is: 87.5%\n",
      "tf.Tensor(11.0, shape=(), dtype=float32) 16\n",
      "current batch accuracy is: 68.75%\n",
      "tf.Tensor(13.0, shape=(), dtype=float32) 16\n",
      "current batch accuracy is: 81.25%\n"
     ]
    },
    {
     "name": "stderr",
     "output_type": "stream",
     "text": [
      "\r",
      " 19%|██████████████▊                                                                 | 581/3125 [00:41<02:46, 15.29it/s]"
     ]
    },
    {
     "name": "stdout",
     "output_type": "stream",
     "text": [
      "tf.Tensor(12.0, shape=(), dtype=float32) 16\n",
      "current batch accuracy is: 75.0%\n",
      "tf.Tensor(10.0, shape=(), dtype=float32) 16\n",
      "current batch accuracy is: 62.5%\n",
      "tf.Tensor(13.0, shape=(), dtype=float32) 16\n",
      "current batch accuracy is: 81.25%\n"
     ]
    },
    {
     "name": "stderr",
     "output_type": "stream",
     "text": [
      " 19%|██████████████▉                                                                 | 585/3125 [00:41<03:15, 12.97it/s]"
     ]
    },
    {
     "name": "stdout",
     "output_type": "stream",
     "text": [
      "tf.Tensor(13.0, shape=(), dtype=float32) 16\n",
      "current batch accuracy is: 81.25%\n",
      "tf.Tensor(10.0, shape=(), dtype=float32) 16\n",
      "current batch accuracy is: 62.5%\n",
      "tf.Tensor(10.0, shape=(), dtype=float32) 16\n",
      "current batch accuracy is: 62.5%\n",
      "tf.Tensor(13.0, shape=(), dtype=float32) 16\n",
      "current batch accuracy is: 81.25%\n"
     ]
    },
    {
     "name": "stderr",
     "output_type": "stream",
     "text": [
      " 19%|███████████████                                                                 | 589/3125 [00:41<02:59, 14.11it/s]"
     ]
    },
    {
     "name": "stdout",
     "output_type": "stream",
     "text": [
      "tf.Tensor(11.0, shape=(), dtype=float32) 16\n",
      "current batch accuracy is: 68.75%\n",
      "tf.Tensor(9.0, shape=(), dtype=float32) 16\n",
      "current batch accuracy is: 56.25%\n",
      "tf.Tensor(13.0, shape=(), dtype=float32) 16\n",
      "current batch accuracy is: 81.25%\n",
      "tf.Tensor(10.0, shape=(), dtype=float32) 16\n",
      "current batch accuracy is: 62.5%\n"
     ]
    },
    {
     "name": "stderr",
     "output_type": "stream",
     "text": [
      " 19%|███████████████▏                                                                | 593/3125 [00:42<02:55, 14.43it/s]"
     ]
    },
    {
     "name": "stdout",
     "output_type": "stream",
     "text": [
      "tf.Tensor(7.0, shape=(), dtype=float32) 16\n",
      "current batch accuracy is: 43.75%\n",
      "tf.Tensor(9.0, shape=(), dtype=float32) 16\n",
      "current batch accuracy is: 56.25%\n",
      "tf.Tensor(13.0, shape=(), dtype=float32) 16\n",
      "current batch accuracy is: 81.25%\n",
      "tf.Tensor(13.0, shape=(), dtype=float32) 16\n"
     ]
    },
    {
     "name": "stderr",
     "output_type": "stream",
     "text": [
      "\r",
      " 19%|███████████████▏                                                                | 595/3125 [00:42<02:54, 14.48it/s]"
     ]
    },
    {
     "name": "stdout",
     "output_type": "stream",
     "text": [
      "current batch accuracy is: 81.25%\n",
      "tf.Tensor(9.0, shape=(), dtype=float32) 16\n",
      "current batch accuracy is: 56.25%\n",
      "tf.Tensor(11.0, shape=(), dtype=float32) 16\n",
      "current batch accuracy is: 68.75%\n"
     ]
    },
    {
     "name": "stderr",
     "output_type": "stream",
     "text": [
      " 19%|███████████████▎                                                                | 599/3125 [00:42<03:19, 12.69it/s]"
     ]
    },
    {
     "name": "stdout",
     "output_type": "stream",
     "text": [
      "tf.Tensor(10.0, shape=(), dtype=float32) 16\n",
      "current batch accuracy is: 62.5%\n",
      "tf.Tensor(10.0, shape=(), dtype=float32) 16\n",
      "current batch accuracy is: 62.5%\n",
      "tf.Tensor(12.0, shape=(), dtype=float32) 16\n",
      "current batch accuracy is: 75.0%\n",
      "tf.Tensor(10.0, shape=(), dtype=float32) 16\n",
      "current batch accuracy is: 62.5%\n"
     ]
    },
    {
     "name": "stderr",
     "output_type": "stream",
     "text": [
      " 19%|███████████████▍                                                                | 603/3125 [00:42<03:15, 12.93it/s]"
     ]
    },
    {
     "name": "stdout",
     "output_type": "stream",
     "text": [
      "tf.Tensor(10.0, shape=(), dtype=float32) 16\n",
      "current batch accuracy is: 62.5%\n",
      "tf.Tensor(10.0, shape=(), dtype=float32) 16\n",
      "current batch accuracy is: 62.5%\n",
      "tf.Tensor(11.0, shape=(), dtype=float32) 16\n",
      "current batch accuracy is: 68.75%\n"
     ]
    },
    {
     "name": "stderr",
     "output_type": "stream",
     "text": [
      " 19%|███████████████▌                                                                | 607/3125 [00:43<03:01, 13.87it/s]"
     ]
    },
    {
     "name": "stdout",
     "output_type": "stream",
     "text": [
      "tf.Tensor(12.0, shape=(), dtype=float32) 16\n",
      "current batch accuracy is: 75.0%\n",
      "tf.Tensor(6.0, shape=(), dtype=float32) 16\n",
      "current batch accuracy is: 37.5%\n",
      "tf.Tensor(9.0, shape=(), dtype=float32) 16\n",
      "current batch accuracy is: 56.25%\n",
      "tf.Tensor(10.0, shape=(), dtype=float32) 16\n",
      "current batch accuracy is: 62.5%\n"
     ]
    },
    {
     "name": "stderr",
     "output_type": "stream",
     "text": [
      "\r",
      " 19%|███████████████▌                                                                | 609/3125 [00:43<02:55, 14.33it/s]"
     ]
    },
    {
     "name": "stdout",
     "output_type": "stream",
     "text": [
      "tf.Tensor(13.0, shape=(), dtype=float32) 16\n",
      "current batch accuracy is: 81.25%\n",
      "tf.Tensor(8.0, shape=(), dtype=float32) 16\n",
      "current batch accuracy is: 50.0%\n",
      "tf.Tensor(9.0, shape=(), dtype=float32) 16\n",
      "current batch accuracy is: 56.25%\n"
     ]
    },
    {
     "name": "stderr",
     "output_type": "stream",
     "text": [
      " 20%|███████████████▋                                                                | 613/3125 [00:43<02:59, 14.03it/s]"
     ]
    },
    {
     "name": "stdout",
     "output_type": "stream",
     "text": [
      "tf.Tensor(12.0, shape=(), dtype=float32) 16\n",
      "current batch accuracy is: 75.0%\n",
      "tf.Tensor(10.0, shape=(), dtype=float32) 16\n",
      "current batch accuracy is: 62.5%\n",
      "tf.Tensor(10.0, shape=(), dtype=float32) 16\n",
      "current batch accuracy is: 62.5%\n"
     ]
    },
    {
     "name": "stderr",
     "output_type": "stream",
     "text": [
      " 20%|███████████████▊                                                                | 617/3125 [00:43<02:50, 14.68it/s]"
     ]
    },
    {
     "name": "stdout",
     "output_type": "stream",
     "text": [
      "tf.Tensor(10.0, shape=(), dtype=float32) 16\n",
      "current batch accuracy is: 62.5%\n",
      "tf.Tensor(13.0, shape=(), dtype=float32) 16\n",
      "current batch accuracy is: 81.25%\n",
      "tf.Tensor(14.0, shape=(), dtype=float32) 16\n",
      "current batch accuracy is: 87.5%\n",
      "tf.Tensor(12.0, shape=(), dtype=float32) 16\n",
      "current batch accuracy is: 75.0%\n"
     ]
    },
    {
     "name": "stderr",
     "output_type": "stream",
     "text": [
      "\r",
      " 20%|███████████████▊                                                                | 619/3125 [00:43<03:01, 13.83it/s]"
     ]
    },
    {
     "name": "stdout",
     "output_type": "stream",
     "text": [
      "tf.Tensor(11.0, shape=(), dtype=float32) 16\n",
      "current batch accuracy is: 68.75%\n",
      "tf.Tensor(12.0, shape=(), dtype=float32) 16\n",
      "current batch accuracy is: 75.0%\n"
     ]
    },
    {
     "name": "stderr",
     "output_type": "stream",
     "text": [
      " 20%|███████████████▉                                                                | 623/3125 [00:44<02:59, 13.95it/s]"
     ]
    },
    {
     "name": "stdout",
     "output_type": "stream",
     "text": [
      "tf.Tensor(11.0, shape=(), dtype=float32) 16\n",
      "current batch accuracy is: 68.75%\n",
      "tf.Tensor(13.0, shape=(), dtype=float32) 16\n",
      "current batch accuracy is: 81.25%\n",
      "tf.Tensor(11.0, shape=(), dtype=float32) 16\n",
      "current batch accuracy is: 68.75%\n",
      "tf.Tensor(12.0, shape=(), dtype=float32) 16\n",
      "current batch accuracy is: 75.0%\n"
     ]
    },
    {
     "name": "stderr",
     "output_type": "stream",
     "text": [
      "\r",
      " 20%|████████████████                                                                | 625/3125 [00:44<03:01, 13.77it/s]"
     ]
    },
    {
     "name": "stdout",
     "output_type": "stream",
     "text": [
      "tf.Tensor(12.0, shape=(), dtype=float32) 16\n",
      "current batch accuracy is: 75.0%\n",
      "tf.Tensor(14.0, shape=(), dtype=float32) 16\n",
      "current batch accuracy is: 87.5%\n",
      "tf.Tensor(13.0, shape=(), dtype=float32) 16\n",
      "current batch accuracy is: 81.25%\n"
     ]
    },
    {
     "name": "stderr",
     "output_type": "stream",
     "text": [
      " 20%|████████████████                                                                | 629/3125 [00:44<02:59, 13.88it/s]"
     ]
    },
    {
     "name": "stdout",
     "output_type": "stream",
     "text": [
      "tf.Tensor(11.0, shape=(), dtype=float32) 16\n",
      "current batch accuracy is: 68.75%\n",
      "tf.Tensor(10.0, shape=(), dtype=float32) 16\n",
      "current batch accuracy is: 62.5%\n",
      "tf.Tensor(11.0, shape=(), dtype=float32) 16\n",
      "current batch accuracy is: 68.75%\n"
     ]
    },
    {
     "name": "stderr",
     "output_type": "stream",
     "text": [
      "\r",
      " 20%|████████████████▏                                                               | 631/3125 [00:44<03:06, 13.35it/s]"
     ]
    },
    {
     "name": "stdout",
     "output_type": "stream",
     "text": [
      "tf.Tensor(14.0, shape=(), dtype=float32) 16\n",
      "current batch accuracy is: 87.5%\n",
      "tf.Tensor(11.0, shape=(), dtype=float32) 16\n",
      "current batch accuracy is: 68.75%\n",
      "tf.Tensor(10.0, shape=(), dtype=float32) 16\n",
      "current batch accuracy is: 62.5%\n"
     ]
    },
    {
     "name": "stderr",
     "output_type": "stream",
     "text": [
      " 20%|████████████████▎                                                               | 635/3125 [00:45<02:57, 14.01it/s]"
     ]
    },
    {
     "name": "stdout",
     "output_type": "stream",
     "text": [
      "tf.Tensor(8.0, shape=(), dtype=float32) 16\n",
      "current batch accuracy is: 50.0%\n",
      "tf.Tensor(12.0, shape=(), dtype=float32) 16\n",
      "current batch accuracy is: 75.0%\n",
      "tf.Tensor(13.0, shape=(), dtype=float32) 16\n",
      "current batch accuracy is: 81.25%\n"
     ]
    },
    {
     "name": "stderr",
     "output_type": "stream",
     "text": [
      "\r",
      " 20%|████████████████▎                                                               | 637/3125 [00:45<03:04, 13.47it/s]"
     ]
    },
    {
     "name": "stdout",
     "output_type": "stream",
     "text": [
      "tf.Tensor(13.0, shape=(), dtype=float32) 16\n",
      "current batch accuracy is: 81.25%\n",
      "tf.Tensor(12.0, shape=(), dtype=float32) 16\n",
      "current batch accuracy is: 75.0%\n",
      "tf.Tensor(10.0, shape=(), dtype=float32) 16\n",
      "current batch accuracy is: 62.5%\n"
     ]
    },
    {
     "name": "stderr",
     "output_type": "stream",
     "text": [
      " 21%|████████████████▍                                                               | 641/3125 [00:45<03:01, 13.66it/s]"
     ]
    },
    {
     "name": "stdout",
     "output_type": "stream",
     "text": [
      "tf.Tensor(11.0, shape=(), dtype=float32) 16\n",
      "current batch accuracy is: 68.75%\n",
      "tf.Tensor(10.0, shape=(), dtype=float32) 16\n",
      "current batch accuracy is: 62.5%\n",
      "tf.Tensor(9.0, shape=(), dtype=float32) 16\n",
      "current batch accuracy is: 56.25%\n"
     ]
    },
    {
     "name": "stderr",
     "output_type": "stream",
     "text": [
      "\r",
      " 21%|████████████████▍                                                               | 643/3125 [00:45<02:52, 14.38it/s]"
     ]
    },
    {
     "name": "stdout",
     "output_type": "stream",
     "text": [
      "tf.Tensor(10.0, shape=(), dtype=float32) 16\n",
      "current batch accuracy is: 62.5%\n",
      "tf.Tensor(11.0, shape=(), dtype=float32) 16\n",
      "current batch accuracy is: 68.75%\n",
      "tf.Tensor(10.0, shape=(), dtype=float32) 16\n",
      "current batch accuracy is: 62.5%\n"
     ]
    },
    {
     "name": "stderr",
     "output_type": "stream",
     "text": [
      " 21%|████████████████▌                                                               | 647/3125 [00:45<02:57, 13.94it/s]"
     ]
    },
    {
     "name": "stdout",
     "output_type": "stream",
     "text": [
      "tf.Tensor(13.0, shape=(), dtype=float32) 16\n",
      "current batch accuracy is: 81.25%\n",
      "tf.Tensor(10.0, shape=(), dtype=float32) 16\n",
      "current batch accuracy is: 62.5%\n",
      "tf.Tensor(12.0, shape=(), dtype=float32) 16\n",
      "current batch accuracy is: 75.0%\n"
     ]
    },
    {
     "name": "stderr",
     "output_type": "stream",
     "text": [
      " 21%|████████████████▋                                                               | 651/3125 [00:46<02:50, 14.55it/s]"
     ]
    },
    {
     "name": "stdout",
     "output_type": "stream",
     "text": [
      "tf.Tensor(13.0, shape=(), dtype=float32) 16\n",
      "current batch accuracy is: 81.25%\n",
      "tf.Tensor(8.0, shape=(), dtype=float32) 16\n",
      "current batch accuracy is: 50.0%\n",
      "tf.Tensor(13.0, shape=(), dtype=float32) 16\n",
      "current batch accuracy is: 81.25%\n",
      "tf.Tensor(10.0, shape=(), dtype=float32) 16\n",
      "current batch accuracy is: 62.5%\n"
     ]
    },
    {
     "name": "stderr",
     "output_type": "stream",
     "text": [
      "\r",
      " 21%|████████████████▋                                                               | 653/3125 [00:46<02:52, 14.31it/s]"
     ]
    },
    {
     "name": "stdout",
     "output_type": "stream",
     "text": [
      "tf.Tensor(11.0, shape=(), dtype=float32) 16\n",
      "current batch accuracy is: 68.75%\n",
      "tf.Tensor(11.0, shape=(), dtype=float32) 16\n",
      "current batch accuracy is: 68.75%\n",
      "tf.Tensor(12.0, shape=(), dtype=float32) 16\n",
      "current batch accuracy is: 75.0%\n"
     ]
    },
    {
     "name": "stderr",
     "output_type": "stream",
     "text": [
      " 21%|████████████████▊                                                               | 657/3125 [00:46<02:43, 15.07it/s]"
     ]
    },
    {
     "name": "stdout",
     "output_type": "stream",
     "text": [
      "tf.Tensor(10.0, shape=(), dtype=float32) 16\n",
      "current batch accuracy is: 62.5%\n",
      "tf.Tensor(11.0, shape=(), dtype=float32) 16\n",
      "current batch accuracy is: 68.75%\n",
      "tf.Tensor(10.0, shape=(), dtype=float32) 16\n",
      "current batch accuracy is: 62.5%\n"
     ]
    },
    {
     "name": "stderr",
     "output_type": "stream",
     "text": [
      "\r",
      " 21%|████████████████▊                                                               | 659/3125 [00:46<02:53, 14.20it/s]"
     ]
    },
    {
     "name": "stdout",
     "output_type": "stream",
     "text": [
      "tf.Tensor(10.0, shape=(), dtype=float32) 16\n",
      "current batch accuracy is: 62.5%\n",
      "tf.Tensor(12.0, shape=(), dtype=float32) 16\n",
      "current batch accuracy is: 75.0%\n",
      "tf.Tensor(13.0, shape=(), dtype=float32) 16\n",
      "current batch accuracy is: 81.25%\n"
     ]
    },
    {
     "name": "stderr",
     "output_type": "stream",
     "text": [
      " 21%|████████████████▉                                                               | 663/3125 [00:47<02:58, 13.77it/s]"
     ]
    },
    {
     "name": "stdout",
     "output_type": "stream",
     "text": [
      "tf.Tensor(10.0, shape=(), dtype=float32) 16\n",
      "current batch accuracy is: 62.5%\n",
      "tf.Tensor(12.0, shape=(), dtype=float32) 16\n",
      "current batch accuracy is: 75.0%\n",
      "tf.Tensor(11.0, shape=(), dtype=float32) 16\n",
      "current batch accuracy is: 68.75%\n"
     ]
    },
    {
     "name": "stderr",
     "output_type": "stream",
     "text": [
      "\r",
      " 21%|█████████████████                                                               | 665/3125 [00:47<02:54, 14.07it/s]"
     ]
    },
    {
     "name": "stdout",
     "output_type": "stream",
     "text": [
      "tf.Tensor(10.0, shape=(), dtype=float32) 16\n",
      "current batch accuracy is: 62.5%\n",
      "tf.Tensor(10.0, shape=(), dtype=float32) 16\n",
      "current batch accuracy is: 62.5%\n",
      "tf.Tensor(11.0, shape=(), dtype=float32) 16\n",
      "current batch accuracy is: 68.75%\n"
     ]
    },
    {
     "name": "stderr",
     "output_type": "stream",
     "text": [
      " 21%|█████████████████▏                                                              | 669/3125 [00:47<03:02, 13.47it/s]"
     ]
    },
    {
     "name": "stdout",
     "output_type": "stream",
     "text": [
      "tf.Tensor(8.0, shape=(), dtype=float32) 16\n",
      "current batch accuracy is: 50.0%\n",
      "tf.Tensor(9.0, shape=(), dtype=float32) 16\n",
      "current batch accuracy is: 56.25%\n",
      "tf.Tensor(11.0, shape=(), dtype=float32) 16\n",
      "current batch accuracy is: 68.75%\n"
     ]
    },
    {
     "name": "stderr",
     "output_type": "stream",
     "text": [
      "\r",
      " 21%|█████████████████▏                                                              | 671/3125 [00:47<02:53, 14.10it/s]"
     ]
    },
    {
     "name": "stdout",
     "output_type": "stream",
     "text": [
      "tf.Tensor(12.0, shape=(), dtype=float32) 16\n",
      "current batch accuracy is: 75.0%\n",
      "tf.Tensor(12.0, shape=(), dtype=float32) 16\n",
      "current batch accuracy is: 75.0%\n",
      "tf.Tensor(11.0, shape=(), dtype=float32) 16\n",
      "current batch accuracy is: 68.75%\n"
     ]
    },
    {
     "name": "stderr",
     "output_type": "stream",
     "text": [
      " 22%|█████████████████▎                                                              | 675/3125 [00:47<02:48, 14.50it/s]"
     ]
    },
    {
     "name": "stdout",
     "output_type": "stream",
     "text": [
      "tf.Tensor(11.0, shape=(), dtype=float32) 16\n",
      "current batch accuracy is: 68.75%\n",
      "tf.Tensor(12.0, shape=(), dtype=float32) 16\n",
      "current batch accuracy is: 75.0%\n",
      "tf.Tensor(9.0, shape=(), dtype=float32) 16\n",
      "current batch accuracy is: 56.25%\n",
      "tf.Tensor(10.0, shape=(), dtype=float32) 16\n",
      "current batch accuracy is: 62.5%\n"
     ]
    },
    {
     "name": "stderr",
     "output_type": "stream",
     "text": [
      " 22%|█████████████████▍                                                              | 679/3125 [00:48<02:41, 15.14it/s]"
     ]
    },
    {
     "name": "stdout",
     "output_type": "stream",
     "text": [
      "tf.Tensor(13.0, shape=(), dtype=float32) 16\n",
      "current batch accuracy is: 81.25%\n",
      "tf.Tensor(8.0, shape=(), dtype=float32) 16\n",
      "current batch accuracy is: 50.0%\n",
      "tf.Tensor(10.0, shape=(), dtype=float32) 16\n",
      "current batch accuracy is: 62.5%\n",
      "tf.Tensor(10.0, shape=(), dtype=float32) 16\n",
      "current batch accuracy is: 62.5%\n"
     ]
    },
    {
     "name": "stderr",
     "output_type": "stream",
     "text": [
      " 22%|█████████████████▍                                                              | 683/3125 [00:48<02:40, 15.21it/s]"
     ]
    },
    {
     "name": "stdout",
     "output_type": "stream",
     "text": [
      "tf.Tensor(11.0, shape=(), dtype=float32) 16\n",
      "current batch accuracy is: 68.75%\n",
      "tf.Tensor(10.0, shape=(), dtype=float32) 16\n",
      "current batch accuracy is: 62.5%\n",
      "tf.Tensor(11.0, shape=(), dtype=float32) 16\n",
      "current batch accuracy is: 68.75%\n"
     ]
    },
    {
     "name": "stderr",
     "output_type": "stream",
     "text": [
      "\r",
      " 22%|█████████████████▌                                                              | 685/3125 [00:48<02:44, 14.79it/s]"
     ]
    },
    {
     "name": "stdout",
     "output_type": "stream",
     "text": [
      "tf.Tensor(12.0, shape=(), dtype=float32) 16\n",
      "current batch accuracy is: 75.0%\n",
      "tf.Tensor(11.0, shape=(), dtype=float32) 16\n",
      "current batch accuracy is: 68.75%\n",
      "tf.Tensor(12.0, shape=(), dtype=float32) 16\n",
      "current batch accuracy is: 75.0%\n"
     ]
    },
    {
     "name": "stderr",
     "output_type": "stream",
     "text": [
      "\r",
      " 22%|█████████████████▌                                                              | 687/3125 [00:48<02:47, 14.59it/s]"
     ]
    },
    {
     "name": "stdout",
     "output_type": "stream",
     "text": [
      "tf.Tensor(12.0, shape=(), dtype=float32) 16\n",
      "current batch accuracy is: 75.0%\n",
      "tf.Tensor(12.0, shape=(), dtype=float32) 16\n",
      "current batch accuracy is: 75.0%\n"
     ]
    },
    {
     "name": "stderr",
     "output_type": "stream",
     "text": [
      " 22%|█████████████████▋                                                              | 691/3125 [00:49<03:23, 11.96it/s]"
     ]
    },
    {
     "name": "stdout",
     "output_type": "stream",
     "text": [
      "tf.Tensor(11.0, shape=(), dtype=float32) 16\n",
      "current batch accuracy is: 68.75%\n",
      "tf.Tensor(10.0, shape=(), dtype=float32) 16\n",
      "current batch accuracy is: 62.5%\n",
      "tf.Tensor(9.0, shape=(), dtype=float32) 16\n",
      "current batch accuracy is: 56.25%\n"
     ]
    },
    {
     "name": "stderr",
     "output_type": "stream",
     "text": [
      "\r",
      " 22%|█████████████████▋                                                              | 693/3125 [00:49<03:07, 13.00it/s]"
     ]
    },
    {
     "name": "stdout",
     "output_type": "stream",
     "text": [
      "tf.Tensor(11.0, shape=(), dtype=float32) 16\n",
      "current batch accuracy is: 68.75%\n",
      "tf.Tensor(10.0, shape=(), dtype=float32) 16\n",
      "current batch accuracy is: 62.5%\n",
      "tf.Tensor(11.0, shape=(), dtype=float32) 16\n",
      "current batch accuracy is: 68.75%\n"
     ]
    },
    {
     "name": "stderr",
     "output_type": "stream",
     "text": [
      " 22%|█████████████████▊                                                              | 697/3125 [00:49<03:16, 12.37it/s]"
     ]
    },
    {
     "name": "stdout",
     "output_type": "stream",
     "text": [
      "tf.Tensor(10.0, shape=(), dtype=float32) 16\n",
      "current batch accuracy is: 62.5%\n",
      "tf.Tensor(9.0, shape=(), dtype=float32) 16\n",
      "current batch accuracy is: 56.25%\n",
      "tf.Tensor(13.0, shape=(), dtype=float32) 16\n",
      "current batch accuracy is: 81.25%\n"
     ]
    },
    {
     "name": "stderr",
     "output_type": "stream",
     "text": [
      "\r",
      " 22%|█████████████████▉                                                              | 699/3125 [00:49<03:01, 13.38it/s]"
     ]
    },
    {
     "name": "stdout",
     "output_type": "stream",
     "text": [
      "tf.Tensor(8.0, shape=(), dtype=float32) 16\n",
      "current batch accuracy is: 50.0%\n",
      "tf.Tensor(12.0, shape=(), dtype=float32) 16\n",
      "current batch accuracy is: 75.0%\n",
      "tf.Tensor(12.0, shape=(), dtype=float32) 16\n",
      "current batch accuracy is: 75.0%\n"
     ]
    },
    {
     "name": "stderr",
     "output_type": "stream",
     "text": [
      " 22%|█████████████████▉                                                              | 703/3125 [00:50<03:03, 13.18it/s]"
     ]
    },
    {
     "name": "stdout",
     "output_type": "stream",
     "text": [
      "tf.Tensor(12.0, shape=(), dtype=float32) 16\n",
      "current batch accuracy is: 75.0%\n",
      "tf.Tensor(12.0, shape=(), dtype=float32) 16\n",
      "current batch accuracy is: 75.0%\n",
      "tf.Tensor(10.0, shape=(), dtype=float32) 16\n",
      "current batch accuracy is: 62.5%\n"
     ]
    },
    {
     "name": "stderr",
     "output_type": "stream",
     "text": [
      "\r",
      " 23%|██████████████████                                                              | 705/3125 [00:50<03:07, 12.93it/s]"
     ]
    },
    {
     "name": "stdout",
     "output_type": "stream",
     "text": [
      "tf.Tensor(12.0, shape=(), dtype=float32) 16\n",
      "current batch accuracy is: 75.0%\n",
      "tf.Tensor(9.0, shape=(), dtype=float32) 16\n",
      "current batch accuracy is: 56.25%\n",
      "tf.Tensor(11.0, shape=(), dtype=float32) 16\n",
      "current batch accuracy is: 68.75%\n"
     ]
    },
    {
     "name": "stderr",
     "output_type": "stream",
     "text": [
      " 23%|██████████████████▏                                                             | 709/3125 [00:50<03:04, 13.12it/s]"
     ]
    },
    {
     "name": "stdout",
     "output_type": "stream",
     "text": [
      "tf.Tensor(13.0, shape=(), dtype=float32) 16\n",
      "current batch accuracy is: 81.25%\n",
      "tf.Tensor(13.0, shape=(), dtype=float32) 16\n",
      "current batch accuracy is: 81.25%\n",
      "tf.Tensor(11.0, shape=(), dtype=float32) 16\n",
      "current batch accuracy is: 68.75%\n"
     ]
    },
    {
     "name": "stderr",
     "output_type": "stream",
     "text": [
      "\r",
      " 23%|██████████████████▏                                                             | 711/3125 [00:50<02:53, 13.91it/s]"
     ]
    },
    {
     "name": "stdout",
     "output_type": "stream",
     "text": [
      "tf.Tensor(11.0, shape=(), dtype=float32) 16\n",
      "current batch accuracy is: 68.75%\n",
      "tf.Tensor(12.0, shape=(), dtype=float32) 16\n",
      "current batch accuracy is: 75.0%\n",
      "tf.Tensor(8.0, shape=(), dtype=float32) 16\n",
      "current batch accuracy is: 50.0%\n"
     ]
    },
    {
     "name": "stderr",
     "output_type": "stream",
     "text": [
      " 23%|██████████████████▎                                                             | 715/3125 [00:50<03:00, 13.39it/s]"
     ]
    },
    {
     "name": "stdout",
     "output_type": "stream",
     "text": [
      "tf.Tensor(13.0, shape=(), dtype=float32) 16\n",
      "current batch accuracy is: 81.25%\n",
      "tf.Tensor(10.0, shape=(), dtype=float32) 16\n",
      "current batch accuracy is: 62.5%\n",
      "tf.Tensor(8.0, shape=(), dtype=float32) 16\n",
      "current batch accuracy is: 50.0%\n"
     ]
    },
    {
     "name": "stderr",
     "output_type": "stream",
     "text": [
      " 23%|██████████████████▍                                                             | 719/3125 [00:51<02:51, 14.02it/s]"
     ]
    },
    {
     "name": "stdout",
     "output_type": "stream",
     "text": [
      "tf.Tensor(13.0, shape=(), dtype=float32) 16\n",
      "current batch accuracy is: 81.25%\n",
      "tf.Tensor(11.0, shape=(), dtype=float32) 16\n",
      "current batch accuracy is: 68.75%\n",
      "tf.Tensor(9.0, shape=(), dtype=float32) 16\n",
      "current batch accuracy is: 56.25%\n",
      "tf.Tensor(7.0, shape=(), dtype=float32) 16\n",
      "current batch accuracy is: 43.75%\n"
     ]
    },
    {
     "name": "stderr",
     "output_type": "stream",
     "text": [
      "\r",
      " 23%|██████████████████▍                                                             | 721/3125 [00:51<02:48, 14.23it/s]"
     ]
    },
    {
     "name": "stdout",
     "output_type": "stream",
     "text": [
      "tf.Tensor(13.0, shape=(), dtype=float32) 16\n",
      "current batch accuracy is: 81.25%\n",
      "tf.Tensor(8.0, shape=(), dtype=float32) 16\n",
      "current batch accuracy is: 50.0%\n",
      "tf.Tensor(11.0, shape=(), dtype=float32) 16\n",
      "current batch accuracy is: 68.75%\n"
     ]
    },
    {
     "name": "stderr",
     "output_type": "stream",
     "text": [
      " 23%|██████████████████▌                                                             | 725/3125 [00:51<02:44, 14.59it/s]"
     ]
    },
    {
     "name": "stdout",
     "output_type": "stream",
     "text": [
      "tf.Tensor(11.0, shape=(), dtype=float32) 16\n",
      "current batch accuracy is: 68.75%\n",
      "tf.Tensor(15.0, shape=(), dtype=float32) 16\n",
      "current batch accuracy is: 93.75%\n",
      "tf.Tensor(12.0, shape=(), dtype=float32) 16\n",
      "current batch accuracy is: 75.0%\n"
     ]
    },
    {
     "name": "stderr",
     "output_type": "stream",
     "text": [
      " 23%|██████████████████▋                                                             | 729/3125 [00:51<02:38, 15.15it/s]"
     ]
    },
    {
     "name": "stdout",
     "output_type": "stream",
     "text": [
      "tf.Tensor(12.0, shape=(), dtype=float32) 16\n",
      "current batch accuracy is: 75.0%\n",
      "tf.Tensor(11.0, shape=(), dtype=float32) 16\n",
      "current batch accuracy is: 68.75%\n",
      "tf.Tensor(11.0, shape=(), dtype=float32) 16\n",
      "current batch accuracy is: 68.75%\n",
      "tf.Tensor(10.0, shape=(), dtype=float32) 16\n",
      "current batch accuracy is: 62.5%\n"
     ]
    },
    {
     "name": "stderr",
     "output_type": "stream",
     "text": [
      " 23%|██████████████████▊                                                             | 733/3125 [00:52<02:35, 15.34it/s]"
     ]
    },
    {
     "name": "stdout",
     "output_type": "stream",
     "text": [
      "tf.Tensor(11.0, shape=(), dtype=float32) 16\n",
      "current batch accuracy is: 68.75%\n",
      "tf.Tensor(7.0, shape=(), dtype=float32) 16\n",
      "current batch accuracy is: 43.75%\n",
      "tf.Tensor(13.0, shape=(), dtype=float32) 16\n",
      "current batch accuracy is: 81.25%\n",
      "tf.Tensor(15.0, shape=(), dtype=float32) 16\n",
      "current batch accuracy is: 93.75%\n"
     ]
    },
    {
     "name": "stderr",
     "output_type": "stream",
     "text": [
      " 24%|██████████████████▊                                                             | 737/3125 [00:52<02:32, 15.62it/s]"
     ]
    },
    {
     "name": "stdout",
     "output_type": "stream",
     "text": [
      "tf.Tensor(13.0, shape=(), dtype=float32) 16\n",
      "current batch accuracy is: 81.25%\n",
      "tf.Tensor(12.0, shape=(), dtype=float32) 16\n",
      "current batch accuracy is: 75.0%\n",
      "tf.Tensor(9.0, shape=(), dtype=float32) 16\n",
      "current batch accuracy is: 56.25%\n",
      "tf.Tensor(9.0, shape=(), dtype=float32) 16\n",
      "current batch accuracy is: 56.25%\n"
     ]
    },
    {
     "name": "stderr",
     "output_type": "stream",
     "text": [
      "\r",
      " 24%|██████████████████▉                                                             | 739/3125 [00:52<02:45, 14.43it/s]"
     ]
    },
    {
     "name": "stdout",
     "output_type": "stream",
     "text": [
      "tf.Tensor(12.0, shape=(), dtype=float32) 16\n",
      "current batch accuracy is: 75.0%\n",
      "tf.Tensor(12.0, shape=(), dtype=float32) 16\n",
      "current batch accuracy is: 75.0%\n",
      "tf.Tensor(12.0, shape=(), dtype=float32) 16\n",
      "current batch accuracy is: 75.0%\n"
     ]
    },
    {
     "name": "stderr",
     "output_type": "stream",
     "text": [
      " 24%|███████████████████                                                             | 743/3125 [00:52<02:39, 14.94it/s]"
     ]
    },
    {
     "name": "stdout",
     "output_type": "stream",
     "text": [
      "tf.Tensor(11.0, shape=(), dtype=float32) 16\n",
      "current batch accuracy is: 68.75%\n",
      "tf.Tensor(11.0, shape=(), dtype=float32) 16\n",
      "current batch accuracy is: 68.75%\n",
      "tf.Tensor(9.0, shape=(), dtype=float32) 16\n",
      "current batch accuracy is: 56.25%\n",
      "tf.Tensor(10.0, shape=(), dtype=float32) 16\n",
      "current batch accuracy is: 62.5%\n"
     ]
    },
    {
     "name": "stderr",
     "output_type": "stream",
     "text": [
      " 24%|███████████████████                                                             | 747/3125 [00:53<02:42, 14.68it/s]"
     ]
    },
    {
     "name": "stdout",
     "output_type": "stream",
     "text": [
      "tf.Tensor(9.0, shape=(), dtype=float32) 16\n",
      "current batch accuracy is: 56.25%\n",
      "tf.Tensor(12.0, shape=(), dtype=float32) 16\n",
      "current batch accuracy is: 75.0%\n",
      "tf.Tensor(10.0, shape=(), dtype=float32) 16\n",
      "current batch accuracy is: 62.5%\n"
     ]
    },
    {
     "name": "stderr",
     "output_type": "stream",
     "text": [
      "\r",
      " 24%|███████████████████▏                                                            | 749/3125 [00:53<04:20,  9.13it/s]"
     ]
    },
    {
     "name": "stdout",
     "output_type": "stream",
     "text": [
      "tf.Tensor(14.0, shape=(), dtype=float32) 16\n",
      "current batch accuracy is: 87.5%\n",
      "tf.Tensor(10.0, shape=(), dtype=float32) 16\n",
      "current batch accuracy is: 62.5%\n",
      "tf.Tensor(13.0, shape=(), dtype=float32) 16\n",
      "current batch accuracy is: 81.25%\n"
     ]
    },
    {
     "name": "stderr",
     "output_type": "stream",
     "text": [
      " 24%|███████████████████▎                                                            | 753/3125 [00:53<03:26, 11.46it/s]"
     ]
    },
    {
     "name": "stdout",
     "output_type": "stream",
     "text": [
      "tf.Tensor(10.0, shape=(), dtype=float32) 16\n",
      "current batch accuracy is: 62.5%\n",
      "tf.Tensor(14.0, shape=(), dtype=float32) 16\n",
      "current batch accuracy is: 87.5%\n",
      "tf.Tensor(11.0, shape=(), dtype=float32) 16\n",
      "current batch accuracy is: 68.75%\n"
     ]
    },
    {
     "name": "stderr",
     "output_type": "stream",
     "text": [
      "\r",
      " 24%|███████████████████▎                                                            | 755/3125 [00:54<04:02,  9.79it/s]"
     ]
    },
    {
     "name": "stdout",
     "output_type": "stream",
     "text": [
      "tf.Tensor(9.0, shape=(), dtype=float32) 16\n",
      "current batch accuracy is: 56.25%\n",
      "tf.Tensor(9.0, shape=(), dtype=float32) 16\n",
      "current batch accuracy is: 56.25%\n",
      "tf.Tensor(9.0, shape=(), dtype=float32) 16\n",
      "current batch accuracy is: 56.25%\n"
     ]
    },
    {
     "name": "stderr",
     "output_type": "stream",
     "text": [
      " 24%|███████████████████▍                                                            | 759/3125 [00:54<03:27, 11.42it/s]"
     ]
    },
    {
     "name": "stdout",
     "output_type": "stream",
     "text": [
      "tf.Tensor(10.0, shape=(), dtype=float32) 16\n",
      "current batch accuracy is: 62.5%\n",
      "tf.Tensor(11.0, shape=(), dtype=float32) 16\n",
      "current batch accuracy is: 68.75%\n",
      "tf.Tensor(8.0, shape=(), dtype=float32) 16\n",
      "current batch accuracy is: 50.0%\n"
     ]
    },
    {
     "name": "stderr",
     "output_type": "stream",
     "text": [
      "\r",
      " 24%|███████████████████▍                                                            | 761/3125 [00:54<03:10, 12.41it/s]"
     ]
    },
    {
     "name": "stdout",
     "output_type": "stream",
     "text": [
      "tf.Tensor(8.0, shape=(), dtype=float32) 16\n",
      "current batch accuracy is: 50.0%\n",
      "tf.Tensor(10.0, shape=(), dtype=float32) 16\n",
      "current batch accuracy is: 62.5%\n",
      "tf.Tensor(12.0, shape=(), dtype=float32) 16\n",
      "current batch accuracy is: 75.0%\n"
     ]
    },
    {
     "name": "stderr",
     "output_type": "stream",
     "text": [
      " 24%|███████████████████▌                                                            | 765/3125 [00:54<03:05, 12.69it/s]"
     ]
    },
    {
     "name": "stdout",
     "output_type": "stream",
     "text": [
      "tf.Tensor(13.0, shape=(), dtype=float32) 16\n",
      "current batch accuracy is: 81.25%\n",
      "tf.Tensor(12.0, shape=(), dtype=float32) 16\n",
      "current batch accuracy is: 75.0%\n",
      "tf.Tensor(10.0, shape=(), dtype=float32) 16\n",
      "current batch accuracy is: 62.5%\n"
     ]
    },
    {
     "name": "stderr",
     "output_type": "stream",
     "text": [
      " 25%|███████████████████▋                                                            | 769/3125 [00:55<02:49, 13.87it/s]"
     ]
    },
    {
     "name": "stdout",
     "output_type": "stream",
     "text": [
      "tf.Tensor(13.0, shape=(), dtype=float32) 16\n",
      "current batch accuracy is: 81.25%\n",
      "tf.Tensor(12.0, shape=(), dtype=float32) 16\n",
      "current batch accuracy is: 75.0%\n",
      "tf.Tensor(9.0, shape=(), dtype=float32) 16\n",
      "current batch accuracy is: 56.25%\n",
      "tf.Tensor(11.0, shape=(), dtype=float32) 16\n",
      "current batch accuracy is: 68.75%\n"
     ]
    },
    {
     "name": "stderr",
     "output_type": "stream",
     "text": [
      " 25%|███████████████████▊                                                            | 773/3125 [00:55<02:41, 14.56it/s]"
     ]
    },
    {
     "name": "stdout",
     "output_type": "stream",
     "text": [
      "tf.Tensor(12.0, shape=(), dtype=float32) 16\n",
      "current batch accuracy is: 75.0%\n",
      "tf.Tensor(11.0, shape=(), dtype=float32) 16\n",
      "current batch accuracy is: 68.75%\n",
      "tf.Tensor(15.0, shape=(), dtype=float32) 16\n",
      "current batch accuracy is: 93.75%\n",
      "tf.Tensor(9.0, shape=(), dtype=float32) 16\n",
      "current batch accuracy is: 56.25%\n"
     ]
    },
    {
     "name": "stderr",
     "output_type": "stream",
     "text": [
      " 25%|███████████████████▉                                                            | 777/3125 [00:55<02:35, 15.10it/s]"
     ]
    },
    {
     "name": "stdout",
     "output_type": "stream",
     "text": [
      "tf.Tensor(12.0, shape=(), dtype=float32) 16\n",
      "current batch accuracy is: 75.0%\n",
      "tf.Tensor(9.0, shape=(), dtype=float32) 16\n",
      "current batch accuracy is: 56.25%\n",
      "tf.Tensor(11.0, shape=(), dtype=float32) 16\n",
      "current batch accuracy is: 68.75%\n",
      "tf.Tensor(13.0, shape=(), dtype=float32) 16\n",
      "current batch accuracy is: 81.25%\n"
     ]
    },
    {
     "name": "stderr",
     "output_type": "stream",
     "text": [
      "\r",
      " 25%|███████████████████▉                                                            | 779/3125 [00:55<02:34, 15.21it/s]"
     ]
    },
    {
     "name": "stdout",
     "output_type": "stream",
     "text": [
      "tf.Tensor(7.0, shape=(), dtype=float32) 16\n",
      "current batch accuracy is: 43.75%\n",
      "tf.Tensor(13.0, shape=(), dtype=float32) 16\n",
      "current batch accuracy is: 81.25%\n",
      "tf.Tensor(12.0, shape=(), dtype=float32) 16\n",
      "current batch accuracy is: 75.0%\n"
     ]
    },
    {
     "name": "stderr",
     "output_type": "stream",
     "text": [
      " 25%|████████████████████                                                            | 783/3125 [00:55<02:42, 14.42it/s]"
     ]
    },
    {
     "name": "stdout",
     "output_type": "stream",
     "text": [
      "tf.Tensor(12.0, shape=(), dtype=float32) 16\n",
      "current batch accuracy is: 75.0%\n",
      "tf.Tensor(13.0, shape=(), dtype=float32) 16\n",
      "current batch accuracy is: 81.25%\n",
      "tf.Tensor(10.0, shape=(), dtype=float32) 16\n",
      "current batch accuracy is: 62.5%\n"
     ]
    },
    {
     "name": "stderr",
     "output_type": "stream",
     "text": [
      "\r",
      " 25%|████████████████████                                                            | 785/3125 [00:56<02:41, 14.45it/s]"
     ]
    },
    {
     "name": "stdout",
     "output_type": "stream",
     "text": [
      "tf.Tensor(7.0, shape=(), dtype=float32) 16\n",
      "current batch accuracy is: 43.75%\n",
      "tf.Tensor(13.0, shape=(), dtype=float32) 16\n",
      "current batch accuracy is: 81.25%\n",
      "tf.Tensor(9.0, shape=(), dtype=float32) 16\n",
      "current batch accuracy is: 56.25%\n"
     ]
    },
    {
     "name": "stderr",
     "output_type": "stream",
     "text": [
      " 25%|████████████████████▏                                                           | 789/3125 [00:56<02:53, 13.46it/s]"
     ]
    },
    {
     "name": "stdout",
     "output_type": "stream",
     "text": [
      "tf.Tensor(11.0, shape=(), dtype=float32) 16\n",
      "current batch accuracy is: 68.75%\n",
      "tf.Tensor(12.0, shape=(), dtype=float32) 16\n",
      "current batch accuracy is: 75.0%\n",
      "tf.Tensor(12.0, shape=(), dtype=float32) 16\n",
      "current batch accuracy is: 75.0%\n"
     ]
    },
    {
     "name": "stderr",
     "output_type": "stream",
     "text": [
      " 25%|████████████████████▎                                                           | 793/3125 [00:56<02:40, 14.53it/s]"
     ]
    },
    {
     "name": "stdout",
     "output_type": "stream",
     "text": [
      "tf.Tensor(11.0, shape=(), dtype=float32) 16\n",
      "current batch accuracy is: 68.75%\n",
      "tf.Tensor(9.0, shape=(), dtype=float32) 16\n",
      "current batch accuracy is: 56.25%\n",
      "tf.Tensor(12.0, shape=(), dtype=float32) 16\n",
      "current batch accuracy is: 75.0%\n",
      "tf.Tensor(7.0, shape=(), dtype=float32) 16\n",
      "current batch accuracy is: 43.75%\n"
     ]
    },
    {
     "name": "stderr",
     "output_type": "stream",
     "text": [
      " 26%|████████████████████▍                                                           | 797/3125 [00:56<02:35, 14.97it/s]"
     ]
    },
    {
     "name": "stdout",
     "output_type": "stream",
     "text": [
      "tf.Tensor(10.0, shape=(), dtype=float32) 16\n",
      "current batch accuracy is: 62.5%\n",
      "tf.Tensor(15.0, shape=(), dtype=float32) 16\n",
      "current batch accuracy is: 93.75%\n",
      "tf.Tensor(7.0, shape=(), dtype=float32) 16\n",
      "current batch accuracy is: 43.75%\n",
      "tf.Tensor(9.0, shape=(), dtype=float32) 16\n",
      "current batch accuracy is: 56.25%\n"
     ]
    },
    {
     "name": "stderr",
     "output_type": "stream",
     "text": [
      "\r",
      " 26%|████████████████████▍                                                           | 799/3125 [00:57<02:33, 15.18it/s]"
     ]
    },
    {
     "name": "stdout",
     "output_type": "stream",
     "text": [
      "tf.Tensor(6.0, shape=(), dtype=float32) 16\n",
      "current batch accuracy is: 37.5%\n",
      "tf.Tensor(9.0, shape=(), dtype=float32) 16\n",
      "current batch accuracy is: 56.25%\n",
      "tf.Tensor(9.0, shape=(), dtype=float32) 16\n",
      "current batch accuracy is: 56.25%\n"
     ]
    },
    {
     "name": "stderr",
     "output_type": "stream",
     "text": [
      " 26%|████████████████████▌                                                           | 803/3125 [00:57<02:32, 15.20it/s]"
     ]
    },
    {
     "name": "stdout",
     "output_type": "stream",
     "text": [
      "tf.Tensor(10.0, shape=(), dtype=float32) 16\n",
      "current batch accuracy is: 62.5%\n",
      "tf.Tensor(11.0, shape=(), dtype=float32) 16\n",
      "current batch accuracy is: 68.75%\n",
      "tf.Tensor(11.0, shape=(), dtype=float32) 16\n",
      "current batch accuracy is: 68.75%\n"
     ]
    },
    {
     "name": "stderr",
     "output_type": "stream",
     "text": [
      " 26%|████████████████████▋                                                           | 807/3125 [00:57<02:39, 14.52it/s]"
     ]
    },
    {
     "name": "stdout",
     "output_type": "stream",
     "text": [
      "tf.Tensor(8.0, shape=(), dtype=float32) 16\n",
      "current batch accuracy is: 50.0%\n",
      "tf.Tensor(8.0, shape=(), dtype=float32) 16\n",
      "current batch accuracy is: 50.0%\n",
      "tf.Tensor(7.0, shape=(), dtype=float32) 16\n",
      "current batch accuracy is: 43.75%\n",
      "tf.Tensor(11.0, shape=(), dtype=float32) 16\n",
      "current batch accuracy is: 68.75%\n"
     ]
    },
    {
     "name": "stderr",
     "output_type": "stream",
     "text": [
      "\r",
      " 26%|████████████████████▋                                                           | 809/3125 [00:57<02:36, 14.82it/s]"
     ]
    },
    {
     "name": "stdout",
     "output_type": "stream",
     "text": [
      "tf.Tensor(13.0, shape=(), dtype=float32) 16\n",
      "current batch accuracy is: 81.25%\n",
      "tf.Tensor(10.0, shape=(), dtype=float32) 16\n",
      "current batch accuracy is: 62.5%\n",
      "tf.Tensor(10.0, shape=(), dtype=float32) 16\n",
      "current batch accuracy is: 62.5%\n"
     ]
    },
    {
     "name": "stderr",
     "output_type": "stream",
     "text": [
      " 26%|████████████████████▊                                                           | 813/3125 [00:58<02:34, 14.93it/s]"
     ]
    },
    {
     "name": "stdout",
     "output_type": "stream",
     "text": [
      "tf.Tensor(10.0, shape=(), dtype=float32) 16\n",
      "current batch accuracy is: 62.5%\n",
      "tf.Tensor(12.0, shape=(), dtype=float32) 16\n",
      "current batch accuracy is: 75.0%\n",
      "tf.Tensor(13.0, shape=(), dtype=float32) 16\n",
      "current batch accuracy is: 81.25%\n"
     ]
    },
    {
     "name": "stderr",
     "output_type": "stream",
     "text": [
      "\r",
      " 26%|████████████████████▊                                                           | 815/3125 [00:58<02:39, 14.48it/s]"
     ]
    },
    {
     "name": "stdout",
     "output_type": "stream",
     "text": [
      "tf.Tensor(10.0, shape=(), dtype=float32) 16\n",
      "current batch accuracy is: 62.5%\n",
      "tf.Tensor(10.0, shape=(), dtype=float32) 16\n",
      "current batch accuracy is: 62.5%\n",
      "tf.Tensor(9.0, shape=(), dtype=float32) 16\n",
      "current batch accuracy is: 56.25%\n"
     ]
    },
    {
     "name": "stderr",
     "output_type": "stream",
     "text": [
      " 26%|████████████████████▉                                                           | 819/3125 [00:58<02:40, 14.41it/s]"
     ]
    },
    {
     "name": "stdout",
     "output_type": "stream",
     "text": [
      "tf.Tensor(12.0, shape=(), dtype=float32) 16\n",
      "current batch accuracy is: 75.0%\n",
      "tf.Tensor(11.0, shape=(), dtype=float32) 16\n",
      "current batch accuracy is: 68.75%\n",
      "tf.Tensor(11.0, shape=(), dtype=float32) 16\n",
      "current batch accuracy is: 68.75%\n"
     ]
    },
    {
     "name": "stderr",
     "output_type": "stream",
     "text": [
      " 26%|█████████████████████                                                           | 823/3125 [00:58<02:41, 14.22it/s]"
     ]
    },
    {
     "name": "stdout",
     "output_type": "stream",
     "text": [
      "tf.Tensor(10.0, shape=(), dtype=float32) 16\n",
      "current batch accuracy is: 62.5%\n",
      "tf.Tensor(13.0, shape=(), dtype=float32) 16\n",
      "current batch accuracy is: 81.25%\n",
      "tf.Tensor(10.0, shape=(), dtype=float32) 16\n",
      "current batch accuracy is: 62.5%\n",
      "tf.Tensor(11.0, shape=(), dtype=float32) 16\n",
      "current batch accuracy is: 68.75%\n"
     ]
    },
    {
     "name": "stderr",
     "output_type": "stream",
     "text": [
      " 26%|█████████████████████▏                                                          | 827/3125 [00:59<02:36, 14.69it/s]"
     ]
    },
    {
     "name": "stdout",
     "output_type": "stream",
     "text": [
      "tf.Tensor(14.0, shape=(), dtype=float32) 16\n",
      "current batch accuracy is: 87.5%\n",
      "tf.Tensor(10.0, shape=(), dtype=float32) 16\n",
      "current batch accuracy is: 62.5%\n",
      "tf.Tensor(7.0, shape=(), dtype=float32) 16\n",
      "current batch accuracy is: 43.75%\n",
      "tf.Tensor(11.0, shape=(), dtype=float32) 16\n",
      "current batch accuracy is: 68.75%\n"
     ]
    },
    {
     "name": "stderr",
     "output_type": "stream",
     "text": [
      "\r",
      " 27%|█████████████████████▏                                                          | 829/3125 [00:59<02:37, 14.53it/s]"
     ]
    },
    {
     "name": "stdout",
     "output_type": "stream",
     "text": [
      "tf.Tensor(8.0, shape=(), dtype=float32) 16\n",
      "current batch accuracy is: 50.0%\n",
      "tf.Tensor(11.0, shape=(), dtype=float32) 16\n",
      "current batch accuracy is: 68.75%\n",
      "tf.Tensor(10.0, shape=(), dtype=float32) 16\n",
      "current batch accuracy is: 62.5%\n"
     ]
    },
    {
     "name": "stderr",
     "output_type": "stream",
     "text": [
      " 27%|█████████████████████▎                                                          | 833/3125 [00:59<02:39, 14.34it/s]"
     ]
    },
    {
     "name": "stdout",
     "output_type": "stream",
     "text": [
      "tf.Tensor(10.0, shape=(), dtype=float32) 16\n",
      "current batch accuracy is: 62.5%\n",
      "tf.Tensor(12.0, shape=(), dtype=float32) 16\n",
      "current batch accuracy is: 75.0%\n",
      "tf.Tensor(12.0, shape=(), dtype=float32) 16\n",
      "current batch accuracy is: 75.0%\n",
      "tf.Tensor(11.0, shape=(), dtype=float32) 16\n",
      "current batch accuracy is: 68.75%\n"
     ]
    },
    {
     "name": "stderr",
     "output_type": "stream",
     "text": [
      " 27%|█████████████████████▍                                                          | 837/3125 [00:59<02:35, 14.68it/s]"
     ]
    },
    {
     "name": "stdout",
     "output_type": "stream",
     "text": [
      "tf.Tensor(12.0, shape=(), dtype=float32) 16\n",
      "current batch accuracy is: 75.0%\n",
      "tf.Tensor(8.0, shape=(), dtype=float32) 16\n",
      "current batch accuracy is: 50.0%\n",
      "tf.Tensor(12.0, shape=(), dtype=float32) 16\n",
      "current batch accuracy is: 75.0%\n"
     ]
    },
    {
     "name": "stderr",
     "output_type": "stream",
     "text": [
      "\r",
      " 27%|█████████████████████▍                                                          | 839/3125 [00:59<03:10, 11.98it/s]"
     ]
    },
    {
     "name": "stdout",
     "output_type": "stream",
     "text": [
      "tf.Tensor(13.0, shape=(), dtype=float32) 16\n",
      "current batch accuracy is: 81.25%\n",
      "tf.Tensor(13.0, shape=(), dtype=float32) 16\n",
      "current batch accuracy is: 81.25%\n"
     ]
    },
    {
     "name": "stderr",
     "output_type": "stream",
     "text": [
      "\r",
      " 27%|█████████████████████▌                                                          | 841/3125 [01:00<03:16, 11.61it/s]"
     ]
    },
    {
     "name": "stdout",
     "output_type": "stream",
     "text": [
      "tf.Tensor(10.0, shape=(), dtype=float32) 16\n",
      "current batch accuracy is: 62.5%\n",
      "tf.Tensor(12.0, shape=(), dtype=float32) 16\n",
      "current batch accuracy is: 75.0%\n",
      "tf.Tensor(11.0, shape=(), dtype=float32) 16\n",
      "current batch accuracy is: 68.75%\n"
     ]
    },
    {
     "name": "stderr",
     "output_type": "stream",
     "text": [
      "\r",
      " 27%|█████████████████████▌                                                          | 843/3125 [01:00<03:05, 12.33it/s]"
     ]
    },
    {
     "name": "stdout",
     "output_type": "stream",
     "text": [
      "tf.Tensor(11.0, shape=(), dtype=float32) 16\n",
      "current batch accuracy is: 68.75%\n",
      "tf.Tensor(8.0, shape=(), dtype=float32) 16\n",
      "current batch accuracy is: 50.0%\n"
     ]
    },
    {
     "name": "stderr",
     "output_type": "stream",
     "text": [
      "\r",
      " 27%|█████████████████████▋                                                          | 845/3125 [01:00<03:22, 11.23it/s]"
     ]
    },
    {
     "name": "stdout",
     "output_type": "stream",
     "text": [
      "tf.Tensor(12.0, shape=(), dtype=float32) 16\n",
      "current batch accuracy is: 75.0%\n",
      "tf.Tensor(15.0, shape=(), dtype=float32) 16\n",
      "current batch accuracy is: 93.75%\n"
     ]
    },
    {
     "name": "stderr",
     "output_type": "stream",
     "text": [
      " 27%|█████████████████████▋                                                          | 849/3125 [01:00<03:43, 10.17it/s]"
     ]
    },
    {
     "name": "stdout",
     "output_type": "stream",
     "text": [
      "tf.Tensor(7.0, shape=(), dtype=float32) 16\n",
      "current batch accuracy is: 43.75%\n",
      "tf.Tensor(11.0, shape=(), dtype=float32) 16\n",
      "current batch accuracy is: 68.75%\n",
      "tf.Tensor(12.0, shape=(), dtype=float32) 16\n",
      "current batch accuracy is: 75.0%\n",
      "tf.Tensor(11.0, shape=(), dtype=float32) 16\n",
      "current batch accuracy is: 68.75%\n"
     ]
    },
    {
     "name": "stderr",
     "output_type": "stream",
     "text": [
      " 27%|█████████████████████▊                                                          | 853/3125 [01:01<03:01, 12.49it/s]"
     ]
    },
    {
     "name": "stdout",
     "output_type": "stream",
     "text": [
      "tf.Tensor(10.0, shape=(), dtype=float32) 16\n",
      "current batch accuracy is: 62.5%\n",
      "tf.Tensor(9.0, shape=(), dtype=float32) 16\n",
      "current batch accuracy is: 56.25%\n",
      "tf.Tensor(9.0, shape=(), dtype=float32) 16\n",
      "current batch accuracy is: 56.25%\n",
      "tf.Tensor(10.0, shape=(), dtype=float32) 16\n"
     ]
    },
    {
     "name": "stderr",
     "output_type": "stream",
     "text": [
      "\r",
      " 27%|█████████████████████▉                                                          | 855/3125 [01:01<03:00, 12.59it/s]"
     ]
    },
    {
     "name": "stdout",
     "output_type": "stream",
     "text": [
      "current batch accuracy is: 62.5%\n",
      "tf.Tensor(10.0, shape=(), dtype=float32) 16\n",
      "current batch accuracy is: 62.5%\n",
      "tf.Tensor(11.0, shape=(), dtype=float32) 16\n",
      "current batch accuracy is: 68.75%\n"
     ]
    },
    {
     "name": "stderr",
     "output_type": "stream",
     "text": [
      " 27%|█████████████████████▉                                                          | 859/3125 [01:01<02:47, 13.50it/s]"
     ]
    },
    {
     "name": "stdout",
     "output_type": "stream",
     "text": [
      "tf.Tensor(9.0, shape=(), dtype=float32) 16\n",
      "current batch accuracy is: 56.25%\n",
      "tf.Tensor(10.0, shape=(), dtype=float32) 16\n",
      "current batch accuracy is: 62.5%\n",
      "tf.Tensor(12.0, shape=(), dtype=float32) 16\n",
      "current batch accuracy is: 75.0%\n"
     ]
    },
    {
     "name": "stderr",
     "output_type": "stream",
     "text": [
      "\r",
      " 28%|██████████████████████                                                          | 861/3125 [01:01<02:39, 14.20it/s]"
     ]
    },
    {
     "name": "stdout",
     "output_type": "stream",
     "text": [
      "tf.Tensor(6.0, shape=(), dtype=float32) 16\n",
      "current batch accuracy is: 37.5%\n",
      "tf.Tensor(10.0, shape=(), dtype=float32) 16\n",
      "current batch accuracy is: 62.5%\n",
      "tf.Tensor(11.0, shape=(), dtype=float32) 16\n",
      "current batch accuracy is: 68.75%\n",
      "tf.Tensor(14.0, shape=(), dtype=float32) 16\n",
      "current batch accuracy is: 87.5%\n"
     ]
    },
    {
     "name": "stderr",
     "output_type": "stream",
     "text": [
      " 28%|██████████████████████▏                                                         | 865/3125 [01:02<02:33, 14.73it/s]"
     ]
    },
    {
     "name": "stdout",
     "output_type": "stream",
     "text": [
      "tf.Tensor(12.0, shape=(), dtype=float32) 16\n",
      "current batch accuracy is: 75.0%\n",
      "tf.Tensor(14.0, shape=(), dtype=float32) 16\n",
      "current batch accuracy is: 87.5%\n",
      "tf.Tensor(10.0, shape=(), dtype=float32) 16\n",
      "current batch accuracy is: 62.5%\n"
     ]
    },
    {
     "name": "stderr",
     "output_type": "stream",
     "text": [
      "\r",
      " 28%|██████████████████████▏                                                         | 867/3125 [01:02<02:34, 14.63it/s]"
     ]
    },
    {
     "name": "stdout",
     "output_type": "stream",
     "text": [
      "tf.Tensor(10.0, shape=(), dtype=float32) 16\n",
      "current batch accuracy is: 62.5%\n",
      "tf.Tensor(11.0, shape=(), dtype=float32) 16\n",
      "current batch accuracy is: 68.75%\n"
     ]
    },
    {
     "name": "stderr",
     "output_type": "stream",
     "text": [
      " 28%|██████████████████████▎                                                         | 871/3125 [01:02<02:55, 12.86it/s]"
     ]
    },
    {
     "name": "stdout",
     "output_type": "stream",
     "text": [
      "tf.Tensor(9.0, shape=(), dtype=float32) 16\n",
      "current batch accuracy is: 56.25%\n",
      "tf.Tensor(9.0, shape=(), dtype=float32) 16\n",
      "current batch accuracy is: 56.25%\n",
      "tf.Tensor(10.0, shape=(), dtype=float32) 16\n",
      "current batch accuracy is: 62.5%\n"
     ]
    },
    {
     "name": "stderr",
     "output_type": "stream",
     "text": [
      " 28%|██████████████████████▍                                                         | 875/3125 [01:02<02:44, 13.65it/s]"
     ]
    },
    {
     "name": "stdout",
     "output_type": "stream",
     "text": [
      "tf.Tensor(12.0, shape=(), dtype=float32) 16\n",
      "current batch accuracy is: 75.0%\n",
      "tf.Tensor(10.0, shape=(), dtype=float32) 16\n",
      "current batch accuracy is: 62.5%\n",
      "tf.Tensor(11.0, shape=(), dtype=float32) 16\n",
      "current batch accuracy is: 68.75%\n",
      "tf.Tensor(9.0, shape=(), dtype=float32) 16\n",
      "current batch accuracy is: 56.25%\n"
     ]
    },
    {
     "name": "stderr",
     "output_type": "stream",
     "text": [
      "\r",
      " 28%|██████████████████████▍                                                         | 877/3125 [01:02<02:38, 14.20it/s]"
     ]
    },
    {
     "name": "stdout",
     "output_type": "stream",
     "text": [
      "tf.Tensor(11.0, shape=(), dtype=float32) 16\n",
      "current batch accuracy is: 68.75%\n",
      "tf.Tensor(11.0, shape=(), dtype=float32) 16\n",
      "current batch accuracy is: 68.75%\n",
      "tf.Tensor(12.0, shape=(), dtype=float32) 16\n",
      "current batch accuracy is: 75.0%\n"
     ]
    },
    {
     "name": "stderr",
     "output_type": "stream",
     "text": [
      " 28%|██████████████████████▌                                                         | 881/3125 [01:03<02:48, 13.36it/s]"
     ]
    },
    {
     "name": "stdout",
     "output_type": "stream",
     "text": [
      "tf.Tensor(8.0, shape=(), dtype=float32) 16\n",
      "current batch accuracy is: 50.0%\n",
      "tf.Tensor(10.0, shape=(), dtype=float32) 16\n",
      "current batch accuracy is: 62.5%\n",
      "tf.Tensor(11.0, shape=(), dtype=float32) 16\n",
      "current batch accuracy is: 68.75%\n"
     ]
    },
    {
     "name": "stderr",
     "output_type": "stream",
     "text": [
      "\r",
      " 28%|██████████████████████▌                                                         | 883/3125 [01:03<02:42, 13.78it/s]"
     ]
    },
    {
     "name": "stdout",
     "output_type": "stream",
     "text": [
      "tf.Tensor(12.0, shape=(), dtype=float32) 16\n",
      "current batch accuracy is: 75.0%\n",
      "tf.Tensor(11.0, shape=(), dtype=float32) 16\n",
      "current batch accuracy is: 68.75%\n",
      "tf.Tensor(8.0, shape=(), dtype=float32) 16\n",
      "current batch accuracy is: 50.0%\n"
     ]
    },
    {
     "name": "stderr",
     "output_type": "stream",
     "text": [
      " 28%|██████████████████████▋                                                         | 887/3125 [01:03<02:47, 13.38it/s]"
     ]
    },
    {
     "name": "stdout",
     "output_type": "stream",
     "text": [
      "tf.Tensor(11.0, shape=(), dtype=float32) 16\n",
      "current batch accuracy is: 68.75%\n",
      "tf.Tensor(11.0, shape=(), dtype=float32) 16\n",
      "current batch accuracy is: 68.75%\n",
      "tf.Tensor(10.0, shape=(), dtype=float32) 16\n",
      "current batch accuracy is: 62.5%\n"
     ]
    },
    {
     "name": "stderr",
     "output_type": "stream",
     "text": [
      "\r",
      " 28%|██████████████████████▊                                                         | 889/3125 [01:03<02:43, 13.65it/s]"
     ]
    },
    {
     "name": "stdout",
     "output_type": "stream",
     "text": [
      "tf.Tensor(11.0, shape=(), dtype=float32) 16\n",
      "current batch accuracy is: 68.75%\n",
      "tf.Tensor(9.0, shape=(), dtype=float32) 16\n",
      "current batch accuracy is: 56.25%\n",
      "tf.Tensor(10.0, shape=(), dtype=float32) 16\n",
      "current batch accuracy is: 62.5%\n"
     ]
    },
    {
     "name": "stderr",
     "output_type": "stream",
     "text": [
      " 29%|██████████████████████▊                                                         | 893/3125 [01:04<02:36, 14.22it/s]"
     ]
    },
    {
     "name": "stdout",
     "output_type": "stream",
     "text": [
      "tf.Tensor(10.0, shape=(), dtype=float32) 16\n",
      "current batch accuracy is: 62.5%\n",
      "tf.Tensor(10.0, shape=(), dtype=float32) 16\n",
      "current batch accuracy is: 62.5%\n",
      "tf.Tensor(14.0, shape=(), dtype=float32) 16\n",
      "current batch accuracy is: 87.5%\n",
      "tf.Tensor(11.0, shape=(), dtype=float32) 16\n",
      "current batch accuracy is: 68.75%\n"
     ]
    },
    {
     "name": "stderr",
     "output_type": "stream",
     "text": [
      " 29%|██████████████████████▉                                                         | 897/3125 [01:04<02:38, 14.05it/s]"
     ]
    },
    {
     "name": "stdout",
     "output_type": "stream",
     "text": [
      "tf.Tensor(7.0, shape=(), dtype=float32) 16\n",
      "current batch accuracy is: 43.75%\n",
      "tf.Tensor(9.0, shape=(), dtype=float32) 16\n",
      "current batch accuracy is: 56.25%\n",
      "tf.Tensor(12.0, shape=(), dtype=float32) 16\n",
      "current batch accuracy is: 75.0%\n"
     ]
    },
    {
     "name": "stderr",
     "output_type": "stream",
     "text": [
      "\r",
      " 29%|███████████████████████                                                         | 899/3125 [01:04<02:42, 13.73it/s]"
     ]
    },
    {
     "name": "stdout",
     "output_type": "stream",
     "text": [
      "tf.Tensor(11.0, shape=(), dtype=float32) 16\n",
      "current batch accuracy is: 68.75%\n",
      "tf.Tensor(7.0, shape=(), dtype=float32) 16\n",
      "current batch accuracy is: 43.75%\n",
      "tf.Tensor(11.0, shape=(), dtype=float32) 16\n",
      "current batch accuracy is: 68.75%\n"
     ]
    },
    {
     "name": "stderr",
     "output_type": "stream",
     "text": [
      " 29%|███████████████████████                                                         | 903/3125 [01:04<02:34, 14.42it/s]"
     ]
    },
    {
     "name": "stdout",
     "output_type": "stream",
     "text": [
      "tf.Tensor(10.0, shape=(), dtype=float32) 16\n",
      "current batch accuracy is: 62.5%\n",
      "tf.Tensor(8.0, shape=(), dtype=float32) 16\n",
      "current batch accuracy is: 50.0%\n",
      "tf.Tensor(13.0, shape=(), dtype=float32) 16\n",
      "current batch accuracy is: 81.25%\n",
      "tf.Tensor(11.0, shape=(), dtype=float32) 16\n",
      "current batch accuracy is: 68.75%\n"
     ]
    },
    {
     "name": "stderr",
     "output_type": "stream",
     "text": [
      " 29%|███████████████████████▏                                                        | 907/3125 [01:05<02:32, 14.50it/s]"
     ]
    },
    {
     "name": "stdout",
     "output_type": "stream",
     "text": [
      "tf.Tensor(8.0, shape=(), dtype=float32) 16\n",
      "current batch accuracy is: 50.0%\n",
      "tf.Tensor(12.0, shape=(), dtype=float32) 16\n",
      "current batch accuracy is: 75.0%\n",
      "tf.Tensor(15.0, shape=(), dtype=float32) 16\n",
      "current batch accuracy is: 93.75%\n"
     ]
    },
    {
     "name": "stderr",
     "output_type": "stream",
     "text": [
      " 29%|███████████████████████▎                                                        | 911/3125 [01:05<02:33, 14.45it/s]"
     ]
    },
    {
     "name": "stdout",
     "output_type": "stream",
     "text": [
      "tf.Tensor(10.0, shape=(), dtype=float32) 16\n",
      "current batch accuracy is: 62.5%\n",
      "tf.Tensor(12.0, shape=(), dtype=float32) 16\n",
      "current batch accuracy is: 75.0%\n",
      "tf.Tensor(12.0, shape=(), dtype=float32) 16\n",
      "current batch accuracy is: 75.0%\n",
      "tf.Tensor(10.0, shape=(), dtype=float32) 16\n",
      "current batch accuracy is: 62.5%\n"
     ]
    },
    {
     "name": "stderr",
     "output_type": "stream",
     "text": [
      "\r",
      " 29%|███████████████████████▎                                                        | 913/3125 [01:05<02:34, 14.29it/s]"
     ]
    },
    {
     "name": "stdout",
     "output_type": "stream",
     "text": [
      "tf.Tensor(9.0, shape=(), dtype=float32) 16\n",
      "current batch accuracy is: 56.25%\n",
      "tf.Tensor(7.0, shape=(), dtype=float32) 16\n",
      "current batch accuracy is: 43.75%\n",
      "tf.Tensor(12.0, shape=(), dtype=float32) 16\n",
      "current batch accuracy is: 75.0%\n"
     ]
    },
    {
     "name": "stderr",
     "output_type": "stream",
     "text": [
      " 29%|███████████████████████▍                                                        | 917/3125 [01:05<02:27, 14.92it/s]"
     ]
    },
    {
     "name": "stdout",
     "output_type": "stream",
     "text": [
      "tf.Tensor(8.0, shape=(), dtype=float32) 16\n",
      "current batch accuracy is: 50.0%\n",
      "tf.Tensor(14.0, shape=(), dtype=float32) 16\n",
      "current batch accuracy is: 87.5%\n",
      "tf.Tensor(14.0, shape=(), dtype=float32) 16\n",
      "current batch accuracy is: 87.5%\n",
      "tf.Tensor(12.0, shape=(), dtype=float32) 16\n"
     ]
    },
    {
     "name": "stderr",
     "output_type": "stream",
     "text": [
      "\r",
      " 29%|███████████████████████▌                                                        | 919/3125 [01:05<02:31, 14.60it/s]"
     ]
    },
    {
     "name": "stdout",
     "output_type": "stream",
     "text": [
      "current batch accuracy is: 75.0%\n",
      "tf.Tensor(10.0, shape=(), dtype=float32) 16\n",
      "current batch accuracy is: 62.5%\n",
      "tf.Tensor(7.0, shape=(), dtype=float32) 16\n",
      "current batch accuracy is: 43.75%\n"
     ]
    },
    {
     "name": "stderr",
     "output_type": "stream",
     "text": [
      " 30%|███████████████████████▋                                                        | 923/3125 [01:06<02:30, 14.65it/s]"
     ]
    },
    {
     "name": "stdout",
     "output_type": "stream",
     "text": [
      "tf.Tensor(11.0, shape=(), dtype=float32) 16\n",
      "current batch accuracy is: 68.75%\n",
      "tf.Tensor(6.0, shape=(), dtype=float32) 16\n",
      "current batch accuracy is: 37.5%\n",
      "tf.Tensor(12.0, shape=(), dtype=float32) 16\n",
      "current batch accuracy is: 75.0%\n"
     ]
    },
    {
     "name": "stderr",
     "output_type": "stream",
     "text": [
      " 30%|███████████████████████▋                                                        | 927/3125 [01:06<02:29, 14.73it/s]"
     ]
    },
    {
     "name": "stdout",
     "output_type": "stream",
     "text": [
      "tf.Tensor(11.0, shape=(), dtype=float32) 16\n",
      "current batch accuracy is: 68.75%\n",
      "tf.Tensor(10.0, shape=(), dtype=float32) 16\n",
      "current batch accuracy is: 62.5%\n",
      "tf.Tensor(9.0, shape=(), dtype=float32) 16\n",
      "current batch accuracy is: 56.25%\n",
      "tf.Tensor(11.0, shape=(), dtype=float32) 16\n",
      "current batch accuracy is: 68.75%\n"
     ]
    },
    {
     "name": "stderr",
     "output_type": "stream",
     "text": [
      "\r",
      " 30%|███████████████████████▊                                                        | 929/3125 [01:06<02:40, 13.70it/s]"
     ]
    },
    {
     "name": "stdout",
     "output_type": "stream",
     "text": [
      "tf.Tensor(11.0, shape=(), dtype=float32) 16\n",
      "current batch accuracy is: 68.75%\n",
      "tf.Tensor(5.0, shape=(), dtype=float32) 16\n",
      "current batch accuracy is: 31.25%\n",
      "tf.Tensor(11.0, shape=(), dtype=float32) 16\n",
      "current batch accuracy is: 68.75%\n"
     ]
    },
    {
     "name": "stderr",
     "output_type": "stream",
     "text": [
      " 30%|███████████████████████▉                                                        | 933/3125 [01:06<02:34, 14.19it/s]"
     ]
    },
    {
     "name": "stdout",
     "output_type": "stream",
     "text": [
      "tf.Tensor(9.0, shape=(), dtype=float32) 16\n",
      "current batch accuracy is: 56.25%\n",
      "tf.Tensor(11.0, shape=(), dtype=float32) 16\n",
      "current batch accuracy is: 68.75%\n",
      "tf.Tensor(12.0, shape=(), dtype=float32) 16\n",
      "current batch accuracy is: 75.0%\n"
     ]
    },
    {
     "name": "stderr",
     "output_type": "stream",
     "text": [
      "\r",
      " 30%|███████████████████████▉                                                        | 935/3125 [01:07<02:31, 14.48it/s]"
     ]
    },
    {
     "name": "stdout",
     "output_type": "stream",
     "text": [
      "tf.Tensor(10.0, shape=(), dtype=float32) 16\n",
      "current batch accuracy is: 62.5%\n",
      "tf.Tensor(11.0, shape=(), dtype=float32) 16\n",
      "current batch accuracy is: 68.75%\n",
      "tf.Tensor(10.0, shape=(), dtype=float32) 16\n",
      "current batch accuracy is: 62.5%\n"
     ]
    },
    {
     "name": "stderr",
     "output_type": "stream",
     "text": [
      " 30%|████████████████████████                                                        | 939/3125 [01:07<02:30, 14.57it/s]"
     ]
    },
    {
     "name": "stdout",
     "output_type": "stream",
     "text": [
      "tf.Tensor(14.0, shape=(), dtype=float32) 16\n",
      "current batch accuracy is: 87.5%\n",
      "tf.Tensor(13.0, shape=(), dtype=float32) 16\n",
      "current batch accuracy is: 81.25%\n",
      "tf.Tensor(11.0, shape=(), dtype=float32) 16\n",
      "current batch accuracy is: 68.75%\n",
      "tf.Tensor(11.0, shape=(), dtype=float32) 16\n",
      "current batch accuracy is: 68.75%\n"
     ]
    },
    {
     "name": "stderr",
     "output_type": "stream",
     "text": [
      " 30%|████████████████████████▏                                                       | 943/3125 [01:07<02:32, 14.32it/s]"
     ]
    },
    {
     "name": "stdout",
     "output_type": "stream",
     "text": [
      "tf.Tensor(8.0, shape=(), dtype=float32) 16\n",
      "current batch accuracy is: 50.0%\n",
      "tf.Tensor(14.0, shape=(), dtype=float32) 16\n",
      "current batch accuracy is: 87.5%\n",
      "tf.Tensor(14.0, shape=(), dtype=float32) 16\n",
      "current batch accuracy is: 87.5%\n"
     ]
    },
    {
     "name": "stderr",
     "output_type": "stream",
     "text": [
      "\r",
      " 30%|████████████████████████▏                                                       | 945/3125 [01:07<02:33, 14.21it/s]"
     ]
    },
    {
     "name": "stdout",
     "output_type": "stream",
     "text": [
      "tf.Tensor(13.0, shape=(), dtype=float32) 16\n",
      "current batch accuracy is: 81.25%\n",
      "tf.Tensor(11.0, shape=(), dtype=float32) 16\n",
      "current batch accuracy is: 68.75%\n",
      "tf.Tensor(12.0, shape=(), dtype=float32) 16\n",
      "current batch accuracy is: 75.0%\n",
      "tf.Tensor(12.0, shape=(), dtype=float32) 16\n",
      "current batch accuracy is: 75.0%\n"
     ]
    },
    {
     "name": "stderr",
     "output_type": "stream",
     "text": [
      " 30%|████████████████████████▎                                                       | 949/3125 [01:07<02:31, 14.40it/s]"
     ]
    },
    {
     "name": "stdout",
     "output_type": "stream",
     "text": [
      "tf.Tensor(13.0, shape=(), dtype=float32) 16\n",
      "current batch accuracy is: 81.25%\n",
      "tf.Tensor(7.0, shape=(), dtype=float32) 16\n",
      "current batch accuracy is: 43.75%\n",
      "tf.Tensor(7.0, shape=(), dtype=float32) 16\n",
      "current batch accuracy is: 43.75%\n"
     ]
    },
    {
     "name": "stderr",
     "output_type": "stream",
     "text": [
      " 30%|████████████████████████▍                                                       | 953/3125 [01:08<02:38, 13.74it/s]"
     ]
    },
    {
     "name": "stdout",
     "output_type": "stream",
     "text": [
      "tf.Tensor(13.0, shape=(), dtype=float32) 16\n",
      "current batch accuracy is: 81.25%\n",
      "tf.Tensor(11.0, shape=(), dtype=float32) 16\n",
      "current batch accuracy is: 68.75%\n",
      "tf.Tensor(10.0, shape=(), dtype=float32) 16\n",
      "current batch accuracy is: 62.5%\n"
     ]
    },
    {
     "name": "stderr",
     "output_type": "stream",
     "text": [
      " 31%|████████████████████████▍                                                       | 957/3125 [01:08<02:28, 14.60it/s]"
     ]
    },
    {
     "name": "stdout",
     "output_type": "stream",
     "text": [
      "tf.Tensor(12.0, shape=(), dtype=float32) 16\n",
      "current batch accuracy is: 75.0%\n",
      "tf.Tensor(11.0, shape=(), dtype=float32) 16\n",
      "current batch accuracy is: 68.75%\n",
      "tf.Tensor(11.0, shape=(), dtype=float32) 16\n",
      "current batch accuracy is: 68.75%\n",
      "tf.Tensor(10.0, shape=(), dtype=float32) 16\n",
      "current batch accuracy is: 62.5%\n"
     ]
    },
    {
     "name": "stderr",
     "output_type": "stream",
     "text": [
      "\r",
      " 31%|████████████████████████▌                                                       | 959/3125 [01:08<02:30, 14.36it/s]"
     ]
    },
    {
     "name": "stdout",
     "output_type": "stream",
     "text": [
      "tf.Tensor(10.0, shape=(), dtype=float32) 16\n",
      "current batch accuracy is: 62.5%\n",
      "tf.Tensor(11.0, shape=(), dtype=float32) 16\n",
      "current batch accuracy is: 68.75%\n",
      "tf.Tensor(13.0, shape=(), dtype=float32) 16\n",
      "current batch accuracy is: 81.25%\n"
     ]
    },
    {
     "name": "stderr",
     "output_type": "stream",
     "text": [
      " 31%|████████████████████████▋                                                       | 963/3125 [01:08<02:38, 13.66it/s]"
     ]
    },
    {
     "name": "stdout",
     "output_type": "stream",
     "text": [
      "tf.Tensor(11.0, shape=(), dtype=float32) 16\n",
      "current batch accuracy is: 68.75%\n",
      "tf.Tensor(12.0, shape=(), dtype=float32) 16\n",
      "current batch accuracy is: 75.0%\n",
      "tf.Tensor(8.0, shape=(), dtype=float32) 16\n",
      "current batch accuracy is: 50.0%\n"
     ]
    },
    {
     "name": "stderr",
     "output_type": "stream",
     "text": [
      "\r",
      " 31%|████████████████████████▋                                                       | 965/3125 [01:09<02:37, 13.72it/s]"
     ]
    },
    {
     "name": "stdout",
     "output_type": "stream",
     "text": [
      "tf.Tensor(13.0, shape=(), dtype=float32) 16\n",
      "current batch accuracy is: 81.25%\n",
      "tf.Tensor(10.0, shape=(), dtype=float32) 16\n",
      "current batch accuracy is: 62.5%\n",
      "tf.Tensor(10.0, shape=(), dtype=float32) 16\n",
      "current batch accuracy is: 62.5%\n"
     ]
    },
    {
     "name": "stderr",
     "output_type": "stream",
     "text": [
      " 31%|████████████████████████▊                                                       | 969/3125 [01:09<02:28, 14.54it/s]"
     ]
    },
    {
     "name": "stdout",
     "output_type": "stream",
     "text": [
      "tf.Tensor(8.0, shape=(), dtype=float32) 16\n",
      "current batch accuracy is: 50.0%\n",
      "tf.Tensor(10.0, shape=(), dtype=float32) 16\n",
      "current batch accuracy is: 62.5%\n",
      "tf.Tensor(10.0, shape=(), dtype=float32) 16\n",
      "current batch accuracy is: 62.5%\n",
      "tf.Tensor(9.0, shape=(), dtype=float32) 16\n",
      "current batch accuracy is: 56.25%\n"
     ]
    },
    {
     "name": "stderr",
     "output_type": "stream",
     "text": [
      " 31%|████████████████████████▉                                                       | 973/3125 [01:09<02:23, 15.04it/s]"
     ]
    },
    {
     "name": "stdout",
     "output_type": "stream",
     "text": [
      "tf.Tensor(10.0, shape=(), dtype=float32) 16\n",
      "current batch accuracy is: 62.5%\n",
      "tf.Tensor(12.0, shape=(), dtype=float32) 16\n",
      "current batch accuracy is: 75.0%\n",
      "tf.Tensor(11.0, shape=(), dtype=float32) 16\n",
      "current batch accuracy is: 68.75%\n"
     ]
    },
    {
     "name": "stderr",
     "output_type": "stream",
     "text": [
      " 31%|█████████████████████████                                                       | 977/3125 [01:09<02:22, 15.11it/s]"
     ]
    },
    {
     "name": "stdout",
     "output_type": "stream",
     "text": [
      "tf.Tensor(9.0, shape=(), dtype=float32) 16\n",
      "current batch accuracy is: 56.25%\n",
      "tf.Tensor(11.0, shape=(), dtype=float32) 16\n",
      "current batch accuracy is: 68.75%\n",
      "tf.Tensor(15.0, shape=(), dtype=float32) 16\n",
      "current batch accuracy is: 93.75%\n",
      "tf.Tensor(11.0, shape=(), dtype=float32) 16\n",
      "current batch accuracy is: 68.75%\n"
     ]
    },
    {
     "name": "stderr",
     "output_type": "stream",
     "text": [
      " 31%|█████████████████████████                                                       | 981/3125 [01:10<02:20, 15.30it/s]"
     ]
    },
    {
     "name": "stdout",
     "output_type": "stream",
     "text": [
      "tf.Tensor(13.0, shape=(), dtype=float32) 16\n",
      "current batch accuracy is: 81.25%\n",
      "tf.Tensor(9.0, shape=(), dtype=float32) 16\n",
      "current batch accuracy is: 56.25%\n",
      "tf.Tensor(12.0, shape=(), dtype=float32) 16\n",
      "current batch accuracy is: 75.0%\n",
      "tf.Tensor(8.0, shape=(), dtype=float32) 16\n",
      "current batch accuracy is: 50.0%\n"
     ]
    },
    {
     "name": "stderr",
     "output_type": "stream",
     "text": [
      " 32%|█████████████████████████▏                                                      | 985/3125 [01:10<02:21, 15.16it/s]"
     ]
    },
    {
     "name": "stdout",
     "output_type": "stream",
     "text": [
      "tf.Tensor(11.0, shape=(), dtype=float32) 16\n",
      "current batch accuracy is: 68.75%\n",
      "tf.Tensor(14.0, shape=(), dtype=float32) 16\n",
      "current batch accuracy is: 87.5%\n",
      "tf.Tensor(10.0, shape=(), dtype=float32) 16\n",
      "current batch accuracy is: 62.5%\n",
      "tf.Tensor(11.0, shape=(), dtype=float32) 16\n",
      "current batch accuracy is: 68.75%\n"
     ]
    },
    {
     "name": "stderr",
     "output_type": "stream",
     "text": [
      "\r",
      " 32%|█████████████████████████▎                                                      | 987/3125 [01:10<02:18, 15.38it/s]"
     ]
    },
    {
     "name": "stdout",
     "output_type": "stream",
     "text": [
      "tf.Tensor(9.0, shape=(), dtype=float32) 16\n",
      "current batch accuracy is: 56.25%\n",
      "tf.Tensor(12.0, shape=(), dtype=float32) 16\n",
      "current batch accuracy is: 75.0%\n",
      "tf.Tensor(12.0, shape=(), dtype=float32) 16\n",
      "current batch accuracy is: 75.0%\n"
     ]
    },
    {
     "name": "stderr",
     "output_type": "stream",
     "text": [
      " 32%|█████████████████████████▎                                                      | 991/3125 [01:10<02:21, 15.06it/s]"
     ]
    },
    {
     "name": "stdout",
     "output_type": "stream",
     "text": [
      "tf.Tensor(13.0, shape=(), dtype=float32) 16\n",
      "current batch accuracy is: 81.25%\n",
      "tf.Tensor(8.0, shape=(), dtype=float32) 16\n",
      "current batch accuracy is: 50.0%\n",
      "tf.Tensor(12.0, shape=(), dtype=float32) 16\n",
      "current batch accuracy is: 75.0%\n"
     ]
    },
    {
     "name": "stderr",
     "output_type": "stream",
     "text": [
      " 32%|█████████████████████████▍                                                      | 995/3125 [01:11<02:21, 15.09it/s]"
     ]
    },
    {
     "name": "stdout",
     "output_type": "stream",
     "text": [
      "tf.Tensor(13.0, shape=(), dtype=float32) 16\n",
      "current batch accuracy is: 81.25%\n",
      "tf.Tensor(10.0, shape=(), dtype=float32) 16\n",
      "current batch accuracy is: 62.5%\n",
      "tf.Tensor(13.0, shape=(), dtype=float32) 16\n",
      "current batch accuracy is: 81.25%\n",
      "tf.Tensor(12.0, shape=(), dtype=float32) 16\n",
      "current batch accuracy is: 75.0%\n"
     ]
    },
    {
     "name": "stderr",
     "output_type": "stream",
     "text": [
      "\r",
      " 32%|█████████████████████████▌                                                      | 997/3125 [01:11<02:25, 14.61it/s]"
     ]
    },
    {
     "name": "stdout",
     "output_type": "stream",
     "text": [
      "tf.Tensor(9.0, shape=(), dtype=float32) 16\n",
      "current batch accuracy is: 56.25%\n",
      "tf.Tensor(13.0, shape=(), dtype=float32) 16\n",
      "current batch accuracy is: 81.25%\n",
      "tf.Tensor(10.0, shape=(), dtype=float32) 16\n",
      "current batch accuracy is: 62.5%\n"
     ]
    },
    {
     "name": "stderr",
     "output_type": "stream",
     "text": [
      " 32%|█████████████████████████▎                                                     | 1001/3125 [01:11<02:22, 14.86it/s]"
     ]
    },
    {
     "name": "stdout",
     "output_type": "stream",
     "text": [
      "tf.Tensor(14.0, shape=(), dtype=float32) 16\n",
      "current batch accuracy is: 87.5%\n",
      "tf.Tensor(13.0, shape=(), dtype=float32) 16\n",
      "current batch accuracy is: 81.25%\n",
      "tf.Tensor(10.0, shape=(), dtype=float32) 16\n",
      "current batch accuracy is: 62.5%\n",
      "tf.Tensor(13.0, shape=(), dtype=float32) 16\n",
      "current batch accuracy is: 81.25%\n"
     ]
    },
    {
     "name": "stderr",
     "output_type": "stream",
     "text": [
      " 32%|█████████████████████████▍                                                     | 1005/3125 [01:11<02:34, 13.70it/s]"
     ]
    },
    {
     "name": "stdout",
     "output_type": "stream",
     "text": [
      "tf.Tensor(11.0, shape=(), dtype=float32) 16\n",
      "current batch accuracy is: 68.75%\n",
      "tf.Tensor(9.0, shape=(), dtype=float32) 16\n",
      "current batch accuracy is: 56.25%\n",
      "tf.Tensor(5.0, shape=(), dtype=float32) 16\n",
      "current batch accuracy is: 31.25%\n"
     ]
    },
    {
     "name": "stderr",
     "output_type": "stream",
     "text": [
      "\r",
      " 32%|█████████████████████████▍                                                     | 1007/3125 [01:11<02:34, 13.68it/s]"
     ]
    },
    {
     "name": "stdout",
     "output_type": "stream",
     "text": [
      "tf.Tensor(10.0, shape=(), dtype=float32) 16\n",
      "current batch accuracy is: 62.5%\n",
      "tf.Tensor(13.0, shape=(), dtype=float32) 16\n",
      "current batch accuracy is: 81.25%\n",
      "tf.Tensor(8.0, shape=(), dtype=float32) 16\n",
      "current batch accuracy is: 50.0%\n"
     ]
    },
    {
     "name": "stderr",
     "output_type": "stream",
     "text": [
      " 32%|█████████████████████████▌                                                     | 1011/3125 [01:12<02:36, 13.47it/s]"
     ]
    },
    {
     "name": "stdout",
     "output_type": "stream",
     "text": [
      "tf.Tensor(11.0, shape=(), dtype=float32) 16\n",
      "current batch accuracy is: 68.75%\n",
      "tf.Tensor(13.0, shape=(), dtype=float32) 16\n",
      "current batch accuracy is: 81.25%\n",
      "tf.Tensor(10.0, shape=(), dtype=float32) 16\n",
      "current batch accuracy is: 62.5%\n"
     ]
    },
    {
     "name": "stderr",
     "output_type": "stream",
     "text": [
      "\r",
      " 32%|█████████████████████████▌                                                     | 1013/3125 [01:12<02:32, 13.82it/s]"
     ]
    },
    {
     "name": "stdout",
     "output_type": "stream",
     "text": [
      "tf.Tensor(12.0, shape=(), dtype=float32) 16\n",
      "current batch accuracy is: 75.0%\n",
      "tf.Tensor(9.0, shape=(), dtype=float32) 16\n",
      "current batch accuracy is: 56.25%\n",
      "tf.Tensor(10.0, shape=(), dtype=float32) 16\n",
      "current batch accuracy is: 62.5%\n"
     ]
    },
    {
     "name": "stderr",
     "output_type": "stream",
     "text": [
      " 33%|█████████████████████████▋                                                     | 1017/3125 [01:12<02:38, 13.34it/s]"
     ]
    },
    {
     "name": "stdout",
     "output_type": "stream",
     "text": [
      "tf.Tensor(12.0, shape=(), dtype=float32) 16\n",
      "current batch accuracy is: 75.0%\n",
      "tf.Tensor(11.0, shape=(), dtype=float32) 16\n",
      "current batch accuracy is: 68.75%\n",
      "tf.Tensor(11.0, shape=(), dtype=float32) 16\n",
      "current batch accuracy is: 68.75%\n"
     ]
    },
    {
     "name": "stderr",
     "output_type": "stream",
     "text": [
      "\r",
      " 33%|█████████████████████████▊                                                     | 1019/3125 [01:12<02:52, 12.23it/s]"
     ]
    },
    {
     "name": "stdout",
     "output_type": "stream",
     "text": [
      "tf.Tensor(12.0, shape=(), dtype=float32) 16\n",
      "current batch accuracy is: 75.0%\n",
      "tf.Tensor(13.0, shape=(), dtype=float32) 16\n",
      "current batch accuracy is: 81.25%\n"
     ]
    },
    {
     "name": "stderr",
     "output_type": "stream",
     "text": [
      "\r",
      " 33%|█████████████████████████▊                                                     | 1021/3125 [01:13<02:59, 11.73it/s]"
     ]
    },
    {
     "name": "stdout",
     "output_type": "stream",
     "text": [
      "tf.Tensor(14.0, shape=(), dtype=float32) 16\n",
      "current batch accuracy is: 87.5%\n",
      "tf.Tensor(12.0, shape=(), dtype=float32) 16\n",
      "current batch accuracy is: 75.0%\n",
      "tf.Tensor(12.0, shape=(), dtype=float32) 16\n",
      "current batch accuracy is: 75.0%\n"
     ]
    },
    {
     "name": "stderr",
     "output_type": "stream",
     "text": [
      " 33%|█████████████████████████▉                                                     | 1025/3125 [01:13<02:43, 12.87it/s]"
     ]
    },
    {
     "name": "stdout",
     "output_type": "stream",
     "text": [
      "tf.Tensor(13.0, shape=(), dtype=float32) 16\n",
      "current batch accuracy is: 81.25%\n",
      "tf.Tensor(14.0, shape=(), dtype=float32) 16\n",
      "current batch accuracy is: 87.5%\n",
      "tf.Tensor(14.0, shape=(), dtype=float32) 16\n",
      "current batch accuracy is: 87.5%\n",
      "tf.Tensor(10.0, shape=(), dtype=float32) 16\n",
      "current batch accuracy is: 62.5%\n"
     ]
    },
    {
     "name": "stderr",
     "output_type": "stream",
     "text": [
      " 33%|██████████████████████████                                                     | 1029/3125 [01:13<02:31, 13.87it/s]"
     ]
    },
    {
     "name": "stdout",
     "output_type": "stream",
     "text": [
      "tf.Tensor(12.0, shape=(), dtype=float32) 16\n",
      "current batch accuracy is: 75.0%\n",
      "tf.Tensor(7.0, shape=(), dtype=float32) 16\n",
      "current batch accuracy is: 43.75%\n",
      "tf.Tensor(8.0, shape=(), dtype=float32) 16\n",
      "current batch accuracy is: 50.0%\n"
     ]
    },
    {
     "name": "stderr",
     "output_type": "stream",
     "text": [
      "\r",
      " 33%|██████████████████████████                                                     | 1031/3125 [01:13<02:37, 13.33it/s]"
     ]
    },
    {
     "name": "stdout",
     "output_type": "stream",
     "text": [
      "tf.Tensor(9.0, shape=(), dtype=float32) 16\n",
      "current batch accuracy is: 56.25%\n",
      "tf.Tensor(8.0, shape=(), dtype=float32) 16\n",
      "current batch accuracy is: 50.0%\n",
      "tf.Tensor(10.0, shape=(), dtype=float32) 16\n",
      "current batch accuracy is: 62.5%\n"
     ]
    },
    {
     "name": "stderr",
     "output_type": "stream",
     "text": [
      " 33%|██████████████████████████▏                                                    | 1035/3125 [01:14<02:25, 14.37it/s]"
     ]
    },
    {
     "name": "stdout",
     "output_type": "stream",
     "text": [
      "tf.Tensor(11.0, shape=(), dtype=float32) 16\n",
      "current batch accuracy is: 68.75%\n",
      "tf.Tensor(10.0, shape=(), dtype=float32) 16\n",
      "current batch accuracy is: 62.5%\n",
      "tf.Tensor(10.0, shape=(), dtype=float32) 16\n",
      "current batch accuracy is: 62.5%\n",
      "tf.Tensor(10.0, shape=(), dtype=float32) 16\n",
      "current batch accuracy is: 62.5%\n"
     ]
    },
    {
     "name": "stderr",
     "output_type": "stream",
     "text": [
      " 33%|██████████████████████████▎                                                    | 1039/3125 [01:14<02:26, 14.25it/s]"
     ]
    },
    {
     "name": "stdout",
     "output_type": "stream",
     "text": [
      "tf.Tensor(10.0, shape=(), dtype=float32) 16\n",
      "current batch accuracy is: 62.5%\n",
      "tf.Tensor(13.0, shape=(), dtype=float32) 16\n",
      "current batch accuracy is: 81.25%\n",
      "tf.Tensor(9.0, shape=(), dtype=float32) 16\n",
      "current batch accuracy is: 56.25%\n"
     ]
    },
    {
     "name": "stderr",
     "output_type": "stream",
     "text": [
      "\r",
      " 33%|██████████████████████████▎                                                    | 1041/3125 [01:14<02:26, 14.24it/s]"
     ]
    },
    {
     "name": "stdout",
     "output_type": "stream",
     "text": [
      "tf.Tensor(10.0, shape=(), dtype=float32) 16\n",
      "current batch accuracy is: 62.5%\n",
      "tf.Tensor(15.0, shape=(), dtype=float32) 16\n",
      "current batch accuracy is: 93.75%\n",
      "tf.Tensor(7.0, shape=(), dtype=float32) 16\n",
      "current batch accuracy is: 43.75%\n"
     ]
    },
    {
     "name": "stderr",
     "output_type": "stream",
     "text": [
      " 33%|██████████████████████████▍                                                    | 1045/3125 [01:14<02:19, 14.93it/s]"
     ]
    },
    {
     "name": "stdout",
     "output_type": "stream",
     "text": [
      "tf.Tensor(11.0, shape=(), dtype=float32) 16\n",
      "current batch accuracy is: 68.75%\n",
      "tf.Tensor(11.0, shape=(), dtype=float32) 16\n",
      "current batch accuracy is: 68.75%\n",
      "tf.Tensor(8.0, shape=(), dtype=float32) 16\n",
      "current batch accuracy is: 50.0%\n",
      "tf.Tensor(9.0, shape=(), dtype=float32) 16\n",
      "current batch accuracy is: 56.25%\n"
     ]
    },
    {
     "name": "stderr",
     "output_type": "stream",
     "text": [
      " 34%|██████████████████████████▌                                                    | 1049/3125 [01:15<02:17, 15.05it/s]"
     ]
    },
    {
     "name": "stdout",
     "output_type": "stream",
     "text": [
      "tf.Tensor(9.0, shape=(), dtype=float32) 16\n",
      "current batch accuracy is: 56.25%\n",
      "tf.Tensor(10.0, shape=(), dtype=float32) 16\n",
      "current batch accuracy is: 62.5%\n",
      "tf.Tensor(11.0, shape=(), dtype=float32) 16\n",
      "current batch accuracy is: 68.75%\n",
      "tf.Tensor(9.0, shape=(), dtype=float32) 16\n",
      "current batch accuracy is: 56.25%\n"
     ]
    },
    {
     "name": "stderr",
     "output_type": "stream",
     "text": [
      " 34%|██████████████████████████▌                                                    | 1053/3125 [01:15<02:21, 14.63it/s]"
     ]
    },
    {
     "name": "stdout",
     "output_type": "stream",
     "text": [
      "tf.Tensor(12.0, shape=(), dtype=float32) 16\n",
      "current batch accuracy is: 75.0%\n",
      "tf.Tensor(10.0, shape=(), dtype=float32) 16\n",
      "current batch accuracy is: 62.5%\n",
      "tf.Tensor(13.0, shape=(), dtype=float32) 16\n",
      "current batch accuracy is: 81.25%\n"
     ]
    },
    {
     "name": "stderr",
     "output_type": "stream",
     "text": [
      "\r",
      " 34%|██████████████████████████▋                                                    | 1055/3125 [01:15<02:18, 14.94it/s]"
     ]
    },
    {
     "name": "stdout",
     "output_type": "stream",
     "text": [
      "tf.Tensor(13.0, shape=(), dtype=float32) 16\n",
      "current batch accuracy is: 81.25%\n",
      "tf.Tensor(10.0, shape=(), dtype=float32) 16\n",
      "current batch accuracy is: 62.5%\n",
      "tf.Tensor(13.0, shape=(), dtype=float32) 16\n",
      "current batch accuracy is: 81.25%\n"
     ]
    },
    {
     "name": "stderr",
     "output_type": "stream",
     "text": [
      " 34%|██████████████████████████▊                                                    | 1059/3125 [01:15<02:20, 14.70it/s]"
     ]
    },
    {
     "name": "stdout",
     "output_type": "stream",
     "text": [
      "tf.Tensor(11.0, shape=(), dtype=float32) 16\n",
      "current batch accuracy is: 68.75%\n",
      "tf.Tensor(11.0, shape=(), dtype=float32) 16\n",
      "current batch accuracy is: 68.75%\n",
      "tf.Tensor(11.0, shape=(), dtype=float32) 16\n",
      "current batch accuracy is: 68.75%\n"
     ]
    },
    {
     "name": "stderr",
     "output_type": "stream",
     "text": [
      " 34%|██████████████████████████▊                                                    | 1063/3125 [01:16<02:22, 14.48it/s]"
     ]
    },
    {
     "name": "stdout",
     "output_type": "stream",
     "text": [
      "tf.Tensor(10.0, shape=(), dtype=float32) 16\n",
      "current batch accuracy is: 62.5%\n",
      "tf.Tensor(10.0, shape=(), dtype=float32) 16\n",
      "current batch accuracy is: 62.5%\n",
      "tf.Tensor(13.0, shape=(), dtype=float32) 16\n",
      "current batch accuracy is: 81.25%\n",
      "tf.Tensor(10.0, shape=(), dtype=float32) 16\n",
      "current batch accuracy is: 62.5%\n"
     ]
    },
    {
     "name": "stderr",
     "output_type": "stream",
     "text": [
      " 34%|██████████████████████████▉                                                    | 1067/3125 [01:16<02:15, 15.22it/s]"
     ]
    },
    {
     "name": "stdout",
     "output_type": "stream",
     "text": [
      "tf.Tensor(10.0, shape=(), dtype=float32) 16\n",
      "current batch accuracy is: 62.5%\n",
      "tf.Tensor(12.0, shape=(), dtype=float32) 16\n",
      "current batch accuracy is: 75.0%\n",
      "tf.Tensor(11.0, shape=(), dtype=float32) 16\n",
      "current batch accuracy is: 68.75%\n",
      "tf.Tensor(11.0, shape=(), dtype=float32) 16\n",
      "current batch accuracy is: 68.75%\n"
     ]
    },
    {
     "name": "stderr",
     "output_type": "stream",
     "text": [
      " 34%|███████████████████████████                                                    | 1071/3125 [01:16<02:17, 14.89it/s]"
     ]
    },
    {
     "name": "stdout",
     "output_type": "stream",
     "text": [
      "tf.Tensor(9.0, shape=(), dtype=float32) 16\n",
      "current batch accuracy is: 56.25%\n",
      "tf.Tensor(13.0, shape=(), dtype=float32) 16\n",
      "current batch accuracy is: 81.25%\n",
      "tf.Tensor(8.0, shape=(), dtype=float32) 16\n",
      "current batch accuracy is: 50.0%\n",
      "tf.Tensor(10.0, shape=(), dtype=float32) 16\n",
      "current batch accuracy is: 62.5%\n"
     ]
    },
    {
     "name": "stderr",
     "output_type": "stream",
     "text": [
      " 34%|███████████████████████████▏                                                   | 1075/3125 [01:16<02:14, 15.23it/s]"
     ]
    },
    {
     "name": "stdout",
     "output_type": "stream",
     "text": [
      "tf.Tensor(12.0, shape=(), dtype=float32) 16\n",
      "current batch accuracy is: 75.0%\n",
      "tf.Tensor(9.0, shape=(), dtype=float32) 16\n",
      "current batch accuracy is: 56.25%\n",
      "tf.Tensor(12.0, shape=(), dtype=float32) 16\n",
      "current batch accuracy is: 75.0%\n",
      "tf.Tensor(11.0, shape=(), dtype=float32) 16\n",
      "current batch accuracy is: 68.75%\n"
     ]
    },
    {
     "name": "stderr",
     "output_type": "stream",
     "text": [
      "\r",
      " 34%|███████████████████████████▏                                                   | 1077/3125 [01:16<02:15, 15.07it/s]"
     ]
    },
    {
     "name": "stdout",
     "output_type": "stream",
     "text": [
      "tf.Tensor(12.0, shape=(), dtype=float32) 16\n",
      "current batch accuracy is: 75.0%\n",
      "tf.Tensor(12.0, shape=(), dtype=float32) 16\n",
      "current batch accuracy is: 75.0%\n",
      "tf.Tensor(9.0, shape=(), dtype=float32) 16\n",
      "current batch accuracy is: 56.25%\n"
     ]
    },
    {
     "name": "stderr",
     "output_type": "stream",
     "text": [
      " 35%|███████████████████████████▎                                                   | 1081/3125 [01:17<02:36, 13.05it/s]"
     ]
    },
    {
     "name": "stdout",
     "output_type": "stream",
     "text": [
      "tf.Tensor(9.0, shape=(), dtype=float32) 16\n",
      "current batch accuracy is: 56.25%\n",
      "tf.Tensor(11.0, shape=(), dtype=float32) 16\n",
      "current batch accuracy is: 68.75%\n",
      "tf.Tensor(11.0, shape=(), dtype=float32) 16\n",
      "current batch accuracy is: 68.75%\n"
     ]
    },
    {
     "name": "stderr",
     "output_type": "stream",
     "text": [
      "\r",
      " 35%|███████████████████████████▍                                                   | 1083/3125 [01:17<02:28, 13.76it/s]"
     ]
    },
    {
     "name": "stdout",
     "output_type": "stream",
     "text": [
      "tf.Tensor(11.0, shape=(), dtype=float32) 16\n",
      "current batch accuracy is: 68.75%\n",
      "tf.Tensor(10.0, shape=(), dtype=float32) 16\n",
      "current batch accuracy is: 62.5%\n",
      "tf.Tensor(8.0, shape=(), dtype=float32) 16\n",
      "current batch accuracy is: 50.0%\n"
     ]
    },
    {
     "name": "stderr",
     "output_type": "stream",
     "text": [
      " 35%|███████████████████████████▍                                                   | 1087/3125 [01:17<02:21, 14.36it/s]"
     ]
    },
    {
     "name": "stdout",
     "output_type": "stream",
     "text": [
      "tf.Tensor(10.0, shape=(), dtype=float32) 16\n",
      "current batch accuracy is: 62.5%\n",
      "tf.Tensor(12.0, shape=(), dtype=float32) 16\n",
      "current batch accuracy is: 75.0%\n",
      "tf.Tensor(8.0, shape=(), dtype=float32) 16\n",
      "current batch accuracy is: 50.0%\n",
      "tf.Tensor(9.0, shape=(), dtype=float32) 16\n",
      "current batch accuracy is: 56.25%\n"
     ]
    },
    {
     "name": "stderr",
     "output_type": "stream",
     "text": [
      " 35%|███████████████████████████▌                                                   | 1091/3125 [01:17<02:33, 13.29it/s]"
     ]
    },
    {
     "name": "stdout",
     "output_type": "stream",
     "text": [
      "tf.Tensor(14.0, shape=(), dtype=float32) 16\n",
      "current batch accuracy is: 87.5%\n",
      "tf.Tensor(9.0, shape=(), dtype=float32) 16\n",
      "current batch accuracy is: 56.25%\n",
      "tf.Tensor(9.0, shape=(), dtype=float32) 16\n",
      "current batch accuracy is: 56.25%\n"
     ]
    },
    {
     "name": "stderr",
     "output_type": "stream",
     "text": [
      " 35%|███████████████████████████▋                                                   | 1095/3125 [01:18<02:20, 14.49it/s]"
     ]
    },
    {
     "name": "stdout",
     "output_type": "stream",
     "text": [
      "tf.Tensor(11.0, shape=(), dtype=float32) 16\n",
      "current batch accuracy is: 68.75%\n",
      "tf.Tensor(11.0, shape=(), dtype=float32) 16\n",
      "current batch accuracy is: 68.75%\n",
      "tf.Tensor(9.0, shape=(), dtype=float32) 16\n",
      "current batch accuracy is: 56.25%\n",
      "tf.Tensor(12.0, shape=(), dtype=float32) 16\n",
      "current batch accuracy is: 75.0%\n"
     ]
    },
    {
     "name": "stderr",
     "output_type": "stream",
     "text": [
      "\r",
      " 35%|███████████████████████████▋                                                   | 1097/3125 [01:18<02:19, 14.52it/s]"
     ]
    },
    {
     "name": "stdout",
     "output_type": "stream",
     "text": [
      "tf.Tensor(11.0, shape=(), dtype=float32) 16\n",
      "current batch accuracy is: 68.75%\n",
      "tf.Tensor(13.0, shape=(), dtype=float32) 16\n",
      "current batch accuracy is: 81.25%\n",
      "tf.Tensor(10.0, shape=(), dtype=float32) 16\n",
      "current batch accuracy is: 62.5%\n"
     ]
    },
    {
     "name": "stderr",
     "output_type": "stream",
     "text": [
      " 35%|███████████████████████████▊                                                   | 1101/3125 [01:18<02:32, 13.26it/s]"
     ]
    },
    {
     "name": "stdout",
     "output_type": "stream",
     "text": [
      "tf.Tensor(12.0, shape=(), dtype=float32) 16\n",
      "current batch accuracy is: 75.0%\n",
      "tf.Tensor(11.0, shape=(), dtype=float32) 16\n",
      "current batch accuracy is: 68.75%\n",
      "tf.Tensor(9.0, shape=(), dtype=float32) 16\n",
      "current batch accuracy is: 56.25%\n"
     ]
    },
    {
     "name": "stderr",
     "output_type": "stream",
     "text": [
      " 35%|███████████████████████████▉                                                   | 1105/3125 [01:18<02:25, 13.88it/s]"
     ]
    },
    {
     "name": "stdout",
     "output_type": "stream",
     "text": [
      "tf.Tensor(11.0, shape=(), dtype=float32) 16\n",
      "current batch accuracy is: 68.75%\n",
      "tf.Tensor(12.0, shape=(), dtype=float32) 16\n",
      "current batch accuracy is: 75.0%\n",
      "tf.Tensor(12.0, shape=(), dtype=float32) 16\n",
      "current batch accuracy is: 75.0%\n",
      "tf.Tensor(11.0, shape=(), dtype=float32) 16\n",
      "current batch accuracy is: 68.75%\n"
     ]
    },
    {
     "name": "stderr",
     "output_type": "stream",
     "text": [
      "\r",
      " 35%|███████████████████████████▉                                                   | 1107/3125 [01:19<02:20, 14.39it/s]"
     ]
    },
    {
     "name": "stdout",
     "output_type": "stream",
     "text": [
      "tf.Tensor(9.0, shape=(), dtype=float32) 16\n",
      "current batch accuracy is: 56.25%\n",
      "tf.Tensor(12.0, shape=(), dtype=float32) 16\n",
      "current batch accuracy is: 75.0%\n",
      "tf.Tensor(13.0, shape=(), dtype=float32) 16\n",
      "current batch accuracy is: 81.25%\n",
      "tf.Tensor(10.0, shape=(), dtype=float32) 16\n"
     ]
    },
    {
     "name": "stderr",
     "output_type": "stream",
     "text": [
      " 36%|████████████████████████████                                                   | 1111/3125 [01:19<02:24, 13.90it/s]"
     ]
    },
    {
     "name": "stdout",
     "output_type": "stream",
     "text": [
      "current batch accuracy is: 62.5%\n",
      "tf.Tensor(8.0, shape=(), dtype=float32) 16\n",
      "current batch accuracy is: 50.0%\n",
      "tf.Tensor(11.0, shape=(), dtype=float32) 16\n",
      "current batch accuracy is: 68.75%\n"
     ]
    },
    {
     "name": "stderr",
     "output_type": "stream",
     "text": [
      "\r",
      " 36%|████████████████████████████▏                                                  | 1113/3125 [01:19<02:22, 14.11it/s]"
     ]
    },
    {
     "name": "stdout",
     "output_type": "stream",
     "text": [
      "tf.Tensor(12.0, shape=(), dtype=float32) 16\n",
      "current batch accuracy is: 75.0%\n",
      "tf.Tensor(11.0, shape=(), dtype=float32) 16\n",
      "current batch accuracy is: 68.75%\n",
      "tf.Tensor(6.0, shape=(), dtype=float32) 16\n",
      "current batch accuracy is: 37.5%\n"
     ]
    },
    {
     "name": "stderr",
     "output_type": "stream",
     "text": [
      "\r",
      " 36%|████████████████████████████▏                                                  | 1115/3125 [01:19<02:26, 13.71it/s]"
     ]
    },
    {
     "name": "stdout",
     "output_type": "stream",
     "text": [
      "tf.Tensor(11.0, shape=(), dtype=float32) 16\n",
      "current batch accuracy is: 68.75%\n",
      "tf.Tensor(9.0, shape=(), dtype=float32) 16\n",
      "current batch accuracy is: 56.25%\n"
     ]
    },
    {
     "name": "stderr",
     "output_type": "stream",
     "text": [
      "\r",
      " 36%|████████████████████████████▏                                                  | 1117/3125 [01:19<03:12, 10.42it/s]"
     ]
    },
    {
     "name": "stdout",
     "output_type": "stream",
     "text": [
      "tf.Tensor(9.0, shape=(), dtype=float32) 16\n",
      "current batch accuracy is: 56.25%\n",
      "tf.Tensor(13.0, shape=(), dtype=float32) 16\n",
      "current batch accuracy is: 81.25%\n"
     ]
    },
    {
     "name": "stderr",
     "output_type": "stream",
     "text": [
      " 36%|████████████████████████████▎                                                  | 1121/3125 [01:20<02:59, 11.15it/s]"
     ]
    },
    {
     "name": "stdout",
     "output_type": "stream",
     "text": [
      "tf.Tensor(8.0, shape=(), dtype=float32) 16\n",
      "current batch accuracy is: 50.0%\n",
      "tf.Tensor(13.0, shape=(), dtype=float32) 16\n",
      "current batch accuracy is: 81.25%\n",
      "tf.Tensor(11.0, shape=(), dtype=float32) 16\n",
      "current batch accuracy is: 68.75%\n",
      "tf.Tensor(11.0, shape=(), dtype=float32) 16\n",
      "current batch accuracy is: 68.75%\n"
     ]
    },
    {
     "name": "stderr",
     "output_type": "stream",
     "text": [
      " 36%|████████████████████████████▍                                                  | 1125/3125 [01:20<02:33, 13.02it/s]"
     ]
    },
    {
     "name": "stdout",
     "output_type": "stream",
     "text": [
      "tf.Tensor(11.0, shape=(), dtype=float32) 16\n",
      "current batch accuracy is: 68.75%\n",
      "tf.Tensor(12.0, shape=(), dtype=float32) 16\n",
      "current batch accuracy is: 75.0%\n",
      "tf.Tensor(9.0, shape=(), dtype=float32) 16\n",
      "current batch accuracy is: 56.25%\n",
      "tf.Tensor(9.0, shape=(), dtype=float32) 16\n",
      "current batch accuracy is: 56.25%\n"
     ]
    },
    {
     "name": "stderr",
     "output_type": "stream",
     "text": [
      " 36%|████████████████████████████▌                                                  | 1129/3125 [01:20<02:28, 13.48it/s]"
     ]
    },
    {
     "name": "stdout",
     "output_type": "stream",
     "text": [
      "tf.Tensor(9.0, shape=(), dtype=float32) 16\n",
      "current batch accuracy is: 56.25%\n",
      "tf.Tensor(11.0, shape=(), dtype=float32) 16\n",
      "current batch accuracy is: 68.75%\n",
      "tf.Tensor(9.0, shape=(), dtype=float32) 16\n",
      "current batch accuracy is: 56.25%\n"
     ]
    },
    {
     "name": "stderr",
     "output_type": "stream",
     "text": [
      " 36%|████████████████████████████▋                                                  | 1133/3125 [01:21<02:18, 14.36it/s]"
     ]
    },
    {
     "name": "stdout",
     "output_type": "stream",
     "text": [
      "tf.Tensor(8.0, shape=(), dtype=float32) 16\n",
      "current batch accuracy is: 50.0%\n",
      "tf.Tensor(10.0, shape=(), dtype=float32) 16\n",
      "current batch accuracy is: 62.5%\n",
      "tf.Tensor(11.0, shape=(), dtype=float32) 16\n",
      "current batch accuracy is: 68.75%\n",
      "tf.Tensor(11.0, shape=(), dtype=float32) 16\n",
      "current batch accuracy is: 68.75%\n"
     ]
    },
    {
     "name": "stderr",
     "output_type": "stream",
     "text": [
      "\r",
      " 36%|████████████████████████████▋                                                  | 1135/3125 [01:21<02:48, 11.83it/s]"
     ]
    },
    {
     "name": "stdout",
     "output_type": "stream",
     "text": [
      "tf.Tensor(15.0, shape=(), dtype=float32) 16\n",
      "current batch accuracy is: 93.75%\n",
      "tf.Tensor(14.0, shape=(), dtype=float32) 16\n",
      "current batch accuracy is: 87.5%\n",
      "tf.Tensor(11.0, shape=(), dtype=float32) 16\n",
      "current batch accuracy is: 68.75%\n",
      "tf.Tensor(9.0, shape=(), dtype=float32) 16\n"
     ]
    },
    {
     "name": "stderr",
     "output_type": "stream",
     "text": [
      " 36%|████████████████████████████▊                                                  | 1139/3125 [01:21<02:33, 12.97it/s]"
     ]
    },
    {
     "name": "stdout",
     "output_type": "stream",
     "text": [
      "current batch accuracy is: 56.25%\n",
      "tf.Tensor(12.0, shape=(), dtype=float32) 16\n",
      "current batch accuracy is: 75.0%\n",
      "tf.Tensor(8.0, shape=(), dtype=float32) 16\n",
      "current batch accuracy is: 50.0%\n"
     ]
    },
    {
     "name": "stderr",
     "output_type": "stream",
     "text": [
      "\r",
      " 37%|████████████████████████████▊                                                  | 1141/3125 [01:21<02:31, 13.10it/s]"
     ]
    },
    {
     "name": "stdout",
     "output_type": "stream",
     "text": [
      "tf.Tensor(13.0, shape=(), dtype=float32) 16\n",
      "current batch accuracy is: 81.25%\n",
      "tf.Tensor(7.0, shape=(), dtype=float32) 16\n",
      "current batch accuracy is: 43.75%\n",
      "tf.Tensor(13.0, shape=(), dtype=float32) 16\n",
      "current batch accuracy is: 81.25%\n"
     ]
    },
    {
     "name": "stderr",
     "output_type": "stream",
     "text": [
      " 37%|████████████████████████████▉                                                  | 1145/3125 [01:22<02:25, 13.63it/s]"
     ]
    },
    {
     "name": "stdout",
     "output_type": "stream",
     "text": [
      "tf.Tensor(12.0, shape=(), dtype=float32) 16\n",
      "current batch accuracy is: 75.0%\n",
      "tf.Tensor(10.0, shape=(), dtype=float32) 16\n",
      "current batch accuracy is: 62.5%\n",
      "tf.Tensor(11.0, shape=(), dtype=float32) 16\n",
      "current batch accuracy is: 68.75%\n"
     ]
    },
    {
     "name": "stderr",
     "output_type": "stream",
     "text": [
      " 37%|█████████████████████████████                                                  | 1149/3125 [01:22<02:13, 14.77it/s]"
     ]
    },
    {
     "name": "stdout",
     "output_type": "stream",
     "text": [
      "tf.Tensor(9.0, shape=(), dtype=float32) 16\n",
      "current batch accuracy is: 56.25%\n",
      "tf.Tensor(11.0, shape=(), dtype=float32) 16\n",
      "current batch accuracy is: 68.75%\n",
      "tf.Tensor(11.0, shape=(), dtype=float32) 16\n",
      "current batch accuracy is: 68.75%\n",
      "tf.Tensor(12.0, shape=(), dtype=float32) 16\n",
      "current batch accuracy is: 75.0%\n"
     ]
    },
    {
     "name": "stderr",
     "output_type": "stream",
     "text": [
      " 37%|█████████████████████████████▏                                                 | 1153/3125 [01:22<02:11, 14.96it/s]"
     ]
    },
    {
     "name": "stdout",
     "output_type": "stream",
     "text": [
      "tf.Tensor(9.0, shape=(), dtype=float32) 16\n",
      "current batch accuracy is: 56.25%\n",
      "tf.Tensor(13.0, shape=(), dtype=float32) 16\n",
      "current batch accuracy is: 81.25%\n",
      "tf.Tensor(11.0, shape=(), dtype=float32) 16\n",
      "current batch accuracy is: 68.75%\n",
      "tf.Tensor(11.0, shape=(), dtype=float32) 16\n",
      "current batch accuracy is: 68.75%\n"
     ]
    },
    {
     "name": "stderr",
     "output_type": "stream",
     "text": [
      "\r",
      " 37%|█████████████████████████████▏                                                 | 1155/3125 [01:22<02:22, 13.82it/s]"
     ]
    },
    {
     "name": "stdout",
     "output_type": "stream",
     "text": [
      "tf.Tensor(11.0, shape=(), dtype=float32) 16\n",
      "current batch accuracy is: 68.75%\n",
      "tf.Tensor(10.0, shape=(), dtype=float32) 16\n",
      "current batch accuracy is: 62.5%\n",
      "tf.Tensor(12.0, shape=(), dtype=float32) 16\n",
      "current batch accuracy is: 75.0%\n"
     ]
    },
    {
     "name": "stderr",
     "output_type": "stream",
     "text": [
      " 37%|█████████████████████████████▎                                                 | 1159/3125 [01:23<02:56, 11.12it/s]"
     ]
    },
    {
     "name": "stdout",
     "output_type": "stream",
     "text": [
      "tf.Tensor(12.0, shape=(), dtype=float32) 16\n",
      "current batch accuracy is: 75.0%\n",
      "tf.Tensor(9.0, shape=(), dtype=float32) 16\n",
      "current batch accuracy is: 56.25%\n",
      "tf.Tensor(14.0, shape=(), dtype=float32) 16\n",
      "current batch accuracy is: 87.5%\n"
     ]
    },
    {
     "name": "stderr",
     "output_type": "stream",
     "text": [
      " 37%|█████████████████████████████▍                                                 | 1163/3125 [01:23<02:29, 13.10it/s]"
     ]
    },
    {
     "name": "stdout",
     "output_type": "stream",
     "text": [
      "tf.Tensor(9.0, shape=(), dtype=float32) 16\n",
      "current batch accuracy is: 56.25%\n",
      "tf.Tensor(8.0, shape=(), dtype=float32) 16\n",
      "current batch accuracy is: 50.0%\n",
      "tf.Tensor(6.0, shape=(), dtype=float32) 16\n",
      "current batch accuracy is: 37.5%\n",
      "tf.Tensor(8.0, shape=(), dtype=float32) 16\n",
      "current batch accuracy is: 50.0%\n"
     ]
    },
    {
     "name": "stderr",
     "output_type": "stream",
     "text": [
      "\r",
      " 37%|█████████████████████████████▍                                                 | 1165/3125 [01:23<02:23, 13.65it/s]"
     ]
    },
    {
     "name": "stdout",
     "output_type": "stream",
     "text": [
      "tf.Tensor(12.0, shape=(), dtype=float32) 16\n",
      "current batch accuracy is: 75.0%\n",
      "tf.Tensor(13.0, shape=(), dtype=float32) 16\n",
      "current batch accuracy is: 81.25%\n",
      "tf.Tensor(10.0, shape=(), dtype=float32) 16\n",
      "current batch accuracy is: 62.5%\n"
     ]
    },
    {
     "name": "stderr",
     "output_type": "stream",
     "text": [
      " 37%|█████████████████████████████▌                                                 | 1169/3125 [01:23<02:35, 12.55it/s]"
     ]
    },
    {
     "name": "stdout",
     "output_type": "stream",
     "text": [
      "tf.Tensor(12.0, shape=(), dtype=float32) 16\n",
      "current batch accuracy is: 75.0%\n",
      "tf.Tensor(11.0, shape=(), dtype=float32) 16\n",
      "current batch accuracy is: 68.75%\n",
      "tf.Tensor(10.0, shape=(), dtype=float32) 16\n",
      "current batch accuracy is: 62.5%\n"
     ]
    },
    {
     "name": "stderr",
     "output_type": "stream",
     "text": [
      " 38%|█████████████████████████████▋                                                 | 1173/3125 [01:24<02:20, 13.89it/s]"
     ]
    },
    {
     "name": "stdout",
     "output_type": "stream",
     "text": [
      "tf.Tensor(9.0, shape=(), dtype=float32) 16\n",
      "current batch accuracy is: 56.25%\n",
      "tf.Tensor(11.0, shape=(), dtype=float32) 16\n",
      "current batch accuracy is: 68.75%\n",
      "tf.Tensor(12.0, shape=(), dtype=float32) 16\n",
      "current batch accuracy is: 75.0%\n",
      "tf.Tensor(8.0, shape=(), dtype=float32) 16\n",
      "current batch accuracy is: 50.0%\n"
     ]
    },
    {
     "name": "stderr",
     "output_type": "stream",
     "text": [
      " 38%|█████████████████████████████▊                                                 | 1177/3125 [01:24<02:14, 14.50it/s]"
     ]
    },
    {
     "name": "stdout",
     "output_type": "stream",
     "text": [
      "tf.Tensor(9.0, shape=(), dtype=float32) 16\n",
      "current batch accuracy is: 56.25%\n",
      "tf.Tensor(11.0, shape=(), dtype=float32) 16\n",
      "current batch accuracy is: 68.75%\n",
      "tf.Tensor(13.0, shape=(), dtype=float32) 16\n",
      "current batch accuracy is: 81.25%\n",
      "tf.Tensor(10.0, shape=(), dtype=float32) 16\n",
      "current batch accuracy is: 62.5%\n"
     ]
    },
    {
     "name": "stderr",
     "output_type": "stream",
     "text": [
      " 38%|█████████████████████████████▊                                                 | 1181/3125 [01:24<02:09, 15.02it/s]"
     ]
    },
    {
     "name": "stdout",
     "output_type": "stream",
     "text": [
      "tf.Tensor(13.0, shape=(), dtype=float32) 16\n",
      "current batch accuracy is: 81.25%\n",
      "tf.Tensor(12.0, shape=(), dtype=float32) 16\n",
      "current batch accuracy is: 75.0%\n",
      "tf.Tensor(12.0, shape=(), dtype=float32) 16\n",
      "current batch accuracy is: 75.0%\n",
      "tf.Tensor(12.0, shape=(), dtype=float32) 16\n",
      "current batch accuracy is: 75.0%\n"
     ]
    },
    {
     "name": "stderr",
     "output_type": "stream",
     "text": [
      "\r",
      " 38%|█████████████████████████████▉                                                 | 1183/3125 [01:25<02:52, 11.27it/s]"
     ]
    },
    {
     "name": "stdout",
     "output_type": "stream",
     "text": [
      "tf.Tensor(9.0, shape=(), dtype=float32) 16\n",
      "current batch accuracy is: 56.25%\n",
      "tf.Tensor(11.0, shape=(), dtype=float32) 16\n",
      "current batch accuracy is: 68.75%\n",
      "tf.Tensor(8.0, shape=(), dtype=float32) 16\n",
      "current batch accuracy is: 50.0%\n"
     ]
    },
    {
     "name": "stderr",
     "output_type": "stream",
     "text": [
      " 38%|██████████████████████████████                                                 | 1187/3125 [01:25<02:37, 12.27it/s]"
     ]
    },
    {
     "name": "stdout",
     "output_type": "stream",
     "text": [
      "tf.Tensor(14.0, shape=(), dtype=float32) 16\n",
      "current batch accuracy is: 87.5%\n",
      "tf.Tensor(11.0, shape=(), dtype=float32) 16\n",
      "current batch accuracy is: 68.75%\n",
      "tf.Tensor(9.0, shape=(), dtype=float32) 16\n",
      "current batch accuracy is: 56.25%\n"
     ]
    },
    {
     "name": "stderr",
     "output_type": "stream",
     "text": [
      "\r",
      " 38%|██████████████████████████████                                                 | 1189/3125 [01:25<02:25, 13.28it/s]"
     ]
    },
    {
     "name": "stdout",
     "output_type": "stream",
     "text": [
      "tf.Tensor(10.0, shape=(), dtype=float32) 16\n",
      "current batch accuracy is: 62.5%\n",
      "tf.Tensor(11.0, shape=(), dtype=float32) 16\n",
      "current batch accuracy is: 68.75%\n",
      "tf.Tensor(15.0, shape=(), dtype=float32) 16\n",
      "current batch accuracy is: 93.75%\n"
     ]
    },
    {
     "name": "stderr",
     "output_type": "stream",
     "text": [
      " 38%|██████████████████████████████▏                                                | 1193/3125 [01:25<02:23, 13.49it/s]"
     ]
    },
    {
     "name": "stdout",
     "output_type": "stream",
     "text": [
      "tf.Tensor(9.0, shape=(), dtype=float32) 16\n",
      "current batch accuracy is: 56.25%\n",
      "tf.Tensor(12.0, shape=(), dtype=float32) 16\n",
      "current batch accuracy is: 75.0%\n",
      "tf.Tensor(11.0, shape=(), dtype=float32) 16\n",
      "current batch accuracy is: 68.75%\n",
      "tf.Tensor(12.0, shape=(), dtype=float32) 16\n",
      "current batch accuracy is: 75.0%\n"
     ]
    },
    {
     "name": "stderr",
     "output_type": "stream",
     "text": [
      " 38%|██████████████████████████████▎                                                | 1197/3125 [01:26<02:16, 14.10it/s]"
     ]
    },
    {
     "name": "stdout",
     "output_type": "stream",
     "text": [
      "tf.Tensor(8.0, shape=(), dtype=float32) 16\n",
      "current batch accuracy is: 50.0%\n",
      "tf.Tensor(10.0, shape=(), dtype=float32) 16\n",
      "current batch accuracy is: 62.5%\n",
      "tf.Tensor(9.0, shape=(), dtype=float32) 16\n",
      "current batch accuracy is: 56.25%\n"
     ]
    },
    {
     "name": "stderr",
     "output_type": "stream",
     "text": [
      "\r",
      " 38%|██████████████████████████████▎                                                | 1199/3125 [01:26<02:31, 12.74it/s]"
     ]
    },
    {
     "name": "stdout",
     "output_type": "stream",
     "text": [
      "tf.Tensor(11.0, shape=(), dtype=float32) 16\n",
      "current batch accuracy is: 68.75%\n",
      "tf.Tensor(14.0, shape=(), dtype=float32) 16\n",
      "current batch accuracy is: 87.5%\n",
      "tf.Tensor(12.0, shape=(), dtype=float32) 16\n",
      "current batch accuracy is: 75.0%\n"
     ]
    },
    {
     "name": "stderr",
     "output_type": "stream",
     "text": [
      " 38%|██████████████████████████████▍                                                | 1203/3125 [01:26<02:17, 13.99it/s]"
     ]
    },
    {
     "name": "stdout",
     "output_type": "stream",
     "text": [
      "tf.Tensor(11.0, shape=(), dtype=float32) 16\n",
      "current batch accuracy is: 68.75%\n",
      "tf.Tensor(10.0, shape=(), dtype=float32) 16\n",
      "current batch accuracy is: 62.5%\n",
      "tf.Tensor(8.0, shape=(), dtype=float32) 16\n",
      "current batch accuracy is: 50.0%\n",
      "tf.Tensor(10.0, shape=(), dtype=float32) 16\n",
      "current batch accuracy is: 62.5%\n"
     ]
    },
    {
     "name": "stderr",
     "output_type": "stream",
     "text": [
      " 39%|██████████████████████████████▌                                                | 1207/3125 [01:26<02:10, 14.69it/s]"
     ]
    },
    {
     "name": "stdout",
     "output_type": "stream",
     "text": [
      "tf.Tensor(10.0, shape=(), dtype=float32) 16\n",
      "current batch accuracy is: 62.5%\n",
      "tf.Tensor(11.0, shape=(), dtype=float32) 16\n",
      "current batch accuracy is: 68.75%\n",
      "tf.Tensor(10.0, shape=(), dtype=float32) 16\n",
      "current batch accuracy is: 62.5%\n",
      "tf.Tensor(13.0, shape=(), dtype=float32) 16\n",
      "current batch accuracy is: 81.25%\n"
     ]
    },
    {
     "name": "stderr",
     "output_type": "stream",
     "text": [
      " 39%|██████████████████████████████▌                                                | 1211/3125 [01:26<02:08, 14.92it/s]"
     ]
    },
    {
     "name": "stdout",
     "output_type": "stream",
     "text": [
      "tf.Tensor(11.0, shape=(), dtype=float32) 16\n",
      "current batch accuracy is: 68.75%\n",
      "tf.Tensor(11.0, shape=(), dtype=float32) 16\n",
      "current batch accuracy is: 68.75%\n",
      "tf.Tensor(8.0, shape=(), dtype=float32) 16\n",
      "current batch accuracy is: 50.0%\n"
     ]
    },
    {
     "name": "stderr",
     "output_type": "stream",
     "text": [
      "\r",
      " 39%|██████████████████████████████▋                                                | 1213/3125 [01:27<02:09, 14.71it/s]"
     ]
    },
    {
     "name": "stdout",
     "output_type": "stream",
     "text": [
      "tf.Tensor(11.0, shape=(), dtype=float32) 16\n",
      "current batch accuracy is: 68.75%\n",
      "tf.Tensor(10.0, shape=(), dtype=float32) 16\n",
      "current batch accuracy is: 62.5%\n",
      "tf.Tensor(12.0, shape=(), dtype=float32) 16\n",
      "current batch accuracy is: 75.0%\n"
     ]
    },
    {
     "name": "stderr",
     "output_type": "stream",
     "text": [
      " 39%|██████████████████████████████▊                                                | 1217/3125 [01:27<02:21, 13.47it/s]"
     ]
    },
    {
     "name": "stdout",
     "output_type": "stream",
     "text": [
      "tf.Tensor(14.0, shape=(), dtype=float32) 16\n",
      "current batch accuracy is: 87.5%\n",
      "tf.Tensor(9.0, shape=(), dtype=float32) 16\n",
      "current batch accuracy is: 56.25%\n",
      "tf.Tensor(10.0, shape=(), dtype=float32) 16\n",
      "current batch accuracy is: 62.5%\n",
      "tf.Tensor(13.0, shape=(), dtype=float32) 16\n",
      "current batch accuracy is: 81.25%\n"
     ]
    },
    {
     "name": "stderr",
     "output_type": "stream",
     "text": [
      " 39%|██████████████████████████████▊                                                | 1221/3125 [01:27<02:21, 13.43it/s]"
     ]
    },
    {
     "name": "stdout",
     "output_type": "stream",
     "text": [
      "tf.Tensor(13.0, shape=(), dtype=float32) 16\n",
      "current batch accuracy is: 81.25%\n",
      "tf.Tensor(11.0, shape=(), dtype=float32) 16\n",
      "current batch accuracy is: 68.75%\n",
      "tf.Tensor(11.0, shape=(), dtype=float32) 16\n",
      "current batch accuracy is: 68.75%\n"
     ]
    },
    {
     "name": "stderr",
     "output_type": "stream",
     "text": [
      "\r",
      " 39%|██████████████████████████████▉                                                | 1223/3125 [01:27<02:34, 12.28it/s]"
     ]
    },
    {
     "name": "stdout",
     "output_type": "stream",
     "text": [
      "tf.Tensor(12.0, shape=(), dtype=float32) 16\n",
      "current batch accuracy is: 75.0%\n",
      "tf.Tensor(10.0, shape=(), dtype=float32) 16\n",
      "current batch accuracy is: 62.5%\n",
      "tf.Tensor(8.0, shape=(), dtype=float32) 16\n",
      "current batch accuracy is: 50.0%\n"
     ]
    },
    {
     "name": "stderr",
     "output_type": "stream",
     "text": [
      " 39%|███████████████████████████████                                                | 1227/3125 [01:28<02:22, 13.31it/s]"
     ]
    },
    {
     "name": "stdout",
     "output_type": "stream",
     "text": [
      "tf.Tensor(10.0, shape=(), dtype=float32) 16\n",
      "current batch accuracy is: 62.5%\n",
      "tf.Tensor(11.0, shape=(), dtype=float32) 16\n",
      "current batch accuracy is: 68.75%\n",
      "tf.Tensor(10.0, shape=(), dtype=float32) 16\n",
      "current batch accuracy is: 62.5%\n",
      "tf.Tensor(11.0, shape=(), dtype=float32) 16\n"
     ]
    },
    {
     "name": "stderr",
     "output_type": "stream",
     "text": [
      "\r",
      " 39%|███████████████████████████████                                                | 1229/3125 [01:28<02:21, 13.40it/s]"
     ]
    },
    {
     "name": "stdout",
     "output_type": "stream",
     "text": [
      "current batch accuracy is: 68.75%\n",
      "tf.Tensor(10.0, shape=(), dtype=float32) 16\n",
      "current batch accuracy is: 62.5%\n",
      "tf.Tensor(9.0, shape=(), dtype=float32) 16\n",
      "current batch accuracy is: 56.25%\n"
     ]
    },
    {
     "name": "stderr",
     "output_type": "stream",
     "text": [
      " 39%|███████████████████████████████▏                                               | 1233/3125 [01:28<02:13, 14.12it/s]"
     ]
    },
    {
     "name": "stdout",
     "output_type": "stream",
     "text": [
      "tf.Tensor(12.0, shape=(), dtype=float32) 16\n",
      "current batch accuracy is: 75.0%\n",
      "tf.Tensor(9.0, shape=(), dtype=float32) 16\n",
      "current batch accuracy is: 56.25%\n",
      "tf.Tensor(8.0, shape=(), dtype=float32) 16\n",
      "current batch accuracy is: 50.0%\n"
     ]
    },
    {
     "name": "stderr",
     "output_type": "stream",
     "text": [
      "\r",
      " 40%|███████████████████████████████▏                                               | 1235/3125 [01:28<02:25, 12.98it/s]"
     ]
    },
    {
     "name": "stdout",
     "output_type": "stream",
     "text": [
      "tf.Tensor(13.0, shape=(), dtype=float32) 16\n",
      "current batch accuracy is: 81.25%\n",
      "tf.Tensor(12.0, shape=(), dtype=float32) 16\n",
      "current batch accuracy is: 75.0%\n",
      "tf.Tensor(10.0, shape=(), dtype=float32) 16\n",
      "current batch accuracy is: 62.5%\n"
     ]
    },
    {
     "name": "stderr",
     "output_type": "stream",
     "text": [
      " 40%|███████████████████████████████▎                                               | 1239/3125 [01:29<02:20, 13.39it/s]"
     ]
    },
    {
     "name": "stdout",
     "output_type": "stream",
     "text": [
      "tf.Tensor(9.0, shape=(), dtype=float32) 16\n",
      "current batch accuracy is: 56.25%\n",
      "tf.Tensor(14.0, shape=(), dtype=float32) 16\n",
      "current batch accuracy is: 87.5%\n",
      "tf.Tensor(12.0, shape=(), dtype=float32) 16\n",
      "current batch accuracy is: 75.0%\n",
      "tf.Tensor(12.0, shape=(), dtype=float32) 16\n",
      "current batch accuracy is: 75.0%\n"
     ]
    },
    {
     "name": "stderr",
     "output_type": "stream",
     "text": [
      " 40%|███████████████████████████████▍                                               | 1243/3125 [01:29<02:12, 14.22it/s]"
     ]
    },
    {
     "name": "stdout",
     "output_type": "stream",
     "text": [
      "tf.Tensor(12.0, shape=(), dtype=float32) 16\n",
      "current batch accuracy is: 75.0%\n",
      "tf.Tensor(9.0, shape=(), dtype=float32) 16\n",
      "current batch accuracy is: 56.25%\n",
      "tf.Tensor(11.0, shape=(), dtype=float32) 16\n",
      "current batch accuracy is: 68.75%\n",
      "tf.Tensor(13.0, shape=(), dtype=float32) 16\n",
      "current batch accuracy is: 81.25%\n"
     ]
    },
    {
     "name": "stderr",
     "output_type": "stream",
     "text": [
      " 40%|███████████████████████████████▌                                               | 1247/3125 [01:29<02:27, 12.73it/s]"
     ]
    },
    {
     "name": "stdout",
     "output_type": "stream",
     "text": [
      "tf.Tensor(7.0, shape=(), dtype=float32) 16\n",
      "current batch accuracy is: 43.75%\n",
      "tf.Tensor(12.0, shape=(), dtype=float32) 16\n",
      "current batch accuracy is: 75.0%\n",
      "tf.Tensor(15.0, shape=(), dtype=float32) 16\n",
      "current batch accuracy is: 93.75%\n"
     ]
    },
    {
     "name": "stderr",
     "output_type": "stream",
     "text": [
      " 40%|███████████████████████████████▋                                               | 1251/3125 [01:29<02:14, 13.92it/s]"
     ]
    },
    {
     "name": "stdout",
     "output_type": "stream",
     "text": [
      "tf.Tensor(12.0, shape=(), dtype=float32) 16\n",
      "current batch accuracy is: 75.0%\n",
      "tf.Tensor(9.0, shape=(), dtype=float32) 16\n",
      "current batch accuracy is: 56.25%\n",
      "tf.Tensor(12.0, shape=(), dtype=float32) 16\n",
      "current batch accuracy is: 75.0%\n",
      "tf.Tensor(9.0, shape=(), dtype=float32) 16\n",
      "current batch accuracy is: 56.25%\n"
     ]
    },
    {
     "name": "stderr",
     "output_type": "stream",
     "text": [
      " 40%|███████████████████████████████▋                                               | 1255/3125 [01:30<02:07, 14.72it/s]"
     ]
    },
    {
     "name": "stdout",
     "output_type": "stream",
     "text": [
      "tf.Tensor(12.0, shape=(), dtype=float32) 16\n",
      "current batch accuracy is: 75.0%\n",
      "tf.Tensor(12.0, shape=(), dtype=float32) 16\n",
      "current batch accuracy is: 75.0%\n",
      "tf.Tensor(11.0, shape=(), dtype=float32) 16\n",
      "current batch accuracy is: 68.75%\n",
      "tf.Tensor(13.0, shape=(), dtype=float32) 16\n",
      "current batch accuracy is: 81.25%\n"
     ]
    },
    {
     "name": "stderr",
     "output_type": "stream",
     "text": [
      " 40%|███████████████████████████████▊                                               | 1259/3125 [01:30<02:02, 15.28it/s]"
     ]
    },
    {
     "name": "stdout",
     "output_type": "stream",
     "text": [
      "tf.Tensor(14.0, shape=(), dtype=float32) 16\n",
      "current batch accuracy is: 87.5%\n",
      "tf.Tensor(8.0, shape=(), dtype=float32) 16\n",
      "current batch accuracy is: 50.0%\n",
      "tf.Tensor(8.0, shape=(), dtype=float32) 16\n",
      "current batch accuracy is: 50.0%\n",
      "tf.Tensor(12.0, shape=(), dtype=float32) 16\n",
      "current batch accuracy is: 75.0%\n"
     ]
    },
    {
     "name": "stderr",
     "output_type": "stream",
     "text": [
      "\r",
      " 40%|███████████████████████████████▉                                               | 1261/3125 [01:30<02:02, 15.16it/s]"
     ]
    },
    {
     "name": "stdout",
     "output_type": "stream",
     "text": [
      "tf.Tensor(12.0, shape=(), dtype=float32) 16\n",
      "current batch accuracy is: 75.0%\n",
      "tf.Tensor(9.0, shape=(), dtype=float32) 16\n",
      "current batch accuracy is: 56.25%\n",
      "tf.Tensor(9.0, shape=(), dtype=float32) 16\n",
      "current batch accuracy is: 56.25%\n"
     ]
    },
    {
     "name": "stderr",
     "output_type": "stream",
     "text": [
      " 40%|███████████████████████████████▉                                               | 1265/3125 [01:30<02:12, 14.05it/s]"
     ]
    },
    {
     "name": "stdout",
     "output_type": "stream",
     "text": [
      "tf.Tensor(13.0, shape=(), dtype=float32) 16\n",
      "current batch accuracy is: 81.25%\n",
      "tf.Tensor(10.0, shape=(), dtype=float32) 16\n",
      "current batch accuracy is: 62.5%\n",
      "tf.Tensor(12.0, shape=(), dtype=float32) 16\n",
      "current batch accuracy is: 75.0%\n"
     ]
    },
    {
     "name": "stderr",
     "output_type": "stream",
     "text": [
      " 41%|████████████████████████████████                                               | 1269/3125 [01:31<02:05, 14.76it/s]"
     ]
    },
    {
     "name": "stdout",
     "output_type": "stream",
     "text": [
      "tf.Tensor(9.0, shape=(), dtype=float32) 16\n",
      "current batch accuracy is: 56.25%\n",
      "tf.Tensor(10.0, shape=(), dtype=float32) 16\n",
      "current batch accuracy is: 62.5%\n",
      "tf.Tensor(11.0, shape=(), dtype=float32) 16\n",
      "current batch accuracy is: 68.75%\n",
      "tf.Tensor(11.0, shape=(), dtype=float32) 16\n",
      "current batch accuracy is: 68.75%\n"
     ]
    },
    {
     "name": "stderr",
     "output_type": "stream",
     "text": [
      "\r",
      " 41%|████████████████████████████████▏                                              | 1271/3125 [01:31<02:03, 15.03it/s]"
     ]
    },
    {
     "name": "stdout",
     "output_type": "stream",
     "text": [
      "tf.Tensor(12.0, shape=(), dtype=float32) 16\n",
      "current batch accuracy is: 75.0%\n",
      "tf.Tensor(11.0, shape=(), dtype=float32) 16\n",
      "current batch accuracy is: 68.75%\n",
      "tf.Tensor(11.0, shape=(), dtype=float32) 16\n",
      "current batch accuracy is: 68.75%\n"
     ]
    },
    {
     "name": "stderr",
     "output_type": "stream",
     "text": [
      " 41%|████████████████████████████████▏                                              | 1275/3125 [01:31<02:07, 14.55it/s]"
     ]
    },
    {
     "name": "stdout",
     "output_type": "stream",
     "text": [
      "tf.Tensor(12.0, shape=(), dtype=float32) 16\n",
      "current batch accuracy is: 75.0%\n",
      "tf.Tensor(14.0, shape=(), dtype=float32) 16\n",
      "current batch accuracy is: 87.5%\n",
      "tf.Tensor(12.0, shape=(), dtype=float32) 16\n",
      "current batch accuracy is: 75.0%\n"
     ]
    },
    {
     "name": "stderr",
     "output_type": "stream",
     "text": [
      "\r",
      " 41%|████████████████████████████████▎                                              | 1277/3125 [01:31<02:06, 14.56it/s]"
     ]
    },
    {
     "name": "stdout",
     "output_type": "stream",
     "text": [
      "tf.Tensor(11.0, shape=(), dtype=float32) 16\n",
      "current batch accuracy is: 68.75%\n",
      "tf.Tensor(13.0, shape=(), dtype=float32) 16\n",
      "current batch accuracy is: 81.25%\n",
      "tf.Tensor(9.0, shape=(), dtype=float32) 16\n",
      "current batch accuracy is: 56.25%\n"
     ]
    },
    {
     "name": "stderr",
     "output_type": "stream",
     "text": [
      "\r",
      " 41%|████████████████████████████████▎                                              | 1279/3125 [01:31<02:08, 14.32it/s]"
     ]
    },
    {
     "name": "stdout",
     "output_type": "stream",
     "text": [
      "tf.Tensor(10.0, shape=(), dtype=float32) 16\n",
      "current batch accuracy is: 62.5%\n",
      "tf.Tensor(12.0, shape=(), dtype=float32) 16\n",
      "current batch accuracy is: 75.0%\n"
     ]
    },
    {
     "name": "stderr",
     "output_type": "stream",
     "text": [
      " 41%|████████████████████████████████▍                                              | 1283/3125 [01:32<02:26, 12.61it/s]"
     ]
    },
    {
     "name": "stdout",
     "output_type": "stream",
     "text": [
      "tf.Tensor(11.0, shape=(), dtype=float32) 16\n",
      "current batch accuracy is: 68.75%\n",
      "tf.Tensor(11.0, shape=(), dtype=float32) 16\n",
      "current batch accuracy is: 68.75%\n",
      "tf.Tensor(14.0, shape=(), dtype=float32) 16\n",
      "current batch accuracy is: 87.5%\n"
     ]
    },
    {
     "name": "stderr",
     "output_type": "stream",
     "text": [
      " 41%|████████████████████████████████▌                                              | 1287/3125 [01:32<02:09, 14.24it/s]"
     ]
    },
    {
     "name": "stdout",
     "output_type": "stream",
     "text": [
      "tf.Tensor(11.0, shape=(), dtype=float32) 16\n",
      "current batch accuracy is: 68.75%\n",
      "tf.Tensor(8.0, shape=(), dtype=float32) 16\n",
      "current batch accuracy is: 50.0%\n",
      "tf.Tensor(10.0, shape=(), dtype=float32) 16\n",
      "current batch accuracy is: 62.5%\n",
      "tf.Tensor(12.0, shape=(), dtype=float32) 16\n",
      "current batch accuracy is: 75.0%\n"
     ]
    },
    {
     "name": "stderr",
     "output_type": "stream",
     "text": [
      "\r",
      " 41%|████████████████████████████████▌                                              | 1289/3125 [01:32<02:09, 14.21it/s]"
     ]
    },
    {
     "name": "stdout",
     "output_type": "stream",
     "text": [
      "tf.Tensor(11.0, shape=(), dtype=float32) 16\n",
      "current batch accuracy is: 68.75%\n",
      "tf.Tensor(11.0, shape=(), dtype=float32) 16\n",
      "current batch accuracy is: 68.75%\n",
      "tf.Tensor(12.0, shape=(), dtype=float32) 16\n",
      "current batch accuracy is: 75.0%\n"
     ]
    },
    {
     "name": "stderr",
     "output_type": "stream",
     "text": [
      " 41%|████████████████████████████████▋                                              | 1293/3125 [01:32<02:15, 13.52it/s]"
     ]
    },
    {
     "name": "stdout",
     "output_type": "stream",
     "text": [
      "tf.Tensor(12.0, shape=(), dtype=float32) 16\n",
      "current batch accuracy is: 75.0%\n",
      "tf.Tensor(9.0, shape=(), dtype=float32) 16\n",
      "current batch accuracy is: 56.25%\n",
      "tf.Tensor(13.0, shape=(), dtype=float32) 16\n",
      "current batch accuracy is: 81.25%\n"
     ]
    },
    {
     "name": "stderr",
     "output_type": "stream",
     "text": [
      "\r",
      " 41%|████████████████████████████████▋                                              | 1295/3125 [01:33<02:14, 13.64it/s]"
     ]
    },
    {
     "name": "stdout",
     "output_type": "stream",
     "text": [
      "tf.Tensor(10.0, shape=(), dtype=float32) 16\n",
      "current batch accuracy is: 62.5%\n",
      "tf.Tensor(10.0, shape=(), dtype=float32) 16\n",
      "current batch accuracy is: 62.5%\n",
      "tf.Tensor(12.0, shape=(), dtype=float32) 16\n",
      "current batch accuracy is: 75.0%\n"
     ]
    },
    {
     "name": "stderr",
     "output_type": "stream",
     "text": [
      " 42%|████████████████████████████████▊                                              | 1299/3125 [01:33<02:13, 13.64it/s]"
     ]
    },
    {
     "name": "stdout",
     "output_type": "stream",
     "text": [
      "tf.Tensor(9.0, shape=(), dtype=float32) 16\n",
      "current batch accuracy is: 56.25%\n",
      "tf.Tensor(12.0, shape=(), dtype=float32) 16\n",
      "current batch accuracy is: 75.0%\n",
      "tf.Tensor(10.0, shape=(), dtype=float32) 16\n",
      "current batch accuracy is: 62.5%\n"
     ]
    },
    {
     "name": "stderr",
     "output_type": "stream",
     "text": [
      "\r",
      " 42%|████████████████████████████████▉                                              | 1301/3125 [01:33<02:13, 13.67it/s]"
     ]
    },
    {
     "name": "stdout",
     "output_type": "stream",
     "text": [
      "tf.Tensor(13.0, shape=(), dtype=float32) 16\n",
      "current batch accuracy is: 81.25%\n",
      "tf.Tensor(10.0, shape=(), dtype=float32) 16\n",
      "current batch accuracy is: 62.5%\n",
      "tf.Tensor(12.0, shape=(), dtype=float32) 16\n",
      "current batch accuracy is: 75.0%\n"
     ]
    },
    {
     "name": "stderr",
     "output_type": "stream",
     "text": [
      " 42%|████████████████████████████████▉                                              | 1305/3125 [01:33<02:11, 13.83it/s]"
     ]
    },
    {
     "name": "stdout",
     "output_type": "stream",
     "text": [
      "tf.Tensor(10.0, shape=(), dtype=float32) 16\n",
      "current batch accuracy is: 62.5%\n",
      "tf.Tensor(13.0, shape=(), dtype=float32) 16\n",
      "current batch accuracy is: 81.25%\n",
      "tf.Tensor(11.0, shape=(), dtype=float32) 16\n",
      "current batch accuracy is: 68.75%\n"
     ]
    },
    {
     "name": "stderr",
     "output_type": "stream",
     "text": [
      "\r",
      " 42%|█████████████████████████████████                                              | 1307/3125 [01:33<02:10, 13.88it/s]"
     ]
    },
    {
     "name": "stdout",
     "output_type": "stream",
     "text": [
      "tf.Tensor(11.0, shape=(), dtype=float32) 16\n",
      "current batch accuracy is: 68.75%\n",
      "tf.Tensor(10.0, shape=(), dtype=float32) 16\n",
      "current batch accuracy is: 62.5%\n",
      "tf.Tensor(14.0, shape=(), dtype=float32) 16\n",
      "current batch accuracy is: 87.5%\n"
     ]
    },
    {
     "name": "stderr",
     "output_type": "stream",
     "text": [
      " 42%|█████████████████████████████████▏                                             | 1311/3125 [01:34<02:05, 14.48it/s]"
     ]
    },
    {
     "name": "stdout",
     "output_type": "stream",
     "text": [
      "tf.Tensor(9.0, shape=(), dtype=float32) 16\n",
      "current batch accuracy is: 56.25%\n",
      "tf.Tensor(10.0, shape=(), dtype=float32) 16\n",
      "current batch accuracy is: 62.5%\n",
      "tf.Tensor(11.0, shape=(), dtype=float32) 16\n",
      "current batch accuracy is: 68.75%\n",
      "tf.Tensor(12.0, shape=(), dtype=float32) 16\n",
      "current batch accuracy is: 75.0%\n"
     ]
    },
    {
     "name": "stderr",
     "output_type": "stream",
     "text": [
      " 42%|█████████████████████████████████▏                                             | 1315/3125 [01:34<02:04, 14.57it/s]"
     ]
    },
    {
     "name": "stdout",
     "output_type": "stream",
     "text": [
      "tf.Tensor(12.0, shape=(), dtype=float32) 16\n",
      "current batch accuracy is: 75.0%\n",
      "tf.Tensor(10.0, shape=(), dtype=float32) 16\n",
      "current batch accuracy is: 62.5%\n",
      "tf.Tensor(8.0, shape=(), dtype=float32) 16\n",
      "current batch accuracy is: 50.0%\n",
      "tf.Tensor(9.0, shape=(), dtype=float32) 16\n",
      "current batch accuracy is: 56.25%\n"
     ]
    },
    {
     "name": "stderr",
     "output_type": "stream",
     "text": [
      " 42%|█████████████████████████████████▎                                             | 1319/3125 [01:34<01:57, 15.42it/s]"
     ]
    },
    {
     "name": "stdout",
     "output_type": "stream",
     "text": [
      "tf.Tensor(11.0, shape=(), dtype=float32) 16\n",
      "current batch accuracy is: 68.75%\n",
      "tf.Tensor(10.0, shape=(), dtype=float32) 16\n",
      "current batch accuracy is: 62.5%\n",
      "tf.Tensor(11.0, shape=(), dtype=float32) 16\n",
      "current batch accuracy is: 68.75%\n"
     ]
    },
    {
     "name": "stderr",
     "output_type": "stream",
     "text": [
      "\r",
      " 42%|█████████████████████████████████▍                                             | 1321/3125 [01:34<02:07, 14.16it/s]"
     ]
    },
    {
     "name": "stdout",
     "output_type": "stream",
     "text": [
      "tf.Tensor(12.0, shape=(), dtype=float32) 16\n",
      "current batch accuracy is: 75.0%\n",
      "tf.Tensor(12.0, shape=(), dtype=float32) 16\n",
      "current batch accuracy is: 75.0%\n",
      "tf.Tensor(11.0, shape=(), dtype=float32) 16\n",
      "current batch accuracy is: 68.75%\n"
     ]
    },
    {
     "name": "stderr",
     "output_type": "stream",
     "text": [
      " 42%|█████████████████████████████████▍                                             | 1325/3125 [01:35<02:03, 14.62it/s]"
     ]
    },
    {
     "name": "stdout",
     "output_type": "stream",
     "text": [
      "tf.Tensor(11.0, shape=(), dtype=float32) 16\n",
      "current batch accuracy is: 68.75%\n",
      "tf.Tensor(12.0, shape=(), dtype=float32) 16\n",
      "current batch accuracy is: 75.0%\n",
      "tf.Tensor(11.0, shape=(), dtype=float32) 16\n",
      "current batch accuracy is: 68.75%\n",
      "tf.Tensor(12.0, shape=(), dtype=float32) 16\n",
      "current batch accuracy is: 75.0%\n"
     ]
    },
    {
     "name": "stderr",
     "output_type": "stream",
     "text": [
      " 43%|█████████████████████████████████▌                                             | 1329/3125 [01:35<02:13, 13.49it/s]"
     ]
    },
    {
     "name": "stdout",
     "output_type": "stream",
     "text": [
      "tf.Tensor(10.0, shape=(), dtype=float32) 16\n",
      "current batch accuracy is: 62.5%\n",
      "tf.Tensor(11.0, shape=(), dtype=float32) 16\n",
      "current batch accuracy is: 68.75%\n",
      "tf.Tensor(13.0, shape=(), dtype=float32) 16\n",
      "current batch accuracy is: 81.25%\n"
     ]
    },
    {
     "name": "stderr",
     "output_type": "stream",
     "text": [
      "\r",
      " 43%|█████████████████████████████████▋                                             | 1331/3125 [01:35<02:14, 13.34it/s]"
     ]
    },
    {
     "name": "stdout",
     "output_type": "stream",
     "text": [
      "tf.Tensor(12.0, shape=(), dtype=float32) 16\n",
      "current batch accuracy is: 75.0%\n",
      "tf.Tensor(13.0, shape=(), dtype=float32) 16\n",
      "current batch accuracy is: 81.25%\n",
      "tf.Tensor(12.0, shape=(), dtype=float32) 16\n",
      "current batch accuracy is: 75.0%\n"
     ]
    },
    {
     "name": "stderr",
     "output_type": "stream",
     "text": [
      " 43%|█████████████████████████████████▋                                             | 1335/3125 [01:35<02:12, 13.50it/s]"
     ]
    },
    {
     "name": "stdout",
     "output_type": "stream",
     "text": [
      "tf.Tensor(6.0, shape=(), dtype=float32) 16\n",
      "current batch accuracy is: 37.5%\n",
      "tf.Tensor(15.0, shape=(), dtype=float32) 16\n",
      "current batch accuracy is: 93.75%\n",
      "tf.Tensor(12.0, shape=(), dtype=float32) 16\n",
      "current batch accuracy is: 75.0%\n"
     ]
    },
    {
     "name": "stderr",
     "output_type": "stream",
     "text": [
      " 43%|█████████████████████████████████▊                                             | 1339/3125 [01:36<02:04, 14.30it/s]"
     ]
    },
    {
     "name": "stdout",
     "output_type": "stream",
     "text": [
      "tf.Tensor(7.0, shape=(), dtype=float32) 16\n",
      "current batch accuracy is: 43.75%\n",
      "tf.Tensor(8.0, shape=(), dtype=float32) 16\n",
      "current batch accuracy is: 50.0%\n",
      "tf.Tensor(9.0, shape=(), dtype=float32) 16\n",
      "current batch accuracy is: 56.25%\n",
      "tf.Tensor(9.0, shape=(), dtype=float32) 16\n",
      "current batch accuracy is: 56.25%\n"
     ]
    },
    {
     "name": "stderr",
     "output_type": "stream",
     "text": [
      " 43%|█████████████████████████████████▉                                             | 1343/3125 [01:36<01:57, 15.12it/s]"
     ]
    },
    {
     "name": "stdout",
     "output_type": "stream",
     "text": [
      "tf.Tensor(11.0, shape=(), dtype=float32) 16\n",
      "current batch accuracy is: 68.75%\n",
      "tf.Tensor(13.0, shape=(), dtype=float32) 16\n",
      "current batch accuracy is: 81.25%\n",
      "tf.Tensor(11.0, shape=(), dtype=float32) 16\n",
      "current batch accuracy is: 68.75%\n",
      "tf.Tensor(11.0, shape=(), dtype=float32) 16\n",
      "current batch accuracy is: 68.75%\n"
     ]
    },
    {
     "name": "stderr",
     "output_type": "stream",
     "text": [
      " 43%|██████████████████████████████████                                             | 1347/3125 [01:36<01:55, 15.40it/s]"
     ]
    },
    {
     "name": "stdout",
     "output_type": "stream",
     "text": [
      "tf.Tensor(10.0, shape=(), dtype=float32) 16\n",
      "current batch accuracy is: 62.5%\n",
      "tf.Tensor(9.0, shape=(), dtype=float32) 16\n",
      "current batch accuracy is: 56.25%\n",
      "tf.Tensor(13.0, shape=(), dtype=float32) 16\n",
      "current batch accuracy is: 81.25%\n",
      "tf.Tensor(11.0, shape=(), dtype=float32) 16\n",
      "current batch accuracy is: 68.75%\n"
     ]
    },
    {
     "name": "stderr",
     "output_type": "stream",
     "text": [
      " 43%|██████████████████████████████████▏                                            | 1351/3125 [01:36<01:57, 15.16it/s]"
     ]
    },
    {
     "name": "stdout",
     "output_type": "stream",
     "text": [
      "tf.Tensor(13.0, shape=(), dtype=float32) 16\n",
      "current batch accuracy is: 81.25%\n",
      "tf.Tensor(10.0, shape=(), dtype=float32) 16\n",
      "current batch accuracy is: 62.5%\n",
      "tf.Tensor(11.0, shape=(), dtype=float32) 16\n",
      "current batch accuracy is: 68.75%\n",
      "tf.Tensor(9.0, shape=(), dtype=float32) 16\n",
      "current batch accuracy is: 56.25%\n"
     ]
    },
    {
     "name": "stderr",
     "output_type": "stream",
     "text": [
      "\r",
      " 43%|██████████████████████████████████▏                                            | 1353/3125 [01:37<02:03, 14.40it/s]"
     ]
    },
    {
     "name": "stdout",
     "output_type": "stream",
     "text": [
      "tf.Tensor(12.0, shape=(), dtype=float32) 16\n",
      "current batch accuracy is: 75.0%\n",
      "tf.Tensor(12.0, shape=(), dtype=float32) 16\n",
      "current batch accuracy is: 75.0%\n",
      "tf.Tensor(13.0, shape=(), dtype=float32) 16\n",
      "current batch accuracy is: 81.25%\n"
     ]
    },
    {
     "name": "stderr",
     "output_type": "stream",
     "text": [
      " 43%|██████████████████████████████████▎                                            | 1357/3125 [01:37<02:00, 14.72it/s]"
     ]
    },
    {
     "name": "stdout",
     "output_type": "stream",
     "text": [
      "tf.Tensor(10.0, shape=(), dtype=float32) 16\n",
      "current batch accuracy is: 62.5%\n",
      "tf.Tensor(11.0, shape=(), dtype=float32) 16\n",
      "current batch accuracy is: 68.75%\n",
      "tf.Tensor(13.0, shape=(), dtype=float32) 16\n",
      "current batch accuracy is: 81.25%\n"
     ]
    },
    {
     "name": "stderr",
     "output_type": "stream",
     "text": [
      " 44%|██████████████████████████████████▍                                            | 1361/3125 [01:37<01:56, 15.18it/s]"
     ]
    },
    {
     "name": "stdout",
     "output_type": "stream",
     "text": [
      "tf.Tensor(12.0, shape=(), dtype=float32) 16\n",
      "current batch accuracy is: 75.0%\n",
      "tf.Tensor(9.0, shape=(), dtype=float32) 16\n",
      "current batch accuracy is: 56.25%\n",
      "tf.Tensor(12.0, shape=(), dtype=float32) 16\n",
      "current batch accuracy is: 75.0%\n",
      "tf.Tensor(8.0, shape=(), dtype=float32) 16\n",
      "current batch accuracy is: 50.0%\n"
     ]
    },
    {
     "name": "stderr",
     "output_type": "stream",
     "text": [
      "\r",
      " 44%|██████████████████████████████████▍                                            | 1363/3125 [01:37<01:54, 15.34it/s]"
     ]
    },
    {
     "name": "stdout",
     "output_type": "stream",
     "text": [
      "tf.Tensor(12.0, shape=(), dtype=float32) 16\n",
      "current batch accuracy is: 75.0%\n",
      "tf.Tensor(11.0, shape=(), dtype=float32) 16\n",
      "current batch accuracy is: 68.75%\n",
      "tf.Tensor(10.0, shape=(), dtype=float32) 16\n",
      "current batch accuracy is: 62.5%\n"
     ]
    },
    {
     "name": "stderr",
     "output_type": "stream",
     "text": [
      " 44%|██████████████████████████████████▌                                            | 1367/3125 [01:38<02:00, 14.56it/s]"
     ]
    },
    {
     "name": "stdout",
     "output_type": "stream",
     "text": [
      "tf.Tensor(7.0, shape=(), dtype=float32) 16\n",
      "current batch accuracy is: 43.75%\n",
      "tf.Tensor(10.0, shape=(), dtype=float32) 16\n",
      "current batch accuracy is: 62.5%\n",
      "tf.Tensor(9.0, shape=(), dtype=float32) 16\n",
      "current batch accuracy is: 56.25%\n"
     ]
    },
    {
     "name": "stderr",
     "output_type": "stream",
     "text": [
      " 44%|██████████████████████████████████▋                                            | 1371/3125 [01:38<02:08, 13.67it/s]"
     ]
    },
    {
     "name": "stdout",
     "output_type": "stream",
     "text": [
      "tf.Tensor(15.0, shape=(), dtype=float32) 16\n",
      "current batch accuracy is: 93.75%\n",
      "tf.Tensor(9.0, shape=(), dtype=float32) 16\n",
      "current batch accuracy is: 56.25%\n",
      "tf.Tensor(8.0, shape=(), dtype=float32) 16\n",
      "current batch accuracy is: 50.0%\n",
      "tf.Tensor(12.0, shape=(), dtype=float32) 16\n",
      "current batch accuracy is: 75.0%\n"
     ]
    },
    {
     "name": "stderr",
     "output_type": "stream",
     "text": [
      "\r",
      " 44%|██████████████████████████████████▋                                            | 1373/3125 [01:38<02:21, 12.35it/s]"
     ]
    },
    {
     "name": "stdout",
     "output_type": "stream",
     "text": [
      "tf.Tensor(12.0, shape=(), dtype=float32) 16\n",
      "current batch accuracy is: 75.0%\n",
      "tf.Tensor(10.0, shape=(), dtype=float32) 16\n",
      "current batch accuracy is: 62.5%\n",
      "tf.Tensor(14.0, shape=(), dtype=float32) 16\n",
      "current batch accuracy is: 87.5%\n"
     ]
    },
    {
     "name": "stderr",
     "output_type": "stream",
     "text": [
      " 44%|██████████████████████████████████▊                                            | 1377/3125 [01:38<02:14, 12.97it/s]"
     ]
    },
    {
     "name": "stdout",
     "output_type": "stream",
     "text": [
      "tf.Tensor(13.0, shape=(), dtype=float32) 16\n",
      "current batch accuracy is: 81.25%\n",
      "tf.Tensor(9.0, shape=(), dtype=float32) 16\n",
      "current batch accuracy is: 56.25%\n",
      "tf.Tensor(10.0, shape=(), dtype=float32) 16\n",
      "current batch accuracy is: 62.5%\n"
     ]
    },
    {
     "name": "stderr",
     "output_type": "stream",
     "text": [
      " 44%|██████████████████████████████████▉                                            | 1381/3125 [01:39<02:02, 14.28it/s]"
     ]
    },
    {
     "name": "stdout",
     "output_type": "stream",
     "text": [
      "tf.Tensor(13.0, shape=(), dtype=float32) 16\n",
      "current batch accuracy is: 81.25%\n",
      "tf.Tensor(13.0, shape=(), dtype=float32) 16\n",
      "current batch accuracy is: 81.25%\n",
      "tf.Tensor(12.0, shape=(), dtype=float32) 16\n",
      "current batch accuracy is: 75.0%\n",
      "tf.Tensor(11.0, shape=(), dtype=float32) 16\n",
      "current batch accuracy is: 68.75%\n"
     ]
    },
    {
     "name": "stderr",
     "output_type": "stream",
     "text": [
      " 44%|███████████████████████████████████                                            | 1385/3125 [01:39<01:57, 14.84it/s]"
     ]
    },
    {
     "name": "stdout",
     "output_type": "stream",
     "text": [
      "tf.Tensor(11.0, shape=(), dtype=float32) 16\n",
      "current batch accuracy is: 68.75%\n",
      "tf.Tensor(11.0, shape=(), dtype=float32) 16\n",
      "current batch accuracy is: 68.75%\n",
      "tf.Tensor(12.0, shape=(), dtype=float32) 16\n",
      "current batch accuracy is: 75.0%\n",
      "tf.Tensor(10.0, shape=(), dtype=float32) 16\n",
      "current batch accuracy is: 62.5%\n"
     ]
    },
    {
     "name": "stderr",
     "output_type": "stream",
     "text": [
      "\r",
      " 44%|███████████████████████████████████                                            | 1387/3125 [01:39<01:54, 15.14it/s]"
     ]
    },
    {
     "name": "stdout",
     "output_type": "stream",
     "text": [
      "tf.Tensor(12.0, shape=(), dtype=float32) 16\n",
      "current batch accuracy is: 75.0%\n",
      "tf.Tensor(9.0, shape=(), dtype=float32) 16\n",
      "current batch accuracy is: 56.25%\n",
      "tf.Tensor(13.0, shape=(), dtype=float32) 16\n",
      "current batch accuracy is: 81.25%\n"
     ]
    },
    {
     "name": "stderr",
     "output_type": "stream",
     "text": [
      " 45%|███████████████████████████████████▏                                           | 1391/3125 [01:39<01:55, 15.07it/s]"
     ]
    },
    {
     "name": "stdout",
     "output_type": "stream",
     "text": [
      "tf.Tensor(7.0, shape=(), dtype=float32) 16\n",
      "current batch accuracy is: 43.75%\n",
      "tf.Tensor(9.0, shape=(), dtype=float32) 16\n",
      "current batch accuracy is: 56.25%\n",
      "tf.Tensor(12.0, shape=(), dtype=float32) 16\n",
      "current batch accuracy is: 75.0%\n",
      "tf.Tensor(13.0, shape=(), dtype=float32) 16\n",
      "current batch accuracy is: 81.25%\n"
     ]
    },
    {
     "name": "stderr",
     "output_type": "stream",
     "text": [
      " 45%|███████████████████████████████████▎                                           | 1395/3125 [01:40<01:57, 14.67it/s]"
     ]
    },
    {
     "name": "stdout",
     "output_type": "stream",
     "text": [
      "tf.Tensor(11.0, shape=(), dtype=float32) 16\n",
      "current batch accuracy is: 68.75%\n",
      "tf.Tensor(10.0, shape=(), dtype=float32) 16\n",
      "current batch accuracy is: 62.5%\n",
      "tf.Tensor(9.0, shape=(), dtype=float32) 16\n",
      "current batch accuracy is: 56.25%\n"
     ]
    },
    {
     "name": "stderr",
     "output_type": "stream",
     "text": [
      "\r",
      " 45%|███████████████████████████████████▎                                           | 1397/3125 [01:40<02:00, 14.38it/s]"
     ]
    },
    {
     "name": "stdout",
     "output_type": "stream",
     "text": [
      "tf.Tensor(12.0, shape=(), dtype=float32) 16\n",
      "current batch accuracy is: 75.0%\n",
      "tf.Tensor(9.0, shape=(), dtype=float32) 16\n",
      "current batch accuracy is: 56.25%\n",
      "tf.Tensor(11.0, shape=(), dtype=float32) 16\n",
      "current batch accuracy is: 68.75%\n"
     ]
    },
    {
     "name": "stderr",
     "output_type": "stream",
     "text": [
      " 45%|███████████████████████████████████▍                                           | 1401/3125 [01:40<02:10, 13.20it/s]"
     ]
    },
    {
     "name": "stdout",
     "output_type": "stream",
     "text": [
      "tf.Tensor(12.0, shape=(), dtype=float32) 16\n",
      "current batch accuracy is: 75.0%\n",
      "tf.Tensor(12.0, shape=(), dtype=float32) 16\n",
      "current batch accuracy is: 75.0%\n",
      "tf.Tensor(11.0, shape=(), dtype=float32) 16\n",
      "current batch accuracy is: 68.75%\n"
     ]
    },
    {
     "name": "stderr",
     "output_type": "stream",
     "text": [
      "\r",
      " 45%|███████████████████████████████████▍                                           | 1403/3125 [01:40<02:11, 13.11it/s]"
     ]
    },
    {
     "name": "stdout",
     "output_type": "stream",
     "text": [
      "tf.Tensor(13.0, shape=(), dtype=float32) 16\n",
      "current batch accuracy is: 81.25%\n",
      "tf.Tensor(12.0, shape=(), dtype=float32) 16\n",
      "current batch accuracy is: 75.0%\n",
      "tf.Tensor(13.0, shape=(), dtype=float32) 16\n",
      "current batch accuracy is: 81.25%\n"
     ]
    },
    {
     "name": "stderr",
     "output_type": "stream",
     "text": [
      " 45%|███████████████████████████████████▌                                           | 1407/3125 [01:41<02:08, 13.40it/s]"
     ]
    },
    {
     "name": "stdout",
     "output_type": "stream",
     "text": [
      "tf.Tensor(10.0, shape=(), dtype=float32) 16\n",
      "current batch accuracy is: 62.5%\n",
      "tf.Tensor(12.0, shape=(), dtype=float32) 16\n",
      "current batch accuracy is: 75.0%\n",
      "tf.Tensor(10.0, shape=(), dtype=float32) 16\n",
      "current batch accuracy is: 62.5%\n"
     ]
    },
    {
     "name": "stderr",
     "output_type": "stream",
     "text": [
      "\r",
      " 45%|███████████████████████████████████▌                                           | 1409/3125 [01:41<02:03, 13.85it/s]"
     ]
    },
    {
     "name": "stdout",
     "output_type": "stream",
     "text": [
      "tf.Tensor(9.0, shape=(), dtype=float32) 16\n",
      "current batch accuracy is: 56.25%\n",
      "tf.Tensor(12.0, shape=(), dtype=float32) 16\n",
      "current batch accuracy is: 75.0%\n",
      "tf.Tensor(10.0, shape=(), dtype=float32) 16\n",
      "current batch accuracy is: 62.5%\n"
     ]
    },
    {
     "name": "stderr",
     "output_type": "stream",
     "text": [
      " 45%|███████████████████████████████████▋                                           | 1413/3125 [01:41<02:10, 13.07it/s]"
     ]
    },
    {
     "name": "stdout",
     "output_type": "stream",
     "text": [
      "tf.Tensor(11.0, shape=(), dtype=float32) 16\n",
      "current batch accuracy is: 68.75%\n",
      "tf.Tensor(10.0, shape=(), dtype=float32) 16\n",
      "current batch accuracy is: 62.5%\n",
      "tf.Tensor(9.0, shape=(), dtype=float32) 16\n",
      "current batch accuracy is: 56.25%\n"
     ]
    },
    {
     "name": "stderr",
     "output_type": "stream",
     "text": [
      "\r",
      " 45%|███████████████████████████████████▊                                           | 1415/3125 [01:41<02:07, 13.41it/s]"
     ]
    },
    {
     "name": "stdout",
     "output_type": "stream",
     "text": [
      "tf.Tensor(10.0, shape=(), dtype=float32) 16\n",
      "current batch accuracy is: 62.5%\n",
      "tf.Tensor(13.0, shape=(), dtype=float32) 16\n",
      "current batch accuracy is: 81.25%\n",
      "tf.Tensor(11.0, shape=(), dtype=float32) 16\n",
      "current batch accuracy is: 68.75%\n"
     ]
    },
    {
     "name": "stderr",
     "output_type": "stream",
     "text": [
      " 45%|███████████████████████████████████▊                                           | 1419/3125 [01:41<02:03, 13.84it/s]"
     ]
    },
    {
     "name": "stdout",
     "output_type": "stream",
     "text": [
      "tf.Tensor(11.0, shape=(), dtype=float32) 16\n",
      "current batch accuracy is: 68.75%\n",
      "tf.Tensor(11.0, shape=(), dtype=float32) 16\n",
      "current batch accuracy is: 68.75%\n",
      "tf.Tensor(12.0, shape=(), dtype=float32) 16\n",
      "current batch accuracy is: 75.0%\n",
      "tf.Tensor(10.0, shape=(), dtype=float32) 16\n",
      "current batch accuracy is: 62.5%\n"
     ]
    },
    {
     "name": "stderr",
     "output_type": "stream",
     "text": [
      " 46%|███████████████████████████████████▉                                           | 1423/3125 [01:42<02:11, 12.96it/s]"
     ]
    },
    {
     "name": "stdout",
     "output_type": "stream",
     "text": [
      "tf.Tensor(11.0, shape=(), dtype=float32) 16\n",
      "current batch accuracy is: 68.75%\n",
      "tf.Tensor(8.0, shape=(), dtype=float32) 16\n",
      "current batch accuracy is: 50.0%\n",
      "tf.Tensor(10.0, shape=(), dtype=float32) 16\n",
      "current batch accuracy is: 62.5%\n"
     ]
    },
    {
     "name": "stderr",
     "output_type": "stream",
     "text": [
      "\r",
      " 46%|████████████████████████████████████                                           | 1425/3125 [01:42<02:05, 13.52it/s]"
     ]
    },
    {
     "name": "stdout",
     "output_type": "stream",
     "text": [
      "tf.Tensor(12.0, shape=(), dtype=float32) 16\n",
      "current batch accuracy is: 75.0%\n",
      "tf.Tensor(10.0, shape=(), dtype=float32) 16\n",
      "current batch accuracy is: 62.5%\n",
      "tf.Tensor(12.0, shape=(), dtype=float32) 16\n",
      "current batch accuracy is: 75.0%\n"
     ]
    },
    {
     "name": "stderr",
     "output_type": "stream",
     "text": [
      " 46%|████████████████████████████████████▏                                          | 1429/3125 [01:42<02:05, 13.55it/s]"
     ]
    },
    {
     "name": "stdout",
     "output_type": "stream",
     "text": [
      "tf.Tensor(14.0, shape=(), dtype=float32) 16\n",
      "current batch accuracy is: 87.5%\n",
      "tf.Tensor(9.0, shape=(), dtype=float32) 16\n",
      "current batch accuracy is: 56.25%\n",
      "tf.Tensor(10.0, shape=(), dtype=float32) 16\n",
      "current batch accuracy is: 62.5%\n"
     ]
    },
    {
     "name": "stderr",
     "output_type": "stream",
     "text": [
      "\r",
      " 46%|████████████████████████████████████▏                                          | 1431/3125 [01:42<02:06, 13.40it/s]"
     ]
    },
    {
     "name": "stdout",
     "output_type": "stream",
     "text": [
      "tf.Tensor(8.0, shape=(), dtype=float32) 16\n",
      "current batch accuracy is: 50.0%\n",
      "tf.Tensor(11.0, shape=(), dtype=float32) 16\n",
      "current batch accuracy is: 68.75%\n",
      "tf.Tensor(15.0, shape=(), dtype=float32) 16\n",
      "current batch accuracy is: 93.75%\n"
     ]
    },
    {
     "name": "stderr",
     "output_type": "stream",
     "text": [
      " 46%|████████████████████████████████████▎                                          | 1435/3125 [01:43<02:01, 13.87it/s]"
     ]
    },
    {
     "name": "stdout",
     "output_type": "stream",
     "text": [
      "tf.Tensor(12.0, shape=(), dtype=float32) 16\n",
      "current batch accuracy is: 75.0%\n",
      "tf.Tensor(11.0, shape=(), dtype=float32) 16\n",
      "current batch accuracy is: 68.75%\n",
      "tf.Tensor(10.0, shape=(), dtype=float32) 16\n",
      "current batch accuracy is: 62.5%\n",
      "tf.Tensor(9.0, shape=(), dtype=float32) 16\n",
      "current batch accuracy is: 56.25%\n"
     ]
    },
    {
     "name": "stderr",
     "output_type": "stream",
     "text": [
      " 46%|████████████████████████████████████▍                                          | 1439/3125 [01:43<01:58, 14.22it/s]"
     ]
    },
    {
     "name": "stdout",
     "output_type": "stream",
     "text": [
      "tf.Tensor(8.0, shape=(), dtype=float32) 16\n",
      "current batch accuracy is: 50.0%\n",
      "tf.Tensor(14.0, shape=(), dtype=float32) 16\n",
      "current batch accuracy is: 87.5%\n",
      "tf.Tensor(9.0, shape=(), dtype=float32) 16\n",
      "current batch accuracy is: 56.25%\n",
      "tf.Tensor(9.0, shape=(), dtype=float32) 16\n",
      "current batch accuracy is: 56.25%\n"
     ]
    },
    {
     "name": "stderr",
     "output_type": "stream",
     "text": [
      " 46%|████████████████████████████████████▍                                          | 1443/3125 [01:43<02:00, 13.99it/s]"
     ]
    },
    {
     "name": "stdout",
     "output_type": "stream",
     "text": [
      "tf.Tensor(10.0, shape=(), dtype=float32) 16\n",
      "current batch accuracy is: 62.5%\n",
      "tf.Tensor(10.0, shape=(), dtype=float32) 16\n",
      "current batch accuracy is: 62.5%\n",
      "tf.Tensor(10.0, shape=(), dtype=float32) 16\n",
      "current batch accuracy is: 62.5%\n"
     ]
    },
    {
     "name": "stderr",
     "output_type": "stream",
     "text": [
      "\r",
      " 46%|████████████████████████████████████▌                                          | 1445/3125 [01:43<02:06, 13.32it/s]"
     ]
    },
    {
     "name": "stdout",
     "output_type": "stream",
     "text": [
      "tf.Tensor(11.0, shape=(), dtype=float32) 16\n",
      "current batch accuracy is: 68.75%\n",
      "tf.Tensor(10.0, shape=(), dtype=float32) 16\n",
      "current batch accuracy is: 62.5%\n"
     ]
    },
    {
     "name": "stderr",
     "output_type": "stream",
     "text": [
      " 46%|████████████████████████████████████▋                                          | 1449/3125 [01:44<02:05, 13.38it/s]"
     ]
    },
    {
     "name": "stdout",
     "output_type": "stream",
     "text": [
      "tf.Tensor(12.0, shape=(), dtype=float32) 16\n",
      "current batch accuracy is: 75.0%\n",
      "tf.Tensor(9.0, shape=(), dtype=float32) 16\n",
      "current batch accuracy is: 56.25%\n",
      "tf.Tensor(10.0, shape=(), dtype=float32) 16\n",
      "current batch accuracy is: 62.5%\n",
      "tf.Tensor(10.0, shape=(), dtype=float32) 16\n",
      "current batch accuracy is: 62.5%\n"
     ]
    },
    {
     "name": "stderr",
     "output_type": "stream",
     "text": [
      "\r",
      " 46%|████████████████████████████████████▋                                          | 1451/3125 [01:44<02:00, 13.89it/s]"
     ]
    },
    {
     "name": "stdout",
     "output_type": "stream",
     "text": [
      "tf.Tensor(10.0, shape=(), dtype=float32) 16\n",
      "current batch accuracy is: 62.5%\n",
      "tf.Tensor(11.0, shape=(), dtype=float32) 16\n",
      "current batch accuracy is: 68.75%\n",
      "tf.Tensor(10.0, shape=(), dtype=float32) 16\n",
      "current batch accuracy is: 62.5%\n"
     ]
    },
    {
     "name": "stderr",
     "output_type": "stream",
     "text": [
      " 47%|████████████████████████████████████▊                                          | 1455/3125 [01:44<02:00, 13.88it/s]"
     ]
    },
    {
     "name": "stdout",
     "output_type": "stream",
     "text": [
      "tf.Tensor(8.0, shape=(), dtype=float32) 16\n",
      "current batch accuracy is: 50.0%\n",
      "tf.Tensor(12.0, shape=(), dtype=float32) 16\n",
      "current batch accuracy is: 75.0%\n",
      "tf.Tensor(10.0, shape=(), dtype=float32) 16\n",
      "current batch accuracy is: 62.5%\n",
      "tf.Tensor(8.0, shape=(), dtype=float32) 16\n",
      "current batch accuracy is: 50.0%\n"
     ]
    },
    {
     "name": "stderr",
     "output_type": "stream",
     "text": [
      " 47%|████████████████████████████████████▉                                          | 1459/3125 [01:44<01:58, 14.10it/s]"
     ]
    },
    {
     "name": "stdout",
     "output_type": "stream",
     "text": [
      "tf.Tensor(13.0, shape=(), dtype=float32) 16\n",
      "current batch accuracy is: 81.25%\n",
      "tf.Tensor(11.0, shape=(), dtype=float32) 16\n",
      "current batch accuracy is: 68.75%\n",
      "tf.Tensor(12.0, shape=(), dtype=float32) 16\n",
      "current batch accuracy is: 75.0%\n"
     ]
    },
    {
     "name": "stderr",
     "output_type": "stream",
     "text": [
      " 47%|████████████████████████████████████▉                                          | 1463/3125 [01:45<02:12, 12.51it/s]"
     ]
    },
    {
     "name": "stdout",
     "output_type": "stream",
     "text": [
      "tf.Tensor(11.0, shape=(), dtype=float32) 16\n",
      "current batch accuracy is: 68.75%\n",
      "tf.Tensor(10.0, shape=(), dtype=float32) 16\n",
      "current batch accuracy is: 62.5%\n",
      "tf.Tensor(13.0, shape=(), dtype=float32) 16\n",
      "current batch accuracy is: 81.25%\n",
      "tf.Tensor(12.0, shape=(), dtype=float32) 16\n",
      "current batch accuracy is: 75.0%\n"
     ]
    },
    {
     "name": "stderr",
     "output_type": "stream",
     "text": [
      " 47%|█████████████████████████████████████                                          | 1467/3125 [01:45<01:58, 13.95it/s]"
     ]
    },
    {
     "name": "stdout",
     "output_type": "stream",
     "text": [
      "tf.Tensor(10.0, shape=(), dtype=float32) 16\n",
      "current batch accuracy is: 62.5%\n",
      "tf.Tensor(9.0, shape=(), dtype=float32) 16\n",
      "current batch accuracy is: 56.25%\n",
      "tf.Tensor(11.0, shape=(), dtype=float32) 16\n",
      "current batch accuracy is: 68.75%\n",
      "tf.Tensor(8.0, shape=(), dtype=float32) 16\n",
      "current batch accuracy is: 50.0%\n"
     ]
    },
    {
     "name": "stderr",
     "output_type": "stream",
     "text": [
      "\r",
      " 47%|█████████████████████████████████████▏                                         | 1469/3125 [01:45<01:57, 14.07it/s]"
     ]
    },
    {
     "name": "stdout",
     "output_type": "stream",
     "text": [
      "tf.Tensor(14.0, shape=(), dtype=float32) 16\n",
      "current batch accuracy is: 87.5%\n",
      "tf.Tensor(13.0, shape=(), dtype=float32) 16\n",
      "current batch accuracy is: 81.25%\n",
      "tf.Tensor(10.0, shape=(), dtype=float32) 16\n",
      "current batch accuracy is: 62.5%\n"
     ]
    },
    {
     "name": "stderr",
     "output_type": "stream",
     "text": [
      " 47%|█████████████████████████████████████▏                                         | 1473/3125 [01:45<01:56, 14.19it/s]"
     ]
    },
    {
     "name": "stdout",
     "output_type": "stream",
     "text": [
      "tf.Tensor(13.0, shape=(), dtype=float32) 16\n",
      "current batch accuracy is: 81.25%\n",
      "tf.Tensor(9.0, shape=(), dtype=float32) 16\n",
      "current batch accuracy is: 56.25%\n",
      "tf.Tensor(14.0, shape=(), dtype=float32) 16\n",
      "current batch accuracy is: 87.5%\n"
     ]
    },
    {
     "name": "stderr",
     "output_type": "stream",
     "text": [
      "\r",
      " 47%|█████████████████████████████████████▎                                         | 1475/3125 [01:46<01:59, 13.79it/s]"
     ]
    },
    {
     "name": "stdout",
     "output_type": "stream",
     "text": [
      "tf.Tensor(13.0, shape=(), dtype=float32) 16\n",
      "current batch accuracy is: 81.25%\n",
      "tf.Tensor(12.0, shape=(), dtype=float32) 16\n",
      "current batch accuracy is: 75.0%\n",
      "tf.Tensor(11.0, shape=(), dtype=float32) 16\n",
      "current batch accuracy is: 68.75%\n"
     ]
    },
    {
     "name": "stderr",
     "output_type": "stream",
     "text": [
      " 47%|█████████████████████████████████████▍                                         | 1479/3125 [01:46<02:05, 13.09it/s]"
     ]
    },
    {
     "name": "stdout",
     "output_type": "stream",
     "text": [
      "tf.Tensor(12.0, shape=(), dtype=float32) 16\n",
      "current batch accuracy is: 75.0%\n",
      "tf.Tensor(9.0, shape=(), dtype=float32) 16\n",
      "current batch accuracy is: 56.25%\n",
      "tf.Tensor(7.0, shape=(), dtype=float32) 16\n",
      "current batch accuracy is: 43.75%\n"
     ]
    },
    {
     "name": "stderr",
     "output_type": "stream",
     "text": [
      " 47%|█████████████████████████████████████▍                                         | 1483/3125 [01:46<01:54, 14.31it/s]"
     ]
    },
    {
     "name": "stdout",
     "output_type": "stream",
     "text": [
      "tf.Tensor(11.0, shape=(), dtype=float32) 16\n",
      "current batch accuracy is: 68.75%\n",
      "tf.Tensor(12.0, shape=(), dtype=float32) 16\n",
      "current batch accuracy is: 75.0%\n",
      "tf.Tensor(13.0, shape=(), dtype=float32) 16\n",
      "current batch accuracy is: 81.25%\n",
      "tf.Tensor(9.0, shape=(), dtype=float32) 16\n",
      "current batch accuracy is: 56.25%\n"
     ]
    },
    {
     "name": "stderr",
     "output_type": "stream",
     "text": [
      "\r",
      " 48%|█████████████████████████████████████▌                                         | 1485/3125 [01:46<01:56, 14.11it/s]"
     ]
    },
    {
     "name": "stdout",
     "output_type": "stream",
     "text": [
      "tf.Tensor(10.0, shape=(), dtype=float32) 16\n",
      "current batch accuracy is: 62.5%\n",
      "tf.Tensor(8.0, shape=(), dtype=float32) 16\n",
      "current batch accuracy is: 50.0%\n",
      "tf.Tensor(7.0, shape=(), dtype=float32) 16\n",
      "current batch accuracy is: 43.75%\n"
     ]
    },
    {
     "name": "stderr",
     "output_type": "stream",
     "text": [
      " 48%|█████████████████████████████████████▋                                         | 1489/3125 [01:47<02:12, 12.31it/s]"
     ]
    },
    {
     "name": "stdout",
     "output_type": "stream",
     "text": [
      "tf.Tensor(11.0, shape=(), dtype=float32) 16\n",
      "current batch accuracy is: 68.75%\n",
      "tf.Tensor(8.0, shape=(), dtype=float32) 16\n",
      "current batch accuracy is: 50.0%\n",
      "tf.Tensor(13.0, shape=(), dtype=float32) 16\n",
      "current batch accuracy is: 81.25%\n"
     ]
    },
    {
     "name": "stderr",
     "output_type": "stream",
     "text": [
      "\r",
      " 48%|█████████████████████████████████████▋                                         | 1491/3125 [01:47<02:06, 12.92it/s]"
     ]
    },
    {
     "name": "stdout",
     "output_type": "stream",
     "text": [
      "tf.Tensor(8.0, shape=(), dtype=float32) 16\n",
      "current batch accuracy is: 50.0%\n",
      "tf.Tensor(10.0, shape=(), dtype=float32) 16\n",
      "current batch accuracy is: 62.5%\n",
      "tf.Tensor(10.0, shape=(), dtype=float32) 16\n",
      "current batch accuracy is: 62.5%\n"
     ]
    },
    {
     "name": "stderr",
     "output_type": "stream",
     "text": [
      " 48%|█████████████████████████████████████▊                                         | 1495/3125 [01:47<02:00, 13.50it/s]"
     ]
    },
    {
     "name": "stdout",
     "output_type": "stream",
     "text": [
      "tf.Tensor(7.0, shape=(), dtype=float32) 16\n",
      "current batch accuracy is: 43.75%\n",
      "tf.Tensor(11.0, shape=(), dtype=float32) 16\n",
      "current batch accuracy is: 68.75%\n",
      "tf.Tensor(12.0, shape=(), dtype=float32) 16\n",
      "current batch accuracy is: 75.0%\n"
     ]
    },
    {
     "name": "stderr",
     "output_type": "stream",
     "text": [
      "\r",
      " 48%|█████████████████████████████████████▊                                         | 1497/3125 [01:47<01:54, 14.26it/s]"
     ]
    },
    {
     "name": "stdout",
     "output_type": "stream",
     "text": [
      "tf.Tensor(8.0, shape=(), dtype=float32) 16\n",
      "current batch accuracy is: 50.0%\n",
      "tf.Tensor(10.0, shape=(), dtype=float32) 16\n",
      "current batch accuracy is: 62.5%\n",
      "tf.Tensor(11.0, shape=(), dtype=float32) 16\n",
      "current batch accuracy is: 68.75%\n"
     ]
    },
    {
     "name": "stderr",
     "output_type": "stream",
     "text": [
      " 48%|█████████████████████████████████████▉                                         | 1501/3125 [01:47<02:00, 13.50it/s]"
     ]
    },
    {
     "name": "stdout",
     "output_type": "stream",
     "text": [
      "tf.Tensor(13.0, shape=(), dtype=float32) 16\n",
      "current batch accuracy is: 81.25%\n",
      "tf.Tensor(7.0, shape=(), dtype=float32) 16\n",
      "current batch accuracy is: 43.75%\n",
      "tf.Tensor(13.0, shape=(), dtype=float32) 16\n",
      "current batch accuracy is: 81.25%\n"
     ]
    },
    {
     "name": "stderr",
     "output_type": "stream",
     "text": [
      "\r",
      " 48%|█████████████████████████████████████▉                                         | 1503/3125 [01:48<02:00, 13.46it/s]"
     ]
    },
    {
     "name": "stdout",
     "output_type": "stream",
     "text": [
      "tf.Tensor(12.0, shape=(), dtype=float32) 16\n",
      "current batch accuracy is: 75.0%\n",
      "tf.Tensor(14.0, shape=(), dtype=float32) 16\n",
      "current batch accuracy is: 87.5%\n",
      "tf.Tensor(9.0, shape=(), dtype=float32) 16\n",
      "current batch accuracy is: 56.25%\n",
      "tf.Tensor(10.0, shape=(), dtype=float32) 16\n"
     ]
    },
    {
     "name": "stderr",
     "output_type": "stream",
     "text": [
      " 48%|██████████████████████████████████████                                         | 1507/3125 [01:48<01:54, 14.08it/s]"
     ]
    },
    {
     "name": "stdout",
     "output_type": "stream",
     "text": [
      "current batch accuracy is: 62.5%\n",
      "tf.Tensor(12.0, shape=(), dtype=float32) 16\n",
      "current batch accuracy is: 75.0%\n",
      "tf.Tensor(11.0, shape=(), dtype=float32) 16\n",
      "current batch accuracy is: 68.75%\n",
      "tf.Tensor(14.0, shape=(), dtype=float32) 16\n",
      "current batch accuracy is: 87.5%\n"
     ]
    },
    {
     "name": "stderr",
     "output_type": "stream",
     "text": [
      " 48%|██████████████████████████████████████▏                                        | 1511/3125 [01:48<01:54, 14.05it/s]"
     ]
    },
    {
     "name": "stdout",
     "output_type": "stream",
     "text": [
      "tf.Tensor(12.0, shape=(), dtype=float32) 16\n",
      "current batch accuracy is: 75.0%\n",
      "tf.Tensor(7.0, shape=(), dtype=float32) 16\n",
      "current batch accuracy is: 43.75%\n",
      "tf.Tensor(13.0, shape=(), dtype=float32) 16\n",
      "current batch accuracy is: 81.25%\n"
     ]
    },
    {
     "name": "stderr",
     "output_type": "stream",
     "text": [
      "\r",
      " 48%|██████████████████████████████████████▏                                        | 1513/3125 [01:48<01:54, 14.13it/s]"
     ]
    },
    {
     "name": "stdout",
     "output_type": "stream",
     "text": [
      "tf.Tensor(10.0, shape=(), dtype=float32) 16\n",
      "current batch accuracy is: 62.5%\n",
      "tf.Tensor(13.0, shape=(), dtype=float32) 16\n",
      "current batch accuracy is: 81.25%\n",
      "tf.Tensor(10.0, shape=(), dtype=float32) 16\n",
      "current batch accuracy is: 62.5%\n"
     ]
    },
    {
     "name": "stderr",
     "output_type": "stream",
     "text": [
      " 49%|██████████████████████████████████████▎                                        | 1517/3125 [01:49<01:52, 14.35it/s]"
     ]
    },
    {
     "name": "stdout",
     "output_type": "stream",
     "text": [
      "tf.Tensor(9.0, shape=(), dtype=float32) 16\n",
      "current batch accuracy is: 56.25%\n",
      "tf.Tensor(13.0, shape=(), dtype=float32) 16\n",
      "current batch accuracy is: 81.25%\n",
      "tf.Tensor(11.0, shape=(), dtype=float32) 16\n",
      "current batch accuracy is: 68.75%\n"
     ]
    },
    {
     "name": "stderr",
     "output_type": "stream",
     "text": [
      "\r",
      " 49%|██████████████████████████████████████▍                                        | 1519/3125 [01:49<01:51, 14.41it/s]"
     ]
    },
    {
     "name": "stdout",
     "output_type": "stream",
     "text": [
      "tf.Tensor(13.0, shape=(), dtype=float32) 16\n",
      "current batch accuracy is: 81.25%\n",
      "tf.Tensor(12.0, shape=(), dtype=float32) 16\n",
      "current batch accuracy is: 75.0%\n",
      "tf.Tensor(12.0, shape=(), dtype=float32) 16\n",
      "current batch accuracy is: 75.0%\n"
     ]
    },
    {
     "name": "stderr",
     "output_type": "stream",
     "text": [
      "\r",
      " 49%|██████████████████████████████████████▍                                        | 1521/3125 [01:49<01:55, 13.92it/s]"
     ]
    },
    {
     "name": "stdout",
     "output_type": "stream",
     "text": [
      "tf.Tensor(13.0, shape=(), dtype=float32) 16\n",
      "current batch accuracy is: 81.25%\n",
      "tf.Tensor(12.0, shape=(), dtype=float32) 16\n",
      "current batch accuracy is: 75.0%\n"
     ]
    },
    {
     "name": "stderr",
     "output_type": "stream",
     "text": [
      " 49%|██████████████████████████████████████▌                                        | 1525/3125 [01:49<02:03, 12.95it/s]"
     ]
    },
    {
     "name": "stdout",
     "output_type": "stream",
     "text": [
      "tf.Tensor(12.0, shape=(), dtype=float32) 16\n",
      "current batch accuracy is: 75.0%\n",
      "tf.Tensor(11.0, shape=(), dtype=float32) 16\n",
      "current batch accuracy is: 68.75%\n",
      "tf.Tensor(10.0, shape=(), dtype=float32) 16\n",
      "current batch accuracy is: 62.5%\n"
     ]
    },
    {
     "name": "stderr",
     "output_type": "stream",
     "text": [
      "\r",
      " 49%|██████████████████████████████████████▌                                        | 1527/3125 [01:49<02:01, 13.14it/s]"
     ]
    },
    {
     "name": "stdout",
     "output_type": "stream",
     "text": [
      "tf.Tensor(8.0, shape=(), dtype=float32) 16\n",
      "current batch accuracy is: 50.0%\n",
      "tf.Tensor(11.0, shape=(), dtype=float32) 16\n",
      "current batch accuracy is: 68.75%\n",
      "tf.Tensor(9.0, shape=(), dtype=float32) 16\n",
      "current batch accuracy is: 56.25%\n"
     ]
    },
    {
     "name": "stderr",
     "output_type": "stream",
     "text": [
      " 49%|██████████████████████████████████████▋                                        | 1531/3125 [01:50<01:57, 13.60it/s]"
     ]
    },
    {
     "name": "stdout",
     "output_type": "stream",
     "text": [
      "tf.Tensor(10.0, shape=(), dtype=float32) 16\n",
      "current batch accuracy is: 62.5%\n",
      "tf.Tensor(13.0, shape=(), dtype=float32) 16\n",
      "current batch accuracy is: 81.25%\n",
      "tf.Tensor(9.0, shape=(), dtype=float32) 16\n",
      "current batch accuracy is: 56.25%\n",
      "tf.Tensor(9.0, shape=(), dtype=float32) 16\n",
      "current batch accuracy is: 56.25%\n"
     ]
    },
    {
     "name": "stderr",
     "output_type": "stream",
     "text": [
      " 49%|██████████████████████████████████████▊                                        | 1535/3125 [01:50<01:57, 13.57it/s]"
     ]
    },
    {
     "name": "stdout",
     "output_type": "stream",
     "text": [
      "tf.Tensor(10.0, shape=(), dtype=float32) 16\n",
      "current batch accuracy is: 62.5%\n",
      "tf.Tensor(10.0, shape=(), dtype=float32) 16\n",
      "current batch accuracy is: 62.5%\n",
      "tf.Tensor(13.0, shape=(), dtype=float32) 16\n",
      "current batch accuracy is: 81.25%\n"
     ]
    },
    {
     "name": "stderr",
     "output_type": "stream",
     "text": [
      " 49%|██████████████████████████████████████▉                                        | 1539/3125 [01:50<01:54, 13.82it/s]"
     ]
    },
    {
     "name": "stdout",
     "output_type": "stream",
     "text": [
      "tf.Tensor(10.0, shape=(), dtype=float32) 16\n",
      "current batch accuracy is: 62.5%\n",
      "tf.Tensor(13.0, shape=(), dtype=float32) 16\n",
      "current batch accuracy is: 81.25%\n",
      "tf.Tensor(12.0, shape=(), dtype=float32) 16\n",
      "current batch accuracy is: 75.0%\n",
      "tf.Tensor(9.0, shape=(), dtype=float32) 16\n",
      "current batch accuracy is: 56.25%\n"
     ]
    },
    {
     "name": "stderr",
     "output_type": "stream",
     "text": [
      "\r",
      " 49%|██████████████████████████████████████▉                                        | 1541/3125 [01:50<01:53, 13.90it/s]"
     ]
    },
    {
     "name": "stdout",
     "output_type": "stream",
     "text": [
      "tf.Tensor(14.0, shape=(), dtype=float32) 16\n",
      "current batch accuracy is: 87.5%\n",
      "tf.Tensor(16.0, shape=(), dtype=float32) 16\n",
      "current batch accuracy is: 100.0%\n",
      "tf.Tensor(10.0, shape=(), dtype=float32) 16\n",
      "current batch accuracy is: 62.5%\n"
     ]
    },
    {
     "name": "stderr",
     "output_type": "stream",
     "text": [
      " 49%|███████████████████████████████████████                                        | 1545/3125 [01:51<01:45, 14.97it/s]"
     ]
    },
    {
     "name": "stdout",
     "output_type": "stream",
     "text": [
      "tf.Tensor(10.0, shape=(), dtype=float32) 16\n",
      "current batch accuracy is: 62.5%\n",
      "tf.Tensor(11.0, shape=(), dtype=float32) 16\n",
      "current batch accuracy is: 68.75%\n",
      "tf.Tensor(11.0, shape=(), dtype=float32) 16\n",
      "current batch accuracy is: 68.75%\n",
      "tf.Tensor(10.0, shape=(), dtype=float32) 16\n",
      "current batch accuracy is: 62.5%\n"
     ]
    },
    {
     "name": "stderr",
     "output_type": "stream",
     "text": [
      " 50%|███████████████████████████████████████▏                                       | 1549/3125 [01:51<01:50, 14.20it/s]"
     ]
    },
    {
     "name": "stdout",
     "output_type": "stream",
     "text": [
      "tf.Tensor(15.0, shape=(), dtype=float32) 16\n",
      "current batch accuracy is: 93.75%\n",
      "tf.Tensor(12.0, shape=(), dtype=float32) 16\n",
      "current batch accuracy is: 75.0%\n",
      "tf.Tensor(12.0, shape=(), dtype=float32) 16\n",
      "current batch accuracy is: 75.0%\n"
     ]
    },
    {
     "name": "stderr",
     "output_type": "stream",
     "text": [
      "\r",
      " 50%|███████████████████████████████████████▏                                       | 1551/3125 [01:51<01:48, 14.50it/s]"
     ]
    },
    {
     "name": "stdout",
     "output_type": "stream",
     "text": [
      "tf.Tensor(12.0, shape=(), dtype=float32) 16\n",
      "current batch accuracy is: 75.0%\n",
      "tf.Tensor(11.0, shape=(), dtype=float32) 16\n",
      "current batch accuracy is: 68.75%\n",
      "tf.Tensor(9.0, shape=(), dtype=float32) 16\n",
      "current batch accuracy is: 56.25%\n"
     ]
    },
    {
     "name": "stderr",
     "output_type": "stream",
     "text": [
      " 50%|███████████████████████████████████████▎                                       | 1555/3125 [01:51<01:46, 14.76it/s]"
     ]
    },
    {
     "name": "stdout",
     "output_type": "stream",
     "text": [
      "tf.Tensor(12.0, shape=(), dtype=float32) 16\n",
      "current batch accuracy is: 75.0%\n",
      "tf.Tensor(12.0, shape=(), dtype=float32) 16\n",
      "current batch accuracy is: 75.0%\n",
      "tf.Tensor(12.0, shape=(), dtype=float32) 16\n",
      "current batch accuracy is: 75.0%\n",
      "tf.Tensor(12.0, shape=(), dtype=float32) 16\n"
     ]
    },
    {
     "name": "stderr",
     "output_type": "stream",
     "text": [
      "\r",
      " 50%|███████████████████████████████████████▎                                       | 1557/3125 [01:51<01:46, 14.79it/s]"
     ]
    },
    {
     "name": "stdout",
     "output_type": "stream",
     "text": [
      "current batch accuracy is: 75.0%\n",
      "tf.Tensor(8.0, shape=(), dtype=float32) 16\n",
      "current batch accuracy is: 50.0%\n",
      "tf.Tensor(8.0, shape=(), dtype=float32) 16\n",
      "current batch accuracy is: 50.0%\n"
     ]
    },
    {
     "name": "stderr",
     "output_type": "stream",
     "text": [
      " 50%|███████████████████████████████████████▍                                       | 1561/3125 [01:52<01:46, 14.73it/s]"
     ]
    },
    {
     "name": "stdout",
     "output_type": "stream",
     "text": [
      "tf.Tensor(12.0, shape=(), dtype=float32) 16\n",
      "current batch accuracy is: 75.0%\n",
      "tf.Tensor(12.0, shape=(), dtype=float32) 16\n",
      "current batch accuracy is: 75.0%\n",
      "tf.Tensor(11.0, shape=(), dtype=float32) 16\n",
      "current batch accuracy is: 68.75%\n",
      "tf.Tensor(10.0, shape=(), dtype=float32) 16\n",
      "current batch accuracy is: 62.5%\n"
     ]
    },
    {
     "name": "stderr",
     "output_type": "stream",
     "text": [
      " 50%|███████████████████████████████████████▌                                       | 1565/3125 [01:52<01:56, 13.39it/s]"
     ]
    },
    {
     "name": "stdout",
     "output_type": "stream",
     "text": [
      "tf.Tensor(8.0, shape=(), dtype=float32) 16\n",
      "current batch accuracy is: 50.0%\n",
      "tf.Tensor(11.0, shape=(), dtype=float32) 16\n",
      "current batch accuracy is: 68.75%\n",
      "tf.Tensor(12.0, shape=(), dtype=float32) 16\n",
      "current batch accuracy is: 75.0%\n"
     ]
    },
    {
     "name": "stderr",
     "output_type": "stream",
     "text": [
      " 50%|███████████████████████████████████████▋                                       | 1569/3125 [01:52<01:51, 13.93it/s]"
     ]
    },
    {
     "name": "stdout",
     "output_type": "stream",
     "text": [
      "tf.Tensor(9.0, shape=(), dtype=float32) 16\n",
      "current batch accuracy is: 56.25%\n",
      "tf.Tensor(8.0, shape=(), dtype=float32) 16\n",
      "current batch accuracy is: 50.0%\n",
      "tf.Tensor(10.0, shape=(), dtype=float32) 16\n",
      "current batch accuracy is: 62.5%\n",
      "tf.Tensor(11.0, shape=(), dtype=float32) 16\n",
      "current batch accuracy is: 68.75%\n"
     ]
    },
    {
     "name": "stderr",
     "output_type": "stream",
     "text": [
      "\r",
      " 50%|███████████████████████████████████████▋                                       | 1571/3125 [01:52<01:48, 14.30it/s]"
     ]
    },
    {
     "name": "stdout",
     "output_type": "stream",
     "text": [
      "tf.Tensor(10.0, shape=(), dtype=float32) 16\n",
      "current batch accuracy is: 62.5%\n",
      "tf.Tensor(14.0, shape=(), dtype=float32) 16\n",
      "current batch accuracy is: 87.5%\n",
      "tf.Tensor(10.0, shape=(), dtype=float32) 16\n",
      "current batch accuracy is: 62.5%\n"
     ]
    },
    {
     "name": "stderr",
     "output_type": "stream",
     "text": [
      " 50%|███████████████████████████████████████▊                                       | 1575/3125 [01:53<01:48, 14.30it/s]"
     ]
    },
    {
     "name": "stdout",
     "output_type": "stream",
     "text": [
      "tf.Tensor(12.0, shape=(), dtype=float32) 16\n",
      "current batch accuracy is: 75.0%\n",
      "tf.Tensor(12.0, shape=(), dtype=float32) 16\n",
      "current batch accuracy is: 75.0%\n",
      "tf.Tensor(11.0, shape=(), dtype=float32) 16\n",
      "current batch accuracy is: 68.75%\n",
      "tf.Tensor(9.0, shape=(), dtype=float32) 16\n",
      "current batch accuracy is: 56.25%\n"
     ]
    },
    {
     "name": "stderr",
     "output_type": "stream",
     "text": [
      " 51%|███████████████████████████████████████▉                                       | 1579/3125 [01:53<01:48, 14.20it/s]"
     ]
    },
    {
     "name": "stdout",
     "output_type": "stream",
     "text": [
      "tf.Tensor(12.0, shape=(), dtype=float32) 16\n",
      "current batch accuracy is: 75.0%\n",
      "tf.Tensor(10.0, shape=(), dtype=float32) 16\n",
      "current batch accuracy is: 62.5%\n",
      "tf.Tensor(11.0, shape=(), dtype=float32) 16\n",
      "current batch accuracy is: 68.75%\n"
     ]
    },
    {
     "name": "stderr",
     "output_type": "stream",
     "text": [
      " 51%|████████████████████████████████████████                                       | 1583/3125 [01:53<01:48, 14.17it/s]"
     ]
    },
    {
     "name": "stdout",
     "output_type": "stream",
     "text": [
      "tf.Tensor(11.0, shape=(), dtype=float32) 16\n",
      "current batch accuracy is: 68.75%\n",
      "tf.Tensor(12.0, shape=(), dtype=float32) 16\n",
      "current batch accuracy is: 75.0%\n",
      "tf.Tensor(12.0, shape=(), dtype=float32) 16\n",
      "current batch accuracy is: 75.0%\n",
      "tf.Tensor(10.0, shape=(), dtype=float32) 16\n",
      "current batch accuracy is: 62.5%\n"
     ]
    },
    {
     "name": "stderr",
     "output_type": "stream",
     "text": [
      " 51%|████████████████████████████████████████                                       | 1587/3125 [01:54<01:46, 14.48it/s]"
     ]
    },
    {
     "name": "stdout",
     "output_type": "stream",
     "text": [
      "tf.Tensor(12.0, shape=(), dtype=float32) 16\n",
      "current batch accuracy is: 75.0%\n",
      "tf.Tensor(13.0, shape=(), dtype=float32) 16\n",
      "current batch accuracy is: 81.25%\n",
      "tf.Tensor(8.0, shape=(), dtype=float32) 16\n",
      "current batch accuracy is: 50.0%\n",
      "tf.Tensor(11.0, shape=(), dtype=float32) 16\n",
      "current batch accuracy is: 68.75%\n"
     ]
    },
    {
     "name": "stderr",
     "output_type": "stream",
     "text": [
      "\r",
      " 51%|████████████████████████████████████████▏                                      | 1589/3125 [01:54<01:43, 14.91it/s]"
     ]
    },
    {
     "name": "stdout",
     "output_type": "stream",
     "text": [
      "tf.Tensor(15.0, shape=(), dtype=float32) 16\n",
      "current batch accuracy is: 93.75%\n",
      "tf.Tensor(10.0, shape=(), dtype=float32) 16\n",
      "current batch accuracy is: 62.5%\n",
      "tf.Tensor(8.0, shape=(), dtype=float32) 16\n",
      "current batch accuracy is: 50.0%\n"
     ]
    },
    {
     "name": "stderr",
     "output_type": "stream",
     "text": [
      " 51%|████████████████████████████████████████▎                                      | 1593/3125 [01:54<01:55, 13.26it/s]"
     ]
    },
    {
     "name": "stdout",
     "output_type": "stream",
     "text": [
      "tf.Tensor(9.0, shape=(), dtype=float32) 16\n",
      "current batch accuracy is: 56.25%\n",
      "tf.Tensor(10.0, shape=(), dtype=float32) 16\n",
      "current batch accuracy is: 62.5%\n",
      "tf.Tensor(9.0, shape=(), dtype=float32) 16\n",
      "current batch accuracy is: 56.25%\n"
     ]
    },
    {
     "name": "stderr",
     "output_type": "stream",
     "text": [
      " 51%|████████████████████████████████████████▎                                      | 1597/3125 [01:54<01:48, 14.02it/s]"
     ]
    },
    {
     "name": "stdout",
     "output_type": "stream",
     "text": [
      "tf.Tensor(10.0, shape=(), dtype=float32) 16\n",
      "current batch accuracy is: 62.5%\n",
      "tf.Tensor(14.0, shape=(), dtype=float32) 16\n",
      "current batch accuracy is: 87.5%\n",
      "tf.Tensor(9.0, shape=(), dtype=float32) 16\n",
      "current batch accuracy is: 56.25%\n",
      "tf.Tensor(10.0, shape=(), dtype=float32) 16\n",
      "current batch accuracy is: 62.5%\n"
     ]
    },
    {
     "name": "stderr",
     "output_type": "stream",
     "text": [
      "\r",
      " 51%|████████████████████████████████████████▍                                      | 1599/3125 [01:54<01:46, 14.36it/s]"
     ]
    },
    {
     "name": "stdout",
     "output_type": "stream",
     "text": [
      "tf.Tensor(9.0, shape=(), dtype=float32) 16\n",
      "current batch accuracy is: 56.25%\n",
      "tf.Tensor(10.0, shape=(), dtype=float32) 16\n",
      "current batch accuracy is: 62.5%\n",
      "tf.Tensor(12.0, shape=(), dtype=float32) 16\n",
      "current batch accuracy is: 75.0%\n"
     ]
    },
    {
     "name": "stderr",
     "output_type": "stream",
     "text": [
      " 51%|████████████████████████████████████████▌                                      | 1603/3125 [01:55<01:57, 12.97it/s]"
     ]
    },
    {
     "name": "stdout",
     "output_type": "stream",
     "text": [
      "tf.Tensor(14.0, shape=(), dtype=float32) 16\n",
      "current batch accuracy is: 87.5%\n",
      "tf.Tensor(10.0, shape=(), dtype=float32) 16\n",
      "current batch accuracy is: 62.5%\n",
      "tf.Tensor(15.0, shape=(), dtype=float32) 16\n",
      "current batch accuracy is: 93.75%\n"
     ]
    },
    {
     "name": "stderr",
     "output_type": "stream",
     "text": [
      " 51%|████████████████████████████████████████▌                                      | 1607/3125 [01:55<01:48, 13.99it/s]"
     ]
    },
    {
     "name": "stdout",
     "output_type": "stream",
     "text": [
      "tf.Tensor(8.0, shape=(), dtype=float32) 16\n",
      "current batch accuracy is: 50.0%\n",
      "tf.Tensor(9.0, shape=(), dtype=float32) 16\n",
      "current batch accuracy is: 56.25%\n",
      "tf.Tensor(14.0, shape=(), dtype=float32) 16\n",
      "current batch accuracy is: 87.5%\n",
      "tf.Tensor(13.0, shape=(), dtype=float32) 16\n",
      "current batch accuracy is: 81.25%\n"
     ]
    },
    {
     "name": "stderr",
     "output_type": "stream",
     "text": [
      "\r",
      " 51%|████████████████████████████████████████▋                                      | 1609/3125 [01:55<01:45, 14.31it/s]"
     ]
    },
    {
     "name": "stdout",
     "output_type": "stream",
     "text": [
      "tf.Tensor(11.0, shape=(), dtype=float32) 16\n",
      "current batch accuracy is: 68.75%\n",
      "tf.Tensor(10.0, shape=(), dtype=float32) 16\n",
      "current batch accuracy is: 62.5%\n",
      "tf.Tensor(10.0, shape=(), dtype=float32) 16\n",
      "current batch accuracy is: 62.5%\n"
     ]
    },
    {
     "name": "stderr",
     "output_type": "stream",
     "text": [
      " 52%|████████████████████████████████████████▊                                      | 1613/3125 [01:55<01:46, 14.23it/s]"
     ]
    },
    {
     "name": "stdout",
     "output_type": "stream",
     "text": [
      "tf.Tensor(11.0, shape=(), dtype=float32) 16\n",
      "current batch accuracy is: 68.75%\n",
      "tf.Tensor(8.0, shape=(), dtype=float32) 16\n",
      "current batch accuracy is: 50.0%\n",
      "tf.Tensor(13.0, shape=(), dtype=float32) 16\n",
      "current batch accuracy is: 81.25%\n",
      "tf.Tensor(12.0, shape=(), dtype=float32) 16\n",
      "current batch accuracy is: 75.0%\n"
     ]
    },
    {
     "name": "stderr",
     "output_type": "stream",
     "text": [
      " 52%|████████████████████████████████████████▉                                      | 1617/3125 [01:56<01:40, 15.07it/s]"
     ]
    },
    {
     "name": "stdout",
     "output_type": "stream",
     "text": [
      "tf.Tensor(10.0, shape=(), dtype=float32) 16\n",
      "current batch accuracy is: 62.5%\n",
      "tf.Tensor(12.0, shape=(), dtype=float32) 16\n",
      "current batch accuracy is: 75.0%\n",
      "tf.Tensor(11.0, shape=(), dtype=float32) 16\n",
      "current batch accuracy is: 68.75%\n"
     ]
    },
    {
     "name": "stderr",
     "output_type": "stream",
     "text": [
      " 52%|████████████████████████████████████████▉                                      | 1621/3125 [01:56<01:43, 14.49it/s]"
     ]
    },
    {
     "name": "stdout",
     "output_type": "stream",
     "text": [
      "tf.Tensor(9.0, shape=(), dtype=float32) 16\n",
      "current batch accuracy is: 56.25%\n",
      "tf.Tensor(10.0, shape=(), dtype=float32) 16\n",
      "current batch accuracy is: 62.5%\n",
      "tf.Tensor(10.0, shape=(), dtype=float32) 16\n",
      "current batch accuracy is: 62.5%\n",
      "tf.Tensor(11.0, shape=(), dtype=float32) 16\n",
      "current batch accuracy is: 68.75%\n"
     ]
    },
    {
     "name": "stderr",
     "output_type": "stream",
     "text": [
      " 52%|█████████████████████████████████████████                                      | 1625/3125 [01:56<01:40, 14.98it/s]"
     ]
    },
    {
     "name": "stdout",
     "output_type": "stream",
     "text": [
      "tf.Tensor(11.0, shape=(), dtype=float32) 16\n",
      "current batch accuracy is: 68.75%\n",
      "tf.Tensor(12.0, shape=(), dtype=float32) 16\n",
      "current batch accuracy is: 75.0%\n",
      "tf.Tensor(11.0, shape=(), dtype=float32) 16\n",
      "current batch accuracy is: 68.75%\n",
      "tf.Tensor(10.0, shape=(), dtype=float32) 16\n",
      "current batch accuracy is: 62.5%\n"
     ]
    },
    {
     "name": "stderr",
     "output_type": "stream",
     "text": [
      "\r",
      " 52%|█████████████████████████████████████████▏                                     | 1627/3125 [01:56<01:39, 15.03it/s]"
     ]
    },
    {
     "name": "stdout",
     "output_type": "stream",
     "text": [
      "tf.Tensor(10.0, shape=(), dtype=float32) 16\n",
      "current batch accuracy is: 62.5%\n",
      "tf.Tensor(11.0, shape=(), dtype=float32) 16\n",
      "current batch accuracy is: 68.75%\n",
      "tf.Tensor(10.0, shape=(), dtype=float32) 16\n",
      "current batch accuracy is: 62.5%\n"
     ]
    },
    {
     "name": "stderr",
     "output_type": "stream",
     "text": [
      " 52%|█████████████████████████████████████████▏                                     | 1631/3125 [01:57<01:41, 14.68it/s]"
     ]
    },
    {
     "name": "stdout",
     "output_type": "stream",
     "text": [
      "tf.Tensor(13.0, shape=(), dtype=float32) 16\n",
      "current batch accuracy is: 81.25%\n",
      "tf.Tensor(11.0, shape=(), dtype=float32) 16\n",
      "current batch accuracy is: 68.75%\n",
      "tf.Tensor(13.0, shape=(), dtype=float32) 16\n",
      "current batch accuracy is: 81.25%\n",
      "tf.Tensor(7.0, shape=(), dtype=float32) 16\n",
      "current batch accuracy is: 43.75%\n"
     ]
    },
    {
     "name": "stderr",
     "output_type": "stream",
     "text": [
      "\r",
      " 52%|█████████████████████████████████████████▎                                     | 1633/3125 [01:57<01:39, 15.03it/s]"
     ]
    },
    {
     "name": "stdout",
     "output_type": "stream",
     "text": [
      "tf.Tensor(12.0, shape=(), dtype=float32) 16\n",
      "current batch accuracy is: 75.0%\n",
      "tf.Tensor(13.0, shape=(), dtype=float32) 16\n",
      "current batch accuracy is: 81.25%\n"
     ]
    },
    {
     "name": "stderr",
     "output_type": "stream",
     "text": [
      " 52%|█████████████████████████████████████████▍                                     | 1637/3125 [01:57<01:53, 13.06it/s]"
     ]
    },
    {
     "name": "stdout",
     "output_type": "stream",
     "text": [
      "tf.Tensor(12.0, shape=(), dtype=float32) 16\n",
      "current batch accuracy is: 75.0%\n",
      "tf.Tensor(12.0, shape=(), dtype=float32) 16\n",
      "current batch accuracy is: 75.0%\n",
      "tf.Tensor(8.0, shape=(), dtype=float32) 16\n",
      "current batch accuracy is: 50.0%\n"
     ]
    },
    {
     "name": "stderr",
     "output_type": "stream",
     "text": [
      " 53%|█████████████████████████████████████████▍                                     | 1641/3125 [01:57<01:45, 14.10it/s]"
     ]
    },
    {
     "name": "stdout",
     "output_type": "stream",
     "text": [
      "tf.Tensor(9.0, shape=(), dtype=float32) 16\n",
      "current batch accuracy is: 56.25%\n",
      "tf.Tensor(8.0, shape=(), dtype=float32) 16\n",
      "current batch accuracy is: 50.0%\n",
      "tf.Tensor(13.0, shape=(), dtype=float32) 16\n",
      "current batch accuracy is: 81.25%\n",
      "tf.Tensor(11.0, shape=(), dtype=float32) 16\n",
      "current batch accuracy is: 68.75%\n"
     ]
    },
    {
     "name": "stderr",
     "output_type": "stream",
     "text": [
      "\r",
      " 53%|█████████████████████████████████████████▌                                     | 1643/3125 [01:58<01:42, 14.47it/s]"
     ]
    },
    {
     "name": "stdout",
     "output_type": "stream",
     "text": [
      "tf.Tensor(11.0, shape=(), dtype=float32) 16\n",
      "current batch accuracy is: 68.75%\n",
      "tf.Tensor(11.0, shape=(), dtype=float32) 16\n",
      "current batch accuracy is: 68.75%\n",
      "tf.Tensor(11.0, shape=(), dtype=float32) 16\n",
      "current batch accuracy is: 68.75%\n",
      "tf.Tensor(15.0, shape=(), dtype=float32) 16\n",
      "current batch accuracy is: 93.75%\n"
     ]
    },
    {
     "name": "stderr",
     "output_type": "stream",
     "text": [
      " 53%|█████████████████████████████████████████▋                                     | 1647/3125 [01:58<01:44, 14.19it/s]"
     ]
    },
    {
     "name": "stdout",
     "output_type": "stream",
     "text": [
      "tf.Tensor(11.0, shape=(), dtype=float32) 16\n",
      "current batch accuracy is: 68.75%\n",
      "tf.Tensor(11.0, shape=(), dtype=float32) 16\n",
      "current batch accuracy is: 68.75%\n",
      "tf.Tensor(13.0, shape=(), dtype=float32) 16\n",
      "current batch accuracy is: 81.25%\n"
     ]
    },
    {
     "name": "stderr",
     "output_type": "stream",
     "text": [
      " 53%|█████████████████████████████████████████▋                                     | 1651/3125 [01:58<01:39, 14.75it/s]"
     ]
    },
    {
     "name": "stdout",
     "output_type": "stream",
     "text": [
      "tf.Tensor(9.0, shape=(), dtype=float32) 16\n",
      "current batch accuracy is: 56.25%\n",
      "tf.Tensor(8.0, shape=(), dtype=float32) 16\n",
      "current batch accuracy is: 50.0%\n",
      "tf.Tensor(12.0, shape=(), dtype=float32) 16\n",
      "current batch accuracy is: 75.0%\n",
      "tf.Tensor(13.0, shape=(), dtype=float32) 16\n"
     ]
    },
    {
     "name": "stderr",
     "output_type": "stream",
     "text": [
      "\r",
      " 53%|█████████████████████████████████████████▊                                     | 1653/3125 [01:58<01:41, 14.44it/s]"
     ]
    },
    {
     "name": "stdout",
     "output_type": "stream",
     "text": [
      "current batch accuracy is: 81.25%\n",
      "tf.Tensor(10.0, shape=(), dtype=float32) 16\n",
      "current batch accuracy is: 62.5%\n",
      "tf.Tensor(15.0, shape=(), dtype=float32) 16\n",
      "current batch accuracy is: 93.75%\n"
     ]
    },
    {
     "name": "stderr",
     "output_type": "stream",
     "text": [
      " 53%|█████████████████████████████████████████▉                                     | 1657/3125 [01:59<01:43, 14.18it/s]"
     ]
    },
    {
     "name": "stdout",
     "output_type": "stream",
     "text": [
      "tf.Tensor(10.0, shape=(), dtype=float32) 16\n",
      "current batch accuracy is: 62.5%\n",
      "tf.Tensor(13.0, shape=(), dtype=float32) 16\n",
      "current batch accuracy is: 81.25%\n",
      "tf.Tensor(12.0, shape=(), dtype=float32) 16\n",
      "current batch accuracy is: 75.0%\n"
     ]
    },
    {
     "name": "stderr",
     "output_type": "stream",
     "text": [
      " 53%|█████████████████████████████████████████▉                                     | 1661/3125 [01:59<01:42, 14.25it/s]"
     ]
    },
    {
     "name": "stdout",
     "output_type": "stream",
     "text": [
      "tf.Tensor(9.0, shape=(), dtype=float32) 16\n",
      "current batch accuracy is: 56.25%\n",
      "tf.Tensor(12.0, shape=(), dtype=float32) 16\n",
      "current batch accuracy is: 75.0%\n",
      "tf.Tensor(11.0, shape=(), dtype=float32) 16\n",
      "current batch accuracy is: 68.75%\n",
      "tf.Tensor(8.0, shape=(), dtype=float32) 16\n",
      "current batch accuracy is: 50.0%\n"
     ]
    },
    {
     "name": "stderr",
     "output_type": "stream",
     "text": [
      " 53%|██████████████████████████████████████████                                     | 1665/3125 [01:59<01:38, 14.81it/s]"
     ]
    },
    {
     "name": "stdout",
     "output_type": "stream",
     "text": [
      "tf.Tensor(11.0, shape=(), dtype=float32) 16\n",
      "current batch accuracy is: 68.75%\n",
      "tf.Tensor(12.0, shape=(), dtype=float32) 16\n",
      "current batch accuracy is: 75.0%\n",
      "tf.Tensor(15.0, shape=(), dtype=float32) 16\n",
      "current batch accuracy is: 93.75%\n",
      "tf.Tensor(10.0, shape=(), dtype=float32) 16\n",
      "current batch accuracy is: 62.5%\n"
     ]
    },
    {
     "name": "stderr",
     "output_type": "stream",
     "text": [
      "\r",
      " 53%|██████████████████████████████████████████▏                                    | 1667/3125 [01:59<01:37, 15.01it/s]"
     ]
    },
    {
     "name": "stdout",
     "output_type": "stream",
     "text": [
      "tf.Tensor(12.0, shape=(), dtype=float32) 16\n",
      "current batch accuracy is: 75.0%\n",
      "tf.Tensor(11.0, shape=(), dtype=float32) 16\n",
      "current batch accuracy is: 68.75%\n",
      "tf.Tensor(12.0, shape=(), dtype=float32) 16\n",
      "current batch accuracy is: 75.0%\n"
     ]
    },
    {
     "name": "stderr",
     "output_type": "stream",
     "text": [
      "\r",
      " 53%|██████████████████████████████████████████▏                                    | 1669/3125 [01:59<01:42, 14.15it/s]"
     ]
    },
    {
     "name": "stdout",
     "output_type": "stream",
     "text": [
      "tf.Tensor(8.0, shape=(), dtype=float32) 16\n",
      "current batch accuracy is: 50.0%\n",
      "tf.Tensor(10.0, shape=(), dtype=float32) 16\n",
      "current batch accuracy is: 62.5%\n",
      "tf.Tensor(10.0, shape=(), dtype=float32) 16\n"
     ]
    },
    {
     "name": "stderr",
     "output_type": "stream",
     "text": [
      " 54%|██████████████████████████████████████████▎                                    | 1673/3125 [02:00<01:49, 13.29it/s]"
     ]
    },
    {
     "name": "stdout",
     "output_type": "stream",
     "text": [
      "current batch accuracy is: 62.5%\n",
      "tf.Tensor(7.0, shape=(), dtype=float32) 16\n",
      "current batch accuracy is: 43.75%\n",
      "tf.Tensor(10.0, shape=(), dtype=float32) 16\n",
      "current batch accuracy is: 62.5%\n"
     ]
    },
    {
     "name": "stderr",
     "output_type": "stream",
     "text": [
      " 54%|██████████████████████████████████████████▍                                    | 1677/3125 [02:00<01:41, 14.21it/s]"
     ]
    },
    {
     "name": "stdout",
     "output_type": "stream",
     "text": [
      "tf.Tensor(13.0, shape=(), dtype=float32) 16\n",
      "current batch accuracy is: 81.25%\n",
      "tf.Tensor(12.0, shape=(), dtype=float32) 16\n",
      "current batch accuracy is: 75.0%\n",
      "tf.Tensor(11.0, shape=(), dtype=float32) 16\n",
      "current batch accuracy is: 68.75%\n",
      "tf.Tensor(9.0, shape=(), dtype=float32) 16\n",
      "current batch accuracy is: 56.25%\n"
     ]
    },
    {
     "name": "stderr",
     "output_type": "stream",
     "text": [
      " 54%|██████████████████████████████████████████▍                                    | 1681/3125 [02:00<01:39, 14.57it/s]"
     ]
    },
    {
     "name": "stdout",
     "output_type": "stream",
     "text": [
      "tf.Tensor(9.0, shape=(), dtype=float32) 16\n",
      "current batch accuracy is: 56.25%\n",
      "tf.Tensor(14.0, shape=(), dtype=float32) 16\n",
      "current batch accuracy is: 87.5%\n",
      "tf.Tensor(12.0, shape=(), dtype=float32) 16\n",
      "current batch accuracy is: 75.0%\n",
      "tf.Tensor(11.0, shape=(), dtype=float32) 16\n",
      "current batch accuracy is: 68.75%\n"
     ]
    },
    {
     "name": "stderr",
     "output_type": "stream",
     "text": [
      "\r",
      " 54%|██████████████████████████████████████████▌                                    | 1683/3125 [02:00<01:45, 13.70it/s]"
     ]
    },
    {
     "name": "stdout",
     "output_type": "stream",
     "text": [
      "tf.Tensor(13.0, shape=(), dtype=float32) 16\n",
      "current batch accuracy is: 81.25%\n",
      "tf.Tensor(12.0, shape=(), dtype=float32) 16\n",
      "current batch accuracy is: 75.0%\n",
      "tf.Tensor(9.0, shape=(), dtype=float32) 16\n",
      "current batch accuracy is: 56.25%\n"
     ]
    },
    {
     "name": "stderr",
     "output_type": "stream",
     "text": [
      " 54%|██████████████████████████████████████████▋                                    | 1687/3125 [02:01<01:44, 13.78it/s]"
     ]
    },
    {
     "name": "stdout",
     "output_type": "stream",
     "text": [
      "tf.Tensor(6.0, shape=(), dtype=float32) 16\n",
      "current batch accuracy is: 37.5%\n",
      "tf.Tensor(13.0, shape=(), dtype=float32) 16\n",
      "current batch accuracy is: 81.25%\n",
      "tf.Tensor(13.0, shape=(), dtype=float32) 16\n",
      "current batch accuracy is: 81.25%\n"
     ]
    },
    {
     "name": "stderr",
     "output_type": "stream",
     "text": [
      "\r",
      " 54%|██████████████████████████████████████████▋                                    | 1689/3125 [02:01<01:43, 13.87it/s]"
     ]
    },
    {
     "name": "stdout",
     "output_type": "stream",
     "text": [
      "tf.Tensor(12.0, shape=(), dtype=float32) 16\n",
      "current batch accuracy is: 75.0%\n",
      "tf.Tensor(10.0, shape=(), dtype=float32) 16\n",
      "current batch accuracy is: 62.5%\n",
      "tf.Tensor(9.0, shape=(), dtype=float32) 16\n",
      "current batch accuracy is: 56.25%\n"
     ]
    },
    {
     "name": "stderr",
     "output_type": "stream",
     "text": [
      " 54%|██████████████████████████████████████████▊                                    | 1693/3125 [02:01<01:42, 14.04it/s]"
     ]
    },
    {
     "name": "stdout",
     "output_type": "stream",
     "text": [
      "tf.Tensor(9.0, shape=(), dtype=float32) 16\n",
      "current batch accuracy is: 56.25%\n",
      "tf.Tensor(10.0, shape=(), dtype=float32) 16\n",
      "current batch accuracy is: 62.5%\n",
      "tf.Tensor(11.0, shape=(), dtype=float32) 16\n",
      "current batch accuracy is: 68.75%\n"
     ]
    },
    {
     "name": "stderr",
     "output_type": "stream",
     "text": [
      "\r",
      " 54%|██████████████████████████████████████████▊                                    | 1695/3125 [02:01<01:45, 13.52it/s]"
     ]
    },
    {
     "name": "stdout",
     "output_type": "stream",
     "text": [
      "tf.Tensor(10.0, shape=(), dtype=float32) 16\n",
      "current batch accuracy is: 62.5%\n",
      "tf.Tensor(9.0, shape=(), dtype=float32) 16\n",
      "current batch accuracy is: 56.25%\n",
      "tf.Tensor(11.0, shape=(), dtype=float32) 16\n",
      "current batch accuracy is: 68.75%\n"
     ]
    },
    {
     "name": "stderr",
     "output_type": "stream",
     "text": [
      " 54%|██████████████████████████████████████████▉                                    | 1699/3125 [02:02<01:47, 13.26it/s]"
     ]
    },
    {
     "name": "stdout",
     "output_type": "stream",
     "text": [
      "tf.Tensor(11.0, shape=(), dtype=float32) 16\n",
      "current batch accuracy is: 68.75%\n",
      "tf.Tensor(13.0, shape=(), dtype=float32) 16\n",
      "current batch accuracy is: 81.25%\n",
      "tf.Tensor(11.0, shape=(), dtype=float32) 16\n",
      "current batch accuracy is: 68.75%\n"
     ]
    },
    {
     "name": "stderr",
     "output_type": "stream",
     "text": [
      "\r",
      " 54%|███████████████████████████████████████████                                    | 1701/3125 [02:02<01:45, 13.44it/s]"
     ]
    },
    {
     "name": "stdout",
     "output_type": "stream",
     "text": [
      "tf.Tensor(12.0, shape=(), dtype=float32) 16\n",
      "current batch accuracy is: 75.0%\n",
      "tf.Tensor(13.0, shape=(), dtype=float32) 16\n",
      "current batch accuracy is: 81.25%\n",
      "tf.Tensor(10.0, shape=(), dtype=float32) 16\n",
      "current batch accuracy is: 62.5%\n"
     ]
    },
    {
     "name": "stderr",
     "output_type": "stream",
     "text": [
      " 55%|███████████████████████████████████████████                                    | 1705/3125 [02:02<01:52, 12.63it/s]"
     ]
    },
    {
     "name": "stdout",
     "output_type": "stream",
     "text": [
      "tf.Tensor(12.0, shape=(), dtype=float32) 16\n",
      "current batch accuracy is: 75.0%\n",
      "tf.Tensor(10.0, shape=(), dtype=float32) 16\n",
      "current batch accuracy is: 62.5%\n",
      "tf.Tensor(11.0, shape=(), dtype=float32) 16\n",
      "current batch accuracy is: 68.75%\n"
     ]
    },
    {
     "name": "stderr",
     "output_type": "stream",
     "text": [
      "\r",
      " 55%|███████████████████████████████████████████▏                                   | 1707/3125 [02:02<01:47, 13.21it/s]"
     ]
    },
    {
     "name": "stdout",
     "output_type": "stream",
     "text": [
      "tf.Tensor(8.0, shape=(), dtype=float32) 16\n",
      "current batch accuracy is: 50.0%\n",
      "tf.Tensor(9.0, shape=(), dtype=float32) 16\n",
      "current batch accuracy is: 56.25%\n",
      "tf.Tensor(8.0, shape=(), dtype=float32) 16\n",
      "current batch accuracy is: 50.0%\n"
     ]
    },
    {
     "name": "stderr",
     "output_type": "stream",
     "text": [
      " 55%|███████████████████████████████████████████▎                                   | 1711/3125 [02:02<01:46, 13.32it/s]"
     ]
    },
    {
     "name": "stdout",
     "output_type": "stream",
     "text": [
      "tf.Tensor(10.0, shape=(), dtype=float32) 16\n",
      "current batch accuracy is: 62.5%\n",
      "tf.Tensor(9.0, shape=(), dtype=float32) 16\n",
      "current batch accuracy is: 56.25%\n",
      "tf.Tensor(11.0, shape=(), dtype=float32) 16\n",
      "current batch accuracy is: 68.75%\n",
      "tf.Tensor(13.0, shape=(), dtype=float32) 16\n",
      "current batch accuracy is: 81.25%\n"
     ]
    },
    {
     "name": "stderr",
     "output_type": "stream",
     "text": [
      " 55%|███████████████████████████████████████████▎                                   | 1715/3125 [02:03<01:38, 14.36it/s]"
     ]
    },
    {
     "name": "stdout",
     "output_type": "stream",
     "text": [
      "tf.Tensor(12.0, shape=(), dtype=float32) 16\n",
      "current batch accuracy is: 75.0%\n",
      "tf.Tensor(11.0, shape=(), dtype=float32) 16\n",
      "current batch accuracy is: 68.75%\n",
      "tf.Tensor(11.0, shape=(), dtype=float32) 16\n",
      "current batch accuracy is: 68.75%\n"
     ]
    },
    {
     "name": "stderr",
     "output_type": "stream",
     "text": [
      "\r",
      " 55%|███████████████████████████████████████████▍                                   | 1717/3125 [02:03<01:39, 14.20it/s]"
     ]
    },
    {
     "name": "stdout",
     "output_type": "stream",
     "text": [
      "tf.Tensor(9.0, shape=(), dtype=float32) 16\n",
      "current batch accuracy is: 56.25%\n",
      "tf.Tensor(9.0, shape=(), dtype=float32) 16\n",
      "current batch accuracy is: 56.25%\n",
      "tf.Tensor(7.0, shape=(), dtype=float32) 16\n",
      "current batch accuracy is: 43.75%\n"
     ]
    },
    {
     "name": "stderr",
     "output_type": "stream",
     "text": [
      "\r",
      " 55%|███████████████████████████████████████████▍                                   | 1719/3125 [02:03<01:42, 13.75it/s]"
     ]
    },
    {
     "name": "stdout",
     "output_type": "stream",
     "text": [
      "tf.Tensor(10.0, shape=(), dtype=float32) 16\n",
      "current batch accuracy is: 62.5%\n",
      "tf.Tensor(10.0, shape=(), dtype=float32) 16\n",
      "current batch accuracy is: 62.5%\n"
     ]
    },
    {
     "name": "stderr",
     "output_type": "stream",
     "text": [
      " 55%|███████████████████████████████████████████▌                                   | 1723/3125 [02:03<01:59, 11.78it/s]"
     ]
    },
    {
     "name": "stdout",
     "output_type": "stream",
     "text": [
      "tf.Tensor(11.0, shape=(), dtype=float32) 16\n",
      "current batch accuracy is: 68.75%\n",
      "tf.Tensor(11.0, shape=(), dtype=float32) 16\n",
      "current batch accuracy is: 68.75%\n",
      "tf.Tensor(9.0, shape=(), dtype=float32) 16\n",
      "current batch accuracy is: 56.25%\n"
     ]
    },
    {
     "name": "stderr",
     "output_type": "stream",
     "text": [
      "\r",
      " 55%|███████████████████████████████████████████▌                                   | 1725/3125 [02:04<01:51, 12.61it/s]"
     ]
    },
    {
     "name": "stdout",
     "output_type": "stream",
     "text": [
      "tf.Tensor(13.0, shape=(), dtype=float32) 16\n",
      "current batch accuracy is: 81.25%\n",
      "tf.Tensor(9.0, shape=(), dtype=float32) 16\n",
      "current batch accuracy is: 56.25%\n",
      "tf.Tensor(11.0, shape=(), dtype=float32) 16\n",
      "current batch accuracy is: 68.75%\n"
     ]
    },
    {
     "name": "stderr",
     "output_type": "stream",
     "text": [
      " 55%|███████████████████████████████████████████▋                                   | 1729/3125 [02:04<01:47, 13.02it/s]"
     ]
    },
    {
     "name": "stdout",
     "output_type": "stream",
     "text": [
      "tf.Tensor(10.0, shape=(), dtype=float32) 16\n",
      "current batch accuracy is: 62.5%\n",
      "tf.Tensor(12.0, shape=(), dtype=float32) 16\n",
      "current batch accuracy is: 75.0%\n",
      "tf.Tensor(12.0, shape=(), dtype=float32) 16\n",
      "current batch accuracy is: 75.0%\n"
     ]
    },
    {
     "name": "stderr",
     "output_type": "stream",
     "text": [
      " 55%|███████████████████████████████████████████▊                                   | 1733/3125 [02:04<01:38, 14.08it/s]"
     ]
    },
    {
     "name": "stdout",
     "output_type": "stream",
     "text": [
      "tf.Tensor(12.0, shape=(), dtype=float32) 16\n",
      "current batch accuracy is: 75.0%\n",
      "tf.Tensor(11.0, shape=(), dtype=float32) 16\n",
      "current batch accuracy is: 68.75%\n",
      "tf.Tensor(12.0, shape=(), dtype=float32) 16\n",
      "current batch accuracy is: 75.0%\n",
      "tf.Tensor(10.0, shape=(), dtype=float32) 16\n",
      "current batch accuracy is: 62.5%\n"
     ]
    },
    {
     "name": "stderr",
     "output_type": "stream",
     "text": [
      " 56%|███████████████████████████████████████████▉                                   | 1737/3125 [02:04<01:33, 14.92it/s]"
     ]
    },
    {
     "name": "stdout",
     "output_type": "stream",
     "text": [
      "tf.Tensor(13.0, shape=(), dtype=float32) 16\n",
      "current batch accuracy is: 81.25%\n",
      "tf.Tensor(12.0, shape=(), dtype=float32) 16\n",
      "current batch accuracy is: 75.0%\n",
      "tf.Tensor(9.0, shape=(), dtype=float32) 16\n",
      "current batch accuracy is: 56.25%\n",
      "tf.Tensor(12.0, shape=(), dtype=float32) 16\n",
      "current batch accuracy is: 75.0%\n"
     ]
    },
    {
     "name": "stderr",
     "output_type": "stream",
     "text": [
      "\r",
      " 56%|███████████████████████████████████████████▉                                   | 1739/3125 [02:05<01:38, 14.04it/s]"
     ]
    },
    {
     "name": "stdout",
     "output_type": "stream",
     "text": [
      "tf.Tensor(9.0, shape=(), dtype=float32) 16\n",
      "current batch accuracy is: 56.25%\n",
      "tf.Tensor(7.0, shape=(), dtype=float32) 16\n",
      "current batch accuracy is: 43.75%\n",
      "tf.Tensor(7.0, shape=(), dtype=float32) 16\n",
      "current batch accuracy is: 43.75%\n"
     ]
    },
    {
     "name": "stderr",
     "output_type": "stream",
     "text": [
      " 56%|████████████████████████████████████████████                                   | 1743/3125 [02:05<01:40, 13.76it/s]"
     ]
    },
    {
     "name": "stdout",
     "output_type": "stream",
     "text": [
      "tf.Tensor(12.0, shape=(), dtype=float32) 16\n",
      "current batch accuracy is: 75.0%\n",
      "tf.Tensor(11.0, shape=(), dtype=float32) 16\n",
      "current batch accuracy is: 68.75%\n",
      "tf.Tensor(8.0, shape=(), dtype=float32) 16\n",
      "current batch accuracy is: 50.0%\n",
      "tf.Tensor(9.0, shape=(), dtype=float32) 16\n",
      "current batch accuracy is: 56.25%\n"
     ]
    },
    {
     "name": "stderr",
     "output_type": "stream",
     "text": [
      " 56%|████████████████████████████████████████████▏                                  | 1747/3125 [02:05<01:44, 13.18it/s]"
     ]
    },
    {
     "name": "stdout",
     "output_type": "stream",
     "text": [
      "tf.Tensor(9.0, shape=(), dtype=float32) 16\n",
      "current batch accuracy is: 56.25%\n",
      "tf.Tensor(14.0, shape=(), dtype=float32) 16\n",
      "current batch accuracy is: 87.5%\n",
      "tf.Tensor(10.0, shape=(), dtype=float32) 16\n",
      "current batch accuracy is: 62.5%\n"
     ]
    },
    {
     "name": "stderr",
     "output_type": "stream",
     "text": [
      "\r",
      " 56%|████████████████████████████████████████████▏                                  | 1749/3125 [02:05<01:46, 12.96it/s]"
     ]
    },
    {
     "name": "stdout",
     "output_type": "stream",
     "text": [
      "tf.Tensor(11.0, shape=(), dtype=float32) 16\n",
      "current batch accuracy is: 68.75%\n",
      "tf.Tensor(12.0, shape=(), dtype=float32) 16\n",
      "current batch accuracy is: 75.0%\n",
      "tf.Tensor(13.0, shape=(), dtype=float32) 16\n",
      "current batch accuracy is: 81.25%\n"
     ]
    },
    {
     "name": "stderr",
     "output_type": "stream",
     "text": [
      " 56%|████████████████████████████████████████████▎                                  | 1753/3125 [02:06<01:51, 12.36it/s]"
     ]
    },
    {
     "name": "stdout",
     "output_type": "stream",
     "text": [
      "tf.Tensor(9.0, shape=(), dtype=float32) 16\n",
      "current batch accuracy is: 56.25%\n",
      "tf.Tensor(12.0, shape=(), dtype=float32) 16\n",
      "current batch accuracy is: 75.0%\n",
      "tf.Tensor(11.0, shape=(), dtype=float32) 16\n",
      "current batch accuracy is: 68.75%\n"
     ]
    },
    {
     "name": "stderr",
     "output_type": "stream",
     "text": [
      "\r",
      " 56%|████████████████████████████████████████████▎                                  | 1755/3125 [02:06<01:47, 12.76it/s]"
     ]
    },
    {
     "name": "stdout",
     "output_type": "stream",
     "text": [
      "tf.Tensor(11.0, shape=(), dtype=float32) 16\n",
      "current batch accuracy is: 68.75%\n",
      "tf.Tensor(15.0, shape=(), dtype=float32) 16\n",
      "current batch accuracy is: 93.75%\n",
      "tf.Tensor(10.0, shape=(), dtype=float32) 16\n",
      "current batch accuracy is: 62.5%\n"
     ]
    },
    {
     "name": "stderr",
     "output_type": "stream",
     "text": [
      " 56%|████████████████████████████████████████████▍                                  | 1759/3125 [02:06<01:38, 13.80it/s]"
     ]
    },
    {
     "name": "stdout",
     "output_type": "stream",
     "text": [
      "tf.Tensor(12.0, shape=(), dtype=float32) 16\n",
      "current batch accuracy is: 75.0%\n",
      "tf.Tensor(10.0, shape=(), dtype=float32) 16\n",
      "current batch accuracy is: 62.5%\n",
      "tf.Tensor(13.0, shape=(), dtype=float32) 16\n",
      "current batch accuracy is: 81.25%\n",
      "tf.Tensor(12.0, shape=(), dtype=float32) 16\n",
      "current batch accuracy is: 75.0%\n"
     ]
    },
    {
     "name": "stderr",
     "output_type": "stream",
     "text": [
      " 56%|████████████████████████████████████████████▌                                  | 1763/3125 [02:06<01:39, 13.74it/s]"
     ]
    },
    {
     "name": "stdout",
     "output_type": "stream",
     "text": [
      "tf.Tensor(9.0, shape=(), dtype=float32) 16\n",
      "current batch accuracy is: 56.25%\n",
      "tf.Tensor(11.0, shape=(), dtype=float32) 16\n",
      "current batch accuracy is: 68.75%\n",
      "tf.Tensor(15.0, shape=(), dtype=float32) 16\n",
      "current batch accuracy is: 93.75%\n"
     ]
    },
    {
     "name": "stderr",
     "output_type": "stream",
     "text": [
      "\r",
      " 56%|████████████████████████████████████████████▌                                  | 1765/3125 [02:07<01:38, 13.87it/s]"
     ]
    },
    {
     "name": "stdout",
     "output_type": "stream",
     "text": [
      "tf.Tensor(6.0, shape=(), dtype=float32) 16\n",
      "current batch accuracy is: 37.5%\n",
      "tf.Tensor(12.0, shape=(), dtype=float32) 16\n",
      "current batch accuracy is: 75.0%\n",
      "tf.Tensor(12.0, shape=(), dtype=float32) 16\n",
      "current batch accuracy is: 75.0%\n"
     ]
    },
    {
     "name": "stderr",
     "output_type": "stream",
     "text": [
      " 57%|████████████████████████████████████████████▋                                  | 1769/3125 [02:07<01:35, 14.13it/s]"
     ]
    },
    {
     "name": "stdout",
     "output_type": "stream",
     "text": [
      "tf.Tensor(14.0, shape=(), dtype=float32) 16\n",
      "current batch accuracy is: 87.5%\n",
      "tf.Tensor(13.0, shape=(), dtype=float32) 16\n",
      "current batch accuracy is: 81.25%\n",
      "tf.Tensor(11.0, shape=(), dtype=float32) 16\n",
      "current batch accuracy is: 68.75%\n",
      "tf.Tensor(11.0, shape=(), dtype=float32) 16\n",
      "current batch accuracy is: 68.75%\n"
     ]
    },
    {
     "name": "stderr",
     "output_type": "stream",
     "text": [
      " 57%|████████████████████████████████████████████▊                                  | 1773/3125 [02:07<01:44, 12.90it/s]"
     ]
    },
    {
     "name": "stdout",
     "output_type": "stream",
     "text": [
      "tf.Tensor(13.0, shape=(), dtype=float32) 16\n",
      "current batch accuracy is: 81.25%\n",
      "tf.Tensor(11.0, shape=(), dtype=float32) 16\n",
      "current batch accuracy is: 68.75%\n",
      "tf.Tensor(11.0, shape=(), dtype=float32) 16\n",
      "current batch accuracy is: 68.75%\n"
     ]
    },
    {
     "name": "stderr",
     "output_type": "stream",
     "text": [
      "\r",
      " 57%|████████████████████████████████████████████▊                                  | 1775/3125 [02:07<01:47, 12.58it/s]"
     ]
    },
    {
     "name": "stdout",
     "output_type": "stream",
     "text": [
      "tf.Tensor(11.0, shape=(), dtype=float32) 16\n",
      "current batch accuracy is: 68.75%\n",
      "tf.Tensor(11.0, shape=(), dtype=float32) 16\n",
      "current batch accuracy is: 68.75%\n",
      "tf.Tensor(14.0, shape=(), dtype=float32) 16\n",
      "current batch accuracy is: 87.5%\n"
     ]
    },
    {
     "name": "stderr",
     "output_type": "stream",
     "text": [
      " 57%|████████████████████████████████████████████▉                                  | 1779/3125 [02:08<01:45, 12.77it/s]"
     ]
    },
    {
     "name": "stdout",
     "output_type": "stream",
     "text": [
      "tf.Tensor(9.0, shape=(), dtype=float32) 16\n",
      "current batch accuracy is: 56.25%\n",
      "tf.Tensor(11.0, shape=(), dtype=float32) 16\n",
      "current batch accuracy is: 68.75%\n",
      "tf.Tensor(12.0, shape=(), dtype=float32) 16\n",
      "current batch accuracy is: 75.0%\n"
     ]
    },
    {
     "name": "stderr",
     "output_type": "stream",
     "text": [
      "\r",
      " 57%|█████████████████████████████████████████████                                  | 1781/3125 [02:08<02:20,  9.57it/s]"
     ]
    },
    {
     "name": "stdout",
     "output_type": "stream",
     "text": [
      "tf.Tensor(9.0, shape=(), dtype=float32) 16\n",
      "current batch accuracy is: 56.25%\n",
      "tf.Tensor(10.0, shape=(), dtype=float32) 16\n",
      "current batch accuracy is: 62.5%\n",
      "tf.Tensor(7.0, shape=(), dtype=float32) 16\n",
      "current batch accuracy is: 43.75%\n"
     ]
    },
    {
     "name": "stderr",
     "output_type": "stream",
     "text": [
      " 57%|█████████████████████████████████████████████                                  | 1785/3125 [02:08<02:12, 10.08it/s]"
     ]
    },
    {
     "name": "stdout",
     "output_type": "stream",
     "text": [
      "tf.Tensor(11.0, shape=(), dtype=float32) 16\n",
      "current batch accuracy is: 68.75%\n",
      "tf.Tensor(11.0, shape=(), dtype=float32) 16\n",
      "current batch accuracy is: 68.75%\n",
      "tf.Tensor(12.0, shape=(), dtype=float32) 16\n",
      "current batch accuracy is: 75.0%\n"
     ]
    },
    {
     "name": "stderr",
     "output_type": "stream",
     "text": [
      "\r",
      " 57%|█████████████████████████████████████████████▏                                 | 1787/3125 [02:08<01:58, 11.32it/s]"
     ]
    },
    {
     "name": "stdout",
     "output_type": "stream",
     "text": [
      "tf.Tensor(11.0, shape=(), dtype=float32) 16\n",
      "current batch accuracy is: 68.75%\n",
      "tf.Tensor(9.0, shape=(), dtype=float32) 16\n",
      "current batch accuracy is: 56.25%\n",
      "tf.Tensor(14.0, shape=(), dtype=float32) 16\n",
      "current batch accuracy is: 87.5%\n"
     ]
    },
    {
     "name": "stderr",
     "output_type": "stream",
     "text": [
      " 57%|█████████████████████████████████████████████▎                                 | 1791/3125 [02:09<02:03, 10.84it/s]"
     ]
    },
    {
     "name": "stdout",
     "output_type": "stream",
     "text": [
      "tf.Tensor(11.0, shape=(), dtype=float32) 16\n",
      "current batch accuracy is: 68.75%\n",
      "tf.Tensor(12.0, shape=(), dtype=float32) 16\n",
      "current batch accuracy is: 75.0%\n",
      "tf.Tensor(10.0, shape=(), dtype=float32) 16\n",
      "current batch accuracy is: 62.5%\n"
     ]
    },
    {
     "name": "stderr",
     "output_type": "stream",
     "text": [
      " 57%|█████████████████████████████████████████████▍                                 | 1795/3125 [02:09<01:47, 12.38it/s]"
     ]
    },
    {
     "name": "stdout",
     "output_type": "stream",
     "text": [
      "tf.Tensor(11.0, shape=(), dtype=float32) 16\n",
      "current batch accuracy is: 68.75%\n",
      "tf.Tensor(9.0, shape=(), dtype=float32) 16\n",
      "current batch accuracy is: 56.25%\n",
      "tf.Tensor(13.0, shape=(), dtype=float32) 16\n",
      "current batch accuracy is: 81.25%\n",
      "tf.Tensor(12.0, shape=(), dtype=float32) 16\n",
      "current batch accuracy is: 75.0%\n"
     ]
    },
    {
     "name": "stderr",
     "output_type": "stream",
     "text": [
      "\r",
      " 58%|█████████████████████████████████████████████▍                                 | 1797/3125 [02:09<01:40, 13.16it/s]"
     ]
    },
    {
     "name": "stdout",
     "output_type": "stream",
     "text": [
      "tf.Tensor(8.0, shape=(), dtype=float32) 16\n",
      "current batch accuracy is: 50.0%\n",
      "tf.Tensor(12.0, shape=(), dtype=float32) 16\n",
      "current batch accuracy is: 75.0%\n",
      "tf.Tensor(10.0, shape=(), dtype=float32) 16\n",
      "current batch accuracy is: 62.5%\n"
     ]
    },
    {
     "name": "stderr",
     "output_type": "stream",
     "text": [
      " 58%|█████████████████████████████████████████████▌                                 | 1801/3125 [02:10<01:35, 13.82it/s]"
     ]
    },
    {
     "name": "stdout",
     "output_type": "stream",
     "text": [
      "tf.Tensor(11.0, shape=(), dtype=float32) 16\n",
      "current batch accuracy is: 68.75%\n",
      "tf.Tensor(14.0, shape=(), dtype=float32) 16\n",
      "current batch accuracy is: 87.5%\n",
      "tf.Tensor(12.0, shape=(), dtype=float32) 16\n",
      "current batch accuracy is: 75.0%\n",
      "tf.Tensor(11.0, shape=(), dtype=float32) 16\n",
      "current batch accuracy is: 68.75%\n"
     ]
    },
    {
     "name": "stderr",
     "output_type": "stream",
     "text": [
      " 58%|█████████████████████████████████████████████▋                                 | 1805/3125 [02:10<01:37, 13.47it/s]"
     ]
    },
    {
     "name": "stdout",
     "output_type": "stream",
     "text": [
      "tf.Tensor(10.0, shape=(), dtype=float32) 16\n",
      "current batch accuracy is: 62.5%\n",
      "tf.Tensor(11.0, shape=(), dtype=float32) 16\n",
      "current batch accuracy is: 68.75%\n",
      "tf.Tensor(11.0, shape=(), dtype=float32) 16\n",
      "current batch accuracy is: 68.75%\n"
     ]
    },
    {
     "name": "stderr",
     "output_type": "stream",
     "text": [
      "\r",
      " 58%|█████████████████████████████████████████████▋                                 | 1807/3125 [02:10<01:34, 13.97it/s]"
     ]
    },
    {
     "name": "stdout",
     "output_type": "stream",
     "text": [
      "tf.Tensor(9.0, shape=(), dtype=float32) 16\n",
      "current batch accuracy is: 56.25%\n",
      "tf.Tensor(11.0, shape=(), dtype=float32) 16\n",
      "current batch accuracy is: 68.75%\n",
      "tf.Tensor(11.0, shape=(), dtype=float32) 16\n",
      "current batch accuracy is: 68.75%\n"
     ]
    },
    {
     "name": "stderr",
     "output_type": "stream",
     "text": [
      " 58%|█████████████████████████████████████████████▊                                 | 1811/3125 [02:10<01:31, 14.32it/s]"
     ]
    },
    {
     "name": "stdout",
     "output_type": "stream",
     "text": [
      "tf.Tensor(7.0, shape=(), dtype=float32) 16\n",
      "current batch accuracy is: 43.75%\n",
      "tf.Tensor(10.0, shape=(), dtype=float32) 16\n",
      "current batch accuracy is: 62.5%\n",
      "tf.Tensor(9.0, shape=(), dtype=float32) 16\n",
      "current batch accuracy is: 56.25%\n",
      "tf.Tensor(14.0, shape=(), dtype=float32) 16\n",
      "current batch accuracy is: 87.5%\n"
     ]
    },
    {
     "name": "stderr",
     "output_type": "stream",
     "text": [
      " 58%|█████████████████████████████████████████████▉                                 | 1815/3125 [02:11<01:28, 14.77it/s]"
     ]
    },
    {
     "name": "stdout",
     "output_type": "stream",
     "text": [
      "tf.Tensor(11.0, shape=(), dtype=float32) 16\n",
      "current batch accuracy is: 68.75%\n",
      "tf.Tensor(8.0, shape=(), dtype=float32) 16\n",
      "current batch accuracy is: 50.0%\n",
      "tf.Tensor(10.0, shape=(), dtype=float32) 16\n",
      "current batch accuracy is: 62.5%\n"
     ]
    },
    {
     "name": "stderr",
     "output_type": "stream",
     "text": [
      "\r",
      " 58%|█████████████████████████████████████████████▉                                 | 1817/3125 [02:11<01:28, 14.81it/s]"
     ]
    },
    {
     "name": "stdout",
     "output_type": "stream",
     "text": [
      "tf.Tensor(7.0, shape=(), dtype=float32) 16\n",
      "current batch accuracy is: 43.75%\n",
      "tf.Tensor(7.0, shape=(), dtype=float32) 16\n",
      "current batch accuracy is: 43.75%\n",
      "tf.Tensor(10.0, shape=(), dtype=float32) 16\n",
      "current batch accuracy is: 62.5%\n"
     ]
    },
    {
     "name": "stderr",
     "output_type": "stream",
     "text": [
      " 58%|██████████████████████████████████████████████                                 | 1821/3125 [02:11<01:30, 14.48it/s]"
     ]
    },
    {
     "name": "stdout",
     "output_type": "stream",
     "text": [
      "tf.Tensor(10.0, shape=(), dtype=float32) 16\n",
      "current batch accuracy is: 62.5%\n",
      "tf.Tensor(10.0, shape=(), dtype=float32) 16\n",
      "current batch accuracy is: 62.5%\n",
      "tf.Tensor(14.0, shape=(), dtype=float32) 16\n",
      "current batch accuracy is: 87.5%\n"
     ]
    },
    {
     "name": "stderr",
     "output_type": "stream",
     "text": [
      "\r",
      " 58%|██████████████████████████████████████████████                                 | 1823/3125 [02:11<01:32, 14.09it/s]"
     ]
    },
    {
     "name": "stdout",
     "output_type": "stream",
     "text": [
      "tf.Tensor(11.0, shape=(), dtype=float32) 16\n",
      "current batch accuracy is: 68.75%\n",
      "tf.Tensor(10.0, shape=(), dtype=float32) 16\n",
      "current batch accuracy is: 62.5%\n",
      "tf.Tensor(10.0, shape=(), dtype=float32) 16\n",
      "current batch accuracy is: 62.5%\n"
     ]
    },
    {
     "name": "stderr",
     "output_type": "stream",
     "text": [
      " 58%|██████████████████████████████████████████████▏                                | 1827/3125 [02:11<01:43, 12.49it/s]"
     ]
    },
    {
     "name": "stdout",
     "output_type": "stream",
     "text": [
      "tf.Tensor(12.0, shape=(), dtype=float32) 16\n",
      "current batch accuracy is: 75.0%\n",
      "tf.Tensor(11.0, shape=(), dtype=float32) 16\n",
      "current batch accuracy is: 68.75%\n",
      "tf.Tensor(13.0, shape=(), dtype=float32) 16\n",
      "current batch accuracy is: 81.25%\n"
     ]
    },
    {
     "name": "stderr",
     "output_type": "stream",
     "text": [
      "\r",
      " 59%|██████████████████████████████████████████████▏                                | 1829/3125 [02:12<01:42, 12.68it/s]"
     ]
    },
    {
     "name": "stdout",
     "output_type": "stream",
     "text": [
      "tf.Tensor(12.0, shape=(), dtype=float32) 16\n",
      "current batch accuracy is: 75.0%\n",
      "tf.Tensor(10.0, shape=(), dtype=float32) 16\n",
      "current batch accuracy is: 62.5%\n",
      "tf.Tensor(8.0, shape=(), dtype=float32) 16\n",
      "current batch accuracy is: 50.0%\n"
     ]
    },
    {
     "name": "stderr",
     "output_type": "stream",
     "text": [
      " 59%|██████████████████████████████████████████████▎                                | 1833/3125 [02:12<01:39, 12.99it/s]"
     ]
    },
    {
     "name": "stdout",
     "output_type": "stream",
     "text": [
      "tf.Tensor(9.0, shape=(), dtype=float32) 16\n",
      "current batch accuracy is: 56.25%\n",
      "tf.Tensor(10.0, shape=(), dtype=float32) 16\n",
      "current batch accuracy is: 62.5%\n",
      "tf.Tensor(11.0, shape=(), dtype=float32) 16\n",
      "current batch accuracy is: 68.75%\n"
     ]
    },
    {
     "name": "stderr",
     "output_type": "stream",
     "text": [
      " 59%|██████████████████████████████████████████████▍                                | 1837/3125 [02:12<01:34, 13.64it/s]"
     ]
    },
    {
     "name": "stdout",
     "output_type": "stream",
     "text": [
      "tf.Tensor(12.0, shape=(), dtype=float32) 16\n",
      "current batch accuracy is: 75.0%\n",
      "tf.Tensor(13.0, shape=(), dtype=float32) 16\n",
      "current batch accuracy is: 81.25%\n",
      "tf.Tensor(7.0, shape=(), dtype=float32) 16\n",
      "current batch accuracy is: 43.75%\n",
      "tf.Tensor(9.0, shape=(), dtype=float32) 16\n",
      "current batch accuracy is: 56.25%\n"
     ]
    },
    {
     "name": "stderr",
     "output_type": "stream",
     "text": [
      "\r",
      " 59%|██████████████████████████████████████████████▍                                | 1839/3125 [02:12<01:34, 13.58it/s]"
     ]
    },
    {
     "name": "stdout",
     "output_type": "stream",
     "text": [
      "tf.Tensor(8.0, shape=(), dtype=float32) 16\n",
      "current batch accuracy is: 50.0%\n",
      "tf.Tensor(10.0, shape=(), dtype=float32) 16\n",
      "current batch accuracy is: 62.5%\n",
      "tf.Tensor(13.0, shape=(), dtype=float32) 16\n",
      "current batch accuracy is: 81.25%\n"
     ]
    },
    {
     "name": "stderr",
     "output_type": "stream",
     "text": [
      " 59%|██████████████████████████████████████████████▌                                | 1843/3125 [02:13<01:36, 13.22it/s]"
     ]
    },
    {
     "name": "stdout",
     "output_type": "stream",
     "text": [
      "tf.Tensor(7.0, shape=(), dtype=float32) 16\n",
      "current batch accuracy is: 43.75%\n",
      "tf.Tensor(11.0, shape=(), dtype=float32) 16\n",
      "current batch accuracy is: 68.75%\n",
      "tf.Tensor(6.0, shape=(), dtype=float32) 16\n",
      "current batch accuracy is: 37.5%\n"
     ]
    },
    {
     "name": "stderr",
     "output_type": "stream",
     "text": [
      " 59%|██████████████████████████████████████████████▋                                | 1847/3125 [02:13<01:31, 13.90it/s]"
     ]
    },
    {
     "name": "stdout",
     "output_type": "stream",
     "text": [
      "tf.Tensor(12.0, shape=(), dtype=float32) 16\n",
      "current batch accuracy is: 75.0%\n",
      "tf.Tensor(9.0, shape=(), dtype=float32) 16\n",
      "current batch accuracy is: 56.25%\n",
      "tf.Tensor(10.0, shape=(), dtype=float32) 16\n",
      "current batch accuracy is: 62.5%\n",
      "tf.Tensor(9.0, shape=(), dtype=float32) 16\n",
      "current batch accuracy is: 56.25%\n"
     ]
    },
    {
     "name": "stderr",
     "output_type": "stream",
     "text": [
      "\r",
      " 59%|██████████████████████████████████████████████▋                                | 1849/3125 [02:13<01:30, 14.06it/s]"
     ]
    },
    {
     "name": "stdout",
     "output_type": "stream",
     "text": [
      "tf.Tensor(12.0, shape=(), dtype=float32) 16\n",
      "current batch accuracy is: 75.0%\n",
      "tf.Tensor(11.0, shape=(), dtype=float32) 16\n",
      "current batch accuracy is: 68.75%\n",
      "tf.Tensor(13.0, shape=(), dtype=float32) 16\n",
      "current batch accuracy is: 81.25%\n",
      "tf.Tensor(10.0, shape=(), dtype=float32) 16\n",
      "current batch accuracy is: 62.5%\n"
     ]
    },
    {
     "name": "stderr",
     "output_type": "stream",
     "text": [
      " 59%|██████████████████████████████████████████████▊                                | 1853/3125 [02:13<01:29, 14.21it/s]"
     ]
    },
    {
     "name": "stdout",
     "output_type": "stream",
     "text": [
      "tf.Tensor(9.0, shape=(), dtype=float32) 16\n",
      "current batch accuracy is: 56.25%\n",
      "tf.Tensor(13.0, shape=(), dtype=float32) 16\n",
      "current batch accuracy is: 81.25%\n",
      "tf.Tensor(13.0, shape=(), dtype=float32) 16\n",
      "current batch accuracy is: 81.25%\n"
     ]
    },
    {
     "name": "stderr",
     "output_type": "stream",
     "text": [
      " 59%|██████████████████████████████████████████████▉                                | 1857/3125 [02:14<01:34, 13.49it/s]"
     ]
    },
    {
     "name": "stdout",
     "output_type": "stream",
     "text": [
      "tf.Tensor(9.0, shape=(), dtype=float32) 16\n",
      "current batch accuracy is: 56.25%\n",
      "tf.Tensor(10.0, shape=(), dtype=float32) 16\n",
      "current batch accuracy is: 62.5%\n",
      "tf.Tensor(8.0, shape=(), dtype=float32) 16\n",
      "current batch accuracy is: 50.0%\n"
     ]
    },
    {
     "name": "stderr",
     "output_type": "stream",
     "text": [
      "\r",
      " 59%|██████████████████████████████████████████████▉                                | 1859/3125 [02:14<02:01, 10.44it/s]"
     ]
    },
    {
     "name": "stdout",
     "output_type": "stream",
     "text": [
      "tf.Tensor(12.0, shape=(), dtype=float32) 16\n",
      "current batch accuracy is: 75.0%\n",
      "tf.Tensor(8.0, shape=(), dtype=float32) 16\n",
      "current batch accuracy is: 50.0%\n"
     ]
    },
    {
     "name": "stderr",
     "output_type": "stream",
     "text": [
      " 60%|███████████████████████████████████████████████                                | 1863/3125 [02:14<01:40, 12.55it/s]"
     ]
    },
    {
     "name": "stdout",
     "output_type": "stream",
     "text": [
      "tf.Tensor(13.0, shape=(), dtype=float32) 16\n",
      "current batch accuracy is: 81.25%\n",
      "tf.Tensor(13.0, shape=(), dtype=float32) 16\n",
      "current batch accuracy is: 81.25%\n",
      "tf.Tensor(14.0, shape=(), dtype=float32) 16\n",
      "current batch accuracy is: 87.5%\n",
      "tf.Tensor(9.0, shape=(), dtype=float32) 16\n",
      "current batch accuracy is: 56.25%\n"
     ]
    },
    {
     "name": "stderr",
     "output_type": "stream",
     "text": [
      "\r",
      " 60%|███████████████████████████████████████████████▏                               | 1865/3125 [02:14<01:35, 13.13it/s]"
     ]
    },
    {
     "name": "stdout",
     "output_type": "stream",
     "text": [
      "tf.Tensor(11.0, shape=(), dtype=float32) 16\n",
      "current batch accuracy is: 68.75%\n",
      "tf.Tensor(12.0, shape=(), dtype=float32) 16\n",
      "current batch accuracy is: 75.0%\n"
     ]
    },
    {
     "name": "stderr",
     "output_type": "stream",
     "text": [
      "\r",
      " 60%|███████████████████████████████████████████████▏                               | 1867/3125 [02:15<01:50, 11.34it/s]"
     ]
    },
    {
     "name": "stdout",
     "output_type": "stream",
     "text": [
      "tf.Tensor(11.0, shape=(), dtype=float32) 16\n",
      "current batch accuracy is: 68.75%\n",
      "tf.Tensor(11.0, shape=(), dtype=float32) 16\n",
      "current batch accuracy is: 68.75%\n",
      "tf.Tensor(8.0, shape=(), dtype=float32) 16\n",
      "current batch accuracy is: 50.0%\n"
     ]
    },
    {
     "name": "stderr",
     "output_type": "stream",
     "text": [
      " 60%|███████████████████████████████████████████████▎                               | 1871/3125 [02:15<01:40, 12.45it/s]"
     ]
    },
    {
     "name": "stdout",
     "output_type": "stream",
     "text": [
      "tf.Tensor(11.0, shape=(), dtype=float32) 16\n",
      "current batch accuracy is: 68.75%\n",
      "tf.Tensor(12.0, shape=(), dtype=float32) 16\n",
      "current batch accuracy is: 75.0%\n",
      "tf.Tensor(13.0, shape=(), dtype=float32) 16\n",
      "current batch accuracy is: 81.25%\n"
     ]
    },
    {
     "name": "stderr",
     "output_type": "stream",
     "text": [
      "\r",
      " 60%|███████████████████████████████████████████████▎                               | 1873/3125 [02:15<01:47, 11.65it/s]"
     ]
    },
    {
     "name": "stdout",
     "output_type": "stream",
     "text": [
      "tf.Tensor(9.0, shape=(), dtype=float32) 16\n",
      "current batch accuracy is: 56.25%\n",
      "tf.Tensor(13.0, shape=(), dtype=float32) 16\n",
      "current batch accuracy is: 81.25%\n",
      "tf.Tensor(10.0, shape=(), dtype=float32) 16\n",
      "current batch accuracy is: 62.5%\n"
     ]
    },
    {
     "name": "stderr",
     "output_type": "stream",
     "text": [
      " 60%|███████████████████████████████████████████████▍                               | 1877/3125 [02:15<01:38, 12.72it/s]"
     ]
    },
    {
     "name": "stdout",
     "output_type": "stream",
     "text": [
      "tf.Tensor(12.0, shape=(), dtype=float32) 16\n",
      "current batch accuracy is: 75.0%\n",
      "tf.Tensor(8.0, shape=(), dtype=float32) 16\n",
      "current batch accuracy is: 50.0%\n",
      "tf.Tensor(11.0, shape=(), dtype=float32) 16\n",
      "current batch accuracy is: 68.75%\n"
     ]
    },
    {
     "name": "stderr",
     "output_type": "stream",
     "text": [
      "\r",
      " 60%|███████████████████████████████████████████████▌                               | 1879/3125 [02:16<01:47, 11.55it/s]"
     ]
    },
    {
     "name": "stdout",
     "output_type": "stream",
     "text": [
      "tf.Tensor(12.0, shape=(), dtype=float32) 16\n",
      "current batch accuracy is: 75.0%\n",
      "tf.Tensor(8.0, shape=(), dtype=float32) 16\n",
      "current batch accuracy is: 50.0%\n",
      "tf.Tensor(10.0, shape=(), dtype=float32) 16\n",
      "current batch accuracy is: 62.5%\n"
     ]
    },
    {
     "name": "stderr",
     "output_type": "stream",
     "text": [
      " 60%|███████████████████████████████████████████████▌                               | 1883/3125 [02:16<01:35, 12.97it/s]"
     ]
    },
    {
     "name": "stdout",
     "output_type": "stream",
     "text": [
      "tf.Tensor(10.0, shape=(), dtype=float32) 16\n",
      "current batch accuracy is: 62.5%\n",
      "tf.Tensor(9.0, shape=(), dtype=float32) 16\n",
      "current batch accuracy is: 56.25%\n",
      "tf.Tensor(12.0, shape=(), dtype=float32) 16\n",
      "current batch accuracy is: 75.0%\n"
     ]
    },
    {
     "name": "stderr",
     "output_type": "stream",
     "text": [
      " 60%|███████████████████████████████████████████████▋                               | 1887/3125 [02:16<01:29, 13.80it/s]"
     ]
    },
    {
     "name": "stdout",
     "output_type": "stream",
     "text": [
      "tf.Tensor(12.0, shape=(), dtype=float32) 16\n",
      "current batch accuracy is: 75.0%\n",
      "tf.Tensor(11.0, shape=(), dtype=float32) 16\n",
      "current batch accuracy is: 68.75%\n",
      "tf.Tensor(12.0, shape=(), dtype=float32) 16\n",
      "current batch accuracy is: 75.0%\n",
      "tf.Tensor(11.0, shape=(), dtype=float32) 16\n",
      "current batch accuracy is: 68.75%\n"
     ]
    },
    {
     "name": "stderr",
     "output_type": "stream",
     "text": [
      "\r",
      " 60%|███████████████████████████████████████████████▊                               | 1889/3125 [02:16<01:26, 14.23it/s]"
     ]
    },
    {
     "name": "stdout",
     "output_type": "stream",
     "text": [
      "tf.Tensor(12.0, shape=(), dtype=float32) 16\n",
      "current batch accuracy is: 75.0%\n",
      "tf.Tensor(11.0, shape=(), dtype=float32) 16\n",
      "current batch accuracy is: 68.75%\n",
      "tf.Tensor(8.0, shape=(), dtype=float32) 16\n",
      "current batch accuracy is: 50.0%\n"
     ]
    },
    {
     "name": "stderr",
     "output_type": "stream",
     "text": [
      " 61%|███████████████████████████████████████████████▊                               | 1893/3125 [02:17<01:26, 14.26it/s]"
     ]
    },
    {
     "name": "stdout",
     "output_type": "stream",
     "text": [
      "tf.Tensor(11.0, shape=(), dtype=float32) 16\n",
      "current batch accuracy is: 68.75%\n",
      "tf.Tensor(11.0, shape=(), dtype=float32) 16\n",
      "current batch accuracy is: 68.75%\n",
      "tf.Tensor(15.0, shape=(), dtype=float32) 16\n",
      "current batch accuracy is: 93.75%\n",
      "tf.Tensor(6.0, shape=(), dtype=float32) 16\n",
      "current batch accuracy is: 37.5%\n"
     ]
    },
    {
     "name": "stderr",
     "output_type": "stream",
     "text": [
      " 61%|███████████████████████████████████████████████▉                               | 1897/3125 [02:17<01:22, 14.91it/s]"
     ]
    },
    {
     "name": "stdout",
     "output_type": "stream",
     "text": [
      "tf.Tensor(10.0, shape=(), dtype=float32) 16\n",
      "current batch accuracy is: 62.5%\n",
      "tf.Tensor(11.0, shape=(), dtype=float32) 16\n",
      "current batch accuracy is: 68.75%\n",
      "tf.Tensor(8.0, shape=(), dtype=float32) 16\n",
      "current batch accuracy is: 50.0%\n",
      "tf.Tensor(9.0, shape=(), dtype=float32) 16\n",
      "current batch accuracy is: 56.25%\n"
     ]
    },
    {
     "name": "stderr",
     "output_type": "stream",
     "text": [
      " 61%|████████████████████████████████████████████████                               | 1901/3125 [02:17<01:29, 13.65it/s]"
     ]
    },
    {
     "name": "stdout",
     "output_type": "stream",
     "text": [
      "tf.Tensor(12.0, shape=(), dtype=float32) 16\n",
      "current batch accuracy is: 75.0%\n",
      "tf.Tensor(10.0, shape=(), dtype=float32) 16\n",
      "current batch accuracy is: 62.5%\n",
      "tf.Tensor(13.0, shape=(), dtype=float32) 16\n",
      "current batch accuracy is: 81.25%\n"
     ]
    },
    {
     "name": "stderr",
     "output_type": "stream",
     "text": [
      "\r",
      " 61%|████████████████████████████████████████████████                               | 1903/3125 [02:17<01:29, 13.63it/s]"
     ]
    },
    {
     "name": "stdout",
     "output_type": "stream",
     "text": [
      "tf.Tensor(6.0, shape=(), dtype=float32) 16\n",
      "current batch accuracy is: 37.5%\n",
      "tf.Tensor(13.0, shape=(), dtype=float32) 16\n",
      "current batch accuracy is: 81.25%\n",
      "tf.Tensor(11.0, shape=(), dtype=float32) 16\n",
      "current batch accuracy is: 68.75%\n"
     ]
    },
    {
     "name": "stderr",
     "output_type": "stream",
     "text": [
      " 61%|████████████████████████████████████████████████▏                              | 1907/3125 [02:17<01:23, 14.60it/s]"
     ]
    },
    {
     "name": "stdout",
     "output_type": "stream",
     "text": [
      "tf.Tensor(9.0, shape=(), dtype=float32) 16\n",
      "current batch accuracy is: 56.25%\n",
      "tf.Tensor(12.0, shape=(), dtype=float32) 16\n",
      "current batch accuracy is: 75.0%\n",
      "tf.Tensor(9.0, shape=(), dtype=float32) 16\n",
      "current batch accuracy is: 56.25%\n",
      "tf.Tensor(9.0, shape=(), dtype=float32) 16\n",
      "current batch accuracy is: 56.25%\n"
     ]
    },
    {
     "name": "stderr",
     "output_type": "stream",
     "text": [
      " 61%|████████████████████████████████████████████████▎                              | 1911/3125 [02:18<01:25, 14.19it/s]"
     ]
    },
    {
     "name": "stdout",
     "output_type": "stream",
     "text": [
      "tf.Tensor(9.0, shape=(), dtype=float32) 16\n",
      "current batch accuracy is: 56.25%\n",
      "tf.Tensor(10.0, shape=(), dtype=float32) 16\n",
      "current batch accuracy is: 62.5%\n",
      "tf.Tensor(8.0, shape=(), dtype=float32) 16\n",
      "current batch accuracy is: 50.0%\n"
     ]
    },
    {
     "name": "stderr",
     "output_type": "stream",
     "text": [
      "\r",
      " 61%|████████████████████████████████████████████████▎                              | 1913/3125 [02:18<01:35, 12.63it/s]"
     ]
    },
    {
     "name": "stdout",
     "output_type": "stream",
     "text": [
      "tf.Tensor(8.0, shape=(), dtype=float32) 16\n",
      "current batch accuracy is: 50.0%\n",
      "tf.Tensor(11.0, shape=(), dtype=float32) 16\n",
      "current batch accuracy is: 68.75%\n",
      "tf.Tensor(13.0, shape=(), dtype=float32) 16\n",
      "current batch accuracy is: 81.25%\n"
     ]
    },
    {
     "name": "stderr",
     "output_type": "stream",
     "text": [
      " 61%|████████████████████████████████████████████████▍                              | 1917/3125 [02:18<01:24, 14.26it/s]"
     ]
    },
    {
     "name": "stdout",
     "output_type": "stream",
     "text": [
      "tf.Tensor(13.0, shape=(), dtype=float32) 16\n",
      "current batch accuracy is: 81.25%\n",
      "tf.Tensor(10.0, shape=(), dtype=float32) 16\n",
      "current batch accuracy is: 62.5%\n",
      "tf.Tensor(11.0, shape=(), dtype=float32) 16\n",
      "current batch accuracy is: 68.75%\n",
      "tf.Tensor(10.0, shape=(), dtype=float32) 16\n",
      "current batch accuracy is: 62.5%\n"
     ]
    },
    {
     "name": "stderr",
     "output_type": "stream",
     "text": [
      " 61%|████████████████████████████████████████████████▌                              | 1921/3125 [02:18<01:26, 13.89it/s]"
     ]
    },
    {
     "name": "stdout",
     "output_type": "stream",
     "text": [
      "tf.Tensor(10.0, shape=(), dtype=float32) 16\n",
      "current batch accuracy is: 62.5%\n",
      "tf.Tensor(10.0, shape=(), dtype=float32) 16\n",
      "current batch accuracy is: 62.5%\n",
      "tf.Tensor(11.0, shape=(), dtype=float32) 16\n",
      "current batch accuracy is: 68.75%\n"
     ]
    },
    {
     "name": "stderr",
     "output_type": "stream",
     "text": [
      "\r",
      " 62%|████████████████████████████████████████████████▌                              | 1923/3125 [02:19<01:28, 13.64it/s]"
     ]
    },
    {
     "name": "stdout",
     "output_type": "stream",
     "text": [
      "tf.Tensor(12.0, shape=(), dtype=float32) 16\n",
      "current batch accuracy is: 75.0%\n",
      "tf.Tensor(12.0, shape=(), dtype=float32) 16\n",
      "current batch accuracy is: 75.0%\n",
      "tf.Tensor(9.0, shape=(), dtype=float32) 16\n",
      "current batch accuracy is: 56.25%\n"
     ]
    },
    {
     "name": "stderr",
     "output_type": "stream",
     "text": [
      " 62%|████████████████████████████████████████████████▋                              | 1927/3125 [02:19<01:45, 11.37it/s]"
     ]
    },
    {
     "name": "stdout",
     "output_type": "stream",
     "text": [
      "tf.Tensor(11.0, shape=(), dtype=float32) 16\n",
      "current batch accuracy is: 68.75%\n",
      "tf.Tensor(9.0, shape=(), dtype=float32) 16\n",
      "current batch accuracy is: 56.25%\n",
      "tf.Tensor(11.0, shape=(), dtype=float32) 16\n",
      "current batch accuracy is: 68.75%\n"
     ]
    },
    {
     "name": "stderr",
     "output_type": "stream",
     "text": [
      "\r",
      " 62%|████████████████████████████████████████████████▊                              | 1929/3125 [02:19<01:36, 12.42it/s]"
     ]
    },
    {
     "name": "stdout",
     "output_type": "stream",
     "text": [
      "tf.Tensor(8.0, shape=(), dtype=float32) 16\n",
      "current batch accuracy is: 50.0%\n",
      "tf.Tensor(13.0, shape=(), dtype=float32) 16\n",
      "current batch accuracy is: 81.25%\n",
      "tf.Tensor(14.0, shape=(), dtype=float32) 16\n",
      "current batch accuracy is: 87.5%\n"
     ]
    },
    {
     "name": "stderr",
     "output_type": "stream",
     "text": [
      " 62%|████████████████████████████████████████████████▊                              | 1933/3125 [02:20<01:33, 12.80it/s]"
     ]
    },
    {
     "name": "stdout",
     "output_type": "stream",
     "text": [
      "tf.Tensor(11.0, shape=(), dtype=float32) 16\n",
      "current batch accuracy is: 68.75%\n",
      "tf.Tensor(9.0, shape=(), dtype=float32) 16\n",
      "current batch accuracy is: 56.25%\n",
      "tf.Tensor(7.0, shape=(), dtype=float32) 16\n",
      "current batch accuracy is: 43.75%\n",
      "tf.Tensor(13.0, shape=(), dtype=float32) 16\n",
      "current batch accuracy is: 81.25%\n"
     ]
    },
    {
     "name": "stderr",
     "output_type": "stream",
     "text": [
      " 62%|████████████████████████████████████████████████▉                              | 1937/3125 [02:20<01:24, 14.04it/s]"
     ]
    },
    {
     "name": "stdout",
     "output_type": "stream",
     "text": [
      "tf.Tensor(7.0, shape=(), dtype=float32) 16\n",
      "current batch accuracy is: 43.75%\n",
      "tf.Tensor(8.0, shape=(), dtype=float32) 16\n",
      "current batch accuracy is: 50.0%\n",
      "tf.Tensor(14.0, shape=(), dtype=float32) 16\n",
      "current batch accuracy is: 87.5%\n",
      "tf.Tensor(12.0, shape=(), dtype=float32) 16\n",
      "current batch accuracy is: 75.0%\n"
     ]
    },
    {
     "name": "stderr",
     "output_type": "stream",
     "text": [
      " 62%|█████████████████████████████████████████████████                              | 1941/3125 [02:20<01:22, 14.43it/s]"
     ]
    },
    {
     "name": "stdout",
     "output_type": "stream",
     "text": [
      "tf.Tensor(11.0, shape=(), dtype=float32) 16\n",
      "current batch accuracy is: 68.75%\n",
      "tf.Tensor(11.0, shape=(), dtype=float32) 16\n",
      "current batch accuracy is: 68.75%\n",
      "tf.Tensor(12.0, shape=(), dtype=float32) 16\n",
      "current batch accuracy is: 75.0%\n"
     ]
    },
    {
     "name": "stderr",
     "output_type": "stream",
     "text": [
      " 62%|█████████████████████████████████████████████████▏                             | 1945/3125 [02:20<01:20, 14.57it/s]"
     ]
    },
    {
     "name": "stdout",
     "output_type": "stream",
     "text": [
      "tf.Tensor(10.0, shape=(), dtype=float32) 16\n",
      "current batch accuracy is: 62.5%\n",
      "tf.Tensor(10.0, shape=(), dtype=float32) 16\n",
      "current batch accuracy is: 62.5%\n",
      "tf.Tensor(10.0, shape=(), dtype=float32) 16\n",
      "current batch accuracy is: 62.5%\n",
      "tf.Tensor(13.0, shape=(), dtype=float32) 16\n",
      "current batch accuracy is: 81.25%\n"
     ]
    },
    {
     "name": "stderr",
     "output_type": "stream",
     "text": [
      " 62%|█████████████████████████████████████████████████▎                             | 1949/3125 [02:21<01:19, 14.75it/s]"
     ]
    },
    {
     "name": "stdout",
     "output_type": "stream",
     "text": [
      "tf.Tensor(9.0, shape=(), dtype=float32) 16\n",
      "current batch accuracy is: 56.25%\n",
      "tf.Tensor(13.0, shape=(), dtype=float32) 16\n",
      "current batch accuracy is: 81.25%\n",
      "tf.Tensor(7.0, shape=(), dtype=float32) 16\n",
      "current batch accuracy is: 43.75%\n",
      "tf.Tensor(10.0, shape=(), dtype=float32) 16\n",
      "current batch accuracy is: 62.5%\n"
     ]
    },
    {
     "name": "stderr",
     "output_type": "stream",
     "text": [
      "\r",
      " 62%|█████████████████████████████████████████████████▎                             | 1951/3125 [02:21<01:17, 15.10it/s]"
     ]
    },
    {
     "name": "stdout",
     "output_type": "stream",
     "text": [
      "tf.Tensor(11.0, shape=(), dtype=float32) 16\n",
      "current batch accuracy is: 68.75%\n",
      "tf.Tensor(11.0, shape=(), dtype=float32) 16\n",
      "current batch accuracy is: 68.75%\n",
      "tf.Tensor(11.0, shape=(), dtype=float32) 16\n",
      "current batch accuracy is: 68.75%\n"
     ]
    },
    {
     "name": "stderr",
     "output_type": "stream",
     "text": [
      " 63%|█████████████████████████████████████████████████▍                             | 1955/3125 [02:21<01:21, 14.31it/s]"
     ]
    },
    {
     "name": "stdout",
     "output_type": "stream",
     "text": [
      "tf.Tensor(12.0, shape=(), dtype=float32) 16\n",
      "current batch accuracy is: 75.0%\n",
      "tf.Tensor(9.0, shape=(), dtype=float32) 16\n",
      "current batch accuracy is: 56.25%\n",
      "tf.Tensor(11.0, shape=(), dtype=float32) 16\n",
      "current batch accuracy is: 68.75%\n",
      "tf.Tensor(11.0, shape=(), dtype=float32) 16\n",
      "current batch accuracy is: 68.75%\n"
     ]
    },
    {
     "name": "stderr",
     "output_type": "stream",
     "text": [
      " 63%|█████████████████████████████████████████████████▌                             | 1959/3125 [02:21<01:18, 14.91it/s]"
     ]
    },
    {
     "name": "stdout",
     "output_type": "stream",
     "text": [
      "tf.Tensor(12.0, shape=(), dtype=float32) 16\n",
      "current batch accuracy is: 75.0%\n",
      "tf.Tensor(10.0, shape=(), dtype=float32) 16\n",
      "current batch accuracy is: 62.5%\n",
      "tf.Tensor(12.0, shape=(), dtype=float32) 16\n",
      "current batch accuracy is: 75.0%\n"
     ]
    },
    {
     "name": "stderr",
     "output_type": "stream",
     "text": [
      "\r",
      " 63%|█████████████████████████████████████████████████▌                             | 1961/3125 [02:21<01:23, 13.95it/s]"
     ]
    },
    {
     "name": "stdout",
     "output_type": "stream",
     "text": [
      "tf.Tensor(11.0, shape=(), dtype=float32) 16\n",
      "current batch accuracy is: 68.75%\n",
      "tf.Tensor(13.0, shape=(), dtype=float32) 16\n",
      "current batch accuracy is: 81.25%\n",
      "tf.Tensor(11.0, shape=(), dtype=float32) 16\n",
      "current batch accuracy is: 68.75%\n"
     ]
    },
    {
     "name": "stderr",
     "output_type": "stream",
     "text": [
      " 63%|█████████████████████████████████████████████████▋                             | 1965/3125 [02:22<01:19, 14.64it/s]"
     ]
    },
    {
     "name": "stdout",
     "output_type": "stream",
     "text": [
      "tf.Tensor(13.0, shape=(), dtype=float32) 16\n",
      "current batch accuracy is: 81.25%\n",
      "tf.Tensor(13.0, shape=(), dtype=float32) 16\n",
      "current batch accuracy is: 81.25%\n",
      "tf.Tensor(11.0, shape=(), dtype=float32) 16\n",
      "current batch accuracy is: 68.75%\n",
      "tf.Tensor(12.0, shape=(), dtype=float32) 16\n",
      "current batch accuracy is: 75.0%\n"
     ]
    },
    {
     "name": "stderr",
     "output_type": "stream",
     "text": [
      " 63%|█████████████████████████████████████████████████▊                             | 1969/3125 [02:22<01:27, 13.15it/s]"
     ]
    },
    {
     "name": "stdout",
     "output_type": "stream",
     "text": [
      "tf.Tensor(9.0, shape=(), dtype=float32) 16\n",
      "current batch accuracy is: 56.25%\n",
      "tf.Tensor(8.0, shape=(), dtype=float32) 16\n",
      "current batch accuracy is: 50.0%\n",
      "tf.Tensor(12.0, shape=(), dtype=float32) 16\n",
      "current batch accuracy is: 75.0%\n"
     ]
    },
    {
     "name": "stderr",
     "output_type": "stream",
     "text": [
      "\r",
      " 63%|█████████████████████████████████████████████████▊                             | 1971/3125 [02:22<01:28, 13.05it/s]"
     ]
    },
    {
     "name": "stdout",
     "output_type": "stream",
     "text": [
      "tf.Tensor(9.0, shape=(), dtype=float32) 16\n",
      "current batch accuracy is: 56.25%\n",
      "tf.Tensor(11.0, shape=(), dtype=float32) 16\n",
      "current batch accuracy is: 68.75%\n",
      "tf.Tensor(12.0, shape=(), dtype=float32) 16\n",
      "current batch accuracy is: 75.0%\n"
     ]
    },
    {
     "name": "stderr",
     "output_type": "stream",
     "text": [
      " 63%|█████████████████████████████████████████████████▉                             | 1975/3125 [02:22<01:21, 14.05it/s]"
     ]
    },
    {
     "name": "stdout",
     "output_type": "stream",
     "text": [
      "tf.Tensor(13.0, shape=(), dtype=float32) 16\n",
      "current batch accuracy is: 81.25%\n",
      "tf.Tensor(14.0, shape=(), dtype=float32) 16\n",
      "current batch accuracy is: 87.5%\n",
      "tf.Tensor(12.0, shape=(), dtype=float32) 16\n",
      "current batch accuracy is: 75.0%\n",
      "tf.Tensor(12.0, shape=(), dtype=float32) 16\n",
      "current batch accuracy is: 75.0%\n"
     ]
    },
    {
     "name": "stderr",
     "output_type": "stream",
     "text": [
      " 63%|██████████████████████████████████████████████████                             | 1979/3125 [02:23<01:18, 14.65it/s]"
     ]
    },
    {
     "name": "stdout",
     "output_type": "stream",
     "text": [
      "tf.Tensor(11.0, shape=(), dtype=float32) 16\n",
      "current batch accuracy is: 68.75%\n",
      "tf.Tensor(10.0, shape=(), dtype=float32) 16\n",
      "current batch accuracy is: 62.5%\n",
      "tf.Tensor(12.0, shape=(), dtype=float32) 16\n",
      "current batch accuracy is: 75.0%\n",
      "tf.Tensor(13.0, shape=(), dtype=float32) 16\n",
      "current batch accuracy is: 81.25%\n"
     ]
    },
    {
     "name": "stderr",
     "output_type": "stream",
     "text": [
      " 63%|██████████████████████████████████████████████████▏                            | 1983/3125 [02:23<01:17, 14.73it/s]"
     ]
    },
    {
     "name": "stdout",
     "output_type": "stream",
     "text": [
      "tf.Tensor(9.0, shape=(), dtype=float32) 16\n",
      "current batch accuracy is: 56.25%\n",
      "tf.Tensor(11.0, shape=(), dtype=float32) 16\n",
      "current batch accuracy is: 68.75%\n",
      "tf.Tensor(11.0, shape=(), dtype=float32) 16\n",
      "current batch accuracy is: 68.75%\n"
     ]
    },
    {
     "name": "stderr",
     "output_type": "stream",
     "text": [
      "\r",
      " 64%|██████████████████████████████████████████████████▏                            | 1985/3125 [02:23<01:22, 13.79it/s]"
     ]
    },
    {
     "name": "stdout",
     "output_type": "stream",
     "text": [
      "tf.Tensor(12.0, shape=(), dtype=float32) 16\n",
      "current batch accuracy is: 75.0%\n",
      "tf.Tensor(11.0, shape=(), dtype=float32) 16\n",
      "current batch accuracy is: 68.75%\n",
      "tf.Tensor(13.0, shape=(), dtype=float32) 16\n",
      "current batch accuracy is: 81.25%\n"
     ]
    },
    {
     "name": "stderr",
     "output_type": "stream",
     "text": [
      " 64%|██████████████████████████████████████████████████▎                            | 1989/3125 [02:24<02:02,  9.30it/s]"
     ]
    },
    {
     "name": "stdout",
     "output_type": "stream",
     "text": [
      "tf.Tensor(8.0, shape=(), dtype=float32) 16\n",
      "current batch accuracy is: 50.0%\n",
      "tf.Tensor(8.0, shape=(), dtype=float32) 16\n",
      "current batch accuracy is: 50.0%\n",
      "tf.Tensor(9.0, shape=(), dtype=float32) 16\n",
      "current batch accuracy is: 56.25%\n",
      "tf.Tensor(5.0, shape=(), dtype=float32) 16\n",
      "current batch accuracy is: 31.25%\n"
     ]
    },
    {
     "name": "stderr",
     "output_type": "stream",
     "text": [
      " 64%|██████████████████████████████████████████████████▍                            | 1993/3125 [02:24<01:48, 10.43it/s]"
     ]
    },
    {
     "name": "stdout",
     "output_type": "stream",
     "text": [
      "tf.Tensor(7.0, shape=(), dtype=float32) 16\n",
      "current batch accuracy is: 43.75%\n",
      "tf.Tensor(10.0, shape=(), dtype=float32) 16\n",
      "current batch accuracy is: 62.5%\n",
      "tf.Tensor(10.0, shape=(), dtype=float32) 16\n",
      "current batch accuracy is: 62.5%\n",
      "tf.Tensor(11.0, shape=(), dtype=float32) 16\n",
      "current batch accuracy is: 68.75%\n"
     ]
    },
    {
     "name": "stderr",
     "output_type": "stream",
     "text": [
      " 64%|██████████████████████████████████████████████████▍                            | 1997/3125 [02:24<01:30, 12.43it/s]"
     ]
    },
    {
     "name": "stdout",
     "output_type": "stream",
     "text": [
      "tf.Tensor(8.0, shape=(), dtype=float32) 16\n",
      "current batch accuracy is: 50.0%\n",
      "tf.Tensor(9.0, shape=(), dtype=float32) 16\n",
      "current batch accuracy is: 56.25%\n",
      "tf.Tensor(10.0, shape=(), dtype=float32) 16\n",
      "current batch accuracy is: 62.5%\n",
      "tf.Tensor(12.0, shape=(), dtype=float32) 16\n"
     ]
    },
    {
     "name": "stderr",
     "output_type": "stream",
     "text": [
      "\r",
      " 64%|██████████████████████████████████████████████████▌                            | 1999/3125 [02:25<01:25, 13.15it/s]"
     ]
    },
    {
     "name": "stdout",
     "output_type": "stream",
     "text": [
      "current batch accuracy is: 75.0%\n",
      "tf.Tensor(9.0, shape=(), dtype=float32) 16\n",
      "current batch accuracy is: 56.25%\n",
      "tf.Tensor(13.0, shape=(), dtype=float32) 16\n",
      "current batch accuracy is: 81.25%\n"
     ]
    },
    {
     "name": "stderr",
     "output_type": "stream",
     "text": [
      " 64%|██████████████████████████████████████████████████▋                            | 2003/3125 [02:25<01:23, 13.39it/s]"
     ]
    },
    {
     "name": "stdout",
     "output_type": "stream",
     "text": [
      "tf.Tensor(11.0, shape=(), dtype=float32) 16\n",
      "current batch accuracy is: 68.75%\n",
      "tf.Tensor(14.0, shape=(), dtype=float32) 16\n",
      "current batch accuracy is: 87.5%\n",
      "tf.Tensor(12.0, shape=(), dtype=float32) 16\n",
      "current batch accuracy is: 75.0%\n"
     ]
    },
    {
     "name": "stderr",
     "output_type": "stream",
     "text": [
      "\r",
      " 64%|██████████████████████████████████████████████████▋                            | 2005/3125 [02:25<01:21, 13.80it/s]"
     ]
    },
    {
     "name": "stdout",
     "output_type": "stream",
     "text": [
      "tf.Tensor(12.0, shape=(), dtype=float32) 16\n",
      "current batch accuracy is: 75.0%\n",
      "tf.Tensor(10.0, shape=(), dtype=float32) 16\n",
      "current batch accuracy is: 62.5%\n",
      "tf.Tensor(11.0, shape=(), dtype=float32) 16\n",
      "current batch accuracy is: 68.75%\n"
     ]
    },
    {
     "name": "stderr",
     "output_type": "stream",
     "text": [
      " 64%|██████████████████████████████████████████████████▊                            | 2009/3125 [02:25<01:21, 13.68it/s]"
     ]
    },
    {
     "name": "stdout",
     "output_type": "stream",
     "text": [
      "tf.Tensor(10.0, shape=(), dtype=float32) 16\n",
      "current batch accuracy is: 62.5%\n",
      "tf.Tensor(9.0, shape=(), dtype=float32) 16\n",
      "current batch accuracy is: 56.25%\n",
      "tf.Tensor(12.0, shape=(), dtype=float32) 16\n",
      "current batch accuracy is: 75.0%\n"
     ]
    },
    {
     "name": "stderr",
     "output_type": "stream",
     "text": [
      "\r",
      " 64%|██████████████████████████████████████████████████▊                            | 2011/3125 [02:25<01:19, 13.99it/s]"
     ]
    },
    {
     "name": "stdout",
     "output_type": "stream",
     "text": [
      "tf.Tensor(12.0, shape=(), dtype=float32) 16\n",
      "current batch accuracy is: 75.0%\n",
      "tf.Tensor(13.0, shape=(), dtype=float32) 16\n",
      "current batch accuracy is: 81.25%\n",
      "tf.Tensor(14.0, shape=(), dtype=float32) 16\n",
      "current batch accuracy is: 87.5%\n"
     ]
    },
    {
     "name": "stderr",
     "output_type": "stream",
     "text": [
      " 64%|██████████████████████████████████████████████████▉                            | 2015/3125 [02:26<01:24, 13.15it/s]"
     ]
    },
    {
     "name": "stdout",
     "output_type": "stream",
     "text": [
      "tf.Tensor(12.0, shape=(), dtype=float32) 16\n",
      "current batch accuracy is: 75.0%\n",
      "tf.Tensor(13.0, shape=(), dtype=float32) 16\n",
      "current batch accuracy is: 81.25%\n",
      "tf.Tensor(9.0, shape=(), dtype=float32) 16\n",
      "current batch accuracy is: 56.25%\n"
     ]
    },
    {
     "name": "stderr",
     "output_type": "stream",
     "text": [
      " 65%|███████████████████████████████████████████████████                            | 2019/3125 [02:26<01:16, 14.38it/s]"
     ]
    },
    {
     "name": "stdout",
     "output_type": "stream",
     "text": [
      "tf.Tensor(11.0, shape=(), dtype=float32) 16\n",
      "current batch accuracy is: 68.75%\n",
      "tf.Tensor(8.0, shape=(), dtype=float32) 16\n",
      "current batch accuracy is: 50.0%\n",
      "tf.Tensor(7.0, shape=(), dtype=float32) 16\n",
      "current batch accuracy is: 43.75%\n",
      "tf.Tensor(11.0, shape=(), dtype=float32) 16\n",
      "current batch accuracy is: 68.75%\n"
     ]
    },
    {
     "name": "stderr",
     "output_type": "stream",
     "text": [
      "\r",
      " 65%|███████████████████████████████████████████████████                            | 2021/3125 [02:26<01:18, 14.07it/s]"
     ]
    },
    {
     "name": "stdout",
     "output_type": "stream",
     "text": [
      "tf.Tensor(12.0, shape=(), dtype=float32) 16\n",
      "current batch accuracy is: 75.0%\n",
      "tf.Tensor(12.0, shape=(), dtype=float32) 16\n",
      "current batch accuracy is: 75.0%\n",
      "tf.Tensor(12.0, shape=(), dtype=float32) 16\n",
      "current batch accuracy is: 75.0%\n"
     ]
    },
    {
     "name": "stderr",
     "output_type": "stream",
     "text": [
      " 65%|███████████████████████████████████████████████████▏                           | 2025/3125 [02:26<01:24, 12.95it/s]"
     ]
    },
    {
     "name": "stdout",
     "output_type": "stream",
     "text": [
      "tf.Tensor(12.0, shape=(), dtype=float32) 16\n",
      "current batch accuracy is: 75.0%\n",
      "tf.Tensor(12.0, shape=(), dtype=float32) 16\n",
      "current batch accuracy is: 75.0%\n",
      "tf.Tensor(11.0, shape=(), dtype=float32) 16\n",
      "current batch accuracy is: 68.75%\n"
     ]
    },
    {
     "name": "stderr",
     "output_type": "stream",
     "text": [
      " 65%|███████████████████████████████████████████████████▎                           | 2029/3125 [02:27<01:17, 14.13it/s]"
     ]
    },
    {
     "name": "stdout",
     "output_type": "stream",
     "text": [
      "tf.Tensor(9.0, shape=(), dtype=float32) 16\n",
      "current batch accuracy is: 56.25%\n",
      "tf.Tensor(11.0, shape=(), dtype=float32) 16\n",
      "current batch accuracy is: 68.75%\n",
      "tf.Tensor(14.0, shape=(), dtype=float32) 16\n",
      "current batch accuracy is: 87.5%\n",
      "tf.Tensor(12.0, shape=(), dtype=float32) 16\n",
      "current batch accuracy is: 75.0%\n"
     ]
    },
    {
     "name": "stderr",
     "output_type": "stream",
     "text": [
      " 65%|███████████████████████████████████████████████████▍                           | 2033/3125 [02:27<01:14, 14.75it/s]"
     ]
    },
    {
     "name": "stdout",
     "output_type": "stream",
     "text": [
      "tf.Tensor(11.0, shape=(), dtype=float32) 16\n",
      "current batch accuracy is: 68.75%\n",
      "tf.Tensor(11.0, shape=(), dtype=float32) 16\n",
      "current batch accuracy is: 68.75%\n",
      "tf.Tensor(10.0, shape=(), dtype=float32) 16\n",
      "current batch accuracy is: 62.5%\n",
      "tf.Tensor(10.0, shape=(), dtype=float32) 16\n",
      "current batch accuracy is: 62.5%\n"
     ]
    },
    {
     "name": "stderr",
     "output_type": "stream",
     "text": [
      "\r",
      " 65%|███████████████████████████████████████████████████▍                           | 2035/3125 [02:27<01:14, 14.57it/s]"
     ]
    },
    {
     "name": "stdout",
     "output_type": "stream",
     "text": [
      "tf.Tensor(9.0, shape=(), dtype=float32) 16\n",
      "current batch accuracy is: 56.25%\n",
      "tf.Tensor(6.0, shape=(), dtype=float32) 16\n",
      "current batch accuracy is: 37.5%\n",
      "tf.Tensor(9.0, shape=(), dtype=float32) 16\n",
      "current batch accuracy is: 56.25%\n"
     ]
    },
    {
     "name": "stderr",
     "output_type": "stream",
     "text": [
      " 65%|███████████████████████████████████████████████████▌                           | 2039/3125 [02:27<01:15, 14.33it/s]"
     ]
    },
    {
     "name": "stdout",
     "output_type": "stream",
     "text": [
      "tf.Tensor(9.0, shape=(), dtype=float32) 16\n",
      "current batch accuracy is: 56.25%\n",
      "tf.Tensor(12.0, shape=(), dtype=float32) 16\n",
      "current batch accuracy is: 75.0%\n",
      "tf.Tensor(11.0, shape=(), dtype=float32) 16\n",
      "current batch accuracy is: 68.75%\n"
     ]
    },
    {
     "name": "stderr",
     "output_type": "stream",
     "text": [
      "\r",
      " 65%|███████████████████████████████████████████████████▌                           | 2041/3125 [02:28<01:17, 13.91it/s]"
     ]
    },
    {
     "name": "stdout",
     "output_type": "stream",
     "text": [
      "tf.Tensor(12.0, shape=(), dtype=float32) 16\n",
      "current batch accuracy is: 75.0%\n",
      "tf.Tensor(7.0, shape=(), dtype=float32) 16\n",
      "current batch accuracy is: 43.75%\n",
      "tf.Tensor(13.0, shape=(), dtype=float32) 16\n",
      "current batch accuracy is: 81.25%\n"
     ]
    },
    {
     "name": "stderr",
     "output_type": "stream",
     "text": [
      " 65%|███████████████████████████████████████████████████▋                           | 2045/3125 [02:28<01:14, 14.55it/s]"
     ]
    },
    {
     "name": "stdout",
     "output_type": "stream",
     "text": [
      "tf.Tensor(9.0, shape=(), dtype=float32) 16\n",
      "current batch accuracy is: 56.25%\n",
      "tf.Tensor(11.0, shape=(), dtype=float32) 16\n",
      "current batch accuracy is: 68.75%\n",
      "tf.Tensor(9.0, shape=(), dtype=float32) 16\n",
      "current batch accuracy is: 56.25%\n",
      "tf.Tensor(12.0, shape=(), dtype=float32) 16\n",
      "current batch accuracy is: 75.0%\n"
     ]
    },
    {
     "name": "stderr",
     "output_type": "stream",
     "text": [
      " 66%|███████████████████████████████████████████████████▊                           | 2049/3125 [02:28<01:11, 15.14it/s]"
     ]
    },
    {
     "name": "stdout",
     "output_type": "stream",
     "text": [
      "tf.Tensor(10.0, shape=(), dtype=float32) 16\n",
      "current batch accuracy is: 62.5%\n",
      "tf.Tensor(11.0, shape=(), dtype=float32) 16\n",
      "current batch accuracy is: 68.75%\n",
      "tf.Tensor(12.0, shape=(), dtype=float32) 16\n",
      "current batch accuracy is: 75.0%\n",
      "tf.Tensor(10.0, shape=(), dtype=float32) 16\n",
      "current batch accuracy is: 62.5%\n"
     ]
    },
    {
     "name": "stderr",
     "output_type": "stream",
     "text": [
      " 66%|███████████████████████████████████████████████████▉                           | 2053/3125 [02:28<01:10, 15.26it/s]"
     ]
    },
    {
     "name": "stdout",
     "output_type": "stream",
     "text": [
      "tf.Tensor(6.0, shape=(), dtype=float32) 16\n",
      "current batch accuracy is: 37.5%\n",
      "tf.Tensor(11.0, shape=(), dtype=float32) 16\n",
      "current batch accuracy is: 68.75%\n",
      "tf.Tensor(7.0, shape=(), dtype=float32) 16\n",
      "current batch accuracy is: 43.75%\n"
     ]
    },
    {
     "name": "stderr",
     "output_type": "stream",
     "text": [
      " 66%|████████████████████████████████████████████████████                           | 2057/3125 [02:29<01:11, 15.03it/s]"
     ]
    },
    {
     "name": "stdout",
     "output_type": "stream",
     "text": [
      "tf.Tensor(9.0, shape=(), dtype=float32) 16\n",
      "current batch accuracy is: 56.25%\n",
      "tf.Tensor(11.0, shape=(), dtype=float32) 16\n",
      "current batch accuracy is: 68.75%\n",
      "tf.Tensor(13.0, shape=(), dtype=float32) 16\n",
      "current batch accuracy is: 81.25%\n",
      "tf.Tensor(11.0, shape=(), dtype=float32) 16\n",
      "current batch accuracy is: 68.75%\n"
     ]
    },
    {
     "name": "stderr",
     "output_type": "stream",
     "text": [
      "\r",
      " 66%|████████████████████████████████████████████████████                           | 2059/3125 [02:29<01:15, 14.14it/s]"
     ]
    },
    {
     "name": "stdout",
     "output_type": "stream",
     "text": [
      "tf.Tensor(7.0, shape=(), dtype=float32) 16\n",
      "current batch accuracy is: 43.75%\n",
      "tf.Tensor(14.0, shape=(), dtype=float32) 16\n",
      "current batch accuracy is: 87.5%\n",
      "tf.Tensor(11.0, shape=(), dtype=float32) 16\n",
      "current batch accuracy is: 68.75%\n"
     ]
    },
    {
     "name": "stderr",
     "output_type": "stream",
     "text": [
      " 66%|████████████████████████████████████████████████████▏                          | 2063/3125 [02:29<01:20, 13.21it/s]"
     ]
    },
    {
     "name": "stdout",
     "output_type": "stream",
     "text": [
      "tf.Tensor(9.0, shape=(), dtype=float32) 16\n",
      "current batch accuracy is: 56.25%\n",
      "tf.Tensor(11.0, shape=(), dtype=float32) 16\n",
      "current batch accuracy is: 68.75%\n",
      "tf.Tensor(7.0, shape=(), dtype=float32) 16\n",
      "current batch accuracy is: 43.75%\n"
     ]
    },
    {
     "name": "stderr",
     "output_type": "stream",
     "text": [
      "\r",
      " 66%|████████████████████████████████████████████████████▏                          | 2065/3125 [02:29<01:28, 11.93it/s]"
     ]
    },
    {
     "name": "stdout",
     "output_type": "stream",
     "text": [
      "tf.Tensor(11.0, shape=(), dtype=float32) 16\n",
      "current batch accuracy is: 68.75%\n",
      "tf.Tensor(9.0, shape=(), dtype=float32) 16\n",
      "current batch accuracy is: 56.25%\n"
     ]
    },
    {
     "name": "stderr",
     "output_type": "stream",
     "text": [
      " 66%|████████████████████████████████████████████████████▎                          | 2069/3125 [02:30<01:16, 13.72it/s]"
     ]
    },
    {
     "name": "stdout",
     "output_type": "stream",
     "text": [
      "tf.Tensor(10.0, shape=(), dtype=float32) 16\n",
      "current batch accuracy is: 62.5%\n",
      "tf.Tensor(12.0, shape=(), dtype=float32) 16\n",
      "current batch accuracy is: 75.0%\n",
      "tf.Tensor(12.0, shape=(), dtype=float32) 16\n",
      "current batch accuracy is: 75.0%\n",
      "tf.Tensor(13.0, shape=(), dtype=float32) 16\n",
      "current batch accuracy is: 81.25%\n"
     ]
    },
    {
     "name": "stderr",
     "output_type": "stream",
     "text": [
      "\r",
      " 66%|████████████████████████████████████████████████████▎                          | 2071/3125 [02:30<01:15, 13.89it/s]"
     ]
    },
    {
     "name": "stdout",
     "output_type": "stream",
     "text": [
      "tf.Tensor(11.0, shape=(), dtype=float32) 16\n",
      "current batch accuracy is: 68.75%\n",
      "tf.Tensor(11.0, shape=(), dtype=float32) 16\n",
      "current batch accuracy is: 68.75%\n",
      "tf.Tensor(11.0, shape=(), dtype=float32) 16\n",
      "current batch accuracy is: 68.75%\n"
     ]
    },
    {
     "name": "stderr",
     "output_type": "stream",
     "text": [
      " 66%|████████████████████████████████████████████████████▍                          | 2075/3125 [02:30<01:15, 13.97it/s]"
     ]
    },
    {
     "name": "stdout",
     "output_type": "stream",
     "text": [
      "tf.Tensor(12.0, shape=(), dtype=float32) 16\n",
      "current batch accuracy is: 75.0%\n",
      "tf.Tensor(12.0, shape=(), dtype=float32) 16\n",
      "current batch accuracy is: 75.0%\n",
      "tf.Tensor(9.0, shape=(), dtype=float32) 16\n",
      "current batch accuracy is: 56.25%\n"
     ]
    },
    {
     "name": "stderr",
     "output_type": "stream",
     "text": [
      "\r",
      " 66%|████████████████████████████████████████████████████▌                          | 2077/3125 [02:30<01:12, 14.49it/s]"
     ]
    },
    {
     "name": "stdout",
     "output_type": "stream",
     "text": [
      "tf.Tensor(12.0, shape=(), dtype=float32) 16\n",
      "current batch accuracy is: 75.0%\n",
      "tf.Tensor(12.0, shape=(), dtype=float32) 16\n",
      "current batch accuracy is: 75.0%\n",
      "tf.Tensor(10.0, shape=(), dtype=float32) 16\n",
      "current batch accuracy is: 62.5%\n"
     ]
    },
    {
     "name": "stderr",
     "output_type": "stream",
     "text": [
      " 67%|████████████████████████████████████████████████████▌                          | 2081/3125 [02:30<01:15, 13.82it/s]"
     ]
    },
    {
     "name": "stdout",
     "output_type": "stream",
     "text": [
      "tf.Tensor(10.0, shape=(), dtype=float32) 16\n",
      "current batch accuracy is: 62.5%\n",
      "tf.Tensor(15.0, shape=(), dtype=float32) 16\n",
      "current batch accuracy is: 93.75%\n",
      "tf.Tensor(9.0, shape=(), dtype=float32) 16\n",
      "current batch accuracy is: 56.25%\n"
     ]
    },
    {
     "name": "stderr",
     "output_type": "stream",
     "text": [
      "\r",
      " 67%|████████████████████████████████████████████████████▋                          | 2083/3125 [02:31<01:12, 14.35it/s]"
     ]
    },
    {
     "name": "stdout",
     "output_type": "stream",
     "text": [
      "tf.Tensor(11.0, shape=(), dtype=float32) 16\n",
      "current batch accuracy is: 68.75%\n",
      "tf.Tensor(10.0, shape=(), dtype=float32) 16\n",
      "current batch accuracy is: 62.5%\n",
      "tf.Tensor(14.0, shape=(), dtype=float32) 16\n",
      "current batch accuracy is: 87.5%\n",
      "tf.Tensor(12.0, shape=(), dtype=float32) 16\n"
     ]
    },
    {
     "name": "stderr",
     "output_type": "stream",
     "text": [
      " 67%|████████████████████████████████████████████████████▊                          | 2087/3125 [02:31<01:11, 14.51it/s]"
     ]
    },
    {
     "name": "stdout",
     "output_type": "stream",
     "text": [
      "current batch accuracy is: 75.0%\n",
      "tf.Tensor(12.0, shape=(), dtype=float32) 16\n",
      "current batch accuracy is: 75.0%\n",
      "tf.Tensor(12.0, shape=(), dtype=float32) 16\n",
      "current batch accuracy is: 75.0%\n"
     ]
    },
    {
     "name": "stderr",
     "output_type": "stream",
     "text": [
      "\r",
      " 67%|████████████████████████████████████████████████████▊                          | 2089/3125 [02:31<01:14, 13.83it/s]"
     ]
    },
    {
     "name": "stdout",
     "output_type": "stream",
     "text": [
      "tf.Tensor(12.0, shape=(), dtype=float32) 16\n",
      "current batch accuracy is: 75.0%\n",
      "tf.Tensor(14.0, shape=(), dtype=float32) 16\n",
      "current batch accuracy is: 87.5%\n",
      "tf.Tensor(10.0, shape=(), dtype=float32) 16\n",
      "current batch accuracy is: 62.5%\n"
     ]
    },
    {
     "name": "stderr",
     "output_type": "stream",
     "text": [
      " 67%|████████████████████████████████████████████████████▉                          | 2093/3125 [02:31<01:09, 14.84it/s]"
     ]
    },
    {
     "name": "stdout",
     "output_type": "stream",
     "text": [
      "tf.Tensor(9.0, shape=(), dtype=float32) 16\n",
      "current batch accuracy is: 56.25%\n",
      "tf.Tensor(12.0, shape=(), dtype=float32) 16\n",
      "current batch accuracy is: 75.0%\n",
      "tf.Tensor(10.0, shape=(), dtype=float32) 16\n",
      "current batch accuracy is: 62.5%\n"
     ]
    },
    {
     "name": "stderr",
     "output_type": "stream",
     "text": [
      " 67%|█████████████████████████████████████████████████████                          | 2097/3125 [02:31<01:09, 14.81it/s]"
     ]
    },
    {
     "name": "stdout",
     "output_type": "stream",
     "text": [
      "tf.Tensor(10.0, shape=(), dtype=float32) 16\n",
      "current batch accuracy is: 62.5%\n",
      "tf.Tensor(12.0, shape=(), dtype=float32) 16\n",
      "current batch accuracy is: 75.0%\n",
      "tf.Tensor(10.0, shape=(), dtype=float32) 16\n",
      "current batch accuracy is: 62.5%\n",
      "tf.Tensor(11.0, shape=(), dtype=float32) 16\n",
      "current batch accuracy is: 68.75%\n"
     ]
    },
    {
     "name": "stderr",
     "output_type": "stream",
     "text": [
      "\r",
      " 67%|█████████████████████████████████████████████████████                          | 2099/3125 [02:32<01:09, 14.69it/s]"
     ]
    },
    {
     "name": "stdout",
     "output_type": "stream",
     "text": [
      "tf.Tensor(9.0, shape=(), dtype=float32) 16\n",
      "current batch accuracy is: 56.25%\n",
      "tf.Tensor(12.0, shape=(), dtype=float32) 16\n",
      "current batch accuracy is: 75.0%\n",
      "tf.Tensor(8.0, shape=(), dtype=float32) 16\n",
      "current batch accuracy is: 50.0%\n"
     ]
    },
    {
     "name": "stderr",
     "output_type": "stream",
     "text": [
      " 67%|█████████████████████████████████████████████████████▏                         | 2103/3125 [02:32<01:08, 14.85it/s]"
     ]
    },
    {
     "name": "stdout",
     "output_type": "stream",
     "text": [
      "tf.Tensor(9.0, shape=(), dtype=float32) 16\n",
      "current batch accuracy is: 56.25%\n",
      "tf.Tensor(13.0, shape=(), dtype=float32) 16\n",
      "current batch accuracy is: 81.25%\n",
      "tf.Tensor(12.0, shape=(), dtype=float32) 16\n",
      "current batch accuracy is: 75.0%\n",
      "tf.Tensor(10.0, shape=(), dtype=float32) 16\n",
      "current batch accuracy is: 62.5%\n"
     ]
    },
    {
     "name": "stderr",
     "output_type": "stream",
     "text": [
      "\r",
      " 67%|█████████████████████████████████████████████████████▏                         | 2105/3125 [02:32<01:10, 14.55it/s]"
     ]
    },
    {
     "name": "stdout",
     "output_type": "stream",
     "text": [
      "tf.Tensor(11.0, shape=(), dtype=float32) 16\n",
      "current batch accuracy is: 68.75%\n",
      "tf.Tensor(10.0, shape=(), dtype=float32) 16\n",
      "current batch accuracy is: 62.5%\n"
     ]
    },
    {
     "name": "stderr",
     "output_type": "stream",
     "text": [
      " 67%|█████████████████████████████████████████████████████▎                         | 2109/3125 [02:32<01:20, 12.69it/s]"
     ]
    },
    {
     "name": "stdout",
     "output_type": "stream",
     "text": [
      "tf.Tensor(11.0, shape=(), dtype=float32) 16\n",
      "current batch accuracy is: 68.75%\n",
      "tf.Tensor(8.0, shape=(), dtype=float32) 16\n",
      "current batch accuracy is: 50.0%\n",
      "tf.Tensor(9.0, shape=(), dtype=float32) 16\n",
      "current batch accuracy is: 56.25%\n"
     ]
    },
    {
     "name": "stderr",
     "output_type": "stream",
     "text": [
      " 68%|█████████████████████████████████████████████████████▍                         | 2113/3125 [02:33<01:14, 13.53it/s]"
     ]
    },
    {
     "name": "stdout",
     "output_type": "stream",
     "text": [
      "tf.Tensor(14.0, shape=(), dtype=float32) 16\n",
      "current batch accuracy is: 87.5%\n",
      "tf.Tensor(12.0, shape=(), dtype=float32) 16\n",
      "current batch accuracy is: 75.0%\n",
      "tf.Tensor(11.0, shape=(), dtype=float32) 16\n",
      "current batch accuracy is: 68.75%\n",
      "tf.Tensor(9.0, shape=(), dtype=float32) 16\n",
      "current batch accuracy is: 56.25%\n"
     ]
    },
    {
     "name": "stderr",
     "output_type": "stream",
     "text": [
      "\r",
      " 68%|█████████████████████████████████████████████████████▍                         | 2115/3125 [02:33<01:11, 14.07it/s]"
     ]
    },
    {
     "name": "stdout",
     "output_type": "stream",
     "text": [
      "tf.Tensor(9.0, shape=(), dtype=float32) 16\n",
      "current batch accuracy is: 56.25%\n",
      "tf.Tensor(13.0, shape=(), dtype=float32) 16\n",
      "current batch accuracy is: 81.25%\n",
      "tf.Tensor(14.0, shape=(), dtype=float32) 16\n",
      "current batch accuracy is: 87.5%\n"
     ]
    },
    {
     "name": "stderr",
     "output_type": "stream",
     "text": [
      " 68%|█████████████████████████████████████████████████████▌                         | 2119/3125 [02:33<01:11, 14.15it/s]"
     ]
    },
    {
     "name": "stdout",
     "output_type": "stream",
     "text": [
      "tf.Tensor(9.0, shape=(), dtype=float32) 16\n",
      "current batch accuracy is: 56.25%\n",
      "tf.Tensor(8.0, shape=(), dtype=float32) 16\n",
      "current batch accuracy is: 50.0%\n",
      "tf.Tensor(14.0, shape=(), dtype=float32) 16\n",
      "current batch accuracy is: 87.5%\n"
     ]
    },
    {
     "name": "stderr",
     "output_type": "stream",
     "text": [
      " 68%|█████████████████████████████████████████████████████▋                         | 2123/3125 [02:33<01:08, 14.65it/s]"
     ]
    },
    {
     "name": "stdout",
     "output_type": "stream",
     "text": [
      "tf.Tensor(10.0, shape=(), dtype=float32) 16\n",
      "current batch accuracy is: 62.5%\n",
      "tf.Tensor(12.0, shape=(), dtype=float32) 16\n",
      "current batch accuracy is: 75.0%\n",
      "tf.Tensor(14.0, shape=(), dtype=float32) 16\n",
      "current batch accuracy is: 87.5%\n",
      "tf.Tensor(14.0, shape=(), dtype=float32) 16\n",
      "current batch accuracy is: 87.5%\n"
     ]
    },
    {
     "name": "stderr",
     "output_type": "stream",
     "text": [
      "\r",
      " 68%|█████████████████████████████████████████████████████▋                         | 2125/3125 [02:33<01:08, 14.70it/s]"
     ]
    },
    {
     "name": "stdout",
     "output_type": "stream",
     "text": [
      "tf.Tensor(12.0, shape=(), dtype=float32) 16\n",
      "current batch accuracy is: 75.0%\n",
      "tf.Tensor(11.0, shape=(), dtype=float32) 16\n",
      "current batch accuracy is: 68.75%\n",
      "tf.Tensor(10.0, shape=(), dtype=float32) 16\n",
      "current batch accuracy is: 62.5%\n"
     ]
    },
    {
     "name": "stderr",
     "output_type": "stream",
     "text": [
      " 68%|█████████████████████████████████████████████████████▊                         | 2129/3125 [02:34<01:07, 14.81it/s]"
     ]
    },
    {
     "name": "stdout",
     "output_type": "stream",
     "text": [
      "tf.Tensor(11.0, shape=(), dtype=float32) 16\n",
      "current batch accuracy is: 68.75%\n",
      "tf.Tensor(11.0, shape=(), dtype=float32) 16\n",
      "current batch accuracy is: 68.75%\n",
      "tf.Tensor(12.0, shape=(), dtype=float32) 16\n",
      "current batch accuracy is: 75.0%\n"
     ]
    },
    {
     "name": "stderr",
     "output_type": "stream",
     "text": [
      " 68%|█████████████████████████████████████████████████████▉                         | 2133/3125 [02:34<01:07, 14.70it/s]"
     ]
    },
    {
     "name": "stdout",
     "output_type": "stream",
     "text": [
      "tf.Tensor(11.0, shape=(), dtype=float32) 16\n",
      "current batch accuracy is: 68.75%\n",
      "tf.Tensor(13.0, shape=(), dtype=float32) 16\n",
      "current batch accuracy is: 81.25%\n",
      "tf.Tensor(6.0, shape=(), dtype=float32) 16\n",
      "current batch accuracy is: 37.5%\n",
      "tf.Tensor(8.0, shape=(), dtype=float32) 16\n",
      "current batch accuracy is: 50.0%\n"
     ]
    },
    {
     "name": "stderr",
     "output_type": "stream",
     "text": [
      "\r",
      " 68%|█████████████████████████████████████████████████████▉                         | 2135/3125 [02:34<01:08, 14.38it/s]"
     ]
    },
    {
     "name": "stdout",
     "output_type": "stream",
     "text": [
      "tf.Tensor(12.0, shape=(), dtype=float32) 16\n",
      "current batch accuracy is: 75.0%\n",
      "tf.Tensor(11.0, shape=(), dtype=float32) 16\n",
      "current batch accuracy is: 68.75%\n",
      "tf.Tensor(10.0, shape=(), dtype=float32) 16\n",
      "current batch accuracy is: 62.5%\n"
     ]
    },
    {
     "name": "stderr",
     "output_type": "stream",
     "text": [
      " 68%|██████████████████████████████████████████████████████                         | 2139/3125 [02:34<01:11, 13.81it/s]"
     ]
    },
    {
     "name": "stdout",
     "output_type": "stream",
     "text": [
      "tf.Tensor(13.0, shape=(), dtype=float32) 16\n",
      "current batch accuracy is: 81.25%\n",
      "tf.Tensor(13.0, shape=(), dtype=float32) 16\n",
      "current batch accuracy is: 81.25%\n",
      "tf.Tensor(9.0, shape=(), dtype=float32) 16\n",
      "current batch accuracy is: 56.25%\n"
     ]
    },
    {
     "name": "stderr",
     "output_type": "stream",
     "text": [
      " 69%|██████████████████████████████████████████████████████▏                        | 2143/3125 [02:35<01:07, 14.56it/s]"
     ]
    },
    {
     "name": "stdout",
     "output_type": "stream",
     "text": [
      "tf.Tensor(11.0, shape=(), dtype=float32) 16\n",
      "current batch accuracy is: 68.75%\n",
      "tf.Tensor(9.0, shape=(), dtype=float32) 16\n",
      "current batch accuracy is: 56.25%\n",
      "tf.Tensor(11.0, shape=(), dtype=float32) 16\n",
      "current batch accuracy is: 68.75%\n",
      "tf.Tensor(8.0, shape=(), dtype=float32) 16\n",
      "current batch accuracy is: 50.0%\n"
     ]
    },
    {
     "name": "stderr",
     "output_type": "stream",
     "text": [
      "\r",
      " 69%|██████████████████████████████████████████████████████▏                        | 2145/3125 [02:35<01:05, 14.87it/s]"
     ]
    },
    {
     "name": "stdout",
     "output_type": "stream",
     "text": [
      "tf.Tensor(9.0, shape=(), dtype=float32) 16\n",
      "current batch accuracy is: 56.25%\n",
      "tf.Tensor(11.0, shape=(), dtype=float32) 16\n",
      "current batch accuracy is: 68.75%\n",
      "tf.Tensor(12.0, shape=(), dtype=float32) 16\n",
      "current batch accuracy is: 75.0%\n"
     ]
    },
    {
     "name": "stderr",
     "output_type": "stream",
     "text": [
      " 69%|██████████████████████████████████████████████████████▎                        | 2149/3125 [02:35<01:09, 14.09it/s]"
     ]
    },
    {
     "name": "stdout",
     "output_type": "stream",
     "text": [
      "tf.Tensor(9.0, shape=(), dtype=float32) 16\n",
      "current batch accuracy is: 56.25%\n",
      "tf.Tensor(14.0, shape=(), dtype=float32) 16\n",
      "current batch accuracy is: 87.5%\n",
      "tf.Tensor(11.0, shape=(), dtype=float32) 16\n",
      "current batch accuracy is: 68.75%\n"
     ]
    },
    {
     "name": "stderr",
     "output_type": "stream",
     "text": [
      "\r",
      " 69%|██████████████████████████████████████████████████████▍                        | 2151/3125 [02:35<01:11, 13.60it/s]"
     ]
    },
    {
     "name": "stdout",
     "output_type": "stream",
     "text": [
      "tf.Tensor(9.0, shape=(), dtype=float32) 16\n",
      "current batch accuracy is: 56.25%\n",
      "tf.Tensor(10.0, shape=(), dtype=float32) 16\n",
      "current batch accuracy is: 62.5%\n",
      "tf.Tensor(12.0, shape=(), dtype=float32) 16\n",
      "current batch accuracy is: 75.0%\n"
     ]
    },
    {
     "name": "stderr",
     "output_type": "stream",
     "text": [
      " 69%|██████████████████████████████████████████████████████▍                        | 2155/3125 [02:36<01:07, 14.31it/s]"
     ]
    },
    {
     "name": "stdout",
     "output_type": "stream",
     "text": [
      "tf.Tensor(12.0, shape=(), dtype=float32) 16\n",
      "current batch accuracy is: 75.0%\n",
      "tf.Tensor(10.0, shape=(), dtype=float32) 16\n",
      "current batch accuracy is: 62.5%\n",
      "tf.Tensor(11.0, shape=(), dtype=float32) 16\n",
      "current batch accuracy is: 68.75%\n",
      "tf.Tensor(10.0, shape=(), dtype=float32) 16\n",
      "current batch accuracy is: 62.5%\n"
     ]
    },
    {
     "name": "stderr",
     "output_type": "stream",
     "text": [
      " 69%|██████████████████████████████████████████████████████▌                        | 2159/3125 [02:36<01:05, 14.77it/s]"
     ]
    },
    {
     "name": "stdout",
     "output_type": "stream",
     "text": [
      "tf.Tensor(11.0, shape=(), dtype=float32) 16\n",
      "current batch accuracy is: 68.75%\n",
      "tf.Tensor(12.0, shape=(), dtype=float32) 16\n",
      "current batch accuracy is: 75.0%\n",
      "tf.Tensor(13.0, shape=(), dtype=float32) 16\n",
      "current batch accuracy is: 81.25%\n"
     ]
    },
    {
     "name": "stderr",
     "output_type": "stream",
     "text": [
      "\r",
      " 69%|██████████████████████████████████████████████████████▋                        | 2161/3125 [02:36<01:05, 14.68it/s]"
     ]
    },
    {
     "name": "stdout",
     "output_type": "stream",
     "text": [
      "tf.Tensor(10.0, shape=(), dtype=float32) 16\n",
      "current batch accuracy is: 62.5%\n",
      "tf.Tensor(13.0, shape=(), dtype=float32) 16\n",
      "current batch accuracy is: 81.25%\n",
      "tf.Tensor(10.0, shape=(), dtype=float32) 16\n",
      "current batch accuracy is: 62.5%\n"
     ]
    },
    {
     "name": "stderr",
     "output_type": "stream",
     "text": [
      " 69%|██████████████████████████████████████████████████████▋                        | 2165/3125 [02:36<01:12, 13.25it/s]"
     ]
    },
    {
     "name": "stdout",
     "output_type": "stream",
     "text": [
      "tf.Tensor(13.0, shape=(), dtype=float32) 16\n",
      "current batch accuracy is: 81.25%\n",
      "tf.Tensor(13.0, shape=(), dtype=float32) 16\n",
      "current batch accuracy is: 81.25%\n",
      "tf.Tensor(12.0, shape=(), dtype=float32) 16\n",
      "current batch accuracy is: 75.0%\n"
     ]
    },
    {
     "name": "stderr",
     "output_type": "stream",
     "text": [
      "\r",
      " 69%|██████████████████████████████████████████████████████▊                        | 2167/3125 [02:36<01:11, 13.34it/s]"
     ]
    },
    {
     "name": "stdout",
     "output_type": "stream",
     "text": [
      "tf.Tensor(12.0, shape=(), dtype=float32) 16\n",
      "current batch accuracy is: 75.0%\n",
      "tf.Tensor(12.0, shape=(), dtype=float32) 16\n",
      "current batch accuracy is: 75.0%\n",
      "tf.Tensor(8.0, shape=(), dtype=float32) 16\n",
      "current batch accuracy is: 50.0%\n"
     ]
    },
    {
     "name": "stderr",
     "output_type": "stream",
     "text": [
      " 69%|██████████████████████████████████████████████████████▉                        | 2171/3125 [02:37<01:10, 13.51it/s]"
     ]
    },
    {
     "name": "stdout",
     "output_type": "stream",
     "text": [
      "tf.Tensor(11.0, shape=(), dtype=float32) 16\n",
      "current batch accuracy is: 68.75%\n",
      "tf.Tensor(11.0, shape=(), dtype=float32) 16\n",
      "current batch accuracy is: 68.75%\n",
      "tf.Tensor(9.0, shape=(), dtype=float32) 16\n",
      "current batch accuracy is: 56.25%\n",
      "tf.Tensor(9.0, shape=(), dtype=float32) 16\n",
      "current batch accuracy is: 56.25%\n"
     ]
    },
    {
     "name": "stderr",
     "output_type": "stream",
     "text": [
      " 70%|██████████████████████████████████████████████████████▉                        | 2175/3125 [02:37<01:06, 14.26it/s]"
     ]
    },
    {
     "name": "stdout",
     "output_type": "stream",
     "text": [
      "tf.Tensor(11.0, shape=(), dtype=float32) 16\n",
      "current batch accuracy is: 68.75%\n",
      "tf.Tensor(13.0, shape=(), dtype=float32) 16\n",
      "current batch accuracy is: 81.25%\n",
      "tf.Tensor(11.0, shape=(), dtype=float32) 16\n",
      "current batch accuracy is: 68.75%\n",
      "tf.Tensor(14.0, shape=(), dtype=float32) 16\n",
      "current batch accuracy is: 87.5%\n"
     ]
    },
    {
     "name": "stderr",
     "output_type": "stream",
     "text": [
      " 70%|███████████████████████████████████████████████████████                        | 2179/3125 [02:37<01:04, 14.76it/s]"
     ]
    },
    {
     "name": "stdout",
     "output_type": "stream",
     "text": [
      "tf.Tensor(10.0, shape=(), dtype=float32) 16\n",
      "current batch accuracy is: 62.5%\n",
      "tf.Tensor(11.0, shape=(), dtype=float32) 16\n",
      "current batch accuracy is: 68.75%\n",
      "tf.Tensor(12.0, shape=(), dtype=float32) 16\n",
      "current batch accuracy is: 75.0%\n",
      "tf.Tensor(13.0, shape=(), dtype=float32) 16\n",
      "current batch accuracy is: 81.25%\n"
     ]
    },
    {
     "name": "stderr",
     "output_type": "stream",
     "text": [
      " 70%|███████████████████████████████████████████████████████▏                       | 2183/3125 [02:38<01:04, 14.51it/s]"
     ]
    },
    {
     "name": "stdout",
     "output_type": "stream",
     "text": [
      "tf.Tensor(12.0, shape=(), dtype=float32) 16\n",
      "current batch accuracy is: 75.0%\n",
      "tf.Tensor(9.0, shape=(), dtype=float32) 16\n",
      "current batch accuracy is: 56.25%\n",
      "tf.Tensor(13.0, shape=(), dtype=float32) 16\n",
      "current batch accuracy is: 81.25%\n"
     ]
    },
    {
     "name": "stderr",
     "output_type": "stream",
     "text": [
      " 70%|███████████████████████████████████████████████████████▎                       | 2187/3125 [02:38<01:02, 14.98it/s]"
     ]
    },
    {
     "name": "stdout",
     "output_type": "stream",
     "text": [
      "tf.Tensor(7.0, shape=(), dtype=float32) 16\n",
      "current batch accuracy is: 43.75%\n",
      "tf.Tensor(10.0, shape=(), dtype=float32) 16\n",
      "current batch accuracy is: 62.5%\n",
      "tf.Tensor(10.0, shape=(), dtype=float32) 16\n",
      "current batch accuracy is: 62.5%\n",
      "tf.Tensor(9.0, shape=(), dtype=float32) 16\n",
      "current batch accuracy is: 56.25%\n"
     ]
    },
    {
     "name": "stderr",
     "output_type": "stream",
     "text": [
      "\r",
      " 70%|███████████████████████████████████████████████████████▎                       | 2189/3125 [02:38<01:02, 15.03it/s]"
     ]
    },
    {
     "name": "stdout",
     "output_type": "stream",
     "text": [
      "tf.Tensor(9.0, shape=(), dtype=float32) 16\n",
      "current batch accuracy is: 56.25%\n",
      "tf.Tensor(10.0, shape=(), dtype=float32) 16\n",
      "current batch accuracy is: 62.5%\n",
      "tf.Tensor(12.0, shape=(), dtype=float32) 16\n",
      "current batch accuracy is: 75.0%\n"
     ]
    },
    {
     "name": "stderr",
     "output_type": "stream",
     "text": [
      " 70%|███████████████████████████████████████████████████████▍                       | 2193/3125 [02:38<01:04, 14.43it/s]"
     ]
    },
    {
     "name": "stdout",
     "output_type": "stream",
     "text": [
      "tf.Tensor(12.0, shape=(), dtype=float32) 16\n",
      "current batch accuracy is: 75.0%\n",
      "tf.Tensor(9.0, shape=(), dtype=float32) 16\n",
      "current batch accuracy is: 56.25%\n",
      "tf.Tensor(13.0, shape=(), dtype=float32) 16\n",
      "current batch accuracy is: 81.25%\n",
      "tf.Tensor(11.0, shape=(), dtype=float32) 16\n",
      "current batch accuracy is: 68.75%\n"
     ]
    },
    {
     "name": "stderr",
     "output_type": "stream",
     "text": [
      " 70%|███████████████████████████████████████████████████████▌                       | 2197/3125 [02:39<01:07, 13.82it/s]"
     ]
    },
    {
     "name": "stdout",
     "output_type": "stream",
     "text": [
      "tf.Tensor(10.0, shape=(), dtype=float32) 16\n",
      "current batch accuracy is: 62.5%\n",
      "tf.Tensor(13.0, shape=(), dtype=float32) 16\n",
      "current batch accuracy is: 81.25%\n",
      "tf.Tensor(9.0, shape=(), dtype=float32) 16\n",
      "current batch accuracy is: 56.25%\n"
     ]
    },
    {
     "name": "stderr",
     "output_type": "stream",
     "text": [
      " 70%|███████████████████████████████████████████████████████▋                       | 2201/3125 [02:39<01:04, 14.41it/s]"
     ]
    },
    {
     "name": "stdout",
     "output_type": "stream",
     "text": [
      "tf.Tensor(9.0, shape=(), dtype=float32) 16\n",
      "current batch accuracy is: 56.25%\n",
      "tf.Tensor(11.0, shape=(), dtype=float32) 16\n",
      "current batch accuracy is: 68.75%\n",
      "tf.Tensor(13.0, shape=(), dtype=float32) 16\n",
      "current batch accuracy is: 81.25%\n",
      "tf.Tensor(9.0, shape=(), dtype=float32) 16\n",
      "current batch accuracy is: 56.25%\n"
     ]
    },
    {
     "name": "stderr",
     "output_type": "stream",
     "text": [
      "\r",
      " 70%|███████████████████████████████████████████████████████▋                       | 2203/3125 [02:39<01:04, 14.22it/s]"
     ]
    },
    {
     "name": "stdout",
     "output_type": "stream",
     "text": [
      "tf.Tensor(9.0, shape=(), dtype=float32) 16\n",
      "current batch accuracy is: 56.25%\n",
      "tf.Tensor(12.0, shape=(), dtype=float32) 16\n",
      "current batch accuracy is: 75.0%\n",
      "tf.Tensor(9.0, shape=(), dtype=float32) 16\n",
      "current batch accuracy is: 56.25%\n"
     ]
    },
    {
     "name": "stderr",
     "output_type": "stream",
     "text": [
      " 71%|███████████████████████████████████████████████████████▊                       | 2207/3125 [02:39<01:02, 14.62it/s]"
     ]
    },
    {
     "name": "stdout",
     "output_type": "stream",
     "text": [
      "tf.Tensor(9.0, shape=(), dtype=float32) 16\n",
      "current batch accuracy is: 56.25%\n",
      "tf.Tensor(10.0, shape=(), dtype=float32) 16\n",
      "current batch accuracy is: 62.5%\n",
      "tf.Tensor(9.0, shape=(), dtype=float32) 16\n",
      "current batch accuracy is: 56.25%\n"
     ]
    },
    {
     "name": "stderr",
     "output_type": "stream",
     "text": [
      "\r",
      " 71%|███████████████████████████████████████████████████████▊                       | 2209/3125 [02:39<01:05, 14.02it/s]"
     ]
    },
    {
     "name": "stdout",
     "output_type": "stream",
     "text": [
      "tf.Tensor(8.0, shape=(), dtype=float32) 16\n",
      "current batch accuracy is: 50.0%\n",
      "tf.Tensor(12.0, shape=(), dtype=float32) 16\n",
      "current batch accuracy is: 75.0%\n",
      "tf.Tensor(13.0, shape=(), dtype=float32) 16\n",
      "current batch accuracy is: 81.25%\n"
     ]
    },
    {
     "name": "stderr",
     "output_type": "stream",
     "text": [
      " 71%|███████████████████████████████████████████████████████▉                       | 2213/3125 [02:40<01:03, 14.42it/s]"
     ]
    },
    {
     "name": "stdout",
     "output_type": "stream",
     "text": [
      "tf.Tensor(12.0, shape=(), dtype=float32) 16\n",
      "current batch accuracy is: 75.0%\n",
      "tf.Tensor(10.0, shape=(), dtype=float32) 16\n",
      "current batch accuracy is: 62.5%\n",
      "tf.Tensor(9.0, shape=(), dtype=float32) 16\n",
      "current batch accuracy is: 56.25%\n",
      "tf.Tensor(11.0, shape=(), dtype=float32) 16\n",
      "current batch accuracy is: 68.75%\n"
     ]
    },
    {
     "name": "stderr",
     "output_type": "stream",
     "text": [
      " 71%|████████████████████████████████████████████████████████                       | 2217/3125 [02:40<01:02, 14.58it/s]"
     ]
    },
    {
     "name": "stdout",
     "output_type": "stream",
     "text": [
      "tf.Tensor(9.0, shape=(), dtype=float32) 16\n",
      "current batch accuracy is: 56.25%\n",
      "tf.Tensor(12.0, shape=(), dtype=float32) 16\n",
      "current batch accuracy is: 75.0%\n",
      "tf.Tensor(12.0, shape=(), dtype=float32) 16\n",
      "current batch accuracy is: 75.0%\n",
      "tf.Tensor(12.0, shape=(), dtype=float32) 16\n",
      "current batch accuracy is: 75.0%\n"
     ]
    },
    {
     "name": "stderr",
     "output_type": "stream",
     "text": [
      " 71%|████████████████████████████████████████████████████████▏                      | 2221/3125 [02:40<01:01, 14.66it/s]"
     ]
    },
    {
     "name": "stdout",
     "output_type": "stream",
     "text": [
      "tf.Tensor(12.0, shape=(), dtype=float32) 16\n",
      "current batch accuracy is: 75.0%\n",
      "tf.Tensor(13.0, shape=(), dtype=float32) 16\n",
      "current batch accuracy is: 81.25%\n",
      "tf.Tensor(10.0, shape=(), dtype=float32) 16\n",
      "current batch accuracy is: 62.5%\n"
     ]
    },
    {
     "name": "stderr",
     "output_type": "stream",
     "text": [
      "\r",
      " 71%|████████████████████████████████████████████████████████▏                      | 2223/3125 [02:40<01:03, 14.30it/s]"
     ]
    },
    {
     "name": "stdout",
     "output_type": "stream",
     "text": [
      "tf.Tensor(10.0, shape=(), dtype=float32) 16\n",
      "current batch accuracy is: 62.5%\n",
      "tf.Tensor(10.0, shape=(), dtype=float32) 16\n",
      "current batch accuracy is: 62.5%\n",
      "tf.Tensor(9.0, shape=(), dtype=float32) 16\n",
      "current batch accuracy is: 56.25%\n"
     ]
    },
    {
     "name": "stderr",
     "output_type": "stream",
     "text": [
      " 71%|████████████████████████████████████████████████████████▎                      | 2227/3125 [02:41<01:05, 13.69it/s]"
     ]
    },
    {
     "name": "stdout",
     "output_type": "stream",
     "text": [
      "tf.Tensor(9.0, shape=(), dtype=float32) 16\n",
      "current batch accuracy is: 56.25%\n",
      "tf.Tensor(14.0, shape=(), dtype=float32) 16\n",
      "current batch accuracy is: 87.5%\n",
      "tf.Tensor(12.0, shape=(), dtype=float32) 16\n",
      "current batch accuracy is: 75.0%\n"
     ]
    },
    {
     "name": "stderr",
     "output_type": "stream",
     "text": [
      " 71%|████████████████████████████████████████████████████████▍                      | 2231/3125 [02:41<01:01, 14.45it/s]"
     ]
    },
    {
     "name": "stdout",
     "output_type": "stream",
     "text": [
      "tf.Tensor(10.0, shape=(), dtype=float32) 16\n",
      "current batch accuracy is: 62.5%\n",
      "tf.Tensor(12.0, shape=(), dtype=float32) 16\n",
      "current batch accuracy is: 75.0%\n",
      "tf.Tensor(8.0, shape=(), dtype=float32) 16\n",
      "current batch accuracy is: 50.0%\n",
      "tf.Tensor(10.0, shape=(), dtype=float32) 16\n",
      "current batch accuracy is: 62.5%\n"
     ]
    },
    {
     "name": "stderr",
     "output_type": "stream",
     "text": [
      " 72%|████████████████████████████████████████████████████████▌                      | 2235/3125 [02:41<00:59, 15.03it/s]"
     ]
    },
    {
     "name": "stdout",
     "output_type": "stream",
     "text": [
      "tf.Tensor(11.0, shape=(), dtype=float32) 16\n",
      "current batch accuracy is: 68.75%\n",
      "tf.Tensor(15.0, shape=(), dtype=float32) 16\n",
      "current batch accuracy is: 93.75%\n",
      "tf.Tensor(12.0, shape=(), dtype=float32) 16\n",
      "current batch accuracy is: 75.0%\n",
      "tf.Tensor(9.0, shape=(), dtype=float32) 16\n",
      "current batch accuracy is: 56.25%\n"
     ]
    },
    {
     "name": "stderr",
     "output_type": "stream",
     "text": [
      "\r",
      " 72%|████████████████████████████████████████████████████████▌                      | 2237/3125 [02:41<01:04, 13.79it/s]"
     ]
    },
    {
     "name": "stdout",
     "output_type": "stream",
     "text": [
      "tf.Tensor(13.0, shape=(), dtype=float32) 16\n",
      "current batch accuracy is: 81.25%\n",
      "tf.Tensor(12.0, shape=(), dtype=float32) 16\n",
      "current batch accuracy is: 75.0%\n",
      "tf.Tensor(12.0, shape=(), dtype=float32) 16\n",
      "current batch accuracy is: 75.0%\n"
     ]
    },
    {
     "name": "stderr",
     "output_type": "stream",
     "text": [
      "\r",
      " 72%|████████████████████████████████████████████████████████▌                      | 2239/3125 [02:41<01:01, 14.29it/s]"
     ]
    },
    {
     "name": "stdout",
     "output_type": "stream",
     "text": [
      "tf.Tensor(8.0, shape=(), dtype=float32) 16\n",
      "current batch accuracy is: 50.0%\n",
      "tf.Tensor(11.0, shape=(), dtype=float32) 16\n",
      "current batch accuracy is: 68.75%\n"
     ]
    },
    {
     "name": "stderr",
     "output_type": "stream",
     "text": [
      " 72%|████████████████████████████████████████████████████████▋                      | 2243/3125 [02:42<01:10, 12.54it/s]"
     ]
    },
    {
     "name": "stdout",
     "output_type": "stream",
     "text": [
      "tf.Tensor(12.0, shape=(), dtype=float32) 16\n",
      "current batch accuracy is: 75.0%\n",
      "tf.Tensor(10.0, shape=(), dtype=float32) 16\n",
      "current batch accuracy is: 62.5%\n",
      "tf.Tensor(11.0, shape=(), dtype=float32) 16\n",
      "current batch accuracy is: 68.75%\n"
     ]
    },
    {
     "name": "stderr",
     "output_type": "stream",
     "text": [
      "\r",
      " 72%|████████████████████████████████████████████████████████▊                      | 2245/3125 [02:42<01:07, 13.10it/s]"
     ]
    },
    {
     "name": "stdout",
     "output_type": "stream",
     "text": [
      "tf.Tensor(9.0, shape=(), dtype=float32) 16\n",
      "current batch accuracy is: 56.25%\n",
      "tf.Tensor(12.0, shape=(), dtype=float32) 16\n",
      "current batch accuracy is: 75.0%\n",
      "tf.Tensor(13.0, shape=(), dtype=float32) 16\n",
      "current batch accuracy is: 81.25%\n"
     ]
    },
    {
     "name": "stderr",
     "output_type": "stream",
     "text": [
      " 72%|████████████████████████████████████████████████████████▊                      | 2249/3125 [02:42<01:04, 13.66it/s]"
     ]
    },
    {
     "name": "stdout",
     "output_type": "stream",
     "text": [
      "tf.Tensor(13.0, shape=(), dtype=float32) 16\n",
      "current batch accuracy is: 81.25%\n",
      "tf.Tensor(14.0, shape=(), dtype=float32) 16\n",
      "current batch accuracy is: 87.5%\n",
      "tf.Tensor(11.0, shape=(), dtype=float32) 16\n",
      "current batch accuracy is: 68.75%\n",
      "tf.Tensor(11.0, shape=(), dtype=float32) 16\n",
      "current batch accuracy is: 68.75%\n"
     ]
    },
    {
     "name": "stderr",
     "output_type": "stream",
     "text": [
      " 72%|████████████████████████████████████████████████████████▉                      | 2253/3125 [02:43<01:00, 14.47it/s]"
     ]
    },
    {
     "name": "stdout",
     "output_type": "stream",
     "text": [
      "tf.Tensor(11.0, shape=(), dtype=float32) 16\n",
      "current batch accuracy is: 68.75%\n",
      "tf.Tensor(12.0, shape=(), dtype=float32) 16\n",
      "current batch accuracy is: 75.0%\n",
      "tf.Tensor(12.0, shape=(), dtype=float32) 16\n",
      "current batch accuracy is: 75.0%\n"
     ]
    },
    {
     "name": "stderr",
     "output_type": "stream",
     "text": [
      "\r",
      " 72%|█████████████████████████████████████████████████████████                      | 2255/3125 [02:43<01:00, 14.27it/s]"
     ]
    },
    {
     "name": "stdout",
     "output_type": "stream",
     "text": [
      "tf.Tensor(10.0, shape=(), dtype=float32) 16\n",
      "current batch accuracy is: 62.5%\n",
      "tf.Tensor(14.0, shape=(), dtype=float32) 16\n",
      "current batch accuracy is: 87.5%\n",
      "tf.Tensor(12.0, shape=(), dtype=float32) 16\n",
      "current batch accuracy is: 75.0%\n"
     ]
    },
    {
     "name": "stderr",
     "output_type": "stream",
     "text": [
      " 72%|█████████████████████████████████████████████████████████                      | 2259/3125 [02:43<01:03, 13.67it/s]"
     ]
    },
    {
     "name": "stdout",
     "output_type": "stream",
     "text": [
      "tf.Tensor(10.0, shape=(), dtype=float32) 16\n",
      "current batch accuracy is: 62.5%\n",
      "tf.Tensor(11.0, shape=(), dtype=float32) 16\n",
      "current batch accuracy is: 68.75%\n",
      "tf.Tensor(13.0, shape=(), dtype=float32) 16\n",
      "current batch accuracy is: 81.25%\n"
     ]
    },
    {
     "name": "stderr",
     "output_type": "stream",
     "text": [
      "\r",
      " 72%|█████████████████████████████████████████████████████████▏                     | 2261/3125 [02:43<01:01, 14.11it/s]"
     ]
    },
    {
     "name": "stdout",
     "output_type": "stream",
     "text": [
      "tf.Tensor(8.0, shape=(), dtype=float32) 16\n",
      "current batch accuracy is: 50.0%\n",
      "tf.Tensor(11.0, shape=(), dtype=float32) 16\n",
      "current batch accuracy is: 68.75%\n",
      "tf.Tensor(12.0, shape=(), dtype=float32) 16\n",
      "current batch accuracy is: 75.0%\n"
     ]
    },
    {
     "name": "stderr",
     "output_type": "stream",
     "text": [
      " 72%|█████████████████████████████████████████████████████████▎                     | 2265/3125 [02:43<01:01, 13.95it/s]"
     ]
    },
    {
     "name": "stdout",
     "output_type": "stream",
     "text": [
      "tf.Tensor(8.0, shape=(), dtype=float32) 16\n",
      "current batch accuracy is: 50.0%\n",
      "tf.Tensor(8.0, shape=(), dtype=float32) 16\n",
      "current batch accuracy is: 50.0%\n",
      "tf.Tensor(12.0, shape=(), dtype=float32) 16\n",
      "current batch accuracy is: 75.0%\n"
     ]
    },
    {
     "name": "stderr",
     "output_type": "stream",
     "text": [
      "\r",
      " 73%|█████████████████████████████████████████████████████████▎                     | 2267/3125 [02:44<00:59, 14.33it/s]"
     ]
    },
    {
     "name": "stdout",
     "output_type": "stream",
     "text": [
      "tf.Tensor(10.0, shape=(), dtype=float32) 16\n",
      "current batch accuracy is: 62.5%\n",
      "tf.Tensor(10.0, shape=(), dtype=float32) 16\n",
      "current batch accuracy is: 62.5%\n",
      "tf.Tensor(12.0, shape=(), dtype=float32) 16\n",
      "current batch accuracy is: 75.0%\n"
     ]
    },
    {
     "name": "stderr",
     "output_type": "stream",
     "text": [
      " 73%|█████████████████████████████████████████████████████████▍                     | 2271/3125 [02:44<01:00, 14.17it/s]"
     ]
    },
    {
     "name": "stdout",
     "output_type": "stream",
     "text": [
      "tf.Tensor(14.0, shape=(), dtype=float32) 16\n",
      "current batch accuracy is: 87.5%\n",
      "tf.Tensor(9.0, shape=(), dtype=float32) 16\n",
      "current batch accuracy is: 56.25%\n",
      "tf.Tensor(12.0, shape=(), dtype=float32) 16\n",
      "current batch accuracy is: 75.0%\n"
     ]
    },
    {
     "name": "stderr",
     "output_type": "stream",
     "text": [
      "\r",
      " 73%|█████████████████████████████████████████████████████████▍                     | 2273/3125 [02:44<01:02, 13.53it/s]"
     ]
    },
    {
     "name": "stdout",
     "output_type": "stream",
     "text": [
      "tf.Tensor(11.0, shape=(), dtype=float32) 16\n",
      "current batch accuracy is: 68.75%\n",
      "tf.Tensor(12.0, shape=(), dtype=float32) 16\n",
      "current batch accuracy is: 75.0%\n",
      "tf.Tensor(9.0, shape=(), dtype=float32) 16\n",
      "current batch accuracy is: 56.25%\n",
      "tf.Tensor(13.0, shape=(), dtype=float32) 16\n"
     ]
    },
    {
     "name": "stderr",
     "output_type": "stream",
     "text": [
      " 73%|█████████████████████████████████████████████████████████▌                     | 2277/3125 [02:44<00:59, 14.36it/s]"
     ]
    },
    {
     "name": "stdout",
     "output_type": "stream",
     "text": [
      "current batch accuracy is: 81.25%\n",
      "tf.Tensor(11.0, shape=(), dtype=float32) 16\n",
      "current batch accuracy is: 68.75%\n",
      "tf.Tensor(12.0, shape=(), dtype=float32) 16\n",
      "current batch accuracy is: 75.0%\n",
      "tf.Tensor(13.0, shape=(), dtype=float32) 16\n"
     ]
    },
    {
     "name": "stderr",
     "output_type": "stream",
     "text": [
      "\r",
      " 73%|█████████████████████████████████████████████████████████▌                     | 2279/3125 [02:44<00:58, 14.46it/s]"
     ]
    },
    {
     "name": "stdout",
     "output_type": "stream",
     "text": [
      "current batch accuracy is: 81.25%\n",
      "tf.Tensor(12.0, shape=(), dtype=float32) 16\n",
      "current batch accuracy is: 75.0%\n",
      "tf.Tensor(14.0, shape=(), dtype=float32) 16\n",
      "current batch accuracy is: 87.5%\n"
     ]
    },
    {
     "name": "stderr",
     "output_type": "stream",
     "text": [
      " 73%|█████████████████████████████████████████████████████████▋                     | 2283/3125 [02:45<00:56, 14.92it/s]"
     ]
    },
    {
     "name": "stdout",
     "output_type": "stream",
     "text": [
      "tf.Tensor(11.0, shape=(), dtype=float32) 16\n",
      "current batch accuracy is: 68.75%\n",
      "tf.Tensor(10.0, shape=(), dtype=float32) 16\n",
      "current batch accuracy is: 62.5%\n",
      "tf.Tensor(11.0, shape=(), dtype=float32) 16\n",
      "current batch accuracy is: 68.75%\n",
      "tf.Tensor(6.0, shape=(), dtype=float32) 16\n",
      "current batch accuracy is: 37.5%\n"
     ]
    },
    {
     "name": "stderr",
     "output_type": "stream",
     "text": [
      " 73%|█████████████████████████████████████████████████████████▊                     | 2287/3125 [02:45<00:55, 15.07it/s]"
     ]
    },
    {
     "name": "stdout",
     "output_type": "stream",
     "text": [
      "tf.Tensor(9.0, shape=(), dtype=float32) 16\n",
      "current batch accuracy is: 56.25%\n",
      "tf.Tensor(11.0, shape=(), dtype=float32) 16\n",
      "current batch accuracy is: 68.75%\n",
      "tf.Tensor(10.0, shape=(), dtype=float32) 16\n",
      "current batch accuracy is: 62.5%\n"
     ]
    },
    {
     "name": "stderr",
     "output_type": "stream",
     "text": [
      "\r",
      " 73%|█████████████████████████████████████████████████████████▊                     | 2289/3125 [02:45<01:00, 13.81it/s]"
     ]
    },
    {
     "name": "stdout",
     "output_type": "stream",
     "text": [
      "tf.Tensor(12.0, shape=(), dtype=float32) 16\n",
      "current batch accuracy is: 75.0%\n",
      "tf.Tensor(13.0, shape=(), dtype=float32) 16\n",
      "current batch accuracy is: 81.25%\n",
      "tf.Tensor(11.0, shape=(), dtype=float32) 16\n",
      "current batch accuracy is: 68.75%\n"
     ]
    },
    {
     "name": "stderr",
     "output_type": "stream",
     "text": [
      " 73%|█████████████████████████████████████████████████████████▉                     | 2293/3125 [02:45<01:02, 13.42it/s]"
     ]
    },
    {
     "name": "stdout",
     "output_type": "stream",
     "text": [
      "tf.Tensor(12.0, shape=(), dtype=float32) 16\n",
      "current batch accuracy is: 75.0%\n",
      "tf.Tensor(9.0, shape=(), dtype=float32) 16\n",
      "current batch accuracy is: 56.25%\n",
      "tf.Tensor(11.0, shape=(), dtype=float32) 16\n",
      "current batch accuracy is: 68.75%\n"
     ]
    },
    {
     "name": "stderr",
     "output_type": "stream",
     "text": [
      " 74%|██████████████████████████████████████████████████████████                     | 2297/3125 [02:46<00:56, 14.74it/s]"
     ]
    },
    {
     "name": "stdout",
     "output_type": "stream",
     "text": [
      "tf.Tensor(13.0, shape=(), dtype=float32) 16\n",
      "current batch accuracy is: 81.25%\n",
      "tf.Tensor(10.0, shape=(), dtype=float32) 16\n",
      "current batch accuracy is: 62.5%\n",
      "tf.Tensor(13.0, shape=(), dtype=float32) 16\n",
      "current batch accuracy is: 81.25%\n",
      "tf.Tensor(11.0, shape=(), dtype=float32) 16\n",
      "current batch accuracy is: 68.75%\n"
     ]
    },
    {
     "name": "stderr",
     "output_type": "stream",
     "text": [
      "\r",
      " 74%|██████████████████████████████████████████████████████████                     | 2299/3125 [02:46<00:57, 14.44it/s]"
     ]
    },
    {
     "name": "stdout",
     "output_type": "stream",
     "text": [
      "tf.Tensor(12.0, shape=(), dtype=float32) 16\n",
      "current batch accuracy is: 75.0%\n",
      "tf.Tensor(9.0, shape=(), dtype=float32) 16\n",
      "current batch accuracy is: 56.25%\n",
      "tf.Tensor(13.0, shape=(), dtype=float32) 16\n",
      "current batch accuracy is: 81.25%\n"
     ]
    },
    {
     "name": "stderr",
     "output_type": "stream",
     "text": [
      " 74%|██████████████████████████████████████████████████████████▏                    | 2303/3125 [02:46<00:56, 14.53it/s]"
     ]
    },
    {
     "name": "stdout",
     "output_type": "stream",
     "text": [
      "tf.Tensor(9.0, shape=(), dtype=float32) 16\n",
      "current batch accuracy is: 56.25%\n",
      "tf.Tensor(11.0, shape=(), dtype=float32) 16\n",
      "current batch accuracy is: 68.75%\n",
      "tf.Tensor(12.0, shape=(), dtype=float32) 16\n",
      "current batch accuracy is: 75.0%\n",
      "tf.Tensor(12.0, shape=(), dtype=float32) 16\n",
      "current batch accuracy is: 75.0%\n"
     ]
    },
    {
     "name": "stderr",
     "output_type": "stream",
     "text": [
      " 74%|██████████████████████████████████████████████████████████▎                    | 2307/3125 [02:46<00:54, 15.10it/s]"
     ]
    },
    {
     "name": "stdout",
     "output_type": "stream",
     "text": [
      "tf.Tensor(11.0, shape=(), dtype=float32) 16\n",
      "current batch accuracy is: 68.75%\n",
      "tf.Tensor(14.0, shape=(), dtype=float32) 16\n",
      "current batch accuracy is: 87.5%\n",
      "tf.Tensor(10.0, shape=(), dtype=float32) 16\n",
      "current batch accuracy is: 62.5%\n"
     ]
    },
    {
     "name": "stderr",
     "output_type": "stream",
     "text": [
      "\r",
      " 74%|██████████████████████████████████████████████████████████▎                    | 2309/3125 [02:46<00:56, 14.37it/s]"
     ]
    },
    {
     "name": "stdout",
     "output_type": "stream",
     "text": [
      "tf.Tensor(10.0, shape=(), dtype=float32) 16\n",
      "current batch accuracy is: 62.5%\n",
      "tf.Tensor(11.0, shape=(), dtype=float32) 16\n",
      "current batch accuracy is: 68.75%\n",
      "tf.Tensor(11.0, shape=(), dtype=float32) 16\n",
      "current batch accuracy is: 68.75%\n"
     ]
    },
    {
     "name": "stderr",
     "output_type": "stream",
     "text": [
      " 74%|██████████████████████████████████████████████████████████▍                    | 2313/3125 [02:47<00:55, 14.59it/s]"
     ]
    },
    {
     "name": "stdout",
     "output_type": "stream",
     "text": [
      "tf.Tensor(12.0, shape=(), dtype=float32) 16\n",
      "current batch accuracy is: 75.0%\n",
      "tf.Tensor(12.0, shape=(), dtype=float32) 16\n",
      "current batch accuracy is: 75.0%\n",
      "tf.Tensor(10.0, shape=(), dtype=float32) 16\n",
      "current batch accuracy is: 62.5%\n"
     ]
    },
    {
     "name": "stderr",
     "output_type": "stream",
     "text": [
      "\r",
      " 74%|██████████████████████████████████████████████████████████▌                    | 2315/3125 [02:47<01:00, 13.31it/s]"
     ]
    },
    {
     "name": "stdout",
     "output_type": "stream",
     "text": [
      "tf.Tensor(12.0, shape=(), dtype=float32) 16\n",
      "current batch accuracy is: 75.0%\n",
      "tf.Tensor(11.0, shape=(), dtype=float32) 16\n",
      "current batch accuracy is: 68.75%\n",
      "tf.Tensor(13.0, shape=(), dtype=float32) 16\n",
      "current batch accuracy is: 81.25%\n"
     ]
    },
    {
     "name": "stderr",
     "output_type": "stream",
     "text": [
      " 74%|██████████████████████████████████████████████████████████▌                    | 2319/3125 [02:47<00:57, 13.90it/s]"
     ]
    },
    {
     "name": "stdout",
     "output_type": "stream",
     "text": [
      "tf.Tensor(9.0, shape=(), dtype=float32) 16\n",
      "current batch accuracy is: 56.25%\n",
      "tf.Tensor(12.0, shape=(), dtype=float32) 16\n",
      "current batch accuracy is: 75.0%\n",
      "tf.Tensor(11.0, shape=(), dtype=float32) 16\n",
      "current batch accuracy is: 68.75%\n"
     ]
    },
    {
     "name": "stderr",
     "output_type": "stream",
     "text": [
      "\r",
      " 74%|██████████████████████████████████████████████████████████▋                    | 2321/3125 [02:47<01:06, 12.13it/s]"
     ]
    },
    {
     "name": "stdout",
     "output_type": "stream",
     "text": [
      "tf.Tensor(10.0, shape=(), dtype=float32) 16\n",
      "current batch accuracy is: 62.5%\n",
      "tf.Tensor(10.0, shape=(), dtype=float32) 16\n",
      "current batch accuracy is: 62.5%\n",
      "tf.Tensor(8.0, shape=(), dtype=float32) 16\n",
      "current batch accuracy is: 50.0%\n"
     ]
    },
    {
     "name": "stderr",
     "output_type": "stream",
     "text": [
      " 74%|██████████████████████████████████████████████████████████▊                    | 2325/3125 [02:48<01:00, 13.24it/s]"
     ]
    },
    {
     "name": "stdout",
     "output_type": "stream",
     "text": [
      "tf.Tensor(11.0, shape=(), dtype=float32) 16\n",
      "current batch accuracy is: 68.75%\n",
      "tf.Tensor(14.0, shape=(), dtype=float32) 16\n",
      "current batch accuracy is: 87.5%\n",
      "tf.Tensor(12.0, shape=(), dtype=float32) 16\n",
      "current batch accuracy is: 75.0%\n"
     ]
    },
    {
     "name": "stderr",
     "output_type": "stream",
     "text": [
      "\r",
      " 74%|██████████████████████████████████████████████████████████▊                    | 2327/3125 [02:48<01:03, 12.61it/s]"
     ]
    },
    {
     "name": "stdout",
     "output_type": "stream",
     "text": [
      "tf.Tensor(9.0, shape=(), dtype=float32) 16\n",
      "current batch accuracy is: 56.25%\n",
      "tf.Tensor(8.0, shape=(), dtype=float32) 16\n",
      "current batch accuracy is: 50.0%\n",
      "tf.Tensor(10.0, shape=(), dtype=float32) 16\n",
      "current batch accuracy is: 62.5%\n"
     ]
    },
    {
     "name": "stderr",
     "output_type": "stream",
     "text": [
      " 75%|██████████████████████████████████████████████████████████▉                    | 2331/3125 [02:48<01:04, 12.39it/s]"
     ]
    },
    {
     "name": "stdout",
     "output_type": "stream",
     "text": [
      "tf.Tensor(14.0, shape=(), dtype=float32) 16\n",
      "current batch accuracy is: 87.5%\n",
      "tf.Tensor(11.0, shape=(), dtype=float32) 16\n",
      "current batch accuracy is: 68.75%\n",
      "tf.Tensor(9.0, shape=(), dtype=float32) 16\n",
      "current batch accuracy is: 56.25%\n"
     ]
    },
    {
     "name": "stderr",
     "output_type": "stream",
     "text": [
      "\r",
      " 75%|██████████████████████████████████████████████████████████▉                    | 2333/3125 [02:48<01:02, 12.61it/s]"
     ]
    },
    {
     "name": "stdout",
     "output_type": "stream",
     "text": [
      "tf.Tensor(13.0, shape=(), dtype=float32) 16\n",
      "current batch accuracy is: 81.25%\n",
      "tf.Tensor(7.0, shape=(), dtype=float32) 16\n",
      "current batch accuracy is: 43.75%\n",
      "tf.Tensor(9.0, shape=(), dtype=float32) 16\n",
      "current batch accuracy is: 56.25%\n"
     ]
    },
    {
     "name": "stderr",
     "output_type": "stream",
     "text": [
      " 75%|███████████████████████████████████████████████████████████                    | 2337/3125 [02:49<00:58, 13.36it/s]"
     ]
    },
    {
     "name": "stdout",
     "output_type": "stream",
     "text": [
      "tf.Tensor(13.0, shape=(), dtype=float32) 16\n",
      "current batch accuracy is: 81.25%\n",
      "tf.Tensor(10.0, shape=(), dtype=float32) 16\n",
      "current batch accuracy is: 62.5%\n",
      "tf.Tensor(8.0, shape=(), dtype=float32) 16\n",
      "current batch accuracy is: 50.0%\n",
      "tf.Tensor(11.0, shape=(), dtype=float32) 16\n",
      "current batch accuracy is: 68.75%\n"
     ]
    },
    {
     "name": "stderr",
     "output_type": "stream",
     "text": [
      " 75%|███████████████████████████████████████████████████████████▏                   | 2341/3125 [02:49<00:55, 14.13it/s]"
     ]
    },
    {
     "name": "stdout",
     "output_type": "stream",
     "text": [
      "tf.Tensor(10.0, shape=(), dtype=float32) 16\n",
      "current batch accuracy is: 62.5%\n",
      "tf.Tensor(15.0, shape=(), dtype=float32) 16\n",
      "current batch accuracy is: 93.75%\n",
      "tf.Tensor(10.0, shape=(), dtype=float32) 16\n",
      "current batch accuracy is: 62.5%\n"
     ]
    },
    {
     "name": "stderr",
     "output_type": "stream",
     "text": [
      "\r",
      " 75%|███████████████████████████████████████████████████████████▏                   | 2343/3125 [02:49<00:59, 13.11it/s]"
     ]
    },
    {
     "name": "stdout",
     "output_type": "stream",
     "text": [
      "tf.Tensor(9.0, shape=(), dtype=float32) 16\n",
      "current batch accuracy is: 56.25%\n",
      "tf.Tensor(11.0, shape=(), dtype=float32) 16\n",
      "current batch accuracy is: 68.75%\n",
      "tf.Tensor(10.0, shape=(), dtype=float32) 16\n",
      "current batch accuracy is: 62.5%\n"
     ]
    },
    {
     "name": "stderr",
     "output_type": "stream",
     "text": [
      " 75%|███████████████████████████████████████████████████████████▎                   | 2347/3125 [02:49<00:53, 14.57it/s]"
     ]
    },
    {
     "name": "stdout",
     "output_type": "stream",
     "text": [
      "tf.Tensor(11.0, shape=(), dtype=float32) 16\n",
      "current batch accuracy is: 68.75%\n",
      "tf.Tensor(12.0, shape=(), dtype=float32) 16\n",
      "current batch accuracy is: 75.0%\n",
      "tf.Tensor(10.0, shape=(), dtype=float32) 16\n",
      "current batch accuracy is: 62.5%\n",
      "tf.Tensor(11.0, shape=(), dtype=float32) 16\n",
      "current batch accuracy is: 68.75%\n"
     ]
    },
    {
     "name": "stderr",
     "output_type": "stream",
     "text": [
      " 75%|███████████████████████████████████████████████████████████▍                   | 2351/3125 [02:50<00:54, 14.23it/s]"
     ]
    },
    {
     "name": "stdout",
     "output_type": "stream",
     "text": [
      "tf.Tensor(12.0, shape=(), dtype=float32) 16\n",
      "current batch accuracy is: 75.0%\n",
      "tf.Tensor(11.0, shape=(), dtype=float32) 16\n",
      "current batch accuracy is: 68.75%\n",
      "tf.Tensor(12.0, shape=(), dtype=float32) 16\n",
      "current batch accuracy is: 75.0%\n"
     ]
    },
    {
     "name": "stderr",
     "output_type": "stream",
     "text": [
      "\r",
      " 75%|███████████████████████████████████████████████████████████▍                   | 2353/3125 [02:50<00:54, 14.23it/s]"
     ]
    },
    {
     "name": "stdout",
     "output_type": "stream",
     "text": [
      "tf.Tensor(14.0, shape=(), dtype=float32) 16\n",
      "current batch accuracy is: 87.5%\n",
      "tf.Tensor(14.0, shape=(), dtype=float32) 16\n",
      "current batch accuracy is: 87.5%\n",
      "tf.Tensor(14.0, shape=(), dtype=float32) 16\n",
      "current batch accuracy is: 87.5%\n"
     ]
    },
    {
     "name": "stderr",
     "output_type": "stream",
     "text": [
      " 75%|███████████████████████████████████████████████████████████▌                   | 2357/3125 [02:50<00:54, 14.04it/s]"
     ]
    },
    {
     "name": "stdout",
     "output_type": "stream",
     "text": [
      "tf.Tensor(13.0, shape=(), dtype=float32) 16\n",
      "current batch accuracy is: 81.25%\n",
      "tf.Tensor(10.0, shape=(), dtype=float32) 16\n",
      "current batch accuracy is: 62.5%\n",
      "tf.Tensor(8.0, shape=(), dtype=float32) 16\n",
      "current batch accuracy is: 50.0%\n"
     ]
    },
    {
     "name": "stderr",
     "output_type": "stream",
     "text": [
      "\r",
      " 75%|███████████████████████████████████████████████████████████▋                   | 2359/3125 [02:50<01:02, 12.22it/s]"
     ]
    },
    {
     "name": "stdout",
     "output_type": "stream",
     "text": [
      "tf.Tensor(12.0, shape=(), dtype=float32) 16\n",
      "current batch accuracy is: 75.0%\n",
      "tf.Tensor(11.0, shape=(), dtype=float32) 16\n",
      "current batch accuracy is: 68.75%\n"
     ]
    },
    {
     "name": "stderr",
     "output_type": "stream",
     "text": [
      " 76%|███████████████████████████████████████████████████████████▋                   | 2363/3125 [02:51<01:05, 11.71it/s]"
     ]
    },
    {
     "name": "stdout",
     "output_type": "stream",
     "text": [
      "tf.Tensor(10.0, shape=(), dtype=float32) 16\n",
      "current batch accuracy is: 62.5%\n",
      "tf.Tensor(12.0, shape=(), dtype=float32) 16\n",
      "current batch accuracy is: 75.0%\n",
      "tf.Tensor(10.0, shape=(), dtype=float32) 16\n",
      "current batch accuracy is: 62.5%\n",
      "tf.Tensor(9.0, shape=(), dtype=float32) 16\n",
      "current batch accuracy is: 56.25%\n"
     ]
    },
    {
     "name": "stderr",
     "output_type": "stream",
     "text": [
      " 76%|███████████████████████████████████████████████████████████▊                   | 2367/3125 [02:51<00:58, 13.03it/s]"
     ]
    },
    {
     "name": "stdout",
     "output_type": "stream",
     "text": [
      "tf.Tensor(12.0, shape=(), dtype=float32) 16\n",
      "current batch accuracy is: 75.0%\n",
      "tf.Tensor(12.0, shape=(), dtype=float32) 16\n",
      "current batch accuracy is: 75.0%\n",
      "tf.Tensor(9.0, shape=(), dtype=float32) 16\n",
      "current batch accuracy is: 56.25%\n",
      "tf.Tensor(13.0, shape=(), dtype=float32) 16\n",
      "current batch accuracy is: 81.25%\n"
     ]
    },
    {
     "name": "stderr",
     "output_type": "stream",
     "text": [
      "\r",
      " 76%|███████████████████████████████████████████████████████████▉                   | 2369/3125 [02:51<00:54, 13.82it/s]"
     ]
    },
    {
     "name": "stdout",
     "output_type": "stream",
     "text": [
      "tf.Tensor(14.0, shape=(), dtype=float32) 16\n",
      "current batch accuracy is: 87.5%\n",
      "tf.Tensor(12.0, shape=(), dtype=float32) 16\n",
      "current batch accuracy is: 75.0%\n",
      "tf.Tensor(10.0, shape=(), dtype=float32) 16\n",
      "current batch accuracy is: 62.5%\n",
      "tf.Tensor(13.0, shape=(), dtype=float32) 16\n"
     ]
    },
    {
     "name": "stderr",
     "output_type": "stream",
     "text": [
      " 76%|███████████████████████████████████████████████████████████▉                   | 2373/3125 [02:51<00:54, 13.90it/s]"
     ]
    },
    {
     "name": "stdout",
     "output_type": "stream",
     "text": [
      "current batch accuracy is: 81.25%\n",
      "tf.Tensor(10.0, shape=(), dtype=float32) 16\n",
      "current batch accuracy is: 62.5%\n",
      "tf.Tensor(10.0, shape=(), dtype=float32) 16\n",
      "current batch accuracy is: 62.5%\n"
     ]
    },
    {
     "name": "stderr",
     "output_type": "stream",
     "text": [
      "\r",
      " 76%|████████████████████████████████████████████████████████████                   | 2375/3125 [02:52<00:59, 12.65it/s]"
     ]
    },
    {
     "name": "stdout",
     "output_type": "stream",
     "text": [
      "tf.Tensor(7.0, shape=(), dtype=float32) 16\n",
      "current batch accuracy is: 43.75%\n",
      "tf.Tensor(7.0, shape=(), dtype=float32) 16\n",
      "current batch accuracy is: 43.75%\n",
      "tf.Tensor(13.0, shape=(), dtype=float32) 16\n",
      "current batch accuracy is: 81.25%\n"
     ]
    },
    {
     "name": "stderr",
     "output_type": "stream",
     "text": [
      " 76%|████████████████████████████████████████████████████████████▏                  | 2379/3125 [02:52<00:53, 14.00it/s]"
     ]
    },
    {
     "name": "stdout",
     "output_type": "stream",
     "text": [
      "tf.Tensor(11.0, shape=(), dtype=float32) 16\n",
      "current batch accuracy is: 68.75%\n",
      "tf.Tensor(8.0, shape=(), dtype=float32) 16\n",
      "current batch accuracy is: 50.0%\n",
      "tf.Tensor(9.0, shape=(), dtype=float32) 16\n",
      "current batch accuracy is: 56.25%\n",
      "tf.Tensor(11.0, shape=(), dtype=float32) 16\n",
      "current batch accuracy is: 68.75%\n"
     ]
    },
    {
     "name": "stderr",
     "output_type": "stream",
     "text": [
      " 76%|████████████████████████████████████████████████████████████▏                  | 2383/3125 [02:52<00:50, 14.63it/s]"
     ]
    },
    {
     "name": "stdout",
     "output_type": "stream",
     "text": [
      "tf.Tensor(10.0, shape=(), dtype=float32) 16\n",
      "current batch accuracy is: 62.5%\n",
      "tf.Tensor(11.0, shape=(), dtype=float32) 16\n",
      "current batch accuracy is: 68.75%\n",
      "tf.Tensor(11.0, shape=(), dtype=float32) 16\n",
      "current batch accuracy is: 68.75%\n"
     ]
    },
    {
     "name": "stderr",
     "output_type": "stream",
     "text": [
      "\r",
      " 76%|████████████████████████████████████████████████████████████▎                  | 2385/3125 [02:52<00:51, 14.50it/s]"
     ]
    },
    {
     "name": "stdout",
     "output_type": "stream",
     "text": [
      "tf.Tensor(10.0, shape=(), dtype=float32) 16\n",
      "current batch accuracy is: 62.5%\n",
      "tf.Tensor(12.0, shape=(), dtype=float32) 16\n",
      "current batch accuracy is: 75.0%\n",
      "tf.Tensor(12.0, shape=(), dtype=float32) 16\n",
      "current batch accuracy is: 75.0%\n"
     ]
    },
    {
     "name": "stderr",
     "output_type": "stream",
     "text": [
      " 76%|████████████████████████████████████████████████████████████▍                  | 2389/3125 [02:52<00:49, 14.83it/s]"
     ]
    },
    {
     "name": "stdout",
     "output_type": "stream",
     "text": [
      "tf.Tensor(10.0, shape=(), dtype=float32) 16\n",
      "current batch accuracy is: 62.5%\n",
      "tf.Tensor(11.0, shape=(), dtype=float32) 16\n",
      "current batch accuracy is: 68.75%\n",
      "tf.Tensor(8.0, shape=(), dtype=float32) 16\n",
      "current batch accuracy is: 50.0%\n"
     ]
    },
    {
     "name": "stderr",
     "output_type": "stream",
     "text": [
      " 77%|████████████████████████████████████████████████████████████▍                  | 2393/3125 [02:53<00:48, 14.95it/s]"
     ]
    },
    {
     "name": "stdout",
     "output_type": "stream",
     "text": [
      "tf.Tensor(10.0, shape=(), dtype=float32) 16\n",
      "current batch accuracy is: 62.5%\n",
      "tf.Tensor(12.0, shape=(), dtype=float32) 16\n",
      "current batch accuracy is: 75.0%\n",
      "tf.Tensor(13.0, shape=(), dtype=float32) 16\n",
      "current batch accuracy is: 81.25%\n",
      "tf.Tensor(10.0, shape=(), dtype=float32) 16\n",
      "current batch accuracy is: 62.5%\n"
     ]
    },
    {
     "name": "stderr",
     "output_type": "stream",
     "text": [
      "\r",
      " 77%|████████████████████████████████████████████████████████████▌                  | 2395/3125 [02:53<00:49, 14.82it/s]"
     ]
    },
    {
     "name": "stdout",
     "output_type": "stream",
     "text": [
      "tf.Tensor(9.0, shape=(), dtype=float32) 16\n",
      "current batch accuracy is: 56.25%\n",
      "tf.Tensor(11.0, shape=(), dtype=float32) 16\n",
      "current batch accuracy is: 68.75%\n",
      "tf.Tensor(11.0, shape=(), dtype=float32) 16\n",
      "current batch accuracy is: 68.75%\n"
     ]
    },
    {
     "name": "stderr",
     "output_type": "stream",
     "text": [
      " 77%|████████████████████████████████████████████████████████████▋                  | 2399/3125 [02:53<00:48, 14.85it/s]"
     ]
    },
    {
     "name": "stdout",
     "output_type": "stream",
     "text": [
      "tf.Tensor(9.0, shape=(), dtype=float32) 16\n",
      "current batch accuracy is: 56.25%\n",
      "tf.Tensor(10.0, shape=(), dtype=float32) 16\n",
      "current batch accuracy is: 62.5%\n",
      "tf.Tensor(9.0, shape=(), dtype=float32) 16\n",
      "current batch accuracy is: 56.25%\n"
     ]
    },
    {
     "name": "stderr",
     "output_type": "stream",
     "text": [
      " 77%|████████████████████████████████████████████████████████████▋                  | 2403/3125 [02:53<00:48, 14.99it/s]"
     ]
    },
    {
     "name": "stdout",
     "output_type": "stream",
     "text": [
      "tf.Tensor(12.0, shape=(), dtype=float32) 16\n",
      "current batch accuracy is: 75.0%\n",
      "tf.Tensor(12.0, shape=(), dtype=float32) 16\n",
      "current batch accuracy is: 75.0%\n",
      "tf.Tensor(10.0, shape=(), dtype=float32) 16\n",
      "current batch accuracy is: 62.5%\n",
      "tf.Tensor(12.0, shape=(), dtype=float32) 16\n",
      "current batch accuracy is: 75.0%\n"
     ]
    },
    {
     "name": "stderr",
     "output_type": "stream",
     "text": [
      "\r",
      " 77%|████████████████████████████████████████████████████████████▊                  | 2405/3125 [02:54<00:49, 14.52it/s]"
     ]
    },
    {
     "name": "stdout",
     "output_type": "stream",
     "text": [
      "tf.Tensor(8.0, shape=(), dtype=float32) 16\n",
      "current batch accuracy is: 50.0%\n",
      "tf.Tensor(11.0, shape=(), dtype=float32) 16\n",
      "current batch accuracy is: 68.75%\n",
      "tf.Tensor(11.0, shape=(), dtype=float32) 16\n",
      "current batch accuracy is: 68.75%\n"
     ]
    },
    {
     "name": "stderr",
     "output_type": "stream",
     "text": [
      " 77%|████████████████████████████████████████████████████████████▉                  | 2409/3125 [02:54<00:50, 14.21it/s]"
     ]
    },
    {
     "name": "stdout",
     "output_type": "stream",
     "text": [
      "tf.Tensor(11.0, shape=(), dtype=float32) 16\n",
      "current batch accuracy is: 68.75%\n",
      "tf.Tensor(11.0, shape=(), dtype=float32) 16\n",
      "current batch accuracy is: 68.75%\n",
      "tf.Tensor(12.0, shape=(), dtype=float32) 16\n",
      "current batch accuracy is: 75.0%\n"
     ]
    },
    {
     "name": "stderr",
     "output_type": "stream",
     "text": [
      " 77%|█████████████████████████████████████████████████████████████                  | 2413/3125 [02:54<00:47, 14.97it/s]"
     ]
    },
    {
     "name": "stdout",
     "output_type": "stream",
     "text": [
      "tf.Tensor(9.0, shape=(), dtype=float32) 16\n",
      "current batch accuracy is: 56.25%\n",
      "tf.Tensor(13.0, shape=(), dtype=float32) 16\n",
      "current batch accuracy is: 81.25%\n",
      "tf.Tensor(14.0, shape=(), dtype=float32) 16\n",
      "current batch accuracy is: 87.5%\n",
      "tf.Tensor(10.0, shape=(), dtype=float32) 16\n",
      "current batch accuracy is: 62.5%\n"
     ]
    },
    {
     "name": "stderr",
     "output_type": "stream",
     "text": [
      "\r",
      " 77%|█████████████████████████████████████████████████████████████                  | 2415/3125 [02:54<00:48, 14.53it/s]"
     ]
    },
    {
     "name": "stdout",
     "output_type": "stream",
     "text": [
      "tf.Tensor(13.0, shape=(), dtype=float32) 16\n",
      "current batch accuracy is: 81.25%\n",
      "tf.Tensor(12.0, shape=(), dtype=float32) 16\n",
      "current batch accuracy is: 75.0%\n",
      "tf.Tensor(15.0, shape=(), dtype=float32) 16\n",
      "current batch accuracy is: 93.75%\n"
     ]
    },
    {
     "name": "stderr",
     "output_type": "stream",
     "text": [
      " 77%|█████████████████████████████████████████████████████████████▏                 | 2419/3125 [02:55<00:49, 14.28it/s]"
     ]
    },
    {
     "name": "stdout",
     "output_type": "stream",
     "text": [
      "tf.Tensor(10.0, shape=(), dtype=float32) 16\n",
      "current batch accuracy is: 62.5%\n",
      "tf.Tensor(9.0, shape=(), dtype=float32) 16\n",
      "current batch accuracy is: 56.25%\n",
      "tf.Tensor(13.0, shape=(), dtype=float32) 16\n",
      "current batch accuracy is: 81.25%\n"
     ]
    },
    {
     "name": "stderr",
     "output_type": "stream",
     "text": [
      "\r",
      " 77%|█████████████████████████████████████████████████████████████▏                 | 2421/3125 [02:55<00:49, 14.15it/s]"
     ]
    },
    {
     "name": "stdout",
     "output_type": "stream",
     "text": [
      "tf.Tensor(13.0, shape=(), dtype=float32) 16\n",
      "current batch accuracy is: 81.25%\n",
      "tf.Tensor(14.0, shape=(), dtype=float32) 16\n",
      "current batch accuracy is: 87.5%\n",
      "tf.Tensor(13.0, shape=(), dtype=float32) 16\n",
      "current batch accuracy is: 81.25%\n"
     ]
    },
    {
     "name": "stderr",
     "output_type": "stream",
     "text": [
      " 78%|█████████████████████████████████████████████████████████████▎                 | 2425/3125 [02:55<00:48, 14.42it/s]"
     ]
    },
    {
     "name": "stdout",
     "output_type": "stream",
     "text": [
      "tf.Tensor(10.0, shape=(), dtype=float32) 16\n",
      "current batch accuracy is: 62.5%\n",
      "tf.Tensor(13.0, shape=(), dtype=float32) 16\n",
      "current batch accuracy is: 81.25%\n",
      "tf.Tensor(11.0, shape=(), dtype=float32) 16\n",
      "current batch accuracy is: 68.75%\n",
      "tf.Tensor(9.0, shape=(), dtype=float32) 16\n",
      "current batch accuracy is: 56.25%\n"
     ]
    },
    {
     "name": "stderr",
     "output_type": "stream",
     "text": [
      " 78%|█████████████████████████████████████████████████████████████▍                 | 2429/3125 [02:55<00:46, 14.95it/s]"
     ]
    },
    {
     "name": "stdout",
     "output_type": "stream",
     "text": [
      "tf.Tensor(11.0, shape=(), dtype=float32) 16\n",
      "current batch accuracy is: 68.75%\n",
      "tf.Tensor(12.0, shape=(), dtype=float32) 16\n",
      "current batch accuracy is: 75.0%\n",
      "tf.Tensor(11.0, shape=(), dtype=float32) 16\n",
      "current batch accuracy is: 68.75%\n"
     ]
    },
    {
     "name": "stderr",
     "output_type": "stream",
     "text": [
      "\r",
      " 78%|█████████████████████████████████████████████████████████████▍                 | 2431/3125 [02:55<00:46, 14.77it/s]"
     ]
    },
    {
     "name": "stdout",
     "output_type": "stream",
     "text": [
      "tf.Tensor(11.0, shape=(), dtype=float32) 16\n",
      "current batch accuracy is: 68.75%\n",
      "tf.Tensor(12.0, shape=(), dtype=float32) 16\n",
      "current batch accuracy is: 75.0%\n",
      "tf.Tensor(14.0, shape=(), dtype=float32) 16\n",
      "current batch accuracy is: 87.5%\n"
     ]
    },
    {
     "name": "stderr",
     "output_type": "stream",
     "text": [
      " 78%|█████████████████████████████████████████████████████████████▌                 | 2435/3125 [02:56<00:46, 14.84it/s]"
     ]
    },
    {
     "name": "stdout",
     "output_type": "stream",
     "text": [
      "tf.Tensor(13.0, shape=(), dtype=float32) 16\n",
      "current batch accuracy is: 81.25%\n",
      "tf.Tensor(12.0, shape=(), dtype=float32) 16\n",
      "current batch accuracy is: 75.0%\n",
      "tf.Tensor(12.0, shape=(), dtype=float32) 16\n",
      "current batch accuracy is: 75.0%\n",
      "tf.Tensor(13.0, shape=(), dtype=float32) 16\n",
      "current batch accuracy is: 81.25%\n"
     ]
    },
    {
     "name": "stderr",
     "output_type": "stream",
     "text": [
      " 78%|█████████████████████████████████████████████████████████████▋                 | 2439/3125 [02:56<00:44, 15.34it/s]"
     ]
    },
    {
     "name": "stdout",
     "output_type": "stream",
     "text": [
      "tf.Tensor(11.0, shape=(), dtype=float32) 16\n",
      "current batch accuracy is: 68.75%\n",
      "tf.Tensor(11.0, shape=(), dtype=float32) 16\n",
      "current batch accuracy is: 68.75%\n",
      "tf.Tensor(11.0, shape=(), dtype=float32) 16\n",
      "current batch accuracy is: 68.75%\n",
      "tf.Tensor(11.0, shape=(), dtype=float32) 16\n",
      "current batch accuracy is: 68.75%\n"
     ]
    },
    {
     "name": "stderr",
     "output_type": "stream",
     "text": [
      " 78%|█████████████████████████████████████████████████████████████▊                 | 2443/3125 [02:56<00:44, 15.25it/s]"
     ]
    },
    {
     "name": "stdout",
     "output_type": "stream",
     "text": [
      "tf.Tensor(13.0, shape=(), dtype=float32) 16\n",
      "current batch accuracy is: 81.25%\n",
      "tf.Tensor(13.0, shape=(), dtype=float32) 16\n",
      "current batch accuracy is: 81.25%\n",
      "tf.Tensor(10.0, shape=(), dtype=float32) 16\n",
      "current batch accuracy is: 62.5%\n",
      "tf.Tensor(11.0, shape=(), dtype=float32) 16\n",
      "current batch accuracy is: 68.75%\n"
     ]
    },
    {
     "name": "stderr",
     "output_type": "stream",
     "text": [
      " 78%|█████████████████████████████████████████████████████████████▊                 | 2447/3125 [02:56<00:44, 15.23it/s]"
     ]
    },
    {
     "name": "stdout",
     "output_type": "stream",
     "text": [
      "tf.Tensor(12.0, shape=(), dtype=float32) 16\n",
      "current batch accuracy is: 75.0%\n",
      "tf.Tensor(14.0, shape=(), dtype=float32) 16\n",
      "current batch accuracy is: 87.5%\n",
      "tf.Tensor(13.0, shape=(), dtype=float32) 16\n",
      "current batch accuracy is: 81.25%\n"
     ]
    },
    {
     "name": "stderr",
     "output_type": "stream",
     "text": [
      "\r",
      " 78%|█████████████████████████████████████████████████████████████▉                 | 2449/3125 [02:57<00:44, 15.03it/s]"
     ]
    },
    {
     "name": "stdout",
     "output_type": "stream",
     "text": [
      "tf.Tensor(10.0, shape=(), dtype=float32) 16\n",
      "current batch accuracy is: 62.5%\n",
      "tf.Tensor(12.0, shape=(), dtype=float32) 16\n",
      "current batch accuracy is: 75.0%\n",
      "tf.Tensor(10.0, shape=(), dtype=float32) 16\n",
      "current batch accuracy is: 62.5%\n"
     ]
    },
    {
     "name": "stderr",
     "output_type": "stream",
     "text": [
      " 78%|██████████████████████████████████████████████████████████████                 | 2453/3125 [02:57<00:46, 14.61it/s]"
     ]
    },
    {
     "name": "stdout",
     "output_type": "stream",
     "text": [
      "tf.Tensor(11.0, shape=(), dtype=float32) 16\n",
      "current batch accuracy is: 68.75%\n",
      "tf.Tensor(9.0, shape=(), dtype=float32) 16\n",
      "current batch accuracy is: 56.25%\n",
      "tf.Tensor(10.0, shape=(), dtype=float32) 16\n",
      "current batch accuracy is: 62.5%\n",
      "tf.Tensor(12.0, shape=(), dtype=float32) 16\n",
      "current batch accuracy is: 75.0%\n"
     ]
    },
    {
     "name": "stderr",
     "output_type": "stream",
     "text": [
      " 79%|██████████████████████████████████████████████████████████████                 | 2457/3125 [02:57<00:44, 14.95it/s]"
     ]
    },
    {
     "name": "stdout",
     "output_type": "stream",
     "text": [
      "tf.Tensor(12.0, shape=(), dtype=float32) 16\n",
      "current batch accuracy is: 75.0%\n",
      "tf.Tensor(11.0, shape=(), dtype=float32) 16\n",
      "current batch accuracy is: 68.75%\n",
      "tf.Tensor(10.0, shape=(), dtype=float32) 16\n",
      "current batch accuracy is: 62.5%\n"
     ]
    },
    {
     "name": "stderr",
     "output_type": "stream",
     "text": [
      " 79%|██████████████████████████████████████████████████████████████▏                | 2461/3125 [02:57<00:44, 14.82it/s]"
     ]
    },
    {
     "name": "stdout",
     "output_type": "stream",
     "text": [
      "tf.Tensor(10.0, shape=(), dtype=float32) 16\n",
      "current batch accuracy is: 62.5%\n",
      "tf.Tensor(9.0, shape=(), dtype=float32) 16\n",
      "current batch accuracy is: 56.25%\n",
      "tf.Tensor(10.0, shape=(), dtype=float32) 16\n",
      "current batch accuracy is: 62.5%\n",
      "tf.Tensor(13.0, shape=(), dtype=float32) 16\n",
      "current batch accuracy is: 81.25%\n"
     ]
    },
    {
     "name": "stderr",
     "output_type": "stream",
     "text": [
      "\r",
      " 79%|██████████████████████████████████████████████████████████████▎                | 2463/3125 [02:57<00:48, 13.76it/s]"
     ]
    },
    {
     "name": "stdout",
     "output_type": "stream",
     "text": [
      "tf.Tensor(12.0, shape=(), dtype=float32) 16\n",
      "current batch accuracy is: 75.0%\n",
      "tf.Tensor(10.0, shape=(), dtype=float32) 16\n",
      "current batch accuracy is: 62.5%\n",
      "tf.Tensor(10.0, shape=(), dtype=float32) 16\n",
      "current batch accuracy is: 62.5%\n"
     ]
    },
    {
     "name": "stderr",
     "output_type": "stream",
     "text": [
      " 79%|██████████████████████████████████████████████████████████████▎                | 2467/3125 [02:58<00:46, 14.17it/s]"
     ]
    },
    {
     "name": "stdout",
     "output_type": "stream",
     "text": [
      "tf.Tensor(13.0, shape=(), dtype=float32) 16\n",
      "current batch accuracy is: 81.25%\n",
      "tf.Tensor(11.0, shape=(), dtype=float32) 16\n",
      "current batch accuracy is: 68.75%\n",
      "tf.Tensor(13.0, shape=(), dtype=float32) 16\n",
      "current batch accuracy is: 81.25%\n"
     ]
    },
    {
     "name": "stderr",
     "output_type": "stream",
     "text": [
      "\r",
      " 79%|██████████████████████████████████████████████████████████████▍                | 2469/3125 [02:58<00:47, 13.86it/s]"
     ]
    },
    {
     "name": "stdout",
     "output_type": "stream",
     "text": [
      "tf.Tensor(10.0, shape=(), dtype=float32) 16\n",
      "current batch accuracy is: 62.5%\n",
      "tf.Tensor(10.0, shape=(), dtype=float32) 16\n",
      "current batch accuracy is: 62.5%\n",
      "tf.Tensor(12.0, shape=(), dtype=float32) 16\n",
      "current batch accuracy is: 75.0%\n"
     ]
    },
    {
     "name": "stderr",
     "output_type": "stream",
     "text": [
      " 79%|██████████████████████████████████████████████████████████████▌                | 2473/3125 [02:58<00:45, 14.44it/s]"
     ]
    },
    {
     "name": "stdout",
     "output_type": "stream",
     "text": [
      "tf.Tensor(12.0, shape=(), dtype=float32) 16\n",
      "current batch accuracy is: 75.0%\n",
      "tf.Tensor(10.0, shape=(), dtype=float32) 16\n",
      "current batch accuracy is: 62.5%\n",
      "tf.Tensor(11.0, shape=(), dtype=float32) 16\n",
      "current batch accuracy is: 68.75%\n",
      "tf.Tensor(11.0, shape=(), dtype=float32) 16\n",
      "current batch accuracy is: 68.75%\n"
     ]
    },
    {
     "name": "stderr",
     "output_type": "stream",
     "text": [
      " 79%|██████████████████████████████████████████████████████████████▌                | 2477/3125 [02:58<00:45, 14.10it/s]"
     ]
    },
    {
     "name": "stdout",
     "output_type": "stream",
     "text": [
      "tf.Tensor(15.0, shape=(), dtype=float32) 16\n",
      "current batch accuracy is: 93.75%\n",
      "tf.Tensor(14.0, shape=(), dtype=float32) 16\n",
      "current batch accuracy is: 87.5%\n",
      "tf.Tensor(10.0, shape=(), dtype=float32) 16\n",
      "current batch accuracy is: 62.5%\n"
     ]
    },
    {
     "name": "stderr",
     "output_type": "stream",
     "text": [
      " 79%|██████████████████████████████████████████████████████████████▋                | 2481/3125 [02:59<00:44, 14.39it/s]"
     ]
    },
    {
     "name": "stdout",
     "output_type": "stream",
     "text": [
      "tf.Tensor(9.0, shape=(), dtype=float32) 16\n",
      "current batch accuracy is: 56.25%\n",
      "tf.Tensor(12.0, shape=(), dtype=float32) 16\n",
      "current batch accuracy is: 75.0%\n",
      "tf.Tensor(10.0, shape=(), dtype=float32) 16\n",
      "current batch accuracy is: 62.5%\n",
      "tf.Tensor(12.0, shape=(), dtype=float32) 16\n",
      "current batch accuracy is: 75.0%\n"
     ]
    },
    {
     "name": "stderr",
     "output_type": "stream",
     "text": [
      "\r",
      " 79%|██████████████████████████████████████████████████████████████▊                | 2483/3125 [02:59<00:43, 14.72it/s]"
     ]
    },
    {
     "name": "stdout",
     "output_type": "stream",
     "text": [
      "tf.Tensor(12.0, shape=(), dtype=float32) 16\n",
      "current batch accuracy is: 75.0%\n",
      "tf.Tensor(10.0, shape=(), dtype=float32) 16\n",
      "current batch accuracy is: 62.5%\n",
      "tf.Tensor(10.0, shape=(), dtype=float32) 16\n",
      "current batch accuracy is: 62.5%\n"
     ]
    },
    {
     "name": "stderr",
     "output_type": "stream",
     "text": [
      " 80%|██████████████████████████████████████████████████████████████▊                | 2487/3125 [02:59<00:46, 13.60it/s]"
     ]
    },
    {
     "name": "stdout",
     "output_type": "stream",
     "text": [
      "tf.Tensor(12.0, shape=(), dtype=float32) 16\n",
      "current batch accuracy is: 75.0%\n",
      "tf.Tensor(12.0, shape=(), dtype=float32) 16\n",
      "current batch accuracy is: 75.0%\n",
      "tf.Tensor(11.0, shape=(), dtype=float32) 16\n",
      "current batch accuracy is: 68.75%\n"
     ]
    },
    {
     "name": "stderr",
     "output_type": "stream",
     "text": [
      "\r",
      " 80%|██████████████████████████████████████████████████████████████▉                | 2489/3125 [02:59<00:46, 13.75it/s]"
     ]
    },
    {
     "name": "stdout",
     "output_type": "stream",
     "text": [
      "tf.Tensor(11.0, shape=(), dtype=float32) 16\n",
      "current batch accuracy is: 68.75%\n",
      "tf.Tensor(9.0, shape=(), dtype=float32) 16\n",
      "current batch accuracy is: 56.25%\n",
      "tf.Tensor(9.0, shape=(), dtype=float32) 16\n",
      "current batch accuracy is: 56.25%\n"
     ]
    },
    {
     "name": "stderr",
     "output_type": "stream",
     "text": [
      "\r",
      " 80%|██████████████████████████████████████████████████████████████▉                | 2491/3125 [02:59<00:46, 13.76it/s]"
     ]
    },
    {
     "name": "stdout",
     "output_type": "stream",
     "text": [
      "tf.Tensor(10.0, shape=(), dtype=float32) 16\n",
      "current batch accuracy is: 62.5%\n",
      "tf.Tensor(6.0, shape=(), dtype=float32) 16\n",
      "current batch accuracy is: 37.5%\n"
     ]
    },
    {
     "name": "stderr",
     "output_type": "stream",
     "text": [
      " 80%|███████████████████████████████████████████████████████████████                | 2495/3125 [03:00<00:55, 11.39it/s]"
     ]
    },
    {
     "name": "stdout",
     "output_type": "stream",
     "text": [
      "tf.Tensor(9.0, shape=(), dtype=float32) 16\n",
      "current batch accuracy is: 56.25%\n",
      "tf.Tensor(6.0, shape=(), dtype=float32) 16\n",
      "current batch accuracy is: 37.5%\n",
      "tf.Tensor(13.0, shape=(), dtype=float32) 16\n",
      "current batch accuracy is: 81.25%\n"
     ]
    },
    {
     "name": "stderr",
     "output_type": "stream",
     "text": [
      "\r",
      " 80%|███████████████████████████████████████████████████████████████                | 2497/3125 [03:00<00:52, 12.04it/s]"
     ]
    },
    {
     "name": "stdout",
     "output_type": "stream",
     "text": [
      "tf.Tensor(11.0, shape=(), dtype=float32) 16\n",
      "current batch accuracy is: 68.75%\n",
      "tf.Tensor(12.0, shape=(), dtype=float32) 16\n",
      "current batch accuracy is: 75.0%\n",
      "tf.Tensor(12.0, shape=(), dtype=float32) 16\n",
      "current batch accuracy is: 75.0%\n"
     ]
    },
    {
     "name": "stderr",
     "output_type": "stream",
     "text": [
      " 80%|███████████████████████████████████████████████████████████████▏               | 2501/3125 [03:00<00:50, 12.46it/s]"
     ]
    },
    {
     "name": "stdout",
     "output_type": "stream",
     "text": [
      "tf.Tensor(11.0, shape=(), dtype=float32) 16\n",
      "current batch accuracy is: 68.75%\n",
      "tf.Tensor(11.0, shape=(), dtype=float32) 16\n",
      "current batch accuracy is: 68.75%\n",
      "tf.Tensor(13.0, shape=(), dtype=float32) 16\n",
      "current batch accuracy is: 81.25%\n"
     ]
    },
    {
     "name": "stderr",
     "output_type": "stream",
     "text": [
      "\r",
      " 80%|███████████████████████████████████████████████████████████████▎               | 2503/3125 [03:01<00:47, 13.07it/s]"
     ]
    },
    {
     "name": "stdout",
     "output_type": "stream",
     "text": [
      "tf.Tensor(10.0, shape=(), dtype=float32) 16\n",
      "current batch accuracy is: 62.5%\n",
      "tf.Tensor(13.0, shape=(), dtype=float32) 16\n",
      "current batch accuracy is: 81.25%\n",
      "tf.Tensor(8.0, shape=(), dtype=float32) 16\n",
      "current batch accuracy is: 50.0%\n"
     ]
    },
    {
     "name": "stderr",
     "output_type": "stream",
     "text": [
      " 80%|███████████████████████████████████████████████████████████████▍               | 2507/3125 [03:01<00:45, 13.66it/s]"
     ]
    },
    {
     "name": "stdout",
     "output_type": "stream",
     "text": [
      "tf.Tensor(9.0, shape=(), dtype=float32) 16\n",
      "current batch accuracy is: 56.25%\n",
      "tf.Tensor(14.0, shape=(), dtype=float32) 16\n",
      "current batch accuracy is: 87.5%\n",
      "tf.Tensor(12.0, shape=(), dtype=float32) 16\n",
      "current batch accuracy is: 75.0%\n"
     ]
    },
    {
     "name": "stderr",
     "output_type": "stream",
     "text": [
      "\r",
      " 80%|███████████████████████████████████████████████████████████████▍               | 2509/3125 [03:01<00:45, 13.63it/s]"
     ]
    },
    {
     "name": "stdout",
     "output_type": "stream",
     "text": [
      "tf.Tensor(7.0, shape=(), dtype=float32) 16\n",
      "current batch accuracy is: 43.75%\n",
      "tf.Tensor(10.0, shape=(), dtype=float32) 16\n",
      "current batch accuracy is: 62.5%\n",
      "tf.Tensor(12.0, shape=(), dtype=float32) 16\n",
      "current batch accuracy is: 75.0%\n"
     ]
    },
    {
     "name": "stderr",
     "output_type": "stream",
     "text": [
      " 80%|███████████████████████████████████████████████████████████████▌               | 2513/3125 [03:01<00:42, 14.34it/s]"
     ]
    },
    {
     "name": "stdout",
     "output_type": "stream",
     "text": [
      "tf.Tensor(13.0, shape=(), dtype=float32) 16\n",
      "current batch accuracy is: 81.25%\n",
      "tf.Tensor(12.0, shape=(), dtype=float32) 16\n",
      "current batch accuracy is: 75.0%\n",
      "tf.Tensor(12.0, shape=(), dtype=float32) 16\n",
      "current batch accuracy is: 75.0%\n"
     ]
    },
    {
     "name": "stderr",
     "output_type": "stream",
     "text": [
      "\r",
      " 80%|███████████████████████████████████████████████████████████████▌               | 2515/3125 [03:01<00:43, 13.96it/s]"
     ]
    },
    {
     "name": "stdout",
     "output_type": "stream",
     "text": [
      "tf.Tensor(7.0, shape=(), dtype=float32) 16\n",
      "current batch accuracy is: 43.75%\n",
      "tf.Tensor(13.0, shape=(), dtype=float32) 16\n",
      "current batch accuracy is: 81.25%\n",
      "tf.Tensor(12.0, shape=(), dtype=float32) 16\n",
      "current batch accuracy is: 75.0%\n"
     ]
    },
    {
     "name": "stderr",
     "output_type": "stream",
     "text": [
      " 81%|███████████████████████████████████████████████████████████████▋               | 2519/3125 [03:02<00:45, 13.41it/s]"
     ]
    },
    {
     "name": "stdout",
     "output_type": "stream",
     "text": [
      "tf.Tensor(7.0, shape=(), dtype=float32) 16\n",
      "current batch accuracy is: 43.75%\n",
      "tf.Tensor(10.0, shape=(), dtype=float32) 16\n",
      "current batch accuracy is: 62.5%\n",
      "tf.Tensor(12.0, shape=(), dtype=float32) 16\n",
      "current batch accuracy is: 75.0%\n"
     ]
    },
    {
     "name": "stderr",
     "output_type": "stream",
     "text": [
      "\r",
      " 81%|███████████████████████████████████████████████████████████████▋               | 2521/3125 [03:02<00:43, 13.90it/s]"
     ]
    },
    {
     "name": "stdout",
     "output_type": "stream",
     "text": [
      "tf.Tensor(11.0, shape=(), dtype=float32) 16\n",
      "current batch accuracy is: 68.75%\n",
      "tf.Tensor(8.0, shape=(), dtype=float32) 16\n",
      "current batch accuracy is: 50.0%\n",
      "tf.Tensor(13.0, shape=(), dtype=float32) 16\n",
      "current batch accuracy is: 81.25%\n"
     ]
    },
    {
     "name": "stderr",
     "output_type": "stream",
     "text": [
      " 81%|███████████████████████████████████████████████████████████████▊               | 2525/3125 [03:02<00:43, 13.95it/s]"
     ]
    },
    {
     "name": "stdout",
     "output_type": "stream",
     "text": [
      "tf.Tensor(11.0, shape=(), dtype=float32) 16\n",
      "current batch accuracy is: 68.75%\n",
      "tf.Tensor(9.0, shape=(), dtype=float32) 16\n",
      "current batch accuracy is: 56.25%\n",
      "tf.Tensor(11.0, shape=(), dtype=float32) 16\n",
      "current batch accuracy is: 68.75%\n"
     ]
    },
    {
     "name": "stderr",
     "output_type": "stream",
     "text": [
      "\r",
      " 81%|███████████████████████████████████████████████████████████████▉               | 2527/3125 [03:02<00:44, 13.36it/s]"
     ]
    },
    {
     "name": "stdout",
     "output_type": "stream",
     "text": [
      "tf.Tensor(16.0, shape=(), dtype=float32) 16\n",
      "current batch accuracy is: 100.0%\n",
      "tf.Tensor(10.0, shape=(), dtype=float32) 16\n",
      "current batch accuracy is: 62.5%\n",
      "tf.Tensor(9.0, shape=(), dtype=float32) 16\n",
      "current batch accuracy is: 56.25%\n"
     ]
    },
    {
     "name": "stderr",
     "output_type": "stream",
     "text": [
      " 81%|███████████████████████████████████████████████████████████████▉               | 2531/3125 [03:03<00:43, 13.55it/s]"
     ]
    },
    {
     "name": "stdout",
     "output_type": "stream",
     "text": [
      "tf.Tensor(12.0, shape=(), dtype=float32) 16\n",
      "current batch accuracy is: 75.0%\n",
      "tf.Tensor(10.0, shape=(), dtype=float32) 16\n",
      "current batch accuracy is: 62.5%\n",
      "tf.Tensor(12.0, shape=(), dtype=float32) 16\n",
      "current batch accuracy is: 75.0%\n",
      "tf.Tensor(13.0, shape=(), dtype=float32) 16\n",
      "current batch accuracy is: 81.25%\n"
     ]
    },
    {
     "name": "stderr",
     "output_type": "stream",
     "text": [
      " 81%|████████████████████████████████████████████████████████████████               | 2535/3125 [03:03<00:40, 14.45it/s]"
     ]
    },
    {
     "name": "stdout",
     "output_type": "stream",
     "text": [
      "tf.Tensor(12.0, shape=(), dtype=float32) 16\n",
      "current batch accuracy is: 75.0%\n",
      "tf.Tensor(9.0, shape=(), dtype=float32) 16\n",
      "current batch accuracy is: 56.25%\n",
      "tf.Tensor(12.0, shape=(), dtype=float32) 16\n",
      "current batch accuracy is: 75.0%\n"
     ]
    },
    {
     "name": "stderr",
     "output_type": "stream",
     "text": [
      " 81%|████████████████████████████████████████████████████████████████▏              | 2539/3125 [03:03<00:40, 14.40it/s]"
     ]
    },
    {
     "name": "stdout",
     "output_type": "stream",
     "text": [
      "tf.Tensor(12.0, shape=(), dtype=float32) 16\n",
      "current batch accuracy is: 75.0%\n",
      "tf.Tensor(8.0, shape=(), dtype=float32) 16\n",
      "current batch accuracy is: 50.0%\n",
      "tf.Tensor(12.0, shape=(), dtype=float32) 16\n",
      "current batch accuracy is: 75.0%\n",
      "tf.Tensor(12.0, shape=(), dtype=float32) 16\n",
      "current batch accuracy is: 75.0%\n"
     ]
    },
    {
     "name": "stderr",
     "output_type": "stream",
     "text": [
      "\r",
      " 81%|████████████████████████████████████████████████████████████████▏              | 2541/3125 [03:03<00:39, 14.89it/s]"
     ]
    },
    {
     "name": "stdout",
     "output_type": "stream",
     "text": [
      "tf.Tensor(14.0, shape=(), dtype=float32) 16\n",
      "current batch accuracy is: 87.5%\n",
      "tf.Tensor(10.0, shape=(), dtype=float32) 16\n",
      "current batch accuracy is: 62.5%\n",
      "tf.Tensor(12.0, shape=(), dtype=float32) 16\n",
      "current batch accuracy is: 75.0%\n"
     ]
    },
    {
     "name": "stderr",
     "output_type": "stream",
     "text": [
      " 81%|████████████████████████████████████████████████████████████████▎              | 2545/3125 [03:04<00:43, 13.36it/s]"
     ]
    },
    {
     "name": "stdout",
     "output_type": "stream",
     "text": [
      "tf.Tensor(9.0, shape=(), dtype=float32) 16\n",
      "current batch accuracy is: 56.25%\n",
      "tf.Tensor(8.0, shape=(), dtype=float32) 16\n",
      "current batch accuracy is: 50.0%\n",
      "tf.Tensor(11.0, shape=(), dtype=float32) 16\n",
      "current batch accuracy is: 68.75%\n"
     ]
    },
    {
     "name": "stderr",
     "output_type": "stream",
     "text": [
      " 82%|████████████████████████████████████████████████████████████████▍              | 2549/3125 [03:04<00:40, 14.07it/s]"
     ]
    },
    {
     "name": "stdout",
     "output_type": "stream",
     "text": [
      "tf.Tensor(12.0, shape=(), dtype=float32) 16\n",
      "current batch accuracy is: 75.0%\n",
      "tf.Tensor(9.0, shape=(), dtype=float32) 16\n",
      "current batch accuracy is: 56.25%\n",
      "tf.Tensor(8.0, shape=(), dtype=float32) 16\n",
      "current batch accuracy is: 50.0%\n",
      "tf.Tensor(9.0, shape=(), dtype=float32) 16\n",
      "current batch accuracy is: 56.25%\n"
     ]
    },
    {
     "name": "stderr",
     "output_type": "stream",
     "text": [
      "\r",
      " 82%|████████████████████████████████████████████████████████████████▍              | 2551/3125 [03:04<00:41, 13.73it/s]"
     ]
    },
    {
     "name": "stdout",
     "output_type": "stream",
     "text": [
      "tf.Tensor(12.0, shape=(), dtype=float32) 16\n",
      "current batch accuracy is: 75.0%\n",
      "tf.Tensor(11.0, shape=(), dtype=float32) 16\n",
      "current batch accuracy is: 68.75%\n",
      "tf.Tensor(10.0, shape=(), dtype=float32) 16\n",
      "current batch accuracy is: 62.5%\n"
     ]
    },
    {
     "name": "stderr",
     "output_type": "stream",
     "text": [
      " 82%|████████████████████████████████████████████████████████████████▌              | 2555/3125 [03:04<00:40, 14.11it/s]"
     ]
    },
    {
     "name": "stdout",
     "output_type": "stream",
     "text": [
      "tf.Tensor(10.0, shape=(), dtype=float32) 16\n",
      "current batch accuracy is: 62.5%\n",
      "tf.Tensor(13.0, shape=(), dtype=float32) 16\n",
      "current batch accuracy is: 81.25%\n",
      "tf.Tensor(13.0, shape=(), dtype=float32) 16\n",
      "current batch accuracy is: 81.25%\n"
     ]
    },
    {
     "name": "stderr",
     "output_type": "stream",
     "text": [
      "\r",
      " 82%|████████████████████████████████████████████████████████████████▋              | 2557/3125 [03:04<00:40, 14.13it/s]"
     ]
    },
    {
     "name": "stdout",
     "output_type": "stream",
     "text": [
      "tf.Tensor(7.0, shape=(), dtype=float32) 16\n",
      "current batch accuracy is: 43.75%\n",
      "tf.Tensor(11.0, shape=(), dtype=float32) 16\n",
      "current batch accuracy is: 68.75%\n",
      "tf.Tensor(11.0, shape=(), dtype=float32) 16\n",
      "current batch accuracy is: 68.75%\n"
     ]
    },
    {
     "name": "stderr",
     "output_type": "stream",
     "text": [
      " 82%|████████████████████████████████████████████████████████████████▋              | 2561/3125 [03:05<00:39, 14.28it/s]"
     ]
    },
    {
     "name": "stdout",
     "output_type": "stream",
     "text": [
      "tf.Tensor(8.0, shape=(), dtype=float32) 16\n",
      "current batch accuracy is: 50.0%\n",
      "tf.Tensor(10.0, shape=(), dtype=float32) 16\n",
      "current batch accuracy is: 62.5%\n",
      "tf.Tensor(11.0, shape=(), dtype=float32) 16\n",
      "current batch accuracy is: 68.75%\n",
      "tf.Tensor(9.0, shape=(), dtype=float32) 16\n"
     ]
    },
    {
     "name": "stderr",
     "output_type": "stream",
     "text": [
      "\r",
      " 82%|████████████████████████████████████████████████████████████████▊              | 2563/3125 [03:05<00:38, 14.75it/s]"
     ]
    },
    {
     "name": "stdout",
     "output_type": "stream",
     "text": [
      "current batch accuracy is: 56.25%\n",
      "tf.Tensor(11.0, shape=(), dtype=float32) 16\n",
      "current batch accuracy is: 68.75%\n",
      "tf.Tensor(13.0, shape=(), dtype=float32) 16\n",
      "current batch accuracy is: 81.25%\n"
     ]
    },
    {
     "name": "stderr",
     "output_type": "stream",
     "text": [
      " 82%|████████████████████████████████████████████████████████████████▉              | 2567/3125 [03:05<00:39, 14.28it/s]"
     ]
    },
    {
     "name": "stdout",
     "output_type": "stream",
     "text": [
      "tf.Tensor(11.0, shape=(), dtype=float32) 16\n",
      "current batch accuracy is: 68.75%\n",
      "tf.Tensor(11.0, shape=(), dtype=float32) 16\n",
      "current batch accuracy is: 68.75%\n",
      "tf.Tensor(9.0, shape=(), dtype=float32) 16\n",
      "current batch accuracy is: 56.25%\n"
     ]
    },
    {
     "name": "stderr",
     "output_type": "stream",
     "text": [
      "\r",
      " 82%|████████████████████████████████████████████████████████████████▉              | 2569/3125 [03:05<00:38, 14.45it/s]"
     ]
    },
    {
     "name": "stdout",
     "output_type": "stream",
     "text": [
      "tf.Tensor(13.0, shape=(), dtype=float32) 16\n",
      "current batch accuracy is: 81.25%\n",
      "tf.Tensor(9.0, shape=(), dtype=float32) 16\n",
      "current batch accuracy is: 56.25%\n",
      "tf.Tensor(14.0, shape=(), dtype=float32) 16\n",
      "current batch accuracy is: 87.5%\n"
     ]
    },
    {
     "name": "stderr",
     "output_type": "stream",
     "text": [
      " 82%|█████████████████████████████████████████████████████████████████              | 2573/3125 [03:05<00:38, 14.52it/s]"
     ]
    },
    {
     "name": "stdout",
     "output_type": "stream",
     "text": [
      "tf.Tensor(9.0, shape=(), dtype=float32) 16\n",
      "current batch accuracy is: 56.25%\n",
      "tf.Tensor(12.0, shape=(), dtype=float32) 16\n",
      "current batch accuracy is: 75.0%\n",
      "tf.Tensor(8.0, shape=(), dtype=float32) 16\n",
      "current batch accuracy is: 50.0%\n"
     ]
    },
    {
     "name": "stderr",
     "output_type": "stream",
     "text": [
      " 82%|█████████████████████████████████████████████████████████████████▏             | 2577/3125 [03:06<00:36, 14.92it/s]"
     ]
    },
    {
     "name": "stdout",
     "output_type": "stream",
     "text": [
      "tf.Tensor(11.0, shape=(), dtype=float32) 16\n",
      "current batch accuracy is: 68.75%\n",
      "tf.Tensor(13.0, shape=(), dtype=float32) 16\n",
      "current batch accuracy is: 81.25%\n",
      "tf.Tensor(9.0, shape=(), dtype=float32) 16\n",
      "current batch accuracy is: 56.25%\n",
      "tf.Tensor(10.0, shape=(), dtype=float32) 16\n",
      "current batch accuracy is: 62.5%\n"
     ]
    },
    {
     "name": "stderr",
     "output_type": "stream",
     "text": [
      "\r",
      " 83%|█████████████████████████████████████████████████████████████████▏             | 2579/3125 [03:06<00:35, 15.26it/s]"
     ]
    },
    {
     "name": "stdout",
     "output_type": "stream",
     "text": [
      "tf.Tensor(9.0, shape=(), dtype=float32) 16\n",
      "current batch accuracy is: 56.25%\n",
      "tf.Tensor(13.0, shape=(), dtype=float32) 16\n",
      "current batch accuracy is: 81.25%\n",
      "tf.Tensor(11.0, shape=(), dtype=float32) 16\n",
      "current batch accuracy is: 68.75%\n"
     ]
    },
    {
     "name": "stderr",
     "output_type": "stream",
     "text": [
      " 83%|█████████████████████████████████████████████████████████████████▎             | 2583/3125 [03:06<00:42, 12.62it/s]"
     ]
    },
    {
     "name": "stdout",
     "output_type": "stream",
     "text": [
      "tf.Tensor(13.0, shape=(), dtype=float32) 16\n",
      "current batch accuracy is: 81.25%\n",
      "tf.Tensor(10.0, shape=(), dtype=float32) 16\n",
      "current batch accuracy is: 62.5%\n",
      "tf.Tensor(13.0, shape=(), dtype=float32) 16\n",
      "current batch accuracy is: 81.25%\n"
     ]
    },
    {
     "name": "stderr",
     "output_type": "stream",
     "text": [
      "\r",
      " 83%|█████████████████████████████████████████████████████████████████▎             | 2585/3125 [03:06<00:44, 12.26it/s]"
     ]
    },
    {
     "name": "stdout",
     "output_type": "stream",
     "text": [
      "tf.Tensor(14.0, shape=(), dtype=float32) 16\n",
      "current batch accuracy is: 87.5%\n",
      "tf.Tensor(11.0, shape=(), dtype=float32) 16\n",
      "current batch accuracy is: 68.75%\n",
      "tf.Tensor(13.0, shape=(), dtype=float32) 16\n",
      "current batch accuracy is: 81.25%\n"
     ]
    },
    {
     "name": "stderr",
     "output_type": "stream",
     "text": [
      " 83%|█████████████████████████████████████████████████████████████████▍             | 2589/3125 [03:07<00:41, 12.98it/s]"
     ]
    },
    {
     "name": "stdout",
     "output_type": "stream",
     "text": [
      "tf.Tensor(13.0, shape=(), dtype=float32) 16\n",
      "current batch accuracy is: 81.25%\n",
      "tf.Tensor(11.0, shape=(), dtype=float32) 16\n",
      "current batch accuracy is: 68.75%\n",
      "tf.Tensor(12.0, shape=(), dtype=float32) 16\n",
      "current batch accuracy is: 75.0%\n"
     ]
    },
    {
     "name": "stderr",
     "output_type": "stream",
     "text": [
      " 83%|█████████████████████████████████████████████████████████████████▌             | 2593/3125 [03:07<00:38, 13.83it/s]"
     ]
    },
    {
     "name": "stdout",
     "output_type": "stream",
     "text": [
      "tf.Tensor(9.0, shape=(), dtype=float32) 16\n",
      "current batch accuracy is: 56.25%\n",
      "tf.Tensor(12.0, shape=(), dtype=float32) 16\n",
      "current batch accuracy is: 75.0%\n",
      "tf.Tensor(11.0, shape=(), dtype=float32) 16\n",
      "current batch accuracy is: 68.75%\n",
      "tf.Tensor(11.0, shape=(), dtype=float32) 16\n",
      "current batch accuracy is: 68.75%\n"
     ]
    },
    {
     "name": "stderr",
     "output_type": "stream",
     "text": [
      "\r",
      " 83%|█████████████████████████████████████████████████████████████████▌             | 2595/3125 [03:07<00:36, 14.33it/s]"
     ]
    },
    {
     "name": "stdout",
     "output_type": "stream",
     "text": [
      "tf.Tensor(13.0, shape=(), dtype=float32) 16\n",
      "current batch accuracy is: 81.25%\n",
      "tf.Tensor(16.0, shape=(), dtype=float32) 16\n",
      "current batch accuracy is: 100.0%\n",
      "tf.Tensor(11.0, shape=(), dtype=float32) 16\n",
      "current batch accuracy is: 68.75%\n"
     ]
    },
    {
     "name": "stderr",
     "output_type": "stream",
     "text": [
      " 83%|█████████████████████████████████████████████████████████████████▋             | 2599/3125 [03:07<00:36, 14.40it/s]"
     ]
    },
    {
     "name": "stdout",
     "output_type": "stream",
     "text": [
      "tf.Tensor(12.0, shape=(), dtype=float32) 16\n",
      "current batch accuracy is: 75.0%\n",
      "tf.Tensor(11.0, shape=(), dtype=float32) 16\n",
      "current batch accuracy is: 68.75%\n",
      "tf.Tensor(10.0, shape=(), dtype=float32) 16\n",
      "current batch accuracy is: 62.5%\n",
      "tf.Tensor(9.0, shape=(), dtype=float32) 16\n",
      "current batch accuracy is: 56.25%\n"
     ]
    },
    {
     "name": "stderr",
     "output_type": "stream",
     "text": [
      " 83%|█████████████████████████████████████████████████████████████████▊             | 2603/3125 [03:08<00:36, 14.29it/s]"
     ]
    },
    {
     "name": "stdout",
     "output_type": "stream",
     "text": [
      "tf.Tensor(12.0, shape=(), dtype=float32) 16\n",
      "current batch accuracy is: 75.0%\n",
      "tf.Tensor(7.0, shape=(), dtype=float32) 16\n",
      "current batch accuracy is: 43.75%\n",
      "tf.Tensor(12.0, shape=(), dtype=float32) 16\n",
      "current batch accuracy is: 75.0%\n"
     ]
    },
    {
     "name": "stderr",
     "output_type": "stream",
     "text": [
      "\r",
      " 83%|█████████████████████████████████████████████████████████████████▊             | 2605/3125 [03:08<00:36, 14.41it/s]"
     ]
    },
    {
     "name": "stdout",
     "output_type": "stream",
     "text": [
      "tf.Tensor(9.0, shape=(), dtype=float32) 16\n",
      "current batch accuracy is: 56.25%\n",
      "tf.Tensor(8.0, shape=(), dtype=float32) 16\n",
      "current batch accuracy is: 50.0%\n",
      "tf.Tensor(11.0, shape=(), dtype=float32) 16\n",
      "current batch accuracy is: 68.75%\n"
     ]
    },
    {
     "name": "stderr",
     "output_type": "stream",
     "text": [
      " 83%|█████████████████████████████████████████████████████████████████▉             | 2609/3125 [03:08<00:37, 13.94it/s]"
     ]
    },
    {
     "name": "stdout",
     "output_type": "stream",
     "text": [
      "tf.Tensor(14.0, shape=(), dtype=float32) 16\n",
      "current batch accuracy is: 87.5%\n",
      "tf.Tensor(9.0, shape=(), dtype=float32) 16\n",
      "current batch accuracy is: 56.25%\n",
      "tf.Tensor(13.0, shape=(), dtype=float32) 16\n",
      "current batch accuracy is: 81.25%\n"
     ]
    },
    {
     "name": "stderr",
     "output_type": "stream",
     "text": [
      "\r",
      " 84%|██████████████████████████████████████████████████████████████████             | 2611/3125 [03:08<00:35, 14.39it/s]"
     ]
    },
    {
     "name": "stdout",
     "output_type": "stream",
     "text": [
      "tf.Tensor(11.0, shape=(), dtype=float32) 16\n",
      "current batch accuracy is: 68.75%\n",
      "tf.Tensor(11.0, shape=(), dtype=float32) 16\n",
      "current batch accuracy is: 68.75%\n",
      "tf.Tensor(13.0, shape=(), dtype=float32) 16\n",
      "current batch accuracy is: 81.25%\n"
     ]
    },
    {
     "name": "stderr",
     "output_type": "stream",
     "text": [
      " 84%|██████████████████████████████████████████████████████████████████             | 2615/3125 [03:09<00:37, 13.62it/s]"
     ]
    },
    {
     "name": "stdout",
     "output_type": "stream",
     "text": [
      "tf.Tensor(14.0, shape=(), dtype=float32) 16\n",
      "current batch accuracy is: 87.5%\n",
      "tf.Tensor(13.0, shape=(), dtype=float32) 16\n",
      "current batch accuracy is: 81.25%\n",
      "tf.Tensor(13.0, shape=(), dtype=float32) 16\n",
      "current batch accuracy is: 81.25%\n"
     ]
    },
    {
     "name": "stderr",
     "output_type": "stream",
     "text": [
      "\r",
      " 84%|██████████████████████████████████████████████████████████████████▏            | 2617/3125 [03:09<00:37, 13.72it/s]"
     ]
    },
    {
     "name": "stdout",
     "output_type": "stream",
     "text": [
      "tf.Tensor(12.0, shape=(), dtype=float32) 16\n",
      "current batch accuracy is: 75.0%\n",
      "tf.Tensor(12.0, shape=(), dtype=float32) 16\n",
      "current batch accuracy is: 75.0%\n",
      "tf.Tensor(11.0, shape=(), dtype=float32) 16\n",
      "current batch accuracy is: 68.75%\n"
     ]
    },
    {
     "name": "stderr",
     "output_type": "stream",
     "text": [
      " 84%|██████████████████████████████████████████████████████████████████▎            | 2621/3125 [03:09<00:35, 14.11it/s]"
     ]
    },
    {
     "name": "stdout",
     "output_type": "stream",
     "text": [
      "tf.Tensor(14.0, shape=(), dtype=float32) 16\n",
      "current batch accuracy is: 87.5%\n",
      "tf.Tensor(10.0, shape=(), dtype=float32) 16\n",
      "current batch accuracy is: 62.5%\n",
      "tf.Tensor(13.0, shape=(), dtype=float32) 16\n",
      "current batch accuracy is: 81.25%\n",
      "tf.Tensor(10.0, shape=(), dtype=float32) 16\n",
      "current batch accuracy is: 62.5%\n"
     ]
    },
    {
     "name": "stderr",
     "output_type": "stream",
     "text": [
      " 84%|██████████████████████████████████████████████████████████████████▎            | 2625/3125 [03:09<00:33, 14.76it/s]"
     ]
    },
    {
     "name": "stdout",
     "output_type": "stream",
     "text": [
      "tf.Tensor(9.0, shape=(), dtype=float32) 16\n",
      "current batch accuracy is: 56.25%\n",
      "tf.Tensor(12.0, shape=(), dtype=float32) 16\n",
      "current batch accuracy is: 75.0%\n",
      "tf.Tensor(10.0, shape=(), dtype=float32) 16\n",
      "current batch accuracy is: 62.5%\n",
      "tf.Tensor(11.0, shape=(), dtype=float32) 16\n",
      "current batch accuracy is: 68.75%\n"
     ]
    },
    {
     "name": "stderr",
     "output_type": "stream",
     "text": [
      " 84%|██████████████████████████████████████████████████████████████████▍            | 2629/3125 [03:09<00:33, 14.97it/s]"
     ]
    },
    {
     "name": "stdout",
     "output_type": "stream",
     "text": [
      "tf.Tensor(9.0, shape=(), dtype=float32) 16\n",
      "current batch accuracy is: 56.25%\n",
      "tf.Tensor(11.0, shape=(), dtype=float32) 16\n",
      "current batch accuracy is: 68.75%\n",
      "tf.Tensor(12.0, shape=(), dtype=float32) 16\n",
      "current batch accuracy is: 75.0%\n"
     ]
    },
    {
     "name": "stderr",
     "output_type": "stream",
     "text": [
      " 84%|██████████████████████████████████████████████████████████████████▌            | 2633/3125 [03:10<00:32, 15.01it/s]"
     ]
    },
    {
     "name": "stdout",
     "output_type": "stream",
     "text": [
      "tf.Tensor(12.0, shape=(), dtype=float32) 16\n",
      "current batch accuracy is: 75.0%\n",
      "tf.Tensor(7.0, shape=(), dtype=float32) 16\n",
      "current batch accuracy is: 43.75%\n",
      "tf.Tensor(10.0, shape=(), dtype=float32) 16\n",
      "current batch accuracy is: 62.5%\n",
      "tf.Tensor(13.0, shape=(), dtype=float32) 16\n",
      "current batch accuracy is: 81.25%\n"
     ]
    },
    {
     "name": "stderr",
     "output_type": "stream",
     "text": [
      " 84%|██████████████████████████████████████████████████████████████████▋            | 2637/3125 [03:10<00:32, 15.01it/s]"
     ]
    },
    {
     "name": "stdout",
     "output_type": "stream",
     "text": [
      "tf.Tensor(12.0, shape=(), dtype=float32) 16\n",
      "current batch accuracy is: 75.0%\n",
      "tf.Tensor(10.0, shape=(), dtype=float32) 16\n",
      "current batch accuracy is: 62.5%\n",
      "tf.Tensor(9.0, shape=(), dtype=float32) 16\n",
      "current batch accuracy is: 56.25%\n",
      "tf.Tensor(13.0, shape=(), dtype=float32) 16\n",
      "current batch accuracy is: 81.25%\n"
     ]
    },
    {
     "name": "stderr",
     "output_type": "stream",
     "text": [
      " 85%|██████████████████████████████████████████████████████████████████▊            | 2641/3125 [03:10<00:32, 14.75it/s]"
     ]
    },
    {
     "name": "stdout",
     "output_type": "stream",
     "text": [
      "tf.Tensor(12.0, shape=(), dtype=float32) 16\n",
      "current batch accuracy is: 75.0%\n",
      "tf.Tensor(15.0, shape=(), dtype=float32) 16\n",
      "current batch accuracy is: 93.75%\n",
      "tf.Tensor(12.0, shape=(), dtype=float32) 16\n",
      "current batch accuracy is: 75.0%\n",
      "tf.Tensor(6.0, shape=(), dtype=float32) 16\n",
      "current batch accuracy is: 37.5%\n"
     ]
    },
    {
     "name": "stderr",
     "output_type": "stream",
     "text": [
      " 85%|██████████████████████████████████████████████████████████████████▊            | 2645/3125 [03:11<00:31, 15.07it/s]"
     ]
    },
    {
     "name": "stdout",
     "output_type": "stream",
     "text": [
      "tf.Tensor(14.0, shape=(), dtype=float32) 16\n",
      "current batch accuracy is: 87.5%\n",
      "tf.Tensor(11.0, shape=(), dtype=float32) 16\n",
      "current batch accuracy is: 68.75%\n",
      "tf.Tensor(9.0, shape=(), dtype=float32) 16\n",
      "current batch accuracy is: 56.25%\n",
      "tf.Tensor(11.0, shape=(), dtype=float32) 16\n",
      "current batch accuracy is: 68.75%\n"
     ]
    },
    {
     "name": "stderr",
     "output_type": "stream",
     "text": [
      " 85%|██████████████████████████████████████████████████████████████████▉            | 2649/3125 [03:11<00:31, 15.27it/s]"
     ]
    },
    {
     "name": "stdout",
     "output_type": "stream",
     "text": [
      "tf.Tensor(8.0, shape=(), dtype=float32) 16\n",
      "current batch accuracy is: 50.0%\n",
      "tf.Tensor(9.0, shape=(), dtype=float32) 16\n",
      "current batch accuracy is: 56.25%\n",
      "tf.Tensor(13.0, shape=(), dtype=float32) 16\n",
      "current batch accuracy is: 81.25%\n",
      "tf.Tensor(6.0, shape=(), dtype=float32) 16\n",
      "current batch accuracy is: 37.5%\n"
     ]
    },
    {
     "name": "stderr",
     "output_type": "stream",
     "text": [
      " 85%|███████████████████████████████████████████████████████████████████            | 2653/3125 [03:11<00:31, 15.16it/s]"
     ]
    },
    {
     "name": "stdout",
     "output_type": "stream",
     "text": [
      "tf.Tensor(12.0, shape=(), dtype=float32) 16\n",
      "current batch accuracy is: 75.0%\n",
      "tf.Tensor(16.0, shape=(), dtype=float32) 16\n",
      "current batch accuracy is: 100.0%\n",
      "tf.Tensor(13.0, shape=(), dtype=float32) 16\n",
      "current batch accuracy is: 81.25%\n",
      "tf.Tensor(11.0, shape=(), dtype=float32) 16\n",
      "current batch accuracy is: 68.75%\n"
     ]
    },
    {
     "name": "stderr",
     "output_type": "stream",
     "text": [
      "\r",
      " 85%|███████████████████████████████████████████████████████████████████            | 2655/3125 [03:11<00:32, 14.44it/s]"
     ]
    },
    {
     "name": "stdout",
     "output_type": "stream",
     "text": [
      "tf.Tensor(10.0, shape=(), dtype=float32) 16\n",
      "current batch accuracy is: 62.5%\n",
      "tf.Tensor(9.0, shape=(), dtype=float32) 16\n",
      "current batch accuracy is: 56.25%\n",
      "tf.Tensor(11.0, shape=(), dtype=float32) 16\n",
      "current batch accuracy is: 68.75%\n"
     ]
    },
    {
     "name": "stderr",
     "output_type": "stream",
     "text": [
      " 85%|███████████████████████████████████████████████████████████████████▏           | 2659/3125 [03:12<00:31, 14.78it/s]"
     ]
    },
    {
     "name": "stdout",
     "output_type": "stream",
     "text": [
      "tf.Tensor(14.0, shape=(), dtype=float32) 16\n",
      "current batch accuracy is: 87.5%\n",
      "tf.Tensor(8.0, shape=(), dtype=float32) 16\n",
      "current batch accuracy is: 50.0%\n",
      "tf.Tensor(14.0, shape=(), dtype=float32) 16\n",
      "current batch accuracy is: 87.5%\n",
      "tf.Tensor(7.0, shape=(), dtype=float32) 16\n",
      "current batch accuracy is: 43.75%\n"
     ]
    },
    {
     "name": "stderr",
     "output_type": "stream",
     "text": [
      " 85%|███████████████████████████████████████████████████████████████████▎           | 2663/3125 [03:12<00:30, 14.94it/s]"
     ]
    },
    {
     "name": "stdout",
     "output_type": "stream",
     "text": [
      "tf.Tensor(13.0, shape=(), dtype=float32) 16\n",
      "current batch accuracy is: 81.25%\n",
      "tf.Tensor(10.0, shape=(), dtype=float32) 16\n",
      "current batch accuracy is: 62.5%\n",
      "tf.Tensor(11.0, shape=(), dtype=float32) 16\n",
      "current batch accuracy is: 68.75%\n",
      "tf.Tensor(12.0, shape=(), dtype=float32) 16\n",
      "current batch accuracy is: 75.0%\n"
     ]
    },
    {
     "name": "stderr",
     "output_type": "stream",
     "text": [
      " 85%|███████████████████████████████████████████████████████████████████▍           | 2667/3125 [03:12<00:30, 15.26it/s]"
     ]
    },
    {
     "name": "stdout",
     "output_type": "stream",
     "text": [
      "tf.Tensor(8.0, shape=(), dtype=float32) 16\n",
      "current batch accuracy is: 50.0%\n",
      "tf.Tensor(11.0, shape=(), dtype=float32) 16\n",
      "current batch accuracy is: 68.75%\n",
      "tf.Tensor(14.0, shape=(), dtype=float32) 16\n",
      "current batch accuracy is: 87.5%\n",
      "tf.Tensor(14.0, shape=(), dtype=float32) 16\n",
      "current batch accuracy is: 87.5%\n"
     ]
    },
    {
     "name": "stderr",
     "output_type": "stream",
     "text": [
      " 85%|███████████████████████████████████████████████████████████████████▌           | 2671/3125 [03:12<00:29, 15.27it/s]"
     ]
    },
    {
     "name": "stdout",
     "output_type": "stream",
     "text": [
      "tf.Tensor(10.0, shape=(), dtype=float32) 16\n",
      "current batch accuracy is: 62.5%\n",
      "tf.Tensor(10.0, shape=(), dtype=float32) 16\n",
      "current batch accuracy is: 62.5%\n",
      "tf.Tensor(12.0, shape=(), dtype=float32) 16\n",
      "current batch accuracy is: 75.0%\n",
      "tf.Tensor(12.0, shape=(), dtype=float32) 16\n",
      "current batch accuracy is: 75.0%\n"
     ]
    },
    {
     "name": "stderr",
     "output_type": "stream",
     "text": [
      " 86%|███████████████████████████████████████████████████████████████████▌           | 2675/3125 [03:13<00:29, 15.50it/s]"
     ]
    },
    {
     "name": "stdout",
     "output_type": "stream",
     "text": [
      "tf.Tensor(10.0, shape=(), dtype=float32) 16\n",
      "current batch accuracy is: 62.5%\n",
      "tf.Tensor(12.0, shape=(), dtype=float32) 16\n",
      "current batch accuracy is: 75.0%\n",
      "tf.Tensor(10.0, shape=(), dtype=float32) 16\n",
      "current batch accuracy is: 62.5%\n"
     ]
    },
    {
     "name": "stderr",
     "output_type": "stream",
     "text": [
      "\r",
      " 86%|███████████████████████████████████████████████████████████████████▋           | 2677/3125 [03:13<00:31, 14.42it/s]"
     ]
    },
    {
     "name": "stdout",
     "output_type": "stream",
     "text": [
      "tf.Tensor(11.0, shape=(), dtype=float32) 16\n",
      "current batch accuracy is: 68.75%\n",
      "tf.Tensor(8.0, shape=(), dtype=float32) 16\n",
      "current batch accuracy is: 50.0%\n",
      "tf.Tensor(9.0, shape=(), dtype=float32) 16\n",
      "current batch accuracy is: 56.25%\n"
     ]
    },
    {
     "name": "stderr",
     "output_type": "stream",
     "text": [
      " 86%|███████████████████████████████████████████████████████████████████▊           | 2681/3125 [03:13<00:29, 14.92it/s]"
     ]
    },
    {
     "name": "stdout",
     "output_type": "stream",
     "text": [
      "tf.Tensor(11.0, shape=(), dtype=float32) 16\n",
      "current batch accuracy is: 68.75%\n",
      "tf.Tensor(11.0, shape=(), dtype=float32) 16\n",
      "current batch accuracy is: 68.75%\n",
      "tf.Tensor(12.0, shape=(), dtype=float32) 16\n",
      "current batch accuracy is: 75.0%\n",
      "tf.Tensor(11.0, shape=(), dtype=float32) 16\n",
      "current batch accuracy is: 68.75%\n"
     ]
    },
    {
     "name": "stderr",
     "output_type": "stream",
     "text": [
      " 86%|███████████████████████████████████████████████████████████████████▉           | 2685/3125 [03:13<00:31, 14.13it/s]"
     ]
    },
    {
     "name": "stdout",
     "output_type": "stream",
     "text": [
      "tf.Tensor(9.0, shape=(), dtype=float32) 16\n",
      "current batch accuracy is: 56.25%\n",
      "tf.Tensor(12.0, shape=(), dtype=float32) 16\n",
      "current batch accuracy is: 75.0%\n",
      "tf.Tensor(8.0, shape=(), dtype=float32) 16\n",
      "current batch accuracy is: 50.0%\n"
     ]
    },
    {
     "name": "stderr",
     "output_type": "stream",
     "text": [
      "\r",
      " 86%|███████████████████████████████████████████████████████████████████▉           | 2687/3125 [03:13<00:32, 13.42it/s]"
     ]
    },
    {
     "name": "stdout",
     "output_type": "stream",
     "text": [
      "tf.Tensor(8.0, shape=(), dtype=float32) 16\n",
      "current batch accuracy is: 50.0%\n",
      "tf.Tensor(9.0, shape=(), dtype=float32) 16\n",
      "current batch accuracy is: 56.25%\n",
      "tf.Tensor(8.0, shape=(), dtype=float32) 16\n",
      "current batch accuracy is: 50.0%\n"
     ]
    },
    {
     "name": "stderr",
     "output_type": "stream",
     "text": [
      " 86%|████████████████████████████████████████████████████████████████████           | 2691/3125 [03:14<00:29, 14.50it/s]"
     ]
    },
    {
     "name": "stdout",
     "output_type": "stream",
     "text": [
      "tf.Tensor(7.0, shape=(), dtype=float32) 16\n",
      "current batch accuracy is: 43.75%\n",
      "tf.Tensor(11.0, shape=(), dtype=float32) 16\n",
      "current batch accuracy is: 68.75%\n",
      "tf.Tensor(11.0, shape=(), dtype=float32) 16\n",
      "current batch accuracy is: 68.75%\n"
     ]
    },
    {
     "name": "stderr",
     "output_type": "stream",
     "text": [
      "\r",
      " 86%|████████████████████████████████████████████████████████████████████           | 2693/3125 [03:14<00:29, 14.55it/s]"
     ]
    },
    {
     "name": "stdout",
     "output_type": "stream",
     "text": [
      "tf.Tensor(13.0, shape=(), dtype=float32) 16\n",
      "current batch accuracy is: 81.25%\n",
      "tf.Tensor(10.0, shape=(), dtype=float32) 16\n",
      "current batch accuracy is: 62.5%\n",
      "tf.Tensor(13.0, shape=(), dtype=float32) 16\n",
      "current batch accuracy is: 81.25%\n"
     ]
    },
    {
     "name": "stderr",
     "output_type": "stream",
     "text": [
      " 86%|████████████████████████████████████████████████████████████████████▏          | 2697/3125 [03:14<00:32, 13.04it/s]"
     ]
    },
    {
     "name": "stdout",
     "output_type": "stream",
     "text": [
      "tf.Tensor(14.0, shape=(), dtype=float32) 16\n",
      "current batch accuracy is: 87.5%\n",
      "tf.Tensor(12.0, shape=(), dtype=float32) 16\n",
      "current batch accuracy is: 75.0%\n",
      "tf.Tensor(10.0, shape=(), dtype=float32) 16\n",
      "current batch accuracy is: 62.5%\n"
     ]
    },
    {
     "name": "stderr",
     "output_type": "stream",
     "text": [
      "\r",
      " 86%|████████████████████████████████████████████████████████████████████▏          | 2699/3125 [03:14<00:32, 13.17it/s]"
     ]
    },
    {
     "name": "stdout",
     "output_type": "stream",
     "text": [
      "tf.Tensor(8.0, shape=(), dtype=float32) 16\n",
      "current batch accuracy is: 50.0%\n",
      "tf.Tensor(13.0, shape=(), dtype=float32) 16\n",
      "current batch accuracy is: 81.25%\n",
      "tf.Tensor(11.0, shape=(), dtype=float32) 16\n",
      "current batch accuracy is: 68.75%\n"
     ]
    },
    {
     "name": "stderr",
     "output_type": "stream",
     "text": [
      " 86%|████████████████████████████████████████████████████████████████████▎          | 2703/3125 [03:15<00:33, 12.55it/s]"
     ]
    },
    {
     "name": "stdout",
     "output_type": "stream",
     "text": [
      "tf.Tensor(11.0, shape=(), dtype=float32) 16\n",
      "current batch accuracy is: 68.75%\n",
      "tf.Tensor(11.0, shape=(), dtype=float32) 16\n",
      "current batch accuracy is: 68.75%\n",
      "tf.Tensor(8.0, shape=(), dtype=float32) 16\n",
      "current batch accuracy is: 50.0%\n"
     ]
    },
    {
     "name": "stderr",
     "output_type": "stream",
     "text": [
      " 87%|████████████████████████████████████████████████████████████████████▍          | 2707/3125 [03:15<00:30, 13.50it/s]"
     ]
    },
    {
     "name": "stdout",
     "output_type": "stream",
     "text": [
      "tf.Tensor(13.0, shape=(), dtype=float32) 16\n",
      "current batch accuracy is: 81.25%\n",
      "tf.Tensor(9.0, shape=(), dtype=float32) 16\n",
      "current batch accuracy is: 56.25%\n",
      "tf.Tensor(10.0, shape=(), dtype=float32) 16\n",
      "current batch accuracy is: 62.5%\n",
      "tf.Tensor(11.0, shape=(), dtype=float32) 16\n",
      "current batch accuracy is: 68.75%\n"
     ]
    },
    {
     "name": "stderr",
     "output_type": "stream",
     "text": [
      " 87%|████████████████████████████████████████████████████████████████████▌          | 2711/3125 [03:15<00:28, 14.41it/s]"
     ]
    },
    {
     "name": "stdout",
     "output_type": "stream",
     "text": [
      "tf.Tensor(8.0, shape=(), dtype=float32) 16\n",
      "current batch accuracy is: 50.0%\n",
      "tf.Tensor(14.0, shape=(), dtype=float32) 16\n",
      "current batch accuracy is: 87.5%\n",
      "tf.Tensor(12.0, shape=(), dtype=float32) 16\n",
      "current batch accuracy is: 75.0%\n",
      "tf.Tensor(12.0, shape=(), dtype=float32) 16\n",
      "current batch accuracy is: 75.0%\n"
     ]
    },
    {
     "name": "stderr",
     "output_type": "stream",
     "text": [
      " 87%|████████████████████████████████████████████████████████████████████▋          | 2715/3125 [03:15<00:28, 14.27it/s]"
     ]
    },
    {
     "name": "stdout",
     "output_type": "stream",
     "text": [
      "tf.Tensor(11.0, shape=(), dtype=float32) 16\n",
      "current batch accuracy is: 68.75%\n",
      "tf.Tensor(9.0, shape=(), dtype=float32) 16\n",
      "current batch accuracy is: 56.25%\n",
      "tf.Tensor(13.0, shape=(), dtype=float32) 16\n",
      "current batch accuracy is: 81.25%\n",
      "tf.Tensor(11.0, shape=(), dtype=float32) 16\n",
      "current batch accuracy is: 68.75%\n"
     ]
    },
    {
     "name": "stderr",
     "output_type": "stream",
     "text": [
      "\r",
      " 87%|████████████████████████████████████████████████████████████████████▋          | 2717/3125 [03:16<00:28, 14.24it/s]"
     ]
    },
    {
     "name": "stdout",
     "output_type": "stream",
     "text": [
      "tf.Tensor(10.0, shape=(), dtype=float32) 16\n",
      "current batch accuracy is: 62.5%\n",
      "tf.Tensor(11.0, shape=(), dtype=float32) 16\n",
      "current batch accuracy is: 68.75%\n",
      "tf.Tensor(13.0, shape=(), dtype=float32) 16\n",
      "current batch accuracy is: 81.25%\n"
     ]
    },
    {
     "name": "stderr",
     "output_type": "stream",
     "text": [
      " 87%|████████████████████████████████████████████████████████████████████▊          | 2721/3125 [03:16<00:27, 14.51it/s]"
     ]
    },
    {
     "name": "stdout",
     "output_type": "stream",
     "text": [
      "tf.Tensor(14.0, shape=(), dtype=float32) 16\n",
      "current batch accuracy is: 87.5%\n",
      "tf.Tensor(12.0, shape=(), dtype=float32) 16\n",
      "current batch accuracy is: 75.0%\n",
      "tf.Tensor(10.0, shape=(), dtype=float32) 16\n",
      "current batch accuracy is: 62.5%\n"
     ]
    },
    {
     "name": "stderr",
     "output_type": "stream",
     "text": [
      "\r",
      " 87%|████████████████████████████████████████████████████████████████████▊          | 2723/3125 [03:16<00:33, 11.93it/s]"
     ]
    },
    {
     "name": "stdout",
     "output_type": "stream",
     "text": [
      "tf.Tensor(12.0, shape=(), dtype=float32) 16\n",
      "current batch accuracy is: 75.0%\n",
      "tf.Tensor(9.0, shape=(), dtype=float32) 16\n",
      "current batch accuracy is: 56.25%\n",
      "tf.Tensor(11.0, shape=(), dtype=float32) 16\n",
      "current batch accuracy is: 68.75%\n"
     ]
    },
    {
     "name": "stderr",
     "output_type": "stream",
     "text": [
      " 87%|████████████████████████████████████████████████████████████████████▉          | 2727/3125 [03:16<00:29, 13.56it/s]"
     ]
    },
    {
     "name": "stdout",
     "output_type": "stream",
     "text": [
      "tf.Tensor(9.0, shape=(), dtype=float32) 16\n",
      "current batch accuracy is: 56.25%\n",
      "tf.Tensor(9.0, shape=(), dtype=float32) 16\n",
      "current batch accuracy is: 56.25%\n",
      "tf.Tensor(12.0, shape=(), dtype=float32) 16\n",
      "current batch accuracy is: 75.0%\n",
      "tf.Tensor(8.0, shape=(), dtype=float32) 16\n",
      "current batch accuracy is: 50.0%\n"
     ]
    },
    {
     "name": "stderr",
     "output_type": "stream",
     "text": [
      " 87%|█████████████████████████████████████████████████████████████████████          | 2731/3125 [03:17<00:29, 13.24it/s]"
     ]
    },
    {
     "name": "stdout",
     "output_type": "stream",
     "text": [
      "tf.Tensor(8.0, shape=(), dtype=float32) 16\n",
      "current batch accuracy is: 50.0%\n",
      "tf.Tensor(15.0, shape=(), dtype=float32) 16\n",
      "current batch accuracy is: 93.75%\n",
      "tf.Tensor(10.0, shape=(), dtype=float32) 16\n",
      "current batch accuracy is: 62.5%\n"
     ]
    },
    {
     "name": "stderr",
     "output_type": "stream",
     "text": [
      " 88%|█████████████████████████████████████████████████████████████████████▏         | 2735/3125 [03:17<00:27, 14.33it/s]"
     ]
    },
    {
     "name": "stdout",
     "output_type": "stream",
     "text": [
      "tf.Tensor(10.0, shape=(), dtype=float32) 16\n",
      "current batch accuracy is: 62.5%\n",
      "tf.Tensor(11.0, shape=(), dtype=float32) 16\n",
      "current batch accuracy is: 68.75%\n",
      "tf.Tensor(9.0, shape=(), dtype=float32) 16\n",
      "current batch accuracy is: 56.25%\n",
      "tf.Tensor(12.0, shape=(), dtype=float32) 16\n",
      "current batch accuracy is: 75.0%\n"
     ]
    },
    {
     "name": "stderr",
     "output_type": "stream",
     "text": [
      " 88%|█████████████████████████████████████████████████████████████████████▏         | 2739/3125 [03:17<00:26, 14.74it/s]"
     ]
    },
    {
     "name": "stdout",
     "output_type": "stream",
     "text": [
      "tf.Tensor(6.0, shape=(), dtype=float32) 16\n",
      "current batch accuracy is: 37.5%\n",
      "tf.Tensor(9.0, shape=(), dtype=float32) 16\n",
      "current batch accuracy is: 56.25%\n",
      "tf.Tensor(12.0, shape=(), dtype=float32) 16\n",
      "current batch accuracy is: 75.0%\n",
      "tf.Tensor(14.0, shape=(), dtype=float32) 16\n",
      "current batch accuracy is: 87.5%\n"
     ]
    },
    {
     "name": "stderr",
     "output_type": "stream",
     "text": [
      "\r",
      " 88%|█████████████████████████████████████████████████████████████████████▎         | 2741/3125 [03:17<00:26, 14.36it/s]"
     ]
    },
    {
     "name": "stdout",
     "output_type": "stream",
     "text": [
      "tf.Tensor(12.0, shape=(), dtype=float32) 16\n",
      "current batch accuracy is: 75.0%\n",
      "tf.Tensor(12.0, shape=(), dtype=float32) 16\n",
      "current batch accuracy is: 75.0%\n",
      "tf.Tensor(12.0, shape=(), dtype=float32) 16\n",
      "current batch accuracy is: 75.0%\n"
     ]
    },
    {
     "name": "stderr",
     "output_type": "stream",
     "text": [
      " 88%|█████████████████████████████████████████████████████████████████████▍         | 2745/3125 [03:18<00:26, 14.22it/s]"
     ]
    },
    {
     "name": "stdout",
     "output_type": "stream",
     "text": [
      "tf.Tensor(12.0, shape=(), dtype=float32) 16\n",
      "current batch accuracy is: 75.0%\n",
      "tf.Tensor(12.0, shape=(), dtype=float32) 16\n",
      "current batch accuracy is: 75.0%\n",
      "tf.Tensor(10.0, shape=(), dtype=float32) 16\n",
      "current batch accuracy is: 62.5%\n"
     ]
    },
    {
     "name": "stderr",
     "output_type": "stream",
     "text": [
      "\r",
      " 88%|█████████████████████████████████████████████████████████████████████▍         | 2747/3125 [03:18<00:26, 14.41it/s]"
     ]
    },
    {
     "name": "stdout",
     "output_type": "stream",
     "text": [
      "tf.Tensor(10.0, shape=(), dtype=float32) 16\n",
      "current batch accuracy is: 62.5%\n",
      "tf.Tensor(11.0, shape=(), dtype=float32) 16\n",
      "current batch accuracy is: 68.75%\n",
      "tf.Tensor(11.0, shape=(), dtype=float32) 16\n",
      "current batch accuracy is: 68.75%\n"
     ]
    },
    {
     "name": "stderr",
     "output_type": "stream",
     "text": [
      " 88%|█████████████████████████████████████████████████████████████████████▌         | 2751/3125 [03:18<00:26, 13.98it/s]"
     ]
    },
    {
     "name": "stdout",
     "output_type": "stream",
     "text": [
      "tf.Tensor(11.0, shape=(), dtype=float32) 16\n",
      "current batch accuracy is: 68.75%\n",
      "tf.Tensor(11.0, shape=(), dtype=float32) 16\n",
      "current batch accuracy is: 68.75%\n",
      "tf.Tensor(12.0, shape=(), dtype=float32) 16\n",
      "current batch accuracy is: 75.0%\n"
     ]
    },
    {
     "name": "stderr",
     "output_type": "stream",
     "text": [
      "\r",
      " 88%|█████████████████████████████████████████████████████████████████████▌         | 2753/3125 [03:18<00:26, 14.07it/s]"
     ]
    },
    {
     "name": "stdout",
     "output_type": "stream",
     "text": [
      "tf.Tensor(12.0, shape=(), dtype=float32) 16\n",
      "current batch accuracy is: 75.0%\n",
      "tf.Tensor(14.0, shape=(), dtype=float32) 16\n",
      "current batch accuracy is: 87.5%\n",
      "tf.Tensor(11.0, shape=(), dtype=float32) 16\n",
      "current batch accuracy is: 68.75%\n"
     ]
    },
    {
     "name": "stderr",
     "output_type": "stream",
     "text": [
      " 88%|█████████████████████████████████████████████████████████████████████▋         | 2757/3125 [03:19<00:27, 13.42it/s]"
     ]
    },
    {
     "name": "stdout",
     "output_type": "stream",
     "text": [
      "tf.Tensor(9.0, shape=(), dtype=float32) 16\n",
      "current batch accuracy is: 56.25%\n",
      "tf.Tensor(10.0, shape=(), dtype=float32) 16\n",
      "current batch accuracy is: 62.5%\n",
      "tf.Tensor(11.0, shape=(), dtype=float32) 16\n",
      "current batch accuracy is: 68.75%\n",
      "tf.Tensor(12.0, shape=(), dtype=float32) 16\n",
      "current batch accuracy is: 75.0%\n"
     ]
    },
    {
     "name": "stderr",
     "output_type": "stream",
     "text": [
      " 88%|█████████████████████████████████████████████████████████████████████▊         | 2761/3125 [03:19<00:25, 14.35it/s]"
     ]
    },
    {
     "name": "stdout",
     "output_type": "stream",
     "text": [
      "tf.Tensor(14.0, shape=(), dtype=float32) 16\n",
      "current batch accuracy is: 87.5%\n",
      "tf.Tensor(12.0, shape=(), dtype=float32) 16\n",
      "current batch accuracy is: 75.0%\n",
      "tf.Tensor(11.0, shape=(), dtype=float32) 16\n",
      "current batch accuracy is: 68.75%\n",
      "tf.Tensor(11.0, shape=(), dtype=float32) 16\n",
      "current batch accuracy is: 68.75%\n"
     ]
    },
    {
     "name": "stderr",
     "output_type": "stream",
     "text": [
      "\r",
      " 88%|█████████████████████████████████████████████████████████████████████▊         | 2763/3125 [03:19<00:26, 13.68it/s]"
     ]
    },
    {
     "name": "stdout",
     "output_type": "stream",
     "text": [
      "tf.Tensor(13.0, shape=(), dtype=float32) 16\n",
      "current batch accuracy is: 81.25%\n",
      "tf.Tensor(10.0, shape=(), dtype=float32) 16\n",
      "current batch accuracy is: 62.5%\n"
     ]
    },
    {
     "name": "stderr",
     "output_type": "stream",
     "text": [
      " 89%|█████████████████████████████████████████████████████████████████████▉         | 2767/3125 [03:19<00:27, 13.10it/s]"
     ]
    },
    {
     "name": "stdout",
     "output_type": "stream",
     "text": [
      "tf.Tensor(8.0, shape=(), dtype=float32) 16\n",
      "current batch accuracy is: 50.0%\n",
      "tf.Tensor(9.0, shape=(), dtype=float32) 16\n",
      "current batch accuracy is: 56.25%\n",
      "tf.Tensor(10.0, shape=(), dtype=float32) 16\n",
      "current batch accuracy is: 62.5%\n",
      "tf.Tensor(11.0, shape=(), dtype=float32) 16\n",
      "current batch accuracy is: 68.75%\n"
     ]
    },
    {
     "name": "stderr",
     "output_type": "stream",
     "text": [
      " 89%|██████████████████████████████████████████████████████████████████████         | 2771/3125 [03:20<00:24, 14.24it/s]"
     ]
    },
    {
     "name": "stdout",
     "output_type": "stream",
     "text": [
      "tf.Tensor(10.0, shape=(), dtype=float32) 16\n",
      "current batch accuracy is: 62.5%\n",
      "tf.Tensor(13.0, shape=(), dtype=float32) 16\n",
      "current batch accuracy is: 81.25%\n",
      "tf.Tensor(10.0, shape=(), dtype=float32) 16\n",
      "current batch accuracy is: 62.5%\n",
      "tf.Tensor(10.0, shape=(), dtype=float32) 16\n",
      "current batch accuracy is: 62.5%\n"
     ]
    },
    {
     "name": "stderr",
     "output_type": "stream",
     "text": [
      " 89%|██████████████████████████████████████████████████████████████████████▏        | 2775/3125 [03:20<00:24, 14.52it/s]"
     ]
    },
    {
     "name": "stdout",
     "output_type": "stream",
     "text": [
      "tf.Tensor(8.0, shape=(), dtype=float32) 16\n",
      "current batch accuracy is: 50.0%\n",
      "tf.Tensor(9.0, shape=(), dtype=float32) 16\n",
      "current batch accuracy is: 56.25%\n",
      "tf.Tensor(9.0, shape=(), dtype=float32) 16\n",
      "current batch accuracy is: 56.25%\n",
      "tf.Tensor(8.0, shape=(), dtype=float32) 16\n"
     ]
    },
    {
     "name": "stderr",
     "output_type": "stream",
     "text": [
      "\r",
      " 89%|██████████████████████████████████████████████████████████████████████▏        | 2777/3125 [03:20<00:24, 14.14it/s]"
     ]
    },
    {
     "name": "stdout",
     "output_type": "stream",
     "text": [
      "current batch accuracy is: 50.0%\n",
      "tf.Tensor(12.0, shape=(), dtype=float32) 16\n",
      "current batch accuracy is: 75.0%\n",
      "tf.Tensor(9.0, shape=(), dtype=float32) 16\n",
      "current batch accuracy is: 56.25%\n"
     ]
    },
    {
     "name": "stderr",
     "output_type": "stream",
     "text": [
      " 89%|██████████████████████████████████████████████████████████████████████▎        | 2781/3125 [03:20<00:24, 14.21it/s]"
     ]
    },
    {
     "name": "stdout",
     "output_type": "stream",
     "text": [
      "tf.Tensor(13.0, shape=(), dtype=float32) 16\n",
      "current batch accuracy is: 81.25%\n",
      "tf.Tensor(9.0, shape=(), dtype=float32) 16\n",
      "current batch accuracy is: 56.25%\n",
      "tf.Tensor(9.0, shape=(), dtype=float32) 16\n",
      "current batch accuracy is: 56.25%\n"
     ]
    },
    {
     "name": "stderr",
     "output_type": "stream",
     "text": [
      "\r",
      " 89%|██████████████████████████████████████████████████████████████████████▎        | 2783/3125 [03:20<00:24, 14.10it/s]"
     ]
    },
    {
     "name": "stdout",
     "output_type": "stream",
     "text": [
      "tf.Tensor(11.0, shape=(), dtype=float32) 16\n",
      "current batch accuracy is: 68.75%\n",
      "tf.Tensor(10.0, shape=(), dtype=float32) 16\n",
      "current batch accuracy is: 62.5%\n",
      "tf.Tensor(6.0, shape=(), dtype=float32) 16\n",
      "current batch accuracy is: 37.5%\n"
     ]
    },
    {
     "name": "stderr",
     "output_type": "stream",
     "text": [
      " 89%|██████████████████████████████████████████████████████████████████████▍        | 2787/3125 [03:21<00:22, 15.03it/s]"
     ]
    },
    {
     "name": "stdout",
     "output_type": "stream",
     "text": [
      "tf.Tensor(9.0, shape=(), dtype=float32) 16\n",
      "current batch accuracy is: 56.25%\n",
      "tf.Tensor(12.0, shape=(), dtype=float32) 16\n",
      "current batch accuracy is: 75.0%\n",
      "tf.Tensor(11.0, shape=(), dtype=float32) 16\n",
      "current batch accuracy is: 68.75%\n",
      "tf.Tensor(10.0, shape=(), dtype=float32) 16\n",
      "current batch accuracy is: 62.5%\n"
     ]
    },
    {
     "name": "stderr",
     "output_type": "stream",
     "text": [
      " 89%|██████████████████████████████████████████████████████████████████████▌        | 2791/3125 [03:21<00:23, 14.50it/s]"
     ]
    },
    {
     "name": "stdout",
     "output_type": "stream",
     "text": [
      "tf.Tensor(9.0, shape=(), dtype=float32) 16\n",
      "current batch accuracy is: 56.25%\n",
      "tf.Tensor(9.0, shape=(), dtype=float32) 16\n",
      "current batch accuracy is: 56.25%\n",
      "tf.Tensor(13.0, shape=(), dtype=float32) 16\n",
      "current batch accuracy is: 81.25%\n"
     ]
    },
    {
     "name": "stderr",
     "output_type": "stream",
     "text": [
      "\r",
      " 89%|██████████████████████████████████████████████████████████████████████▌        | 2793/3125 [03:21<00:22, 14.52it/s]"
     ]
    },
    {
     "name": "stdout",
     "output_type": "stream",
     "text": [
      "tf.Tensor(10.0, shape=(), dtype=float32) 16\n",
      "current batch accuracy is: 62.5%\n",
      "tf.Tensor(14.0, shape=(), dtype=float32) 16\n",
      "current batch accuracy is: 87.5%\n",
      "tf.Tensor(11.0, shape=(), dtype=float32) 16\n",
      "current batch accuracy is: 68.75%\n"
     ]
    },
    {
     "name": "stderr",
     "output_type": "stream",
     "text": [
      " 90%|██████████████████████████████████████████████████████████████████████▋        | 2797/3125 [03:21<00:23, 13.79it/s]"
     ]
    },
    {
     "name": "stdout",
     "output_type": "stream",
     "text": [
      "tf.Tensor(9.0, shape=(), dtype=float32) 16\n",
      "current batch accuracy is: 56.25%\n",
      "tf.Tensor(9.0, shape=(), dtype=float32) 16\n",
      "current batch accuracy is: 56.25%\n",
      "tf.Tensor(11.0, shape=(), dtype=float32) 16\n",
      "current batch accuracy is: 68.75%\n"
     ]
    },
    {
     "name": "stderr",
     "output_type": "stream",
     "text": [
      " 90%|██████████████████████████████████████████████████████████████████████▊        | 2801/3125 [03:22<00:22, 14.50it/s]"
     ]
    },
    {
     "name": "stdout",
     "output_type": "stream",
     "text": [
      "tf.Tensor(7.0, shape=(), dtype=float32) 16\n",
      "current batch accuracy is: 43.75%\n",
      "tf.Tensor(9.0, shape=(), dtype=float32) 16\n",
      "current batch accuracy is: 56.25%\n",
      "tf.Tensor(8.0, shape=(), dtype=float32) 16\n",
      "current batch accuracy is: 50.0%\n",
      "tf.Tensor(9.0, shape=(), dtype=float32) 16\n",
      "current batch accuracy is: 56.25%\n"
     ]
    },
    {
     "name": "stderr",
     "output_type": "stream",
     "text": [
      " 90%|██████████████████████████████████████████████████████████████████████▉        | 2805/3125 [03:22<00:21, 15.16it/s]"
     ]
    },
    {
     "name": "stdout",
     "output_type": "stream",
     "text": [
      "tf.Tensor(10.0, shape=(), dtype=float32) 16\n",
      "current batch accuracy is: 62.5%\n",
      "tf.Tensor(9.0, shape=(), dtype=float32) 16\n",
      "current batch accuracy is: 56.25%\n",
      "tf.Tensor(11.0, shape=(), dtype=float32) 16\n",
      "current batch accuracy is: 68.75%\n",
      "tf.Tensor(11.0, shape=(), dtype=float32) 16\n",
      "current batch accuracy is: 68.75%\n"
     ]
    },
    {
     "name": "stderr",
     "output_type": "stream",
     "text": [
      "\r",
      " 90%|██████████████████████████████████████████████████████████████████████▉        | 2807/3125 [03:22<00:22, 14.39it/s]"
     ]
    },
    {
     "name": "stdout",
     "output_type": "stream",
     "text": [
      "tf.Tensor(11.0, shape=(), dtype=float32) 16\n",
      "current batch accuracy is: 68.75%\n",
      "tf.Tensor(9.0, shape=(), dtype=float32) 16\n",
      "current batch accuracy is: 56.25%\n",
      "tf.Tensor(11.0, shape=(), dtype=float32) 16\n",
      "current batch accuracy is: 68.75%\n"
     ]
    },
    {
     "name": "stderr",
     "output_type": "stream",
     "text": [
      " 90%|███████████████████████████████████████████████████████████████████████        | 2811/3125 [03:22<00:21, 14.72it/s]"
     ]
    },
    {
     "name": "stdout",
     "output_type": "stream",
     "text": [
      "tf.Tensor(13.0, shape=(), dtype=float32) 16\n",
      "current batch accuracy is: 81.25%\n",
      "tf.Tensor(11.0, shape=(), dtype=float32) 16\n",
      "current batch accuracy is: 68.75%\n",
      "tf.Tensor(12.0, shape=(), dtype=float32) 16\n",
      "current batch accuracy is: 75.0%\n",
      "tf.Tensor(13.0, shape=(), dtype=float32) 16\n",
      "current batch accuracy is: 81.25%\n"
     ]
    },
    {
     "name": "stderr",
     "output_type": "stream",
     "text": [
      " 90%|███████████████████████████████████████████████████████████████████████▏       | 2815/3125 [03:23<00:20, 14.92it/s]"
     ]
    },
    {
     "name": "stdout",
     "output_type": "stream",
     "text": [
      "tf.Tensor(9.0, shape=(), dtype=float32) 16\n",
      "current batch accuracy is: 56.25%\n",
      "tf.Tensor(11.0, shape=(), dtype=float32) 16\n",
      "current batch accuracy is: 68.75%\n",
      "tf.Tensor(12.0, shape=(), dtype=float32) 16\n",
      "current batch accuracy is: 75.0%\n",
      "tf.Tensor(10.0, shape=(), dtype=float32) 16\n"
     ]
    },
    {
     "name": "stderr",
     "output_type": "stream",
     "text": [
      " 90%|███████████████████████████████████████████████████████████████████████▎       | 2819/3125 [03:23<00:19, 15.42it/s]"
     ]
    },
    {
     "name": "stdout",
     "output_type": "stream",
     "text": [
      "current batch accuracy is: 62.5%\n",
      "tf.Tensor(9.0, shape=(), dtype=float32) 16\n",
      "current batch accuracy is: 56.25%\n",
      "tf.Tensor(8.0, shape=(), dtype=float32) 16\n",
      "current batch accuracy is: 50.0%\n",
      "tf.Tensor(10.0, shape=(), dtype=float32) 16\n",
      "current batch accuracy is: 62.5%\n"
     ]
    },
    {
     "name": "stderr",
     "output_type": "stream",
     "text": [
      "\r",
      " 90%|███████████████████████████████████████████████████████████████████████▎       | 2821/3125 [03:23<00:27, 11.19it/s]"
     ]
    },
    {
     "name": "stdout",
     "output_type": "stream",
     "text": [
      "tf.Tensor(11.0, shape=(), dtype=float32) 16\n",
      "current batch accuracy is: 68.75%\n",
      "tf.Tensor(12.0, shape=(), dtype=float32) 16\n",
      "current batch accuracy is: 75.0%\n",
      "tf.Tensor(12.0, shape=(), dtype=float32) 16\n",
      "current batch accuracy is: 75.0%\n"
     ]
    },
    {
     "name": "stderr",
     "output_type": "stream",
     "text": [
      " 90%|███████████████████████████████████████████████████████████████████████▍       | 2825/3125 [03:23<00:24, 12.39it/s]"
     ]
    },
    {
     "name": "stdout",
     "output_type": "stream",
     "text": [
      "tf.Tensor(9.0, shape=(), dtype=float32) 16\n",
      "current batch accuracy is: 56.25%\n",
      "tf.Tensor(10.0, shape=(), dtype=float32) 16\n",
      "current batch accuracy is: 62.5%\n",
      "tf.Tensor(10.0, shape=(), dtype=float32) 16\n",
      "current batch accuracy is: 62.5%\n"
     ]
    },
    {
     "name": "stderr",
     "output_type": "stream",
     "text": [
      "\r",
      " 90%|███████████████████████████████████████████████████████████████████████▍       | 2827/3125 [03:24<00:24, 12.26it/s]"
     ]
    },
    {
     "name": "stdout",
     "output_type": "stream",
     "text": [
      "tf.Tensor(11.0, shape=(), dtype=float32) 16\n",
      "current batch accuracy is: 68.75%\n",
      "tf.Tensor(8.0, shape=(), dtype=float32) 16\n",
      "current batch accuracy is: 50.0%\n",
      "tf.Tensor(10.0, shape=(), dtype=float32) 16\n",
      "current batch accuracy is: 62.5%\n"
     ]
    },
    {
     "name": "stderr",
     "output_type": "stream",
     "text": [
      " 91%|███████████████████████████████████████████████████████████████████████▌       | 2831/3125 [03:24<00:22, 12.95it/s]"
     ]
    },
    {
     "name": "stdout",
     "output_type": "stream",
     "text": [
      "tf.Tensor(10.0, shape=(), dtype=float32) 16\n",
      "current batch accuracy is: 62.5%\n",
      "tf.Tensor(11.0, shape=(), dtype=float32) 16\n",
      "current batch accuracy is: 68.75%\n",
      "tf.Tensor(9.0, shape=(), dtype=float32) 16\n",
      "current batch accuracy is: 56.25%\n"
     ]
    },
    {
     "name": "stderr",
     "output_type": "stream",
     "text": [
      " 91%|███████████████████████████████████████████████████████████████████████▋       | 2835/3125 [03:24<00:20, 14.18it/s]"
     ]
    },
    {
     "name": "stdout",
     "output_type": "stream",
     "text": [
      "tf.Tensor(10.0, shape=(), dtype=float32) 16\n",
      "current batch accuracy is: 62.5%\n",
      "tf.Tensor(8.0, shape=(), dtype=float32) 16\n",
      "current batch accuracy is: 50.0%\n",
      "tf.Tensor(9.0, shape=(), dtype=float32) 16\n",
      "current batch accuracy is: 56.25%\n",
      "tf.Tensor(13.0, shape=(), dtype=float32) 16\n",
      "current batch accuracy is: 81.25%\n"
     ]
    },
    {
     "name": "stderr",
     "output_type": "stream",
     "text": [
      " 91%|███████████████████████████████████████████████████████████████████████▊       | 2839/3125 [03:24<00:19, 15.01it/s]"
     ]
    },
    {
     "name": "stdout",
     "output_type": "stream",
     "text": [
      "tf.Tensor(8.0, shape=(), dtype=float32) 16\n",
      "current batch accuracy is: 50.0%\n",
      "tf.Tensor(11.0, shape=(), dtype=float32) 16\n",
      "current batch accuracy is: 68.75%\n",
      "tf.Tensor(13.0, shape=(), dtype=float32) 16\n",
      "current batch accuracy is: 81.25%\n",
      "tf.Tensor(11.0, shape=(), dtype=float32) 16\n",
      "current batch accuracy is: 68.75%\n"
     ]
    },
    {
     "name": "stderr",
     "output_type": "stream",
     "text": [
      " 91%|███████████████████████████████████████████████████████████████████████▊       | 2843/3125 [03:25<00:18, 15.13it/s]"
     ]
    },
    {
     "name": "stdout",
     "output_type": "stream",
     "text": [
      "tf.Tensor(9.0, shape=(), dtype=float32) 16\n",
      "current batch accuracy is: 56.25%\n",
      "tf.Tensor(13.0, shape=(), dtype=float32) 16\n",
      "current batch accuracy is: 81.25%\n",
      "tf.Tensor(12.0, shape=(), dtype=float32) 16\n",
      "current batch accuracy is: 75.0%\n",
      "tf.Tensor(12.0, shape=(), dtype=float32) 16\n",
      "current batch accuracy is: 75.0%\n"
     ]
    },
    {
     "name": "stderr",
     "output_type": "stream",
     "text": [
      "\r",
      " 91%|███████████████████████████████████████████████████████████████████████▉       | 2845/3125 [03:25<00:19, 14.57it/s]"
     ]
    },
    {
     "name": "stdout",
     "output_type": "stream",
     "text": [
      "tf.Tensor(10.0, shape=(), dtype=float32) 16\n",
      "current batch accuracy is: 62.5%\n",
      "tf.Tensor(10.0, shape=(), dtype=float32) 16\n",
      "current batch accuracy is: 62.5%\n",
      "tf.Tensor(10.0, shape=(), dtype=float32) 16\n",
      "current batch accuracy is: 62.5%\n",
      "tf.Tensor(12.0, shape=(), dtype=float32) 16\n"
     ]
    },
    {
     "name": "stderr",
     "output_type": "stream",
     "text": [
      " 91%|████████████████████████████████████████████████████████████████████████       | 2849/3125 [03:25<00:18, 15.06it/s]"
     ]
    },
    {
     "name": "stdout",
     "output_type": "stream",
     "text": [
      "current batch accuracy is: 75.0%\n",
      "tf.Tensor(11.0, shape=(), dtype=float32) 16\n",
      "current batch accuracy is: 68.75%\n",
      "tf.Tensor(10.0, shape=(), dtype=float32) 16\n",
      "current batch accuracy is: 62.5%\n",
      "tf.Tensor(13.0, shape=(), dtype=float32) 16\n",
      "current batch accuracy is: 81.25%\n"
     ]
    },
    {
     "name": "stderr",
     "output_type": "stream",
     "text": [
      " 91%|████████████████████████████████████████████████████████████████████████       | 2853/3125 [03:25<00:17, 15.40it/s]"
     ]
    },
    {
     "name": "stdout",
     "output_type": "stream",
     "text": [
      "tf.Tensor(11.0, shape=(), dtype=float32) 16\n",
      "current batch accuracy is: 68.75%\n",
      "tf.Tensor(9.0, shape=(), dtype=float32) 16\n",
      "current batch accuracy is: 56.25%\n",
      "tf.Tensor(8.0, shape=(), dtype=float32) 16\n",
      "current batch accuracy is: 50.0%\n",
      "tf.Tensor(11.0, shape=(), dtype=float32) 16\n",
      "current batch accuracy is: 68.75%\n"
     ]
    },
    {
     "name": "stderr",
     "output_type": "stream",
     "text": [
      " 91%|████████████████████████████████████████████████████████████████████████▏      | 2857/3125 [03:26<00:18, 14.28it/s]"
     ]
    },
    {
     "name": "stdout",
     "output_type": "stream",
     "text": [
      "tf.Tensor(13.0, shape=(), dtype=float32) 16\n",
      "current batch accuracy is: 81.25%\n",
      "tf.Tensor(12.0, shape=(), dtype=float32) 16\n",
      "current batch accuracy is: 75.0%\n",
      "tf.Tensor(11.0, shape=(), dtype=float32) 16\n",
      "current batch accuracy is: 68.75%\n"
     ]
    },
    {
     "name": "stderr",
     "output_type": "stream",
     "text": [
      " 92%|████████████████████████████████████████████████████████████████████████▎      | 2861/3125 [03:26<00:17, 15.02it/s]"
     ]
    },
    {
     "name": "stdout",
     "output_type": "stream",
     "text": [
      "tf.Tensor(10.0, shape=(), dtype=float32) 16\n",
      "current batch accuracy is: 62.5%\n",
      "tf.Tensor(11.0, shape=(), dtype=float32) 16\n",
      "current batch accuracy is: 68.75%\n",
      "tf.Tensor(6.0, shape=(), dtype=float32) 16\n",
      "current batch accuracy is: 37.5%\n",
      "tf.Tensor(9.0, shape=(), dtype=float32) 16\n",
      "current batch accuracy is: 56.25%\n"
     ]
    },
    {
     "name": "stderr",
     "output_type": "stream",
     "text": [
      " 92%|████████████████████████████████████████████████████████████████████████▍      | 2865/3125 [03:26<00:17, 15.15it/s]"
     ]
    },
    {
     "name": "stdout",
     "output_type": "stream",
     "text": [
      "tf.Tensor(9.0, shape=(), dtype=float32) 16\n",
      "current batch accuracy is: 56.25%\n",
      "tf.Tensor(10.0, shape=(), dtype=float32) 16\n",
      "current batch accuracy is: 62.5%\n",
      "tf.Tensor(11.0, shape=(), dtype=float32) 16\n",
      "current batch accuracy is: 68.75%\n",
      "tf.Tensor(13.0, shape=(), dtype=float32) 16\n",
      "current batch accuracy is: 81.25%\n"
     ]
    },
    {
     "name": "stderr",
     "output_type": "stream",
     "text": [
      "\r",
      " 92%|████████████████████████████████████████████████████████████████████████▍      | 2867/3125 [03:26<00:17, 14.54it/s]"
     ]
    },
    {
     "name": "stdout",
     "output_type": "stream",
     "text": [
      "tf.Tensor(11.0, shape=(), dtype=float32) 16\n",
      "current batch accuracy is: 68.75%\n",
      "tf.Tensor(13.0, shape=(), dtype=float32) 16\n",
      "current batch accuracy is: 81.25%\n",
      "tf.Tensor(12.0, shape=(), dtype=float32) 16\n",
      "current batch accuracy is: 75.0%\n"
     ]
    },
    {
     "name": "stderr",
     "output_type": "stream",
     "text": [
      "\r",
      " 92%|████████████████████████████████████████████████████████████████████████▌      | 2869/3125 [03:26<00:18, 14.12it/s]"
     ]
    },
    {
     "name": "stdout",
     "output_type": "stream",
     "text": [
      "tf.Tensor(8.0, shape=(), dtype=float32) 16\n",
      "current batch accuracy is: 50.0%\n",
      "tf.Tensor(12.0, shape=(), dtype=float32) 16\n",
      "current batch accuracy is: 75.0%\n"
     ]
    },
    {
     "name": "stderr",
     "output_type": "stream",
     "text": [
      " 92%|████████████████████████████████████████████████████████████████████████▋      | 2873/3125 [03:27<00:19, 12.96it/s]"
     ]
    },
    {
     "name": "stdout",
     "output_type": "stream",
     "text": [
      "tf.Tensor(11.0, shape=(), dtype=float32) 16\n",
      "current batch accuracy is: 68.75%\n",
      "tf.Tensor(9.0, shape=(), dtype=float32) 16\n",
      "current batch accuracy is: 56.25%\n",
      "tf.Tensor(10.0, shape=(), dtype=float32) 16\n",
      "current batch accuracy is: 62.5%\n"
     ]
    },
    {
     "name": "stderr",
     "output_type": "stream",
     "text": [
      "\r",
      " 92%|████████████████████████████████████████████████████████████████████████▋      | 2875/3125 [03:27<00:19, 12.98it/s]"
     ]
    },
    {
     "name": "stdout",
     "output_type": "stream",
     "text": [
      "tf.Tensor(12.0, shape=(), dtype=float32) 16\n",
      "current batch accuracy is: 75.0%\n",
      "tf.Tensor(8.0, shape=(), dtype=float32) 16\n",
      "current batch accuracy is: 50.0%\n",
      "tf.Tensor(11.0, shape=(), dtype=float32) 16\n",
      "current batch accuracy is: 68.75%\n"
     ]
    },
    {
     "name": "stderr",
     "output_type": "stream",
     "text": [
      " 92%|████████████████████████████████████████████████████████████████████████▊      | 2879/3125 [03:27<00:17, 13.78it/s]"
     ]
    },
    {
     "name": "stdout",
     "output_type": "stream",
     "text": [
      "tf.Tensor(13.0, shape=(), dtype=float32) 16\n",
      "current batch accuracy is: 81.25%\n",
      "tf.Tensor(13.0, shape=(), dtype=float32) 16\n",
      "current batch accuracy is: 81.25%\n",
      "tf.Tensor(8.0, shape=(), dtype=float32) 16\n",
      "current batch accuracy is: 50.0%\n",
      "tf.Tensor(11.0, shape=(), dtype=float32) 16\n",
      "current batch accuracy is: 68.75%\n"
     ]
    },
    {
     "name": "stderr",
     "output_type": "stream",
     "text": [
      "\r",
      " 92%|████████████████████████████████████████████████████████████████████████▊      | 2881/3125 [03:27<00:17, 14.19it/s]"
     ]
    },
    {
     "name": "stdout",
     "output_type": "stream",
     "text": [
      "tf.Tensor(10.0, shape=(), dtype=float32) 16\n",
      "current batch accuracy is: 62.5%\n",
      "tf.Tensor(10.0, shape=(), dtype=float32) 16\n",
      "current batch accuracy is: 62.5%\n"
     ]
    },
    {
     "name": "stderr",
     "output_type": "stream",
     "text": [
      " 92%|████████████████████████████████████████████████████████████████████████▉      | 2885/3125 [03:28<00:18, 13.19it/s]"
     ]
    },
    {
     "name": "stdout",
     "output_type": "stream",
     "text": [
      "tf.Tensor(10.0, shape=(), dtype=float32) 16\n",
      "current batch accuracy is: 62.5%\n",
      "tf.Tensor(11.0, shape=(), dtype=float32) 16\n",
      "current batch accuracy is: 68.75%\n",
      "tf.Tensor(12.0, shape=(), dtype=float32) 16\n",
      "current batch accuracy is: 75.0%\n",
      "tf.Tensor(9.0, shape=(), dtype=float32) 16\n",
      "current batch accuracy is: 56.25%\n"
     ]
    },
    {
     "name": "stderr",
     "output_type": "stream",
     "text": [
      " 92%|█████████████████████████████████████████████████████████████████████████      | 2889/3125 [03:28<00:16, 13.98it/s]"
     ]
    },
    {
     "name": "stdout",
     "output_type": "stream",
     "text": [
      "tf.Tensor(9.0, shape=(), dtype=float32) 16\n",
      "current batch accuracy is: 56.25%\n",
      "tf.Tensor(12.0, shape=(), dtype=float32) 16\n",
      "current batch accuracy is: 75.0%\n",
      "tf.Tensor(11.0, shape=(), dtype=float32) 16\n",
      "current batch accuracy is: 68.75%\n"
     ]
    },
    {
     "name": "stderr",
     "output_type": "stream",
     "text": [
      "\r",
      " 93%|█████████████████████████████████████████████████████████████████████████      | 2891/3125 [03:28<00:18, 12.34it/s]"
     ]
    },
    {
     "name": "stdout",
     "output_type": "stream",
     "text": [
      "tf.Tensor(12.0, shape=(), dtype=float32) 16\n",
      "current batch accuracy is: 75.0%\n",
      "tf.Tensor(13.0, shape=(), dtype=float32) 16\n",
      "current batch accuracy is: 81.25%\n"
     ]
    },
    {
     "name": "stderr",
     "output_type": "stream",
     "text": [
      "\r",
      " 93%|█████████████████████████████████████████████████████████████████████████▏     | 2893/3125 [03:28<00:17, 12.93it/s]"
     ]
    },
    {
     "name": "stdout",
     "output_type": "stream",
     "text": [
      "tf.Tensor(8.0, shape=(), dtype=float32) 16\n",
      "current batch accuracy is: 50.0%\n",
      "tf.Tensor(10.0, shape=(), dtype=float32) 16\n",
      "current batch accuracy is: 62.5%\n",
      "tf.Tensor(8.0, shape=(), dtype=float32) 16\n",
      "current batch accuracy is: 50.0%\n"
     ]
    },
    {
     "name": "stderr",
     "output_type": "stream",
     "text": [
      " 93%|█████████████████████████████████████████████████████████████████████████▏     | 2897/3125 [03:29<00:18, 12.05it/s]"
     ]
    },
    {
     "name": "stdout",
     "output_type": "stream",
     "text": [
      "tf.Tensor(12.0, shape=(), dtype=float32) 16\n",
      "current batch accuracy is: 75.0%\n",
      "tf.Tensor(12.0, shape=(), dtype=float32) 16\n",
      "current batch accuracy is: 75.0%\n",
      "tf.Tensor(12.0, shape=(), dtype=float32) 16\n",
      "current batch accuracy is: 75.0%\n"
     ]
    },
    {
     "name": "stderr",
     "output_type": "stream",
     "text": [
      "\r",
      " 93%|█████████████████████████████████████████████████████████████████████████▎     | 2899/3125 [03:29<00:17, 12.84it/s]"
     ]
    },
    {
     "name": "stdout",
     "output_type": "stream",
     "text": [
      "tf.Tensor(11.0, shape=(), dtype=float32) 16\n",
      "current batch accuracy is: 68.75%\n",
      "tf.Tensor(11.0, shape=(), dtype=float32) 16\n",
      "current batch accuracy is: 68.75%\n",
      "tf.Tensor(12.0, shape=(), dtype=float32) 16\n",
      "current batch accuracy is: 75.0%\n"
     ]
    },
    {
     "name": "stderr",
     "output_type": "stream",
     "text": [
      " 93%|█████████████████████████████████████████████████████████████████████████▍     | 2903/3125 [03:29<00:17, 12.96it/s]"
     ]
    },
    {
     "name": "stdout",
     "output_type": "stream",
     "text": [
      "tf.Tensor(12.0, shape=(), dtype=float32) 16\n",
      "current batch accuracy is: 75.0%\n",
      "tf.Tensor(9.0, shape=(), dtype=float32) 16\n",
      "current batch accuracy is: 56.25%\n",
      "tf.Tensor(7.0, shape=(), dtype=float32) 16\n",
      "current batch accuracy is: 43.75%\n"
     ]
    },
    {
     "name": "stderr",
     "output_type": "stream",
     "text": [
      "\r",
      " 93%|█████████████████████████████████████████████████████████████████████████▍     | 2905/3125 [03:29<00:16, 13.11it/s]"
     ]
    },
    {
     "name": "stdout",
     "output_type": "stream",
     "text": [
      "tf.Tensor(12.0, shape=(), dtype=float32) 16\n",
      "current batch accuracy is: 75.0%\n",
      "tf.Tensor(13.0, shape=(), dtype=float32) 16\n",
      "current batch accuracy is: 81.25%\n",
      "tf.Tensor(13.0, shape=(), dtype=float32) 16\n",
      "current batch accuracy is: 81.25%\n"
     ]
    },
    {
     "name": "stderr",
     "output_type": "stream",
     "text": [
      " 93%|█████████████████████████████████████████████████████████████████████████▌     | 2909/3125 [03:30<00:17, 12.28it/s]"
     ]
    },
    {
     "name": "stdout",
     "output_type": "stream",
     "text": [
      "tf.Tensor(11.0, shape=(), dtype=float32) 16\n",
      "current batch accuracy is: 68.75%\n",
      "tf.Tensor(12.0, shape=(), dtype=float32) 16\n",
      "current batch accuracy is: 75.0%\n",
      "tf.Tensor(13.0, shape=(), dtype=float32) 16\n",
      "current batch accuracy is: 81.25%\n"
     ]
    },
    {
     "name": "stderr",
     "output_type": "stream",
     "text": [
      "\r",
      " 93%|█████████████████████████████████████████████████████████████████████████▌     | 2911/3125 [03:30<00:16, 12.95it/s]"
     ]
    },
    {
     "name": "stdout",
     "output_type": "stream",
     "text": [
      "tf.Tensor(11.0, shape=(), dtype=float32) 16\n",
      "current batch accuracy is: 68.75%\n",
      "tf.Tensor(10.0, shape=(), dtype=float32) 16\n",
      "current batch accuracy is: 62.5%\n",
      "tf.Tensor(11.0, shape=(), dtype=float32) 16\n",
      "current batch accuracy is: 68.75%\n"
     ]
    },
    {
     "name": "stderr",
     "output_type": "stream",
     "text": [
      " 93%|█████████████████████████████████████████████████████████████████████████▋     | 2915/3125 [03:30<00:15, 13.70it/s]"
     ]
    },
    {
     "name": "stdout",
     "output_type": "stream",
     "text": [
      "tf.Tensor(13.0, shape=(), dtype=float32) 16\n",
      "current batch accuracy is: 81.25%\n",
      "tf.Tensor(7.0, shape=(), dtype=float32) 16\n",
      "current batch accuracy is: 43.75%\n",
      "tf.Tensor(13.0, shape=(), dtype=float32) 16\n",
      "current batch accuracy is: 81.25%\n",
      "tf.Tensor(10.0, shape=(), dtype=float32) 16\n",
      "current batch accuracy is: 62.5%\n"
     ]
    },
    {
     "name": "stderr",
     "output_type": "stream",
     "text": [
      " 93%|█████████████████████████████████████████████████████████████████████████▊     | 2919/3125 [03:30<00:15, 13.72it/s]"
     ]
    },
    {
     "name": "stdout",
     "output_type": "stream",
     "text": [
      "tf.Tensor(12.0, shape=(), dtype=float32) 16\n",
      "current batch accuracy is: 75.0%\n",
      "tf.Tensor(10.0, shape=(), dtype=float32) 16\n",
      "current batch accuracy is: 62.5%\n",
      "tf.Tensor(14.0, shape=(), dtype=float32) 16\n",
      "current batch accuracy is: 87.5%\n"
     ]
    },
    {
     "name": "stderr",
     "output_type": "stream",
     "text": [
      "\r",
      " 93%|█████████████████████████████████████████████████████████████████████████▊     | 2921/3125 [03:30<00:14, 13.81it/s]"
     ]
    },
    {
     "name": "stdout",
     "output_type": "stream",
     "text": [
      "tf.Tensor(9.0, shape=(), dtype=float32) 16\n",
      "current batch accuracy is: 56.25%\n",
      "tf.Tensor(9.0, shape=(), dtype=float32) 16\n",
      "current batch accuracy is: 56.25%\n",
      "tf.Tensor(9.0, shape=(), dtype=float32) 16\n",
      "current batch accuracy is: 56.25%\n"
     ]
    },
    {
     "name": "stderr",
     "output_type": "stream",
     "text": [
      " 94%|█████████████████████████████████████████████████████████████████████████▉     | 2925/3125 [03:31<00:14, 14.22it/s]"
     ]
    },
    {
     "name": "stdout",
     "output_type": "stream",
     "text": [
      "tf.Tensor(10.0, shape=(), dtype=float32) 16\n",
      "current batch accuracy is: 62.5%\n",
      "tf.Tensor(12.0, shape=(), dtype=float32) 16\n",
      "current batch accuracy is: 75.0%\n",
      "tf.Tensor(9.0, shape=(), dtype=float32) 16\n",
      "current batch accuracy is: 56.25%\n",
      "tf.Tensor(10.0, shape=(), dtype=float32) 16\n"
     ]
    },
    {
     "name": "stderr",
     "output_type": "stream",
     "text": [
      "\r",
      " 94%|█████████████████████████████████████████████████████████████████████████▉     | 2927/3125 [03:31<00:13, 14.45it/s]"
     ]
    },
    {
     "name": "stdout",
     "output_type": "stream",
     "text": [
      "current batch accuracy is: 62.5%\n",
      "tf.Tensor(12.0, shape=(), dtype=float32) 16\n",
      "current batch accuracy is: 75.0%\n",
      "tf.Tensor(11.0, shape=(), dtype=float32) 16\n",
      "current batch accuracy is: 68.75%\n"
     ]
    },
    {
     "name": "stderr",
     "output_type": "stream",
     "text": [
      "\r",
      " 94%|██████████████████████████████████████████████████████████████████████████     | 2929/3125 [03:31<00:13, 14.34it/s]"
     ]
    },
    {
     "name": "stdout",
     "output_type": "stream",
     "text": [
      "tf.Tensor(13.0, shape=(), dtype=float32) 16\n",
      "current batch accuracy is: 81.25%\n"
     ]
    },
    {
     "name": "stderr",
     "output_type": "stream",
     "text": [
      "\r",
      " 94%|██████████████████████████████████████████████████████████████████████████     | 2931/3125 [03:31<00:19,  9.93it/s]"
     ]
    },
    {
     "name": "stdout",
     "output_type": "stream",
     "text": [
      "tf.Tensor(9.0, shape=(), dtype=float32) 16\n",
      "current batch accuracy is: 56.25%\n",
      "tf.Tensor(14.0, shape=(), dtype=float32) 16\n",
      "current batch accuracy is: 87.5%\n",
      "tf.Tensor(11.0, shape=(), dtype=float32) 16\n",
      "current batch accuracy is: 68.75%\n"
     ]
    },
    {
     "name": "stderr",
     "output_type": "stream",
     "text": [
      "\r",
      " 94%|██████████████████████████████████████████████████████████████████████████▏    | 2933/3125 [03:31<00:17, 10.78it/s]"
     ]
    },
    {
     "name": "stdout",
     "output_type": "stream",
     "text": [
      "tf.Tensor(12.0, shape=(), dtype=float32) 16\n",
      "current batch accuracy is: 75.0%\n",
      "tf.Tensor(14.0, shape=(), dtype=float32) 16\n",
      "current batch accuracy is: 87.5%\n"
     ]
    },
    {
     "name": "stderr",
     "output_type": "stream",
     "text": [
      " 94%|██████████████████████████████████████████████████████████████████████████▏    | 2937/3125 [03:32<00:18, 10.35it/s]"
     ]
    },
    {
     "name": "stdout",
     "output_type": "stream",
     "text": [
      "tf.Tensor(12.0, shape=(), dtype=float32) 16\n",
      "current batch accuracy is: 75.0%\n",
      "tf.Tensor(12.0, shape=(), dtype=float32) 16\n",
      "current batch accuracy is: 75.0%\n",
      "tf.Tensor(11.0, shape=(), dtype=float32) 16\n",
      "current batch accuracy is: 68.75%\n"
     ]
    },
    {
     "name": "stderr",
     "output_type": "stream",
     "text": [
      "\r",
      " 94%|██████████████████████████████████████████████████████████████████████████▎    | 2939/3125 [03:32<00:16, 11.58it/s]"
     ]
    },
    {
     "name": "stdout",
     "output_type": "stream",
     "text": [
      "tf.Tensor(10.0, shape=(), dtype=float32) 16\n",
      "current batch accuracy is: 62.5%\n",
      "tf.Tensor(12.0, shape=(), dtype=float32) 16\n",
      "current batch accuracy is: 75.0%\n",
      "tf.Tensor(10.0, shape=(), dtype=float32) 16\n",
      "current batch accuracy is: 62.5%\n"
     ]
    },
    {
     "name": "stderr",
     "output_type": "stream",
     "text": [
      " 94%|██████████████████████████████████████████████████████████████████████████▍    | 2943/3125 [03:32<00:14, 12.67it/s]"
     ]
    },
    {
     "name": "stdout",
     "output_type": "stream",
     "text": [
      "tf.Tensor(9.0, shape=(), dtype=float32) 16\n",
      "current batch accuracy is: 56.25%\n",
      "tf.Tensor(12.0, shape=(), dtype=float32) 16\n",
      "current batch accuracy is: 75.0%\n",
      "tf.Tensor(11.0, shape=(), dtype=float32) 16\n",
      "current batch accuracy is: 68.75%\n"
     ]
    },
    {
     "name": "stderr",
     "output_type": "stream",
     "text": [
      "\r",
      " 94%|██████████████████████████████████████████████████████████████████████████▍    | 2945/3125 [03:32<00:14, 12.82it/s]"
     ]
    },
    {
     "name": "stdout",
     "output_type": "stream",
     "text": [
      "tf.Tensor(12.0, shape=(), dtype=float32) 16\n",
      "current batch accuracy is: 75.0%\n",
      "tf.Tensor(11.0, shape=(), dtype=float32) 16\n",
      "current batch accuracy is: 68.75%\n",
      "tf.Tensor(14.0, shape=(), dtype=float32) 16\n",
      "current batch accuracy is: 87.5%\n"
     ]
    },
    {
     "name": "stderr",
     "output_type": "stream",
     "text": [
      " 94%|██████████████████████████████████████████████████████████████████████████▌    | 2949/3125 [03:33<00:12, 14.33it/s]"
     ]
    },
    {
     "name": "stdout",
     "output_type": "stream",
     "text": [
      "tf.Tensor(8.0, shape=(), dtype=float32) 16\n",
      "current batch accuracy is: 50.0%\n",
      "tf.Tensor(12.0, shape=(), dtype=float32) 16\n",
      "current batch accuracy is: 75.0%\n",
      "tf.Tensor(12.0, shape=(), dtype=float32) 16\n",
      "current batch accuracy is: 75.0%\n",
      "tf.Tensor(10.0, shape=(), dtype=float32) 16\n",
      "current batch accuracy is: 62.5%\n"
     ]
    },
    {
     "name": "stderr",
     "output_type": "stream",
     "text": [
      " 94%|██████████████████████████████████████████████████████████████████████████▋    | 2953/3125 [03:33<00:12, 13.94it/s]"
     ]
    },
    {
     "name": "stdout",
     "output_type": "stream",
     "text": [
      "tf.Tensor(11.0, shape=(), dtype=float32) 16\n",
      "current batch accuracy is: 68.75%\n",
      "tf.Tensor(12.0, shape=(), dtype=float32) 16\n",
      "current batch accuracy is: 75.0%\n",
      "tf.Tensor(11.0, shape=(), dtype=float32) 16\n",
      "current batch accuracy is: 68.75%\n"
     ]
    },
    {
     "name": "stderr",
     "output_type": "stream",
     "text": [
      "\r",
      " 95%|██████████████████████████████████████████████████████████████████████████▋    | 2955/3125 [03:33<00:11, 14.44it/s]"
     ]
    },
    {
     "name": "stdout",
     "output_type": "stream",
     "text": [
      "tf.Tensor(11.0, shape=(), dtype=float32) 16\n",
      "current batch accuracy is: 68.75%\n",
      "tf.Tensor(12.0, shape=(), dtype=float32) 16\n",
      "current batch accuracy is: 75.0%\n",
      "tf.Tensor(12.0, shape=(), dtype=float32) 16\n",
      "current batch accuracy is: 75.0%\n"
     ]
    },
    {
     "name": "stderr",
     "output_type": "stream",
     "text": [
      " 95%|██████████████████████████████████████████████████████████████████████████▊    | 2959/3125 [03:33<00:11, 14.80it/s]"
     ]
    },
    {
     "name": "stdout",
     "output_type": "stream",
     "text": [
      "tf.Tensor(12.0, shape=(), dtype=float32) 16\n",
      "current batch accuracy is: 75.0%\n",
      "tf.Tensor(12.0, shape=(), dtype=float32) 16\n",
      "current batch accuracy is: 75.0%\n",
      "tf.Tensor(8.0, shape=(), dtype=float32) 16\n",
      "current batch accuracy is: 50.0%\n"
     ]
    },
    {
     "name": "stderr",
     "output_type": "stream",
     "text": [
      "\r",
      " 95%|██████████████████████████████████████████████████████████████████████████▊    | 2961/3125 [03:34<00:11, 14.08it/s]"
     ]
    },
    {
     "name": "stdout",
     "output_type": "stream",
     "text": [
      "tf.Tensor(13.0, shape=(), dtype=float32) 16\n",
      "current batch accuracy is: 81.25%\n",
      "tf.Tensor(10.0, shape=(), dtype=float32) 16\n",
      "current batch accuracy is: 62.5%\n",
      "tf.Tensor(11.0, shape=(), dtype=float32) 16\n",
      "current batch accuracy is: 68.75%\n"
     ]
    },
    {
     "name": "stderr",
     "output_type": "stream",
     "text": [
      " 95%|██████████████████████████████████████████████████████████████████████████▉    | 2965/3125 [03:34<00:11, 13.97it/s]"
     ]
    },
    {
     "name": "stdout",
     "output_type": "stream",
     "text": [
      "tf.Tensor(11.0, shape=(), dtype=float32) 16\n",
      "current batch accuracy is: 68.75%\n",
      "tf.Tensor(8.0, shape=(), dtype=float32) 16\n",
      "current batch accuracy is: 50.0%\n",
      "tf.Tensor(14.0, shape=(), dtype=float32) 16\n",
      "current batch accuracy is: 87.5%\n"
     ]
    },
    {
     "name": "stderr",
     "output_type": "stream",
     "text": [
      "\r",
      " 95%|███████████████████████████████████████████████████████████████████████████    | 2967/3125 [03:34<00:11, 14.00it/s]"
     ]
    },
    {
     "name": "stdout",
     "output_type": "stream",
     "text": [
      "tf.Tensor(12.0, shape=(), dtype=float32) 16\n",
      "current batch accuracy is: 75.0%\n",
      "tf.Tensor(11.0, shape=(), dtype=float32) 16\n",
      "current batch accuracy is: 68.75%\n",
      "tf.Tensor(11.0, shape=(), dtype=float32) 16\n",
      "current batch accuracy is: 68.75%\n"
     ]
    },
    {
     "name": "stderr",
     "output_type": "stream",
     "text": [
      " 95%|███████████████████████████████████████████████████████████████████████████    | 2971/3125 [03:34<00:10, 14.52it/s]"
     ]
    },
    {
     "name": "stdout",
     "output_type": "stream",
     "text": [
      "tf.Tensor(9.0, shape=(), dtype=float32) 16\n",
      "current batch accuracy is: 56.25%\n",
      "tf.Tensor(9.0, shape=(), dtype=float32) 16\n",
      "current batch accuracy is: 56.25%\n",
      "tf.Tensor(8.0, shape=(), dtype=float32) 16\n",
      "current batch accuracy is: 50.0%\n",
      "tf.Tensor(8.0, shape=(), dtype=float32) 16\n",
      "current batch accuracy is: 50.0%\n"
     ]
    },
    {
     "name": "stderr",
     "output_type": "stream",
     "text": [
      " 95%|███████████████████████████████████████████████████████████████████████████▏   | 2975/3125 [03:35<00:10, 13.90it/s]"
     ]
    },
    {
     "name": "stdout",
     "output_type": "stream",
     "text": [
      "tf.Tensor(12.0, shape=(), dtype=float32) 16\n",
      "current batch accuracy is: 75.0%\n",
      "tf.Tensor(13.0, shape=(), dtype=float32) 16\n",
      "current batch accuracy is: 81.25%\n",
      "tf.Tensor(13.0, shape=(), dtype=float32) 16\n",
      "current batch accuracy is: 81.25%\n"
     ]
    },
    {
     "name": "stderr",
     "output_type": "stream",
     "text": [
      "\r",
      " 95%|███████████████████████████████████████████████████████████████████████████▎   | 2977/3125 [03:35<00:10, 13.74it/s]"
     ]
    },
    {
     "name": "stdout",
     "output_type": "stream",
     "text": [
      "tf.Tensor(13.0, shape=(), dtype=float32) 16\n",
      "current batch accuracy is: 81.25%\n",
      "tf.Tensor(11.0, shape=(), dtype=float32) 16\n",
      "current batch accuracy is: 68.75%\n",
      "tf.Tensor(12.0, shape=(), dtype=float32) 16\n",
      "current batch accuracy is: 75.0%\n"
     ]
    },
    {
     "name": "stderr",
     "output_type": "stream",
     "text": [
      " 95%|███████████████████████████████████████████████████████████████████████████▎   | 2981/3125 [03:35<00:10, 14.27it/s]"
     ]
    },
    {
     "name": "stdout",
     "output_type": "stream",
     "text": [
      "tf.Tensor(9.0, shape=(), dtype=float32) 16\n",
      "current batch accuracy is: 56.25%\n",
      "tf.Tensor(10.0, shape=(), dtype=float32) 16\n",
      "current batch accuracy is: 62.5%\n",
      "tf.Tensor(12.0, shape=(), dtype=float32) 16\n",
      "current batch accuracy is: 75.0%\n"
     ]
    },
    {
     "name": "stderr",
     "output_type": "stream",
     "text": [
      "\r",
      " 95%|███████████████████████████████████████████████████████████████████████████▍   | 2983/3125 [03:35<00:09, 14.30it/s]"
     ]
    },
    {
     "name": "stdout",
     "output_type": "stream",
     "text": [
      "tf.Tensor(11.0, shape=(), dtype=float32) 16\n",
      "current batch accuracy is: 68.75%\n",
      "tf.Tensor(12.0, shape=(), dtype=float32) 16\n",
      "current batch accuracy is: 75.0%\n",
      "tf.Tensor(11.0, shape=(), dtype=float32) 16\n",
      "current batch accuracy is: 68.75%\n"
     ]
    },
    {
     "name": "stderr",
     "output_type": "stream",
     "text": [
      " 96%|███████████████████████████████████████████████████████████████████████████▌   | 2987/3125 [03:35<00:10, 13.69it/s]"
     ]
    },
    {
     "name": "stdout",
     "output_type": "stream",
     "text": [
      "tf.Tensor(12.0, shape=(), dtype=float32) 16\n",
      "current batch accuracy is: 75.0%\n",
      "tf.Tensor(12.0, shape=(), dtype=float32) 16\n",
      "current batch accuracy is: 75.0%\n",
      "tf.Tensor(13.0, shape=(), dtype=float32) 16\n",
      "current batch accuracy is: 81.25%\n"
     ]
    },
    {
     "name": "stderr",
     "output_type": "stream",
     "text": [
      "\r",
      " 96%|███████████████████████████████████████████████████████████████████████████▌   | 2989/3125 [03:36<00:10, 13.48it/s]"
     ]
    },
    {
     "name": "stdout",
     "output_type": "stream",
     "text": [
      "tf.Tensor(9.0, shape=(), dtype=float32) 16\n",
      "current batch accuracy is: 56.25%\n",
      "tf.Tensor(10.0, shape=(), dtype=float32) 16\n",
      "current batch accuracy is: 62.5%\n",
      "tf.Tensor(7.0, shape=(), dtype=float32) 16\n",
      "current batch accuracy is: 43.75%\n"
     ]
    },
    {
     "name": "stderr",
     "output_type": "stream",
     "text": [
      " 96%|███████████████████████████████████████████████████████████████████████████▋   | 2993/3125 [03:36<00:10, 12.91it/s]"
     ]
    },
    {
     "name": "stdout",
     "output_type": "stream",
     "text": [
      "tf.Tensor(11.0, shape=(), dtype=float32) 16\n",
      "current batch accuracy is: 68.75%\n",
      "tf.Tensor(14.0, shape=(), dtype=float32) 16\n",
      "current batch accuracy is: 87.5%\n",
      "tf.Tensor(8.0, shape=(), dtype=float32) 16\n",
      "current batch accuracy is: 50.0%\n"
     ]
    },
    {
     "name": "stderr",
     "output_type": "stream",
     "text": [
      "\r",
      " 96%|███████████████████████████████████████████████████████████████████████████▋   | 2995/3125 [03:36<00:10, 12.15it/s]"
     ]
    },
    {
     "name": "stdout",
     "output_type": "stream",
     "text": [
      "tf.Tensor(10.0, shape=(), dtype=float32) 16\n",
      "current batch accuracy is: 62.5%\n",
      "tf.Tensor(13.0, shape=(), dtype=float32) 16\n",
      "current batch accuracy is: 81.25%\n",
      "tf.Tensor(12.0, shape=(), dtype=float32) 16\n",
      "current batch accuracy is: 75.0%\n"
     ]
    },
    {
     "name": "stderr",
     "output_type": "stream",
     "text": [
      " 96%|███████████████████████████████████████████████████████████████████████████▊   | 2999/3125 [03:36<00:09, 13.53it/s]"
     ]
    },
    {
     "name": "stdout",
     "output_type": "stream",
     "text": [
      "tf.Tensor(6.0, shape=(), dtype=float32) 16\n",
      "current batch accuracy is: 37.5%\n",
      "tf.Tensor(10.0, shape=(), dtype=float32) 16\n",
      "current batch accuracy is: 62.5%\n",
      "tf.Tensor(12.0, shape=(), dtype=float32) 16\n",
      "current batch accuracy is: 75.0%\n",
      "tf.Tensor(7.0, shape=(), dtype=float32) 16\n",
      "current batch accuracy is: 43.75%\n"
     ]
    },
    {
     "name": "stderr",
     "output_type": "stream",
     "text": [
      " 96%|███████████████████████████████████████████████████████████████████████████▉   | 3003/3125 [03:37<00:08, 13.74it/s]"
     ]
    },
    {
     "name": "stdout",
     "output_type": "stream",
     "text": [
      "tf.Tensor(11.0, shape=(), dtype=float32) 16\n",
      "current batch accuracy is: 68.75%\n",
      "tf.Tensor(9.0, shape=(), dtype=float32) 16\n",
      "current batch accuracy is: 56.25%\n",
      "tf.Tensor(9.0, shape=(), dtype=float32) 16\n",
      "current batch accuracy is: 56.25%\n",
      "tf.Tensor(8.0, shape=(), dtype=float32) 16\n"
     ]
    },
    {
     "name": "stderr",
     "output_type": "stream",
     "text": [
      "\r",
      " 96%|███████████████████████████████████████████████████████████████████████████▉   | 3005/3125 [03:37<00:08, 14.14it/s]"
     ]
    },
    {
     "name": "stdout",
     "output_type": "stream",
     "text": [
      "current batch accuracy is: 50.0%\n",
      "tf.Tensor(9.0, shape=(), dtype=float32) 16\n",
      "current batch accuracy is: 56.25%\n",
      "tf.Tensor(7.0, shape=(), dtype=float32) 16\n",
      "current batch accuracy is: 43.75%\n"
     ]
    },
    {
     "name": "stderr",
     "output_type": "stream",
     "text": [
      " 96%|████████████████████████████████████████████████████████████████████████████   | 3009/3125 [03:37<00:08, 13.48it/s]"
     ]
    },
    {
     "name": "stdout",
     "output_type": "stream",
     "text": [
      "tf.Tensor(12.0, shape=(), dtype=float32) 16\n",
      "current batch accuracy is: 75.0%\n",
      "tf.Tensor(14.0, shape=(), dtype=float32) 16\n",
      "current batch accuracy is: 87.5%\n",
      "tf.Tensor(11.0, shape=(), dtype=float32) 16\n",
      "current batch accuracy is: 68.75%\n"
     ]
    },
    {
     "name": "stderr",
     "output_type": "stream",
     "text": [
      "\r",
      " 96%|████████████████████████████████████████████████████████████████████████████   | 3011/3125 [03:37<00:08, 12.93it/s]"
     ]
    },
    {
     "name": "stdout",
     "output_type": "stream",
     "text": [
      "tf.Tensor(8.0, shape=(), dtype=float32) 16\n",
      "current batch accuracy is: 50.0%\n",
      "tf.Tensor(13.0, shape=(), dtype=float32) 16\n",
      "current batch accuracy is: 81.25%\n",
      "tf.Tensor(10.0, shape=(), dtype=float32) 16\n",
      "current batch accuracy is: 62.5%\n"
     ]
    },
    {
     "name": "stderr",
     "output_type": "stream",
     "text": [
      " 96%|████████████████████████████████████████████████████████████████████████████▏  | 3015/3125 [03:37<00:07, 14.01it/s]"
     ]
    },
    {
     "name": "stdout",
     "output_type": "stream",
     "text": [
      "tf.Tensor(10.0, shape=(), dtype=float32) 16\n",
      "current batch accuracy is: 62.5%\n",
      "tf.Tensor(10.0, shape=(), dtype=float32) 16\n",
      "current batch accuracy is: 62.5%\n",
      "tf.Tensor(12.0, shape=(), dtype=float32) 16\n",
      "current batch accuracy is: 75.0%\n",
      "tf.Tensor(10.0, shape=(), dtype=float32) 16\n",
      "current batch accuracy is: 62.5%\n"
     ]
    },
    {
     "name": "stderr",
     "output_type": "stream",
     "text": [
      " 97%|████████████████████████████████████████████████████████████████████████████▎  | 3019/3125 [03:38<00:07, 14.34it/s]"
     ]
    },
    {
     "name": "stdout",
     "output_type": "stream",
     "text": [
      "tf.Tensor(15.0, shape=(), dtype=float32) 16\n",
      "current batch accuracy is: 93.75%\n",
      "tf.Tensor(11.0, shape=(), dtype=float32) 16\n",
      "current batch accuracy is: 68.75%\n",
      "tf.Tensor(12.0, shape=(), dtype=float32) 16\n",
      "current batch accuracy is: 75.0%\n"
     ]
    },
    {
     "name": "stderr",
     "output_type": "stream",
     "text": [
      "\r",
      " 97%|████████████████████████████████████████████████████████████████████████████▎  | 3021/3125 [03:38<00:09, 10.79it/s]"
     ]
    },
    {
     "name": "stdout",
     "output_type": "stream",
     "text": [
      "tf.Tensor(11.0, shape=(), dtype=float32) 16\n",
      "current batch accuracy is: 68.75%\n",
      "tf.Tensor(12.0, shape=(), dtype=float32) 16\n",
      "current batch accuracy is: 75.0%\n",
      "tf.Tensor(14.0, shape=(), dtype=float32) 16\n",
      "current batch accuracy is: 87.5%\n"
     ]
    },
    {
     "name": "stderr",
     "output_type": "stream",
     "text": [
      " 97%|████████████████████████████████████████████████████████████████████████████▍  | 3025/3125 [03:38<00:08, 12.42it/s]"
     ]
    },
    {
     "name": "stdout",
     "output_type": "stream",
     "text": [
      "tf.Tensor(10.0, shape=(), dtype=float32) 16\n",
      "current batch accuracy is: 62.5%\n",
      "tf.Tensor(10.0, shape=(), dtype=float32) 16\n",
      "current batch accuracy is: 62.5%\n",
      "tf.Tensor(10.0, shape=(), dtype=float32) 16\n",
      "current batch accuracy is: 62.5%\n"
     ]
    },
    {
     "name": "stderr",
     "output_type": "stream",
     "text": [
      "\r",
      " 97%|████████████████████████████████████████████████████████████████████████████▌  | 3027/3125 [03:39<00:11,  8.57it/s]"
     ]
    },
    {
     "name": "stdout",
     "output_type": "stream",
     "text": [
      "tf.Tensor(14.0, shape=(), dtype=float32) 16\n",
      "current batch accuracy is: 87.5%\n",
      "tf.Tensor(14.0, shape=(), dtype=float32) 16\n",
      "current batch accuracy is: 87.5%\n",
      "tf.Tensor(10.0, shape=(), dtype=float32) 16\n",
      "current batch accuracy is: 62.5%\n"
     ]
    },
    {
     "name": "stderr",
     "output_type": "stream",
     "text": [
      " 97%|████████████████████████████████████████████████████████████████████████████▌  | 3031/3125 [03:39<00:08, 10.49it/s]"
     ]
    },
    {
     "name": "stdout",
     "output_type": "stream",
     "text": [
      "tf.Tensor(15.0, shape=(), dtype=float32) 16\n",
      "current batch accuracy is: 93.75%\n",
      "tf.Tensor(12.0, shape=(), dtype=float32) 16\n",
      "current batch accuracy is: 75.0%\n",
      "tf.Tensor(11.0, shape=(), dtype=float32) 16\n",
      "current batch accuracy is: 68.75%\n"
     ]
    },
    {
     "name": "stderr",
     "output_type": "stream",
     "text": [
      "\r",
      " 97%|████████████████████████████████████████████████████████████████████████████▋  | 3033/3125 [03:39<00:08, 10.52it/s]"
     ]
    },
    {
     "name": "stdout",
     "output_type": "stream",
     "text": [
      "tf.Tensor(10.0, shape=(), dtype=float32) 16\n",
      "current batch accuracy is: 62.5%\n",
      "tf.Tensor(10.0, shape=(), dtype=float32) 16\n",
      "current batch accuracy is: 62.5%\n",
      "tf.Tensor(11.0, shape=(), dtype=float32) 16\n",
      "current batch accuracy is: 68.75%\n"
     ]
    },
    {
     "name": "stderr",
     "output_type": "stream",
     "text": [
      " 97%|████████████████████████████████████████████████████████████████████████████▊  | 3037/3125 [03:40<00:07, 11.92it/s]"
     ]
    },
    {
     "name": "stdout",
     "output_type": "stream",
     "text": [
      "tf.Tensor(10.0, shape=(), dtype=float32) 16\n",
      "current batch accuracy is: 62.5%\n",
      "tf.Tensor(13.0, shape=(), dtype=float32) 16\n",
      "current batch accuracy is: 81.25%\n",
      "tf.Tensor(7.0, shape=(), dtype=float32) 16\n",
      "current batch accuracy is: 43.75%\n",
      "tf.Tensor(14.0, shape=(), dtype=float32) 16\n",
      "current batch accuracy is: 87.5%\n"
     ]
    },
    {
     "name": "stderr",
     "output_type": "stream",
     "text": [
      " 97%|████████████████████████████████████████████████████████████████████████████▉  | 3041/3125 [03:40<00:06, 13.64it/s]"
     ]
    },
    {
     "name": "stdout",
     "output_type": "stream",
     "text": [
      "tf.Tensor(10.0, shape=(), dtype=float32) 16\n",
      "current batch accuracy is: 62.5%\n",
      "tf.Tensor(11.0, shape=(), dtype=float32) 16\n",
      "current batch accuracy is: 68.75%\n",
      "tf.Tensor(7.0, shape=(), dtype=float32) 16\n",
      "current batch accuracy is: 43.75%\n",
      "tf.Tensor(12.0, shape=(), dtype=float32) 16\n",
      "current batch accuracy is: 75.0%\n"
     ]
    },
    {
     "name": "stderr",
     "output_type": "stream",
     "text": [
      " 97%|████████████████████████████████████████████████████████████████████████████▉  | 3045/3125 [03:40<00:05, 13.84it/s]"
     ]
    },
    {
     "name": "stdout",
     "output_type": "stream",
     "text": [
      "tf.Tensor(13.0, shape=(), dtype=float32) 16\n",
      "current batch accuracy is: 81.25%\n",
      "tf.Tensor(11.0, shape=(), dtype=float32) 16\n",
      "current batch accuracy is: 68.75%\n",
      "tf.Tensor(12.0, shape=(), dtype=float32) 16\n",
      "current batch accuracy is: 75.0%\n"
     ]
    },
    {
     "name": "stderr",
     "output_type": "stream",
     "text": [
      "\r",
      " 98%|█████████████████████████████████████████████████████████████████████████████  | 3047/3125 [03:40<00:05, 13.69it/s]"
     ]
    },
    {
     "name": "stdout",
     "output_type": "stream",
     "text": [
      "tf.Tensor(9.0, shape=(), dtype=float32) 16\n",
      "current batch accuracy is: 56.25%\n",
      "tf.Tensor(13.0, shape=(), dtype=float32) 16\n",
      "current batch accuracy is: 81.25%\n",
      "tf.Tensor(14.0, shape=(), dtype=float32) 16\n",
      "current batch accuracy is: 87.5%\n"
     ]
    },
    {
     "name": "stderr",
     "output_type": "stream",
     "text": [
      " 98%|█████████████████████████████████████████████████████████████████████████████▏ | 3051/3125 [03:40<00:05, 14.03it/s]"
     ]
    },
    {
     "name": "stdout",
     "output_type": "stream",
     "text": [
      "tf.Tensor(13.0, shape=(), dtype=float32) 16\n",
      "current batch accuracy is: 81.25%\n",
      "tf.Tensor(11.0, shape=(), dtype=float32) 16\n",
      "current batch accuracy is: 68.75%\n",
      "tf.Tensor(8.0, shape=(), dtype=float32) 16\n",
      "current batch accuracy is: 50.0%\n"
     ]
    },
    {
     "name": "stderr",
     "output_type": "stream",
     "text": [
      "\r",
      " 98%|█████████████████████████████████████████████████████████████████████████████▏ | 3053/3125 [03:41<00:05, 13.93it/s]"
     ]
    },
    {
     "name": "stdout",
     "output_type": "stream",
     "text": [
      "tf.Tensor(9.0, shape=(), dtype=float32) 16\n",
      "current batch accuracy is: 56.25%\n",
      "tf.Tensor(11.0, shape=(), dtype=float32) 16\n",
      "current batch accuracy is: 68.75%\n",
      "tf.Tensor(10.0, shape=(), dtype=float32) 16\n",
      "current batch accuracy is: 62.5%\n"
     ]
    },
    {
     "name": "stderr",
     "output_type": "stream",
     "text": [
      " 98%|█████████████████████████████████████████████████████████████████████████████▎ | 3057/3125 [03:41<00:05, 12.79it/s]"
     ]
    },
    {
     "name": "stdout",
     "output_type": "stream",
     "text": [
      "tf.Tensor(15.0, shape=(), dtype=float32) 16\n",
      "current batch accuracy is: 93.75%\n",
      "tf.Tensor(11.0, shape=(), dtype=float32) 16\n",
      "current batch accuracy is: 68.75%\n",
      "tf.Tensor(13.0, shape=(), dtype=float32) 16\n",
      "current batch accuracy is: 81.25%\n"
     ]
    },
    {
     "name": "stderr",
     "output_type": "stream",
     "text": [
      "\r",
      " 98%|█████████████████████████████████████████████████████████████████████████████▎ | 3059/3125 [03:41<00:05, 11.75it/s]"
     ]
    },
    {
     "name": "stdout",
     "output_type": "stream",
     "text": [
      "tf.Tensor(11.0, shape=(), dtype=float32) 16\n",
      "current batch accuracy is: 68.75%\n",
      "tf.Tensor(12.0, shape=(), dtype=float32) 16\n",
      "current batch accuracy is: 75.0%\n",
      "tf.Tensor(10.0, shape=(), dtype=float32) 16\n",
      "current batch accuracy is: 62.5%\n"
     ]
    },
    {
     "name": "stderr",
     "output_type": "stream",
     "text": [
      " 98%|█████████████████████████████████████████████████████████████████████████████▍ | 3063/3125 [03:42<00:05, 10.83it/s]"
     ]
    },
    {
     "name": "stdout",
     "output_type": "stream",
     "text": [
      "tf.Tensor(14.0, shape=(), dtype=float32) 16\n",
      "current batch accuracy is: 87.5%\n",
      "tf.Tensor(12.0, shape=(), dtype=float32) 16\n",
      "current batch accuracy is: 75.0%\n",
      "tf.Tensor(12.0, shape=(), dtype=float32) 16\n",
      "current batch accuracy is: 75.0%\n"
     ]
    },
    {
     "name": "stderr",
     "output_type": "stream",
     "text": [
      "\r",
      " 98%|█████████████████████████████████████████████████████████████████████████████▍ | 3065/3125 [03:42<00:05, 11.43it/s]"
     ]
    },
    {
     "name": "stdout",
     "output_type": "stream",
     "text": [
      "tf.Tensor(12.0, shape=(), dtype=float32) 16\n",
      "current batch accuracy is: 75.0%\n",
      "tf.Tensor(13.0, shape=(), dtype=float32) 16\n",
      "current batch accuracy is: 81.25%\n",
      "tf.Tensor(13.0, shape=(), dtype=float32) 16\n",
      "current batch accuracy is: 81.25%\n"
     ]
    },
    {
     "name": "stderr",
     "output_type": "stream",
     "text": [
      " 98%|█████████████████████████████████████████████████████████████████████████████▌ | 3069/3125 [03:42<00:04, 13.04it/s]"
     ]
    },
    {
     "name": "stdout",
     "output_type": "stream",
     "text": [
      "tf.Tensor(12.0, shape=(), dtype=float32) 16\n",
      "current batch accuracy is: 75.0%\n",
      "tf.Tensor(10.0, shape=(), dtype=float32) 16\n",
      "current batch accuracy is: 62.5%\n",
      "tf.Tensor(12.0, shape=(), dtype=float32) 16\n",
      "current batch accuracy is: 75.0%\n",
      "tf.Tensor(10.0, shape=(), dtype=float32) 16\n",
      "current batch accuracy is: 62.5%\n"
     ]
    },
    {
     "name": "stderr",
     "output_type": "stream",
     "text": [
      " 98%|█████████████████████████████████████████████████████████████████████████████▋ | 3073/3125 [03:42<00:03, 13.84it/s]"
     ]
    },
    {
     "name": "stdout",
     "output_type": "stream",
     "text": [
      "tf.Tensor(8.0, shape=(), dtype=float32) 16\n",
      "current batch accuracy is: 50.0%\n",
      "tf.Tensor(9.0, shape=(), dtype=float32) 16\n",
      "current batch accuracy is: 56.25%\n",
      "tf.Tensor(8.0, shape=(), dtype=float32) 16\n",
      "current batch accuracy is: 50.0%\n"
     ]
    },
    {
     "name": "stderr",
     "output_type": "stream",
     "text": [
      "\r",
      " 98%|█████████████████████████████████████████████████████████████████████████████▋ | 3075/3125 [03:42<00:03, 13.01it/s]"
     ]
    },
    {
     "name": "stdout",
     "output_type": "stream",
     "text": [
      "tf.Tensor(11.0, shape=(), dtype=float32) 16\n",
      "current batch accuracy is: 68.75%\n",
      "tf.Tensor(12.0, shape=(), dtype=float32) 16\n",
      "current batch accuracy is: 75.0%\n",
      "tf.Tensor(9.0, shape=(), dtype=float32) 16\n",
      "current batch accuracy is: 56.25%\n"
     ]
    },
    {
     "name": "stderr",
     "output_type": "stream",
     "text": [
      " 99%|█████████████████████████████████████████████████████████████████████████████▊ | 3079/3125 [03:43<00:03, 13.62it/s]"
     ]
    },
    {
     "name": "stdout",
     "output_type": "stream",
     "text": [
      "tf.Tensor(8.0, shape=(), dtype=float32) 16\n",
      "current batch accuracy is: 50.0%\n",
      "tf.Tensor(9.0, shape=(), dtype=float32) 16\n",
      "current batch accuracy is: 56.25%\n",
      "tf.Tensor(10.0, shape=(), dtype=float32) 16\n",
      "current batch accuracy is: 62.5%\n"
     ]
    },
    {
     "name": "stderr",
     "output_type": "stream",
     "text": [
      "\r",
      " 99%|█████████████████████████████████████████████████████████████████████████████▉ | 3081/3125 [03:43<00:03, 14.20it/s]"
     ]
    },
    {
     "name": "stdout",
     "output_type": "stream",
     "text": [
      "tf.Tensor(11.0, shape=(), dtype=float32) 16\n",
      "current batch accuracy is: 68.75%\n",
      "tf.Tensor(11.0, shape=(), dtype=float32) 16\n",
      "current batch accuracy is: 68.75%\n",
      "tf.Tensor(12.0, shape=(), dtype=float32) 16\n",
      "current batch accuracy is: 75.0%\n"
     ]
    },
    {
     "name": "stderr",
     "output_type": "stream",
     "text": [
      " 99%|█████████████████████████████████████████████████████████████████████████████▉ | 3085/3125 [03:43<00:02, 14.64it/s]"
     ]
    },
    {
     "name": "stdout",
     "output_type": "stream",
     "text": [
      "tf.Tensor(10.0, shape=(), dtype=float32) 16\n",
      "current batch accuracy is: 62.5%\n",
      "tf.Tensor(13.0, shape=(), dtype=float32) 16\n",
      "current batch accuracy is: 81.25%\n",
      "tf.Tensor(10.0, shape=(), dtype=float32) 16\n",
      "current batch accuracy is: 62.5%\n",
      "tf.Tensor(10.0, shape=(), dtype=float32) 16\n",
      "current batch accuracy is: 62.5%\n"
     ]
    },
    {
     "name": "stderr",
     "output_type": "stream",
     "text": [
      " 99%|██████████████████████████████████████████████████████████████████████████████ | 3089/3125 [03:43<00:02, 13.76it/s]"
     ]
    },
    {
     "name": "stdout",
     "output_type": "stream",
     "text": [
      "tf.Tensor(10.0, shape=(), dtype=float32) 16\n",
      "current batch accuracy is: 62.5%\n",
      "tf.Tensor(7.0, shape=(), dtype=float32) 16\n",
      "current batch accuracy is: 43.75%\n",
      "tf.Tensor(15.0, shape=(), dtype=float32) 16\n",
      "current batch accuracy is: 93.75%\n"
     ]
    },
    {
     "name": "stderr",
     "output_type": "stream",
     "text": [
      "\r",
      " 99%|██████████████████████████████████████████████████████████████████████████████▏| 3091/3125 [03:44<00:02, 13.84it/s]"
     ]
    },
    {
     "name": "stdout",
     "output_type": "stream",
     "text": [
      "tf.Tensor(13.0, shape=(), dtype=float32) 16\n",
      "current batch accuracy is: 81.25%\n",
      "tf.Tensor(10.0, shape=(), dtype=float32) 16\n",
      "current batch accuracy is: 62.5%\n",
      "tf.Tensor(11.0, shape=(), dtype=float32) 16\n",
      "current batch accuracy is: 68.75%\n"
     ]
    },
    {
     "name": "stderr",
     "output_type": "stream",
     "text": [
      " 99%|██████████████████████████████████████████████████████████████████████████████▏| 3095/3125 [03:44<00:02, 14.67it/s]"
     ]
    },
    {
     "name": "stdout",
     "output_type": "stream",
     "text": [
      "tf.Tensor(11.0, shape=(), dtype=float32) 16\n",
      "current batch accuracy is: 68.75%\n",
      "tf.Tensor(11.0, shape=(), dtype=float32) 16\n",
      "current batch accuracy is: 68.75%\n",
      "tf.Tensor(9.0, shape=(), dtype=float32) 16\n",
      "current batch accuracy is: 56.25%\n",
      "tf.Tensor(8.0, shape=(), dtype=float32) 16\n"
     ]
    },
    {
     "name": "stderr",
     "output_type": "stream",
     "text": [
      "\r",
      " 99%|██████████████████████████████████████████████████████████████████████████████▎| 3097/3125 [03:44<00:01, 14.61it/s]"
     ]
    },
    {
     "name": "stdout",
     "output_type": "stream",
     "text": [
      "current batch accuracy is: 50.0%\n",
      "tf.Tensor(6.0, shape=(), dtype=float32) 16\n",
      "current batch accuracy is: 37.5%\n",
      "tf.Tensor(10.0, shape=(), dtype=float32) 16\n",
      "current batch accuracy is: 62.5%\n"
     ]
    },
    {
     "name": "stderr",
     "output_type": "stream",
     "text": [
      " 99%|██████████████████████████████████████████████████████████████████████████████▍| 3101/3125 [03:44<00:01, 12.99it/s]"
     ]
    },
    {
     "name": "stdout",
     "output_type": "stream",
     "text": [
      "tf.Tensor(7.0, shape=(), dtype=float32) 16\n",
      "current batch accuracy is: 43.75%\n",
      "tf.Tensor(15.0, shape=(), dtype=float32) 16\n",
      "current batch accuracy is: 93.75%\n",
      "tf.Tensor(13.0, shape=(), dtype=float32) 16\n",
      "current batch accuracy is: 81.25%\n"
     ]
    },
    {
     "name": "stderr",
     "output_type": "stream",
     "text": [
      "\r",
      " 99%|██████████████████████████████████████████████████████████████████████████████▍| 3103/3125 [03:44<00:01, 13.35it/s]"
     ]
    },
    {
     "name": "stdout",
     "output_type": "stream",
     "text": [
      "tf.Tensor(12.0, shape=(), dtype=float32) 16\n",
      "current batch accuracy is: 75.0%\n",
      "tf.Tensor(13.0, shape=(), dtype=float32) 16\n",
      "current batch accuracy is: 81.25%\n",
      "tf.Tensor(9.0, shape=(), dtype=float32) 16\n",
      "current batch accuracy is: 56.25%\n"
     ]
    },
    {
     "name": "stderr",
     "output_type": "stream",
     "text": [
      " 99%|██████████████████████████████████████████████████████████████████████████████▌| 3107/3125 [03:45<00:01, 14.15it/s]"
     ]
    },
    {
     "name": "stdout",
     "output_type": "stream",
     "text": [
      "tf.Tensor(13.0, shape=(), dtype=float32) 16\n",
      "current batch accuracy is: 81.25%\n",
      "tf.Tensor(10.0, shape=(), dtype=float32) 16\n",
      "current batch accuracy is: 62.5%\n",
      "tf.Tensor(11.0, shape=(), dtype=float32) 16\n",
      "current batch accuracy is: 68.75%\n",
      "tf.Tensor(12.0, shape=(), dtype=float32) 16\n"
     ]
    },
    {
     "name": "stderr",
     "output_type": "stream",
     "text": [
      "\r",
      " 99%|██████████████████████████████████████████████████████████████████████████████▌| 3109/3125 [03:45<00:01, 13.66it/s]"
     ]
    },
    {
     "name": "stdout",
     "output_type": "stream",
     "text": [
      "current batch accuracy is: 75.0%\n",
      "tf.Tensor(9.0, shape=(), dtype=float32) 16\n",
      "current batch accuracy is: 56.25%\n",
      "tf.Tensor(16.0, shape=(), dtype=float32) 16\n",
      "current batch accuracy is: 100.0%\n"
     ]
    },
    {
     "name": "stderr",
     "output_type": "stream",
     "text": [
      "100%|██████████████████████████████████████████████████████████████████████████████▋| 3113/3125 [03:45<00:00, 13.49it/s]"
     ]
    },
    {
     "name": "stdout",
     "output_type": "stream",
     "text": [
      "tf.Tensor(9.0, shape=(), dtype=float32) 16\n",
      "current batch accuracy is: 56.25%\n",
      "tf.Tensor(11.0, shape=(), dtype=float32) 16\n",
      "current batch accuracy is: 68.75%\n",
      "tf.Tensor(12.0, shape=(), dtype=float32) 16\n",
      "current batch accuracy is: 75.0%\n"
     ]
    },
    {
     "name": "stderr",
     "output_type": "stream",
     "text": [
      "\r",
      "100%|██████████████████████████████████████████████████████████████████████████████▋| 3115/3125 [03:45<00:00, 12.80it/s]"
     ]
    },
    {
     "name": "stdout",
     "output_type": "stream",
     "text": [
      "tf.Tensor(9.0, shape=(), dtype=float32) 16\n",
      "current batch accuracy is: 56.25%\n",
      "tf.Tensor(14.0, shape=(), dtype=float32) 16\n",
      "current batch accuracy is: 87.5%\n",
      "tf.Tensor(10.0, shape=(), dtype=float32) 16\n",
      "current batch accuracy is: 62.5%\n"
     ]
    },
    {
     "name": "stderr",
     "output_type": "stream",
     "text": [
      "100%|██████████████████████████████████████████████████████████████████████████████▊| 3119/3125 [03:46<00:00, 12.91it/s]"
     ]
    },
    {
     "name": "stdout",
     "output_type": "stream",
     "text": [
      "tf.Tensor(11.0, shape=(), dtype=float32) 16\n",
      "current batch accuracy is: 68.75%\n",
      "tf.Tensor(11.0, shape=(), dtype=float32) 16\n",
      "current batch accuracy is: 68.75%\n",
      "tf.Tensor(11.0, shape=(), dtype=float32) 16\n",
      "current batch accuracy is: 68.75%\n"
     ]
    },
    {
     "name": "stderr",
     "output_type": "stream",
     "text": [
      "\r",
      "100%|██████████████████████████████████████████████████████████████████████████████▉| 3121/3125 [03:46<00:00, 13.50it/s]"
     ]
    },
    {
     "name": "stdout",
     "output_type": "stream",
     "text": [
      "tf.Tensor(14.0, shape=(), dtype=float32) 16\n",
      "current batch accuracy is: 87.5%\n",
      "tf.Tensor(10.0, shape=(), dtype=float32) 16\n",
      "current batch accuracy is: 62.5%\n",
      "tf.Tensor(12.0, shape=(), dtype=float32) 16\n",
      "current batch accuracy is: 75.0%\n"
     ]
    },
    {
     "name": "stderr",
     "output_type": "stream",
     "text": [
      "\r",
      "100%|██████████████████████████████████████████████████████████████████████████████▉| 3123/3125 [03:46<00:00, 12.81it/s]"
     ]
    },
    {
     "name": "stdout",
     "output_type": "stream",
     "text": [
      "tf.Tensor(9.0, shape=(), dtype=float32) 16\n",
      "current batch accuracy is: 56.25%\n",
      "tf.Tensor(9.0, shape=(), dtype=float32) 16\n",
      "current batch accuracy is: 56.25%\n"
     ]
    },
    {
     "name": "stderr",
     "output_type": "stream",
     "text": [
      "100%|███████████████████████████████████████████████████████████████████████████████| 3125/3125 [03:46<00:00, 13.79it/s]"
     ]
    },
    {
     "name": "stdout",
     "output_type": "stream",
     "text": [
      "tf.Tensor(14.0, shape=(), dtype=float32) 16\n",
      "current batch accuracy is: 87.5%\n"
     ]
    },
    {
     "name": "stderr",
     "output_type": "stream",
     "text": [
      "\n"
     ]
    }
   ],
   "source": [
    "#top 5 prediction\n",
    "# predict_alps=model(image_alps_input*255)\n",
    "# predict_alps.shape\n",
    "# prediction_by_index_descending_order=tf.argsort(\n",
    "#     predict_alps, axis=-1, direction='DESCENDING', stable=False, name=None\n",
    "# )\n",
    "# type(prediction_by_index_descending_order)\n",
    "# tf.slice(prediction_by_index_descending_order[0], begin=[0], size=[5])\n",
    "iter_num=0\n",
    "count=0\n",
    "total_images=0\n",
    "with tf.device('/gpu:0'):\n",
    "    for x_val,y_val in tqdm(val_data):\n",
    "#         if iter_num==15:\n",
    "#             break\n",
    "#         else:\n",
    "        example_1_image=x_val\n",
    "        label_1_image=y_val\n",
    "        prediction_16_batch=model.predict(example_1_image*255) #shape is 16,1000\n",
    "        total_images=prediction_16_batch.shape[0]\n",
    "        prediction_by_index_descending_order=tf.argsort(prediction_16_batch, axis=-1, direction='DESCENDING', stable=False, name=None)\n",
    "        #top_5\n",
    "        top_5_prediction=prediction_by_index_descending_order[:,:5]\n",
    "        label_1_image=tf.cast(label_1_image, tf.int32)\n",
    "        prediction_one_hot_1=tf.one_hot(top_5_prediction,1000,on_value=None,off_value=None,axis=1,dtype=None,name=None)\n",
    "        prediction_one_hot_2=tf.math.reduce_sum(prediction_one_hot_1, axis=2, keepdims=False, name=None)\n",
    "\n",
    "        ground_truth=tf.one_hot(label_1_image,1000)\n",
    "\n",
    "        final=ground_truth*prediction_one_hot_2\n",
    "        #print(final)\n",
    "        add_to_count=tf.math.reduce_sum(final, keepdims=False, name=None)\n",
    "        print(add_to_count,total_images)\n",
    "        print(f\"current batch accuracy is: {(add_to_count/total_images)*100}%\")\n",
    "        count+=add_to_count\n",
    "        iter_num+=1\n",
    "        \n"
   ]
  },
  {
   "cell_type": "code",
   "execution_count": 62,
   "id": "da3aea25",
   "metadata": {},
   "outputs": [
    {
     "data": {
      "text/plain": [
       "<tf.Tensor: shape=(), dtype=float32, numpy=0.67884>"
      ]
     },
     "execution_count": 62,
     "metadata": {},
     "output_type": "execute_result"
    }
   ],
   "source": [
    "count/50000"
   ]
  },
  {
   "cell_type": "code",
   "execution_count": 58,
   "id": "6793bcbf",
   "metadata": {},
   "outputs": [
    {
     "data": {
      "text/plain": [
       "<tf.Tensor: shape=(16,), dtype=int32, numpy=\n",
       "array([ 25, 463, 215, 173,  35, 741, 125, 787, 289, 425, 973,   1, 167,\n",
       "       121, 445, 702], dtype=int32)>"
      ]
     },
     "execution_count": 58,
     "metadata": {},
     "output_type": "execute_result"
    }
   ],
   "source": [
    "label_1_image"
   ]
  },
  {
   "cell_type": "code",
   "execution_count": 59,
   "id": "c987e4ed",
   "metadata": {
    "scrolled": true
   },
   "outputs": [
    {
     "data": {
      "text/plain": [
       "<tf.Tensor: shape=(16, 5), dtype=int32, numpy=\n",
       "array([[ 71, 310, 319, 971, 983],\n",
       "       [543, 422, 427, 720, 756],\n",
       "       [162, 166, 215, 212, 176],\n",
       "       [224, 537, 177, 248, 250],\n",
       "       [947, 452, 929, 328, 793],\n",
       "       [741, 750, 611, 406, 539],\n",
       "       [728, 879, 125, 982, 601],\n",
       "       [ 80, 898, 455, 818, 862],\n",
       "       [289, 288, 290, 287, 285],\n",
       "       [425, 497, 716, 580, 912],\n",
       "       [973, 938, 107, 396, 109],\n",
       "       [107, 149, 132,   5, 126],\n",
       "       [167, 166, 246, 210, 212],\n",
       "       [845, 971, 731, 898, 903],\n",
       "       [562,  71,  58, 327, 712],\n",
       "       [422, 602, 702, 543, 416]], dtype=int32)>"
      ]
     },
     "execution_count": 59,
     "metadata": {},
     "output_type": "execute_result"
    }
   ],
   "source": [
    "top_5_prediction"
   ]
  },
  {
   "cell_type": "code",
   "execution_count": 18,
   "id": "c63d5f19",
   "metadata": {
    "scrolled": true
   },
   "outputs": [
    {
     "name": "stdout",
     "output_type": "stream",
     "text": [
      "The top 5 accuracy score is: 67.88399505615234%\n"
     ]
    }
   ],
   "source": [
    "top_5_accuracy=(count/total_images)*100\n",
    "print(f\"The top 5 accuracy score is: {top_5_accuracy}%\")"
   ]
  },
  {
   "cell_type": "code",
   "execution_count": 19,
   "id": "59bbff3a",
   "metadata": {},
   "outputs": [
    {
     "data": {
      "text/plain": [
       "50000"
      ]
     },
     "execution_count": 19,
     "metadata": {},
     "output_type": "execute_result"
    }
   ],
   "source": [
    "total_images"
   ]
  },
  {
   "cell_type": "code",
   "execution_count": 20,
   "id": "4383625d",
   "metadata": {
    "scrolled": true
   },
   "outputs": [
    {
     "data": {
      "text/plain": [
       "<tf.Tensor: shape=(16,), dtype=int32, numpy=\n",
       "array([367, 430,  44,  81, 399,  24, 120, 357, 826, 101, 644, 283,  26,\n",
       "       232, 982, 355], dtype=int32)>"
      ]
     },
     "execution_count": 20,
     "metadata": {},
     "output_type": "execute_result"
    }
   ],
   "source": [
    "label_1_image"
   ]
  },
  {
   "cell_type": "code",
   "execution_count": 21,
   "id": "0bf3a4e2",
   "metadata": {},
   "outputs": [
    {
     "data": {
      "text/plain": [
       "<tf.Tensor: shape=(16, 5), dtype=int32, numpy=\n",
       "array([[365, 366, 373, 367, 371],\n",
       "       [430, 890, 842, 611, 416],\n",
       "       [ 44,  41,  46,  40,  38],\n",
       "       [330, 331,  81,  86,  85],\n",
       "       [797, 470, 692, 885, 399],\n",
       "       [ 24,  85,  82, 330,  83],\n",
       "       [120, 124,  71,  77, 119],\n",
       "       [357, 356, 336, 298, 358],\n",
       "       [826, 530, 531, 426, 778],\n",
       "       [385, 101, 386, 178, 209],\n",
       "       [677, 644, 702, 733, 704],\n",
       "       [283, 287, 332, 203, 281],\n",
       "       [ 48,  39,  43,  42,  46],\n",
       "       [224, 223, 205, 256, 206],\n",
       "       [452, 431, 982, 516, 999],\n",
       "       [355, 181, 229, 354, 348]], dtype=int32)>"
      ]
     },
     "execution_count": 21,
     "metadata": {},
     "output_type": "execute_result"
    }
   ],
   "source": [
    "top_5_prediction"
   ]
  },
  {
   "cell_type": "markdown",
   "id": "d3d83dd4",
   "metadata": {},
   "source": [
    "# how to get top 5 predictions"
   ]
  },
  {
   "cell_type": "code",
   "execution_count": null,
   "id": "23f954a3",
   "metadata": {},
   "outputs": [],
   "source": [
    "predict_alps=model(image_alps_input*255)\n",
    "predict_alps.shape\n",
    "prediction_by_index_descending_order=tf.argsort(\n",
    "    predict_alps, axis=-1, direction='DESCENDING', stable=False, name=None\n",
    ")\n",
    "type(prediction_by_index_descending_order)\n",
    "tf.slice(prediction_by_index_descending_order[0], begin=[0], size=[5])\n",
    "# tf.math.argmax(\n",
    "#     predict_alps,\n",
    "#     axis=1,\n",
    "#     output_type=tf.dtypes.int64,\n",
    "#     name=None\n",
    "# )"
   ]
  },
  {
   "cell_type": "code",
   "execution_count": null,
   "id": "d186a547",
   "metadata": {},
   "outputs": [],
   "source": []
  },
  {
   "cell_type": "markdown",
   "id": "ee122c8f",
   "metadata": {},
   "source": [
    "# End of how to get top 5 predictions"
   ]
  },
  {
   "cell_type": "code",
   "execution_count": null,
   "id": "60d9dcac",
   "metadata": {
    "scrolled": true
   },
   "outputs": [],
   "source": [
    "predict_on_2_images=model(example_1_image*255)\n",
    "predict_on_2_images.shape"
   ]
  },
  {
   "cell_type": "code",
   "execution_count": null,
   "id": "53e35b6e",
   "metadata": {},
   "outputs": [],
   "source": [
    "tf.math.argmax(\n",
    "    predict_on_2_images,\n",
    "    axis=1,\n",
    "    output_type=tf.dtypes.int64,\n",
    "    name=None\n",
    ")"
   ]
  },
  {
   "cell_type": "code",
   "execution_count": null,
   "id": "a90f4c2b",
   "metadata": {},
   "outputs": [],
   "source": [
    "label_1_image"
   ]
  },
  {
   "cell_type": "code",
   "execution_count": null,
   "id": "83a47268",
   "metadata": {},
   "outputs": [],
   "source": [
    "plt.imshow(example_1_image[7])"
   ]
  },
  {
   "cell_type": "markdown",
   "id": "ee068d98",
   "metadata": {},
   "source": [
    "# Castle Image"
   ]
  },
  {
   "cell_type": "code",
   "execution_count": null,
   "id": "63c4996a",
   "metadata": {
    "scrolled": true
   },
   "outputs": [],
   "source": [
    "img = cv2.imread('/home/charlene/tensorflow_1/examples/images/castle.jpg')\n",
    "input_img=np.expand_dims(img,0)\n",
    "input_img.shape"
   ]
  },
  {
   "cell_type": "code",
   "execution_count": null,
   "id": "965e38db",
   "metadata": {},
   "outputs": [],
   "source": [
    "# mean=[0.485, 0.456, 0.406]\n",
    "# std=[0.229, 0.224, 0.225]"
   ]
  },
  {
   "cell_type": "code",
   "execution_count": null,
   "id": "b494aa2e",
   "metadata": {},
   "outputs": [],
   "source": [
    "# try_input_img=((img/255.0)-mean)/std\n",
    "# try_input_img_1=np.expand_dims(try_input_img,0)\n",
    "# try_input_img_1.shape"
   ]
  },
  {
   "cell_type": "code",
   "execution_count": null,
   "id": "b738b53a",
   "metadata": {},
   "outputs": [],
   "source": [
    "predict2=model(input_img)\n",
    "tf.math.argmax(\n",
    "    predict2,\n",
    "    axis=1,\n",
    "    output_type=tf.dtypes.int64,\n",
    "    name=None\n",
    ")"
   ]
  },
  {
   "cell_type": "code",
   "execution_count": null,
   "id": "8821eaba",
   "metadata": {},
   "outputs": [],
   "source": []
  },
  {
   "cell_type": "code",
   "execution_count": null,
   "id": "9118d772",
   "metadata": {},
   "outputs": [],
   "source": []
  },
  {
   "cell_type": "code",
   "execution_count": null,
   "id": "5ecefd75",
   "metadata": {},
   "outputs": [],
   "source": []
  },
  {
   "cell_type": "code",
   "execution_count": null,
   "id": "3c464f82",
   "metadata": {},
   "outputs": [],
   "source": []
  },
  {
   "cell_type": "code",
   "execution_count": null,
   "id": "706ed78c",
   "metadata": {},
   "outputs": [],
   "source": []
  },
  {
   "cell_type": "code",
   "execution_count": null,
   "id": "a1353a5c",
   "metadata": {},
   "outputs": [],
   "source": []
  },
  {
   "cell_type": "code",
   "execution_count": null,
   "id": "1a98f7b8",
   "metadata": {},
   "outputs": [],
   "source": []
  },
  {
   "cell_type": "code",
   "execution_count": null,
   "id": "13fc75ed",
   "metadata": {},
   "outputs": [],
   "source": []
  },
  {
   "cell_type": "code",
   "execution_count": null,
   "id": "c84465c6",
   "metadata": {},
   "outputs": [],
   "source": []
  },
  {
   "cell_type": "code",
   "execution_count": null,
   "id": "ef5a5d69",
   "metadata": {},
   "outputs": [],
   "source": []
  },
  {
   "cell_type": "code",
   "execution_count": null,
   "id": "f50bff2a",
   "metadata": {},
   "outputs": [],
   "source": []
  },
  {
   "cell_type": "code",
   "execution_count": null,
   "id": "b9a61f0e",
   "metadata": {},
   "outputs": [],
   "source": []
  },
  {
   "cell_type": "code",
   "execution_count": null,
   "id": "9bbc88d3",
   "metadata": {},
   "outputs": [],
   "source": []
  },
  {
   "cell_type": "code",
   "execution_count": null,
   "id": "ff53d947",
   "metadata": {},
   "outputs": [],
   "source": []
  },
  {
   "cell_type": "code",
   "execution_count": null,
   "id": "d1f4af3d",
   "metadata": {},
   "outputs": [],
   "source": []
  },
  {
   "cell_type": "code",
   "execution_count": null,
   "id": "930b80a4",
   "metadata": {},
   "outputs": [],
   "source": []
  },
  {
   "cell_type": "code",
   "execution_count": null,
   "id": "09d3837d",
   "metadata": {},
   "outputs": [],
   "source": []
  }
 ],
 "metadata": {
  "kernelspec": {
   "display_name": "tf-gpu-env",
   "language": "python",
   "name": "tf-gpu"
  },
  "language_info": {
   "codemirror_mode": {
    "name": "ipython",
    "version": 3
   },
   "file_extension": ".py",
   "mimetype": "text/x-python",
   "name": "python",
   "nbconvert_exporter": "python",
   "pygments_lexer": "ipython3",
   "version": "3.9.12"
  }
 },
 "nbformat": 4,
 "nbformat_minor": 5
}
