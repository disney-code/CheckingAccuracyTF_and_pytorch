{
 "cells": [
  {
   "cell_type": "code",
   "execution_count": 14,
   "id": "d1d9a09c",
   "metadata": {},
   "outputs": [],
   "source": [
    "import tensorflow as tf\n",
    "import numpy as np\n",
    "import cv2\n",
    "import matplotlib.pyplot as plt\n",
    "from tensorflow.keras.preprocessing.image import ImageDataGenerator\n",
    "import matplotlib.pyplot as plt\n",
    "import os\n",
    "import tensorflow as tf\n",
    "import pandas as pd\n",
    "from tensorflow import keras\n",
    "from tensorflow.keras import layers\n",
    "from tqdm import tqdm"
   ]
  },
  {
   "cell_type": "code",
   "execution_count": 2,
   "id": "5ea92462",
   "metadata": {},
   "outputs": [
    {
     "data": {
      "text/plain": [
       "'2.4.1'"
      ]
     },
     "execution_count": 2,
     "metadata": {},
     "output_type": "execute_result"
    }
   ],
   "source": [
    "tf.version.VERSION"
   ]
  },
  {
   "cell_type": "code",
   "execution_count": 3,
   "id": "dc883bc3",
   "metadata": {},
   "outputs": [
    {
     "name": "stderr",
     "output_type": "stream",
     "text": [
      "2022-08-15 23:25:19.156248: I tensorflow/compiler/jit/xla_cpu_device.cc:41] Not creating XLA devices, tf_xla_enable_xla_devices not set\n",
      "2022-08-15 23:25:19.157508: I tensorflow/stream_executor/platform/default/dso_loader.cc:49] Successfully opened dynamic library libcuda.so.1\n",
      "2022-08-15 23:25:19.221507: I tensorflow/core/common_runtime/gpu/gpu_device.cc:1720] Found device 0 with properties: \n",
      "pciBusID: 0000:19:00.0 name: NVIDIA GeForce RTX 2070 SUPER computeCapability: 7.5\n",
      "coreClock: 1.77GHz coreCount: 40 deviceMemorySize: 7.79GiB deviceMemoryBandwidth: 417.29GiB/s\n",
      "2022-08-15 23:25:19.222025: I tensorflow/core/common_runtime/gpu/gpu_device.cc:1720] Found device 1 with properties: \n",
      "pciBusID: 0000:1a:00.0 name: NVIDIA GeForce RTX 2070 SUPER computeCapability: 7.5\n",
      "coreClock: 1.77GHz coreCount: 40 deviceMemorySize: 7.79GiB deviceMemoryBandwidth: 417.29GiB/s\n",
      "2022-08-15 23:25:19.222498: I tensorflow/core/common_runtime/gpu/gpu_device.cc:1720] Found device 2 with properties: \n",
      "pciBusID: 0000:67:00.0 name: NVIDIA GeForce RTX 2070 SUPER computeCapability: 7.5\n",
      "coreClock: 1.77GHz coreCount: 40 deviceMemorySize: 7.79GiB deviceMemory"
     ]
    },
    {
     "data": {
      "text/plain": [
       "[PhysicalDevice(name='/physical_device:GPU:0', device_type='GPU'),\n",
       " PhysicalDevice(name='/physical_device:GPU:1', device_type='GPU'),\n",
       " PhysicalDevice(name='/physical_device:GPU:2', device_type='GPU'),\n",
       " PhysicalDevice(name='/physical_device:GPU:3', device_type='GPU')]"
      ]
     },
     "execution_count": 3,
     "metadata": {},
     "output_type": "execute_result"
    },
    {
     "name": "stderr",
     "output_type": "stream",
     "text": [
      "Bandwidth: 417.29GiB/s\n",
      "2022-08-15 23:25:19.222960: I tensorflow/core/common_runtime/gpu/gpu_device.cc:1720] Found device 3 with properties: \n",
      "pciBusID: 0000:68:00.0 name: NVIDIA GeForce RTX 2070 SUPER computeCapability: 7.5\n",
      "coreClock: 1.77GHz coreCount: 40 deviceMemorySize: 7.79GiB deviceMemoryBandwidth: 417.29GiB/s\n",
      "2022-08-15 23:25:19.222992: I tensorflow/stream_executor/platform/default/dso_loader.cc:49] Successfully opened dynamic library libcudart.so.10.1\n",
      "2022-08-15 23:25:19.225719: I tensorflow/stream_executor/platform/default/dso_loader.cc:49] Successfully opened dynamic library libcublas.so.10\n",
      "2022-08-15 23:25:19.225810: I tensorflow/stream_executor/platform/default/dso_loader.cc:49] Successfully opened dynamic library libcublasLt.so.10\n",
      "2022-08-15 23:25:19.227649: I tensorflow/stream_executor/platform/default/dso_loader.cc:49] Successfully opened dynamic library libcufft.so.10\n",
      "2022-08-15 23:25:19.228029: I tensorflow/stream_executor/platform/default/dso_loader.cc:49] Successfully opened dynamic library libcurand.so.10\n",
      "2022-08-15 23:25:19.230132: I tensorflow/stream_executor/platform/default/dso_loader.cc:49] Successfully opened dynamic library libcusolver.so.10\n",
      "2022-08-15 23:25:19.231372: I tensorflow/stream_executor/platform/default/dso_loader.cc:49] Successfully opened dynamic library libcusparse.so.10\n",
      "2022-08-15 23:25:19.235967: I tensorflow/stream_executor/platform/default/dso_loader.cc:49] Successfully opened dynamic library libcudnn.so.7\n",
      "2022-08-15 23:25:19.238014: I tensorflow/core/common_runtime/gpu/gpu_device.cc:1862] Adding visible gpu devices: 0, 1, 2, 3\n"
     ]
    }
   ],
   "source": [
    "tf.config.list_physical_devices('GPU')"
   ]
  },
  {
   "cell_type": "code",
   "execution_count": 4,
   "id": "0da11e0e",
   "metadata": {},
   "outputs": [
    {
     "data": {
      "text/html": [
       "<div>\n",
       "<style scoped>\n",
       "    .dataframe tbody tr th:only-of-type {\n",
       "        vertical-align: middle;\n",
       "    }\n",
       "\n",
       "    .dataframe tbody tr th {\n",
       "        vertical-align: top;\n",
       "    }\n",
       "\n",
       "    .dataframe thead th {\n",
       "        text-align: right;\n",
       "    }\n",
       "</style>\n",
       "<table border=\"1\" class=\"dataframe\">\n",
       "  <thead>\n",
       "    <tr style=\"text-align: right;\">\n",
       "      <th></th>\n",
       "      <th>file_name</th>\n",
       "      <th>label</th>\n",
       "    </tr>\n",
       "  </thead>\n",
       "  <tbody>\n",
       "    <tr>\n",
       "      <th>0</th>\n",
       "      <td>ILSVRC2012_val_00000001.JPEG</td>\n",
       "      <td>65</td>\n",
       "    </tr>\n",
       "    <tr>\n",
       "      <th>1</th>\n",
       "      <td>ILSVRC2012_val_00000002.JPEG</td>\n",
       "      <td>970</td>\n",
       "    </tr>\n",
       "    <tr>\n",
       "      <th>2</th>\n",
       "      <td>ILSVRC2012_val_00000003.JPEG</td>\n",
       "      <td>230</td>\n",
       "    </tr>\n",
       "    <tr>\n",
       "      <th>3</th>\n",
       "      <td>ILSVRC2012_val_00000004.JPEG</td>\n",
       "      <td>809</td>\n",
       "    </tr>\n",
       "    <tr>\n",
       "      <th>4</th>\n",
       "      <td>ILSVRC2012_val_00000005.JPEG</td>\n",
       "      <td>516</td>\n",
       "    </tr>\n",
       "    <tr>\n",
       "      <th>...</th>\n",
       "      <td>...</td>\n",
       "      <td>...</td>\n",
       "    </tr>\n",
       "    <tr>\n",
       "      <th>49995</th>\n",
       "      <td>ILSVRC2012_val_00049996.JPEG</td>\n",
       "      <td>283</td>\n",
       "    </tr>\n",
       "    <tr>\n",
       "      <th>49996</th>\n",
       "      <td>ILSVRC2012_val_00049997.JPEG</td>\n",
       "      <td>26</td>\n",
       "    </tr>\n",
       "    <tr>\n",
       "      <th>49997</th>\n",
       "      <td>ILSVRC2012_val_00049998.JPEG</td>\n",
       "      <td>232</td>\n",
       "    </tr>\n",
       "    <tr>\n",
       "      <th>49998</th>\n",
       "      <td>ILSVRC2012_val_00049999.JPEG</td>\n",
       "      <td>982</td>\n",
       "    </tr>\n",
       "    <tr>\n",
       "      <th>49999</th>\n",
       "      <td>ILSVRC2012_val_00050000.JPEG</td>\n",
       "      <td>355</td>\n",
       "    </tr>\n",
       "  </tbody>\n",
       "</table>\n",
       "<p>50000 rows × 2 columns</p>\n",
       "</div>"
      ],
      "text/plain": [
       "                          file_name  label\n",
       "0      ILSVRC2012_val_00000001.JPEG     65\n",
       "1      ILSVRC2012_val_00000002.JPEG    970\n",
       "2      ILSVRC2012_val_00000003.JPEG    230\n",
       "3      ILSVRC2012_val_00000004.JPEG    809\n",
       "4      ILSVRC2012_val_00000005.JPEG    516\n",
       "...                             ...    ...\n",
       "49995  ILSVRC2012_val_00049996.JPEG    283\n",
       "49996  ILSVRC2012_val_00049997.JPEG     26\n",
       "49997  ILSVRC2012_val_00049998.JPEG    232\n",
       "49998  ILSVRC2012_val_00049999.JPEG    982\n",
       "49999  ILSVRC2012_val_00050000.JPEG    355\n",
       "\n",
       "[50000 rows x 2 columns]"
      ]
     },
     "execution_count": 4,
     "metadata": {},
     "output_type": "execute_result"
    }
   ],
   "source": [
    "directory = '/home/charlene/15aug_val_dataset/'\n",
    "df = pd.read_csv(directory+'val.csv',delimiter=' ')\n",
    "df"
   ]
  },
  {
   "cell_type": "code",
   "execution_count": 5,
   "id": "e7348de5",
   "metadata": {},
   "outputs": [
    {
     "data": {
      "text/plain": [
       "array(['ILSVRC2012_val_00000001.JPEG', 'ILSVRC2012_val_00000002.JPEG',\n",
       "       'ILSVRC2012_val_00000003.JPEG', ...,\n",
       "       'ILSVRC2012_val_00049998.JPEG', 'ILSVRC2012_val_00049999.JPEG',\n",
       "       'ILSVRC2012_val_00050000.JPEG'], dtype=object)"
      ]
     },
     "execution_count": 5,
     "metadata": {},
     "output_type": "execute_result"
    }
   ],
   "source": [
    "file_paths = df['file_name'].values  # 50000 files\n",
    "file_paths"
   ]
  },
  {
   "cell_type": "code",
   "execution_count": 6,
   "id": "73d05426",
   "metadata": {},
   "outputs": [
    {
     "data": {
      "text/plain": [
       "array([ 65, 970, 230, ..., 232, 982, 355])"
      ]
     },
     "execution_count": 6,
     "metadata": {},
     "output_type": "execute_result"
    }
   ],
   "source": [
    "labels= df['label'].values\n",
    "labels"
   ]
  },
  {
   "cell_type": "code",
   "execution_count": 7,
   "id": "6bde51ac",
   "metadata": {},
   "outputs": [
    {
     "name": "stderr",
     "output_type": "stream",
     "text": [
      "2022-08-15 23:25:24.029602: I tensorflow/core/platform/cpu_feature_guard.cc:142] This TensorFlow binary is optimized with oneAPI Deep Neural Network Library (oneDNN) to use the following CPU instructions in performance-critical operations:  SSE4.1 SSE4.2 AVX AVX2 AVX512F FMA\n",
      "To enable them in other operations, rebuild TensorFlow with the appropriate compiler flags.\n",
      "2022-08-15 23:25:24.030862: I tensorflow/compiler/jit/xla_gpu_device.cc:99] Not creating XLA devices, tf_xla_enable_xla_devices not set\n",
      "2022-08-15 23:25:24.434095: I tensorflow/core/common_runtime/gpu/gpu_device.cc:1720] Found device 0 with properties: \n",
      "pciBusID: 0000:19:00.0 name: NVIDIA GeForce RTX 2070 SUPER computeCapability: 7.5\n",
      "coreClock: 1.77GHz coreCount: 40 deviceMemorySize: 7.79GiB deviceMemoryBandwidth: 417.29GiB/s\n",
      "2022-08-15 23:25:24.434663: I tensorflow/core/common_runtime/gpu/gpu_device.cc:1720] Found device 1 with properties: \n",
      "pciBusID: 0000:1a:00.0 name: NVIDIA GeForce RTX 2070 SUPER computeCapability: 7.5\n",
      "coreClock: 1.77GHz coreCount: 40 deviceMemorySize: 7.79GiB deviceMemoryBandwidth: 417.29GiB/s\n",
      "2022-08-15 23:25:24.435311: I tensorflow/core/common_runtime/gpu/gpu_device.cc:1720] Found device 2 with properties: \n",
      "pciBusID: 0000:67:00.0 name: NVIDIA GeForce RTX 2070 SUPER computeCapability: 7.5\n",
      "coreClock: 1.77GHz coreCount: 40 deviceMemorySize: 7.79GiB deviceMemoryBandwidth: 417.29GiB/s\n",
      "2022-08-15 23:25:24.435775: I tensorflow/core/common_runtime/gpu/gpu_device.cc:1720] Found device 3 with properties: \n",
      "pciBusID: 0000:68:00.0 name: NVIDIA GeForce RTX 2070 SUPER computeCapability: 7.5\n",
      "coreClock: 1.77GHz coreCount: 40 deviceMemorySize: 7.79GiB deviceMemoryBandwidth: 417.29GiB/s\n",
      "2022-08-15 23:25:24.435812: I tensorflow/stream_executor/platform/default/dso_loader.cc:49] Successfully opened dynamic library libcudart.so.10.1\n",
      "2022-08-15 23:25:24.435858: I tensorflow/stream_executor/platform/default/dso_loader.cc:49] Successfully opened dynamic library libcublas.so.10\n",
      "2022-08-15 23:25:24.435881: I tensorflow/stream_executor/platform/default/dso_loader.cc:49] Successfully opened dynamic library libcublasLt.so.10\n",
      "2022-08-15 23:25:24.435903: I tensorflow/stream_executor/platform/default/dso_loader.cc:49] Successfully opened dynamic library libcufft.so.10\n",
      "2022-08-15 23:25:24.435924: I tensorflow/stream_executor/platform/default/dso_loader.cc:49] Successfully open"
     ]
    },
    {
     "data": {
      "text/plain": [
       "<tensorflow.python.eager.context._EagerDeviceContext at 0x7f7ed2eefcc0>"
      ]
     },
     "execution_count": 7,
     "metadata": {},
     "output_type": "execute_result"
    },
    {
     "name": "stderr",
     "output_type": "stream",
     "text": [
      "ed dynamic library libcurand.so.10\n",
      "2022-08-15 23:25:24.435946: I tensorflow/stream_executor/platform/default/dso_loader.cc:49] Successfully opened dynamic library libcusolver.so.10\n",
      "2022-08-15 23:25:24.435968: I tensorflow/stream_executor/platform/default/dso_loader.cc:49] Successfully opened dynamic library libcusparse.so.10\n",
      "2022-08-15 23:25:24.435990: I tensorflow/stream_executor/platform/default/dso_loader.cc:49] Successfully opened dynamic library libcudnn.so.7\n",
      "2022-08-15 23:25:24.439351: I tensorflow/core/common_runtime/gpu/gpu_device.cc:1862] Adding visible gpu devices: 0, 1, 2, 3\n",
      "2022-08-15 23:25:24.439419: I tensorflow/stream_executor/platform/default/dso_loader.cc:49] Successfully opened dynamic library libcudart.so.10.1\n",
      "2022-08-15 23:25:26.260381: I tensorflow/core/common_runtime/gpu/gpu_device.cc:1261] Device interconnect StreamExecutor with strength 1 edge matrix:\n",
      "2022-08-15 23:25:26.260407: I tensorflow/core/common_runtime/gpu/gpu_device.cc:1267]      0 1 2 3 \n",
      "2022-08-15 23:25:26.260412: I tensorflow/core/common_runtime/gpu/gpu_device.cc:1280] 0:   N N N N \n",
      "2022-08-15 23:25:26.260414: I tensorflow/core/common_runtime/gpu/gpu_device.cc:1280] 1:   N N N N \n",
      "2022-08-15 23:25:26.260417: I tensorflow/core/common_runtime/gpu/gpu_device.cc:1280] 2:   N N N N \n",
      "2022-08-15 23:25:26.260419: I tensorflow/core/common_runtime/gpu/gpu_device.cc:1280] 3:   N N N N \n",
      "2022-08-15 23:25:26.261857: I tensorflow/core/common_runtime/gpu/gpu_device.cc:1406] Created TensorFlow device (/job:localhost/replica:0/task:0/device:GPU:0 with 6248 MB memory) -> physical GPU (device: 0, name: NVIDIA GeForce RTX 2070 SUPER, pci bus id: 0000:19:00.0, compute capability: 7.5)\n",
      "2022-08-15 23:25:26.262616: I tensorflow/core/common_runtime/gpu/gpu_device.cc:1406] Created TensorFlow device (/job:localhost/replica:0/task:0/device:GPU:1 with 7266 MB memory) -> physical GPU (device: 1, name: NVIDIA GeForce RTX 2070 SUPER, pci bus id: 0000:1a:00.0, compute capability: 7.5)\n",
      "2022-08-15 23:25:26.263238: I tensorflow/core/common_runtime/gpu/gpu_device.cc:1406] Created TensorFlow device (/job:localhost/replica:0/task:0/device:GPU:2 with 480 MB memory) -> physical GPU (device: 2, name: NVIDIA GeForce RTX 2070 SUPER, pci bus id: 0000:67:00.0, compute capability: 7.5)\n",
      "2022-08-15 23:25:26.263871: I tensorflow/core/common_runtime/gpu/gpu_device.cc:1406] Created TensorFlow device (/job:localhost/replica:0/task:0/device:GPU:3 with 1952 MB memory) -> physical GPU (device: 3, name: NVIDIA GeForce RTX 2070 SUPER, pci bus id: 0000:68:00.0, compute capability: 7.5)\n"
     ]
    }
   ],
   "source": [
    "tf.device('/gpu:0')"
   ]
  },
  {
   "cell_type": "code",
   "execution_count": 8,
   "id": "68e6cae4",
   "metadata": {},
   "outputs": [],
   "source": [
    "ds_train=tf.data.Dataset.from_tensor_slices((file_paths,labels))"
   ]
  },
  {
   "cell_type": "code",
   "execution_count": 9,
   "id": "bd425b21",
   "metadata": {},
   "outputs": [],
   "source": [
    "def read_image(image_file, label):\n",
    "    image= tf.io.read_file(directory+image_file)\n",
    "    image=tf.image.decode_image(image, channels=3,dtype=tf.float32,expand_animations=False)\n",
    "#     print('Image type: ',type(image))\n",
    "#     print('Label type: ' , type(label))\n",
    "#     print('inside read_image func: ',image)\n",
    "    return image,label"
   ]
  },
  {
   "cell_type": "code",
   "execution_count": 10,
   "id": "216bc033",
   "metadata": {},
   "outputs": [],
   "source": [
    "def augment(image,label):\n",
    "    #print('augment func image type: ',type(image))\n",
    "#     print('augment func label type',type(label))\n",
    "#     print(type(image))\n",
    "#     print(image)\n",
    "#     print(label)\n",
    "    #plt.imshow(image)\n",
    "    image=tf.image.resize(\n",
    "    image,\n",
    "    (224,224),\n",
    "    preserve_aspect_ratio=False,\n",
    "    antialias=False,\n",
    "    name=None)\n",
    "    \n",
    "    return image,label\n"
   ]
  },
  {
   "cell_type": "code",
   "execution_count": 11,
   "id": "63447d8b",
   "metadata": {},
   "outputs": [],
   "source": [
    "# Do not delete\n",
    "val_data=ds_train.map(read_image).map(augment).batch(16)"
   ]
  },
  {
   "cell_type": "markdown",
   "id": "4cfb905d",
   "metadata": {},
   "source": [
    "# extracting accuracy of Validation dataset"
   ]
  },
  {
   "cell_type": "code",
   "execution_count": null,
   "id": "f96a99aa",
   "metadata": {},
   "outputs": [],
   "source": [
    "#11.42am start the line below"
   ]
  },
  {
   "cell_type": "code",
   "execution_count": 12,
   "id": "c280b6a6",
   "metadata": {},
   "outputs": [],
   "source": [
    "# import tensorflow as tf\n",
    "# tf.config.list_physical_devices('GPU')\n",
    "# print(\"Num GPUs Available: \", len(tf.config.list_physical_devices('GPU')))\n",
    "# #print(\"Num GPUs Available: \", len(tf.config.list_physical_devices('GPU')))"
   ]
  },
  {
   "cell_type": "code",
   "execution_count": 13,
   "id": "1698459f",
   "metadata": {},
   "outputs": [],
   "source": [
    "model=tf.keras.applications.vgg16.VGG16(\n",
    "    include_top=True,\n",
    "    weights='imagenet',\n",
    "    input_tensor=None,\n",
    "    input_shape=None,\n",
    "    pooling=None,\n",
    "    classes=1000,\n",
    "    classifier_activation='softmax'\n",
    ")\n"
   ]
  },
  {
   "cell_type": "code",
   "execution_count": 15,
   "id": "6414e08c",
   "metadata": {},
   "outputs": [
    {
     "name": "stderr",
     "output_type": "stream",
     "text": [
      "  0%|                                                                                          | 0/3125 [00:00<?, ?it/s]2022-08-15 23:26:36.477607: I tensorflow/compiler/mlir/mlir_graph_optimization_pass.cc:116] None of the MLIR optimization passes are enabled (registered 2)\n",
      "2022-08-15 23:26:36.497997: I tensorflow/core/platform/profile_utils/cpu_utils.cc:112] CPU Frequency: 3699850000 Hz\n",
      "2022-08-15 23:26:36.633144: I tensorflow/stream_executor/platform/default/dso_loader.cc:49] Successfully opened dynamic library libcudnn.so.7\n",
      "2022-08-15 23:26:37.409148: W tensorflow/stream_executor/gpu/asm_compiler.cc:63] Running ptxas --version returned 256\n",
      "2022-08-15 23:26:37.477216: W tensorflow/stream_executor/gpu/redzone_allocator.cc:314] Internal: ptxas exited with non-zero error code 256, output: \n",
      "Relying on driver to perform ptx compilation. \n",
      "Modify $PATH to customize ptxas location.\n",
      "This message will be only logged once.\n",
      "2022-08-15 23:26:38.258691: I tensorflow/stream_executor/platform/default/dso_loader.cc:49] Successfully opened dynamic library libcublas.so.10\n",
      "100%|███████████████████████████████████████████████████████████████████████████████| 3125/3125 [03:46<00:00, 13.82it/s]\n"
     ]
    }
   ],
   "source": [
    "\n",
    "count=0\n",
    "with tf.device('/gpu:0'):\n",
    "    for x_val,y_val in tqdm(val_data):\n",
    "        example_1_image=x_val\n",
    "        label_1_image=y_val\n",
    "        prediction_16_batch=model(example_1_image*255)\n",
    "        top_1_prediction=tf.math.argmax(prediction_16_batch,axis=1)\n",
    "        count+=(top_1_prediction==label_1_image).numpy().sum()\n"
   ]
  },
  {
   "cell_type": "code",
   "execution_count": 16,
   "id": "2bb1b424",
   "metadata": {},
   "outputs": [
    {
     "name": "stdout",
     "output_type": "stream",
     "text": [
      "Top 1 accuracy is: 42.931999999999995%\n"
     ]
    }
   ],
   "source": [
    "top_1_accuracy=(count/50000)*100\n",
    "print(f\"Top 1 accuracy is: {top_1_accuracy}%\")"
   ]
  },
  {
   "cell_type": "code",
   "execution_count": 17,
   "id": "03d29b0e",
   "metadata": {},
   "outputs": [
    {
     "name": "stderr",
     "output_type": "stream",
     "text": [
      "100%|███████████████████████████████████████████████████████████████████████████████| 3125/3125 [03:25<00:00, 15.18it/s]\n"
     ]
    }
   ],
   "source": [
    "#top 5 prediction\n",
    "# predict_alps=model(image_alps_input*255)\n",
    "# predict_alps.shape\n",
    "# prediction_by_index_descending_order=tf.argsort(\n",
    "#     predict_alps, axis=-1, direction='DESCENDING', stable=False, name=None\n",
    "# )\n",
    "# type(prediction_by_index_descending_order)\n",
    "# tf.slice(prediction_by_index_descending_order[0], begin=[0], size=[5])\n",
    "count=0\n",
    "total_images=0\n",
    "with tf.device('/gpu:0'):\n",
    "    for x_val,y_val in tqdm(val_data):\n",
    "        example_1_image=x_val\n",
    "        label_1_image=y_val\n",
    "        prediction_16_batch=model(example_1_image*255) #shape is 16,1000\n",
    "        total_images+=prediction_16_batch.shape[0]\n",
    "        prediction_by_index_descending_order=tf.argsort(prediction_16_batch, axis=-1, direction='DESCENDING', stable=False, name=None)\n",
    "        #top_5\n",
    "        top_5_prediction=prediction_by_index_descending_order[:,:5]\n",
    "        label_1_image=tf.cast(label_1_image, tf.int32)\n",
    "        prediction_one_hot_1=tf.one_hot(top_5_prediction,1000,on_value=None,off_value=None,axis=1,dtype=None,name=None)\n",
    "        prediction_one_hot_2=tf.math.reduce_sum(prediction_one_hot_1, axis=2, keepdims=False, name=None)\n",
    "\n",
    "        ground_truth=tf.one_hot(label_1_image,1000)\n",
    "\n",
    "        final=ground_truth*prediction_one_hot_2\n",
    "        #print(final)\n",
    "        add_to_count=tf.math.reduce_sum(final, keepdims=False, name=None)\n",
    "        count+=add_to_count\n",
    "        \n"
   ]
  },
  {
   "cell_type": "code",
   "execution_count": 18,
   "id": "c63d5f19",
   "metadata": {
    "scrolled": true
   },
   "outputs": [
    {
     "name": "stdout",
     "output_type": "stream",
     "text": [
      "The top 5 accuracy score is: 67.88399505615234%\n"
     ]
    }
   ],
   "source": [
    "top_5_accuracy=(count/total_images)*100\n",
    "print(f\"The top 5 accuracy score is: {top_5_accuracy}%\")"
   ]
  },
  {
   "cell_type": "code",
   "execution_count": 19,
   "id": "59bbff3a",
   "metadata": {},
   "outputs": [
    {
     "data": {
      "text/plain": [
       "50000"
      ]
     },
     "execution_count": 19,
     "metadata": {},
     "output_type": "execute_result"
    }
   ],
   "source": [
    "total_images"
   ]
  },
  {
   "cell_type": "code",
   "execution_count": 20,
   "id": "4383625d",
   "metadata": {
    "scrolled": true
   },
   "outputs": [
    {
     "data": {
      "text/plain": [
       "<tf.Tensor: shape=(16,), dtype=int32, numpy=\n",
       "array([367, 430,  44,  81, 399,  24, 120, 357, 826, 101, 644, 283,  26,\n",
       "       232, 982, 355], dtype=int32)>"
      ]
     },
     "execution_count": 20,
     "metadata": {},
     "output_type": "execute_result"
    }
   ],
   "source": [
    "label_1_image"
   ]
  },
  {
   "cell_type": "code",
   "execution_count": 21,
   "id": "0bf3a4e2",
   "metadata": {},
   "outputs": [
    {
     "data": {
      "text/plain": [
       "<tf.Tensor: shape=(16, 5), dtype=int32, numpy=\n",
       "array([[365, 366, 373, 367, 371],\n",
       "       [430, 890, 842, 611, 416],\n",
       "       [ 44,  41,  46,  40,  38],\n",
       "       [330, 331,  81,  86,  85],\n",
       "       [797, 470, 692, 885, 399],\n",
       "       [ 24,  85,  82, 330,  83],\n",
       "       [120, 124,  71,  77, 119],\n",
       "       [357, 356, 336, 298, 358],\n",
       "       [826, 530, 531, 426, 778],\n",
       "       [385, 101, 386, 178, 209],\n",
       "       [677, 644, 702, 733, 704],\n",
       "       [283, 287, 332, 203, 281],\n",
       "       [ 48,  39,  43,  42,  46],\n",
       "       [224, 223, 205, 256, 206],\n",
       "       [452, 431, 982, 516, 999],\n",
       "       [355, 181, 229, 354, 348]], dtype=int32)>"
      ]
     },
     "execution_count": 21,
     "metadata": {},
     "output_type": "execute_result"
    }
   ],
   "source": [
    "top_5_prediction"
   ]
  },
  {
   "cell_type": "markdown",
   "id": "d3d83dd4",
   "metadata": {},
   "source": [
    "# how to get top 5 predictions"
   ]
  },
  {
   "cell_type": "code",
   "execution_count": null,
   "id": "23f954a3",
   "metadata": {},
   "outputs": [],
   "source": [
    "predict_alps=model(image_alps_input*255)\n",
    "predict_alps.shape\n",
    "prediction_by_index_descending_order=tf.argsort(\n",
    "    predict_alps, axis=-1, direction='DESCENDING', stable=False, name=None\n",
    ")\n",
    "type(prediction_by_index_descending_order)\n",
    "tf.slice(prediction_by_index_descending_order[0], begin=[0], size=[5])\n",
    "# tf.math.argmax(\n",
    "#     predict_alps,\n",
    "#     axis=1,\n",
    "#     output_type=tf.dtypes.int64,\n",
    "#     name=None\n",
    "# )"
   ]
  },
  {
   "cell_type": "code",
   "execution_count": null,
   "id": "d186a547",
   "metadata": {},
   "outputs": [],
   "source": []
  },
  {
   "cell_type": "markdown",
   "id": "ee122c8f",
   "metadata": {},
   "source": [
    "# End of how to get top 5 predictions"
   ]
  },
  {
   "cell_type": "code",
   "execution_count": null,
   "id": "60d9dcac",
   "metadata": {
    "scrolled": true
   },
   "outputs": [],
   "source": [
    "predict_on_2_images=model(example_1_image*255)\n",
    "predict_on_2_images.shape"
   ]
  },
  {
   "cell_type": "code",
   "execution_count": null,
   "id": "53e35b6e",
   "metadata": {},
   "outputs": [],
   "source": [
    "tf.math.argmax(\n",
    "    predict_on_2_images,\n",
    "    axis=1,\n",
    "    output_type=tf.dtypes.int64,\n",
    "    name=None\n",
    ")"
   ]
  },
  {
   "cell_type": "code",
   "execution_count": null,
   "id": "a90f4c2b",
   "metadata": {},
   "outputs": [],
   "source": [
    "label_1_image"
   ]
  },
  {
   "cell_type": "code",
   "execution_count": null,
   "id": "83a47268",
   "metadata": {},
   "outputs": [],
   "source": [
    "plt.imshow(example_1_image[7])"
   ]
  },
  {
   "cell_type": "markdown",
   "id": "ee068d98",
   "metadata": {},
   "source": [
    "# Castle Image"
   ]
  },
  {
   "cell_type": "code",
   "execution_count": null,
   "id": "63c4996a",
   "metadata": {
    "scrolled": true
   },
   "outputs": [],
   "source": [
    "img = cv2.imread('/home/charlene/tensorflow_1/examples/images/castle.jpg')\n",
    "input_img=np.expand_dims(img,0)\n",
    "input_img.shape"
   ]
  },
  {
   "cell_type": "code",
   "execution_count": null,
   "id": "965e38db",
   "metadata": {},
   "outputs": [],
   "source": [
    "# mean=[0.485, 0.456, 0.406]\n",
    "# std=[0.229, 0.224, 0.225]"
   ]
  },
  {
   "cell_type": "code",
   "execution_count": null,
   "id": "b494aa2e",
   "metadata": {},
   "outputs": [],
   "source": [
    "# try_input_img=((img/255.0)-mean)/std\n",
    "# try_input_img_1=np.expand_dims(try_input_img,0)\n",
    "# try_input_img_1.shape"
   ]
  },
  {
   "cell_type": "code",
   "execution_count": null,
   "id": "b738b53a",
   "metadata": {},
   "outputs": [],
   "source": [
    "predict2=model(input_img)\n",
    "tf.math.argmax(\n",
    "    predict2,\n",
    "    axis=1,\n",
    "    output_type=tf.dtypes.int64,\n",
    "    name=None\n",
    ")"
   ]
  },
  {
   "cell_type": "code",
   "execution_count": null,
   "id": "8821eaba",
   "metadata": {},
   "outputs": [],
   "source": []
  },
  {
   "cell_type": "code",
   "execution_count": null,
   "id": "9118d772",
   "metadata": {},
   "outputs": [],
   "source": []
  },
  {
   "cell_type": "code",
   "execution_count": null,
   "id": "5ecefd75",
   "metadata": {},
   "outputs": [],
   "source": []
  },
  {
   "cell_type": "code",
   "execution_count": null,
   "id": "3c464f82",
   "metadata": {},
   "outputs": [],
   "source": []
  },
  {
   "cell_type": "code",
   "execution_count": null,
   "id": "706ed78c",
   "metadata": {},
   "outputs": [],
   "source": []
  },
  {
   "cell_type": "code",
   "execution_count": null,
   "id": "a1353a5c",
   "metadata": {},
   "outputs": [],
   "source": []
  },
  {
   "cell_type": "code",
   "execution_count": null,
   "id": "1a98f7b8",
   "metadata": {},
   "outputs": [],
   "source": []
  },
  {
   "cell_type": "code",
   "execution_count": null,
   "id": "13fc75ed",
   "metadata": {},
   "outputs": [],
   "source": []
  },
  {
   "cell_type": "code",
   "execution_count": null,
   "id": "c84465c6",
   "metadata": {},
   "outputs": [],
   "source": []
  },
  {
   "cell_type": "code",
   "execution_count": null,
   "id": "ef5a5d69",
   "metadata": {},
   "outputs": [],
   "source": []
  },
  {
   "cell_type": "code",
   "execution_count": null,
   "id": "f50bff2a",
   "metadata": {},
   "outputs": [],
   "source": []
  },
  {
   "cell_type": "code",
   "execution_count": null,
   "id": "b9a61f0e",
   "metadata": {},
   "outputs": [],
   "source": []
  },
  {
   "cell_type": "code",
   "execution_count": null,
   "id": "9bbc88d3",
   "metadata": {},
   "outputs": [],
   "source": []
  },
  {
   "cell_type": "code",
   "execution_count": null,
   "id": "ff53d947",
   "metadata": {},
   "outputs": [],
   "source": []
  },
  {
   "cell_type": "code",
   "execution_count": null,
   "id": "d1f4af3d",
   "metadata": {},
   "outputs": [],
   "source": []
  },
  {
   "cell_type": "code",
   "execution_count": null,
   "id": "930b80a4",
   "metadata": {},
   "outputs": [],
   "source": []
  },
  {
   "cell_type": "code",
   "execution_count": null,
   "id": "09d3837d",
   "metadata": {},
   "outputs": [],
   "source": []
  }
 ],
 "metadata": {
  "kernelspec": {
   "display_name": "tf-gpu-env",
   "language": "python",
   "name": "tf-gpu"
  },
  "language_info": {
   "codemirror_mode": {
    "name": "ipython",
    "version": 3
   },
   "file_extension": ".py",
   "mimetype": "text/x-python",
   "name": "python",
   "nbconvert_exporter": "python",
   "pygments_lexer": "ipython3",
   "version": "3.9.12"
  }
 },
 "nbformat": 4,
 "nbformat_minor": 5
}
